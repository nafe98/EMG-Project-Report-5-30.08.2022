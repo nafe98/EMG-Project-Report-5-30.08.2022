{
 "cells": [
  {
   "cell_type": "markdown",
   "id": "f47ebb05",
   "metadata": {},
   "source": [
    "# Importing Libraires "
   ]
  },
  {
   "cell_type": "code",
   "execution_count": 1,
   "id": "5ee40bfd",
   "metadata": {},
   "outputs": [],
   "source": [
    "import pandas as pd\n",
    "from scipy.io import loadmat"
   ]
  },
  {
   "cell_type": "markdown",
   "id": "f2017665",
   "metadata": {},
   "source": [
    "#  Loading Exercise 3"
   ]
  },
  {
   "cell_type": "code",
   "execution_count": 2,
   "id": "7e578544",
   "metadata": {},
   "outputs": [],
   "source": [
    "Exercise_3 = loadmat(r\"S1_A1_E3.mat\")"
   ]
  },
  {
   "cell_type": "code",
   "execution_count": 3,
   "id": "9755248d",
   "metadata": {},
   "outputs": [
    {
     "name": "stdout",
     "output_type": "stream",
     "text": [
      "{'__header__': b'MATLAB 5.0 MAT-file, Platform: MACI64, Created on: Mon Jul 28 11:54:18 2014', '__version__': '1.0', '__globals__': [], 'emg': array([[0.0024, 0.0024, 0.0024, ..., 0.0732, 0.0024, 0.0903],\n",
      "       [0.0024, 0.0024, 0.0024, ..., 0.0757, 0.0024, 0.0928],\n",
      "       [0.0024, 0.0024, 0.0024, ..., 0.0879, 0.0024, 0.0903],\n",
      "       ...,\n",
      "       [0.0024, 0.0024, 0.0024, ..., 0.0513, 0.127 , 0.0024],\n",
      "       [0.0024, 0.0024, 0.0024, ..., 0.0488, 0.1294, 0.0024],\n",
      "       [0.0024, 0.0024, 0.0024, ..., 0.0439, 0.1294, 0.0024]]), 'stimulus': array([[0],\n",
      "       [0],\n",
      "       [0],\n",
      "       ...,\n",
      "       [0],\n",
      "       [0],\n",
      "       [0]], dtype=uint8), 'glove': array([[152., 137., 111., ..., 139., 134., 108.],\n",
      "       [152., 137., 111., ..., 139., 134., 108.],\n",
      "       [152., 137., 111., ..., 139., 134., 108.],\n",
      "       ...,\n",
      "       [152., 131., 114., ..., 124., 133., 120.],\n",
      "       [152., 131., 114., ..., 124., 133., 120.],\n",
      "       [152., 131., 114., ..., 124., 133., 120.]]), 'subject': array([[1]], dtype=uint8), 'exercise': array([[3]], dtype=uint8), 'repetition': array([[0],\n",
      "       [0],\n",
      "       [0],\n",
      "       ...,\n",
      "       [0],\n",
      "       [0],\n",
      "       [0]], dtype=uint8), 'restimulus': array([[0],\n",
      "       [0],\n",
      "       [0],\n",
      "       ...,\n",
      "       [0],\n",
      "       [0],\n",
      "       [0]], dtype=uint8), 'rerepetition': array([[0],\n",
      "       [0],\n",
      "       [0],\n",
      "       ...,\n",
      "       [0],\n",
      "       [0],\n",
      "       [0]], dtype=uint8)}\n",
      "************************************************************************************************************\n",
      "dict_keys(['__header__', '__version__', '__globals__', 'emg', 'stimulus', 'glove', 'subject', 'exercise', 'repetition', 'restimulus', 'rerepetition'])\n"
     ]
    }
   ],
   "source": [
    "print(Exercise_3)\n",
    "print(\"************************************************************************************************************\")\n",
    "print(Exercise_3.keys())"
   ]
  },
  {
   "cell_type": "code",
   "execution_count": 4,
   "id": "3c0b11f6",
   "metadata": {},
   "outputs": [],
   "source": [
    "emg_3 = Exercise_3['emg']\n",
    "stimulus_3 = Exercise_3['stimulus']\n",
    "restimulus_3 = Exercise_3['restimulus']"
   ]
  },
  {
   "cell_type": "markdown",
   "id": "22520489",
   "metadata": {},
   "source": [
    "# DataFramae"
   ]
  },
  {
   "cell_type": "code",
   "execution_count": 5,
   "id": "03c1c6a3",
   "metadata": {},
   "outputs": [],
   "source": [
    "df_3= pd.DataFrame(emg_3, \n",
    "                  columns = ['Emg1','Emg2','Emg3','Emg4','Emg5','Emg6','Emg7','Emg8','Emg9','Emg10'])"
   ]
  },
  {
   "cell_type": "code",
   "execution_count": 6,
   "id": "2b245d5e",
   "metadata": {},
   "outputs": [
    {
     "data": {
      "text/html": [
       "<div>\n",
       "<style scoped>\n",
       "    .dataframe tbody tr th:only-of-type {\n",
       "        vertical-align: middle;\n",
       "    }\n",
       "\n",
       "    .dataframe tbody tr th {\n",
       "        vertical-align: top;\n",
       "    }\n",
       "\n",
       "    .dataframe thead th {\n",
       "        text-align: right;\n",
       "    }\n",
       "</style>\n",
       "<table border=\"1\" class=\"dataframe\">\n",
       "  <thead>\n",
       "    <tr style=\"text-align: right;\">\n",
       "      <th></th>\n",
       "      <th>Emg1</th>\n",
       "      <th>Emg2</th>\n",
       "      <th>Emg3</th>\n",
       "      <th>Emg4</th>\n",
       "      <th>Emg5</th>\n",
       "      <th>Emg6</th>\n",
       "      <th>Emg7</th>\n",
       "      <th>Emg8</th>\n",
       "      <th>Emg9</th>\n",
       "      <th>Emg10</th>\n",
       "    </tr>\n",
       "  </thead>\n",
       "  <tbody>\n",
       "    <tr>\n",
       "      <th>0</th>\n",
       "      <td>0.0024</td>\n",
       "      <td>0.0024</td>\n",
       "      <td>0.0024</td>\n",
       "      <td>0.0024</td>\n",
       "      <td>0.0024</td>\n",
       "      <td>0.0024</td>\n",
       "      <td>0.0317</td>\n",
       "      <td>0.0732</td>\n",
       "      <td>0.0024</td>\n",
       "      <td>0.0903</td>\n",
       "    </tr>\n",
       "    <tr>\n",
       "      <th>1</th>\n",
       "      <td>0.0024</td>\n",
       "      <td>0.0024</td>\n",
       "      <td>0.0024</td>\n",
       "      <td>0.0024</td>\n",
       "      <td>0.0024</td>\n",
       "      <td>0.0024</td>\n",
       "      <td>0.0366</td>\n",
       "      <td>0.0757</td>\n",
       "      <td>0.0024</td>\n",
       "      <td>0.0928</td>\n",
       "    </tr>\n",
       "    <tr>\n",
       "      <th>2</th>\n",
       "      <td>0.0024</td>\n",
       "      <td>0.0024</td>\n",
       "      <td>0.0024</td>\n",
       "      <td>0.0024</td>\n",
       "      <td>0.0024</td>\n",
       "      <td>0.0024</td>\n",
       "      <td>0.0415</td>\n",
       "      <td>0.0879</td>\n",
       "      <td>0.0024</td>\n",
       "      <td>0.0903</td>\n",
       "    </tr>\n",
       "    <tr>\n",
       "      <th>3</th>\n",
       "      <td>0.0024</td>\n",
       "      <td>0.0024</td>\n",
       "      <td>0.0049</td>\n",
       "      <td>0.0024</td>\n",
       "      <td>0.0024</td>\n",
       "      <td>0.0024</td>\n",
       "      <td>0.0366</td>\n",
       "      <td>0.0952</td>\n",
       "      <td>0.0024</td>\n",
       "      <td>0.0830</td>\n",
       "    </tr>\n",
       "    <tr>\n",
       "      <th>4</th>\n",
       "      <td>0.0024</td>\n",
       "      <td>0.0024</td>\n",
       "      <td>0.0024</td>\n",
       "      <td>0.0024</td>\n",
       "      <td>0.0049</td>\n",
       "      <td>0.0024</td>\n",
       "      <td>0.0293</td>\n",
       "      <td>0.0952</td>\n",
       "      <td>0.0024</td>\n",
       "      <td>0.0708</td>\n",
       "    </tr>\n",
       "    <tr>\n",
       "      <th>...</th>\n",
       "      <td>...</td>\n",
       "      <td>...</td>\n",
       "      <td>...</td>\n",
       "      <td>...</td>\n",
       "      <td>...</td>\n",
       "      <td>...</td>\n",
       "      <td>...</td>\n",
       "      <td>...</td>\n",
       "      <td>...</td>\n",
       "      <td>...</td>\n",
       "    </tr>\n",
       "    <tr>\n",
       "      <th>227488</th>\n",
       "      <td>0.0024</td>\n",
       "      <td>0.0024</td>\n",
       "      <td>0.0024</td>\n",
       "      <td>0.0024</td>\n",
       "      <td>0.0024</td>\n",
       "      <td>0.0024</td>\n",
       "      <td>0.0024</td>\n",
       "      <td>0.0562</td>\n",
       "      <td>0.1221</td>\n",
       "      <td>0.0024</td>\n",
       "    </tr>\n",
       "    <tr>\n",
       "      <th>227489</th>\n",
       "      <td>0.0024</td>\n",
       "      <td>0.0024</td>\n",
       "      <td>0.0024</td>\n",
       "      <td>0.0024</td>\n",
       "      <td>0.0024</td>\n",
       "      <td>0.0049</td>\n",
       "      <td>0.0024</td>\n",
       "      <td>0.0513</td>\n",
       "      <td>0.1270</td>\n",
       "      <td>0.0024</td>\n",
       "    </tr>\n",
       "    <tr>\n",
       "      <th>227490</th>\n",
       "      <td>0.0024</td>\n",
       "      <td>0.0024</td>\n",
       "      <td>0.0024</td>\n",
       "      <td>0.0024</td>\n",
       "      <td>0.0024</td>\n",
       "      <td>0.0024</td>\n",
       "      <td>0.0024</td>\n",
       "      <td>0.0513</td>\n",
       "      <td>0.1270</td>\n",
       "      <td>0.0024</td>\n",
       "    </tr>\n",
       "    <tr>\n",
       "      <th>227491</th>\n",
       "      <td>0.0024</td>\n",
       "      <td>0.0024</td>\n",
       "      <td>0.0024</td>\n",
       "      <td>0.0024</td>\n",
       "      <td>0.0024</td>\n",
       "      <td>0.0024</td>\n",
       "      <td>0.0024</td>\n",
       "      <td>0.0488</td>\n",
       "      <td>0.1294</td>\n",
       "      <td>0.0024</td>\n",
       "    </tr>\n",
       "    <tr>\n",
       "      <th>227492</th>\n",
       "      <td>0.0024</td>\n",
       "      <td>0.0024</td>\n",
       "      <td>0.0024</td>\n",
       "      <td>0.0024</td>\n",
       "      <td>0.0024</td>\n",
       "      <td>0.0024</td>\n",
       "      <td>0.0024</td>\n",
       "      <td>0.0439</td>\n",
       "      <td>0.1294</td>\n",
       "      <td>0.0024</td>\n",
       "    </tr>\n",
       "  </tbody>\n",
       "</table>\n",
       "<p>227493 rows × 10 columns</p>\n",
       "</div>"
      ],
      "text/plain": [
       "          Emg1    Emg2    Emg3    Emg4    Emg5    Emg6    Emg7    Emg8  \\\n",
       "0       0.0024  0.0024  0.0024  0.0024  0.0024  0.0024  0.0317  0.0732   \n",
       "1       0.0024  0.0024  0.0024  0.0024  0.0024  0.0024  0.0366  0.0757   \n",
       "2       0.0024  0.0024  0.0024  0.0024  0.0024  0.0024  0.0415  0.0879   \n",
       "3       0.0024  0.0024  0.0049  0.0024  0.0024  0.0024  0.0366  0.0952   \n",
       "4       0.0024  0.0024  0.0024  0.0024  0.0049  0.0024  0.0293  0.0952   \n",
       "...        ...     ...     ...     ...     ...     ...     ...     ...   \n",
       "227488  0.0024  0.0024  0.0024  0.0024  0.0024  0.0024  0.0024  0.0562   \n",
       "227489  0.0024  0.0024  0.0024  0.0024  0.0024  0.0049  0.0024  0.0513   \n",
       "227490  0.0024  0.0024  0.0024  0.0024  0.0024  0.0024  0.0024  0.0513   \n",
       "227491  0.0024  0.0024  0.0024  0.0024  0.0024  0.0024  0.0024  0.0488   \n",
       "227492  0.0024  0.0024  0.0024  0.0024  0.0024  0.0024  0.0024  0.0439   \n",
       "\n",
       "          Emg9   Emg10  \n",
       "0       0.0024  0.0903  \n",
       "1       0.0024  0.0928  \n",
       "2       0.0024  0.0903  \n",
       "3       0.0024  0.0830  \n",
       "4       0.0024  0.0708  \n",
       "...        ...     ...  \n",
       "227488  0.1221  0.0024  \n",
       "227489  0.1270  0.0024  \n",
       "227490  0.1270  0.0024  \n",
       "227491  0.1294  0.0024  \n",
       "227492  0.1294  0.0024  \n",
       "\n",
       "[227493 rows x 10 columns]"
      ]
     },
     "execution_count": 6,
     "metadata": {},
     "output_type": "execute_result"
    }
   ],
   "source": [
    "df_3"
   ]
  },
  {
   "cell_type": "code",
   "execution_count": 7,
   "id": "62ad1157",
   "metadata": {},
   "outputs": [],
   "source": [
    "stimulus_3 = pd.DataFrame(stimulus_3)\n",
    "restimulus_3 = pd.DataFrame(restimulus_3)"
   ]
  },
  {
   "cell_type": "markdown",
   "id": "f934a4c6",
   "metadata": {},
   "source": [
    "# Adding new column to existing DataFrame"
   ]
  },
  {
   "cell_type": "code",
   "execution_count": 8,
   "id": "e770271a",
   "metadata": {},
   "outputs": [],
   "source": [
    "df_3['stimulus'] = stimulus_3\n",
    "df_3['restimulus'] = restimulus_3"
   ]
  },
  {
   "cell_type": "code",
   "execution_count": 9,
   "id": "7e47e350",
   "metadata": {},
   "outputs": [
    {
     "data": {
      "text/html": [
       "<div>\n",
       "<style scoped>\n",
       "    .dataframe tbody tr th:only-of-type {\n",
       "        vertical-align: middle;\n",
       "    }\n",
       "\n",
       "    .dataframe tbody tr th {\n",
       "        vertical-align: top;\n",
       "    }\n",
       "\n",
       "    .dataframe thead th {\n",
       "        text-align: right;\n",
       "    }\n",
       "</style>\n",
       "<table border=\"1\" class=\"dataframe\">\n",
       "  <thead>\n",
       "    <tr style=\"text-align: right;\">\n",
       "      <th></th>\n",
       "      <th>Emg1</th>\n",
       "      <th>Emg2</th>\n",
       "      <th>Emg3</th>\n",
       "      <th>Emg4</th>\n",
       "      <th>Emg5</th>\n",
       "      <th>Emg6</th>\n",
       "      <th>Emg7</th>\n",
       "      <th>Emg8</th>\n",
       "      <th>Emg9</th>\n",
       "      <th>Emg10</th>\n",
       "      <th>stimulus</th>\n",
       "      <th>restimulus</th>\n",
       "    </tr>\n",
       "  </thead>\n",
       "  <tbody>\n",
       "    <tr>\n",
       "      <th>count</th>\n",
       "      <td>227493.000000</td>\n",
       "      <td>227493.000000</td>\n",
       "      <td>227493.000000</td>\n",
       "      <td>227493.000000</td>\n",
       "      <td>227493.000000</td>\n",
       "      <td>227493.000000</td>\n",
       "      <td>227493.000000</td>\n",
       "      <td>227493.000000</td>\n",
       "      <td>227493.000000</td>\n",
       "      <td>227493.000000</td>\n",
       "      <td>227493.000000</td>\n",
       "      <td>227493.000000</td>\n",
       "    </tr>\n",
       "    <tr>\n",
       "      <th>mean</th>\n",
       "      <td>0.177020</td>\n",
       "      <td>0.125848</td>\n",
       "      <td>0.195590</td>\n",
       "      <td>0.060284</td>\n",
       "      <td>0.018392</td>\n",
       "      <td>0.018891</td>\n",
       "      <td>0.218081</td>\n",
       "      <td>0.289072</td>\n",
       "      <td>0.134195</td>\n",
       "      <td>0.057882</td>\n",
       "      <td>6.284220</td>\n",
       "      <td>4.962707</td>\n",
       "    </tr>\n",
       "    <tr>\n",
       "      <th>std</th>\n",
       "      <td>0.332936</td>\n",
       "      <td>0.303522</td>\n",
       "      <td>0.430584</td>\n",
       "      <td>0.183509</td>\n",
       "      <td>0.038278</td>\n",
       "      <td>0.043190</td>\n",
       "      <td>0.410667</td>\n",
       "      <td>0.346111</td>\n",
       "      <td>0.248078</td>\n",
       "      <td>0.129270</td>\n",
       "      <td>7.679851</td>\n",
       "      <td>7.434667</td>\n",
       "    </tr>\n",
       "    <tr>\n",
       "      <th>min</th>\n",
       "      <td>0.002400</td>\n",
       "      <td>0.000000</td>\n",
       "      <td>0.002400</td>\n",
       "      <td>0.000000</td>\n",
       "      <td>0.002400</td>\n",
       "      <td>0.000000</td>\n",
       "      <td>0.002400</td>\n",
       "      <td>0.002400</td>\n",
       "      <td>0.002400</td>\n",
       "      <td>0.002400</td>\n",
       "      <td>0.000000</td>\n",
       "      <td>0.000000</td>\n",
       "    </tr>\n",
       "    <tr>\n",
       "      <th>25%</th>\n",
       "      <td>0.002400</td>\n",
       "      <td>0.002400</td>\n",
       "      <td>0.002400</td>\n",
       "      <td>0.002400</td>\n",
       "      <td>0.002400</td>\n",
       "      <td>0.002400</td>\n",
       "      <td>0.012200</td>\n",
       "      <td>0.087900</td>\n",
       "      <td>0.002400</td>\n",
       "      <td>0.009800</td>\n",
       "      <td>0.000000</td>\n",
       "      <td>0.000000</td>\n",
       "    </tr>\n",
       "    <tr>\n",
       "      <th>50%</th>\n",
       "      <td>0.034200</td>\n",
       "      <td>0.002400</td>\n",
       "      <td>0.002400</td>\n",
       "      <td>0.002400</td>\n",
       "      <td>0.002400</td>\n",
       "      <td>0.002400</td>\n",
       "      <td>0.048800</td>\n",
       "      <td>0.146500</td>\n",
       "      <td>0.102500</td>\n",
       "      <td>0.036600</td>\n",
       "      <td>2.000000</td>\n",
       "      <td>0.000000</td>\n",
       "    </tr>\n",
       "    <tr>\n",
       "      <th>75%</th>\n",
       "      <td>0.195300</td>\n",
       "      <td>0.097700</td>\n",
       "      <td>0.180700</td>\n",
       "      <td>0.034200</td>\n",
       "      <td>0.014600</td>\n",
       "      <td>0.009800</td>\n",
       "      <td>0.231900</td>\n",
       "      <td>0.351600</td>\n",
       "      <td>0.148900</td>\n",
       "      <td>0.058600</td>\n",
       "      <td>13.000000</td>\n",
       "      <td>10.000000</td>\n",
       "    </tr>\n",
       "    <tr>\n",
       "      <th>max</th>\n",
       "      <td>4.665500</td>\n",
       "      <td>4.660600</td>\n",
       "      <td>4.658200</td>\n",
       "      <td>4.619100</td>\n",
       "      <td>0.876500</td>\n",
       "      <td>0.632300</td>\n",
       "      <td>4.663100</td>\n",
       "      <td>4.577600</td>\n",
       "      <td>4.660600</td>\n",
       "      <td>4.628900</td>\n",
       "      <td>23.000000</td>\n",
       "      <td>23.000000</td>\n",
       "    </tr>\n",
       "  </tbody>\n",
       "</table>\n",
       "</div>"
      ],
      "text/plain": [
       "                Emg1           Emg2           Emg3           Emg4  \\\n",
       "count  227493.000000  227493.000000  227493.000000  227493.000000   \n",
       "mean        0.177020       0.125848       0.195590       0.060284   \n",
       "std         0.332936       0.303522       0.430584       0.183509   \n",
       "min         0.002400       0.000000       0.002400       0.000000   \n",
       "25%         0.002400       0.002400       0.002400       0.002400   \n",
       "50%         0.034200       0.002400       0.002400       0.002400   \n",
       "75%         0.195300       0.097700       0.180700       0.034200   \n",
       "max         4.665500       4.660600       4.658200       4.619100   \n",
       "\n",
       "                Emg5           Emg6           Emg7           Emg8  \\\n",
       "count  227493.000000  227493.000000  227493.000000  227493.000000   \n",
       "mean        0.018392       0.018891       0.218081       0.289072   \n",
       "std         0.038278       0.043190       0.410667       0.346111   \n",
       "min         0.002400       0.000000       0.002400       0.002400   \n",
       "25%         0.002400       0.002400       0.012200       0.087900   \n",
       "50%         0.002400       0.002400       0.048800       0.146500   \n",
       "75%         0.014600       0.009800       0.231900       0.351600   \n",
       "max         0.876500       0.632300       4.663100       4.577600   \n",
       "\n",
       "                Emg9          Emg10       stimulus     restimulus  \n",
       "count  227493.000000  227493.000000  227493.000000  227493.000000  \n",
       "mean        0.134195       0.057882       6.284220       4.962707  \n",
       "std         0.248078       0.129270       7.679851       7.434667  \n",
       "min         0.002400       0.002400       0.000000       0.000000  \n",
       "25%         0.002400       0.009800       0.000000       0.000000  \n",
       "50%         0.102500       0.036600       2.000000       0.000000  \n",
       "75%         0.148900       0.058600      13.000000      10.000000  \n",
       "max         4.660600       4.628900      23.000000      23.000000  "
      ]
     },
     "execution_count": 9,
     "metadata": {},
     "output_type": "execute_result"
    }
   ],
   "source": [
    "df_3.describe()"
   ]
  },
  {
   "cell_type": "markdown",
   "id": "734801b6",
   "metadata": {},
   "source": [
    "# Exploratory Data Analysis"
   ]
  },
  {
   "cell_type": "code",
   "execution_count": 10,
   "id": "7728df40",
   "metadata": {},
   "outputs": [],
   "source": [
    "import numpy as np\n",
    "import pandas as pd\n",
    "import matplotlib.pyplot as plt\n",
    "import seaborn as sns\n",
    "from sklearn.model_selection import train_test_split\n",
    "from sklearn.metrics import confusion_matrix, f1_score, accuracy_score, classification_report"
   ]
  },
  {
   "cell_type": "code",
   "execution_count": 11,
   "id": "de084581",
   "metadata": {},
   "outputs": [
    {
     "data": {
      "text/html": [
       "<div>\n",
       "<style scoped>\n",
       "    .dataframe tbody tr th:only-of-type {\n",
       "        vertical-align: middle;\n",
       "    }\n",
       "\n",
       "    .dataframe tbody tr th {\n",
       "        vertical-align: top;\n",
       "    }\n",
       "\n",
       "    .dataframe thead th {\n",
       "        text-align: right;\n",
       "    }\n",
       "</style>\n",
       "<table border=\"1\" class=\"dataframe\">\n",
       "  <thead>\n",
       "    <tr style=\"text-align: right;\">\n",
       "      <th></th>\n",
       "      <th>Emg1</th>\n",
       "      <th>Emg2</th>\n",
       "      <th>Emg3</th>\n",
       "      <th>Emg4</th>\n",
       "      <th>Emg5</th>\n",
       "      <th>Emg6</th>\n",
       "      <th>Emg7</th>\n",
       "      <th>Emg8</th>\n",
       "      <th>Emg9</th>\n",
       "      <th>Emg10</th>\n",
       "      <th>stimulus</th>\n",
       "      <th>restimulus</th>\n",
       "    </tr>\n",
       "  </thead>\n",
       "  <tbody>\n",
       "    <tr>\n",
       "      <th>31007</th>\n",
       "      <td>0.0024</td>\n",
       "      <td>0.0024</td>\n",
       "      <td>0.0024</td>\n",
       "      <td>0.0024</td>\n",
       "      <td>0.0024</td>\n",
       "      <td>0.0024</td>\n",
       "      <td>0.0073</td>\n",
       "      <td>0.0781</td>\n",
       "      <td>0.0024</td>\n",
       "      <td>0.0366</td>\n",
       "      <td>0</td>\n",
       "      <td>0</td>\n",
       "    </tr>\n",
       "    <tr>\n",
       "      <th>178101</th>\n",
       "      <td>0.0024</td>\n",
       "      <td>0.0024</td>\n",
       "      <td>0.0024</td>\n",
       "      <td>0.0024</td>\n",
       "      <td>0.0024</td>\n",
       "      <td>0.0024</td>\n",
       "      <td>0.0024</td>\n",
       "      <td>0.1050</td>\n",
       "      <td>0.1050</td>\n",
       "      <td>0.0073</td>\n",
       "      <td>0</td>\n",
       "      <td>0</td>\n",
       "    </tr>\n",
       "    <tr>\n",
       "      <th>98594</th>\n",
       "      <td>1.1060</td>\n",
       "      <td>0.2124</td>\n",
       "      <td>0.3711</td>\n",
       "      <td>0.0513</td>\n",
       "      <td>0.0146</td>\n",
       "      <td>0.0220</td>\n",
       "      <td>0.6787</td>\n",
       "      <td>0.7617</td>\n",
       "      <td>0.2319</td>\n",
       "      <td>0.0342</td>\n",
       "      <td>11</td>\n",
       "      <td>11</td>\n",
       "    </tr>\n",
       "    <tr>\n",
       "      <th>216336</th>\n",
       "      <td>0.0635</td>\n",
       "      <td>0.0024</td>\n",
       "      <td>0.0024</td>\n",
       "      <td>0.0024</td>\n",
       "      <td>0.0415</td>\n",
       "      <td>0.0537</td>\n",
       "      <td>0.5151</td>\n",
       "      <td>0.6177</td>\n",
       "      <td>0.0610</td>\n",
       "      <td>0.0049</td>\n",
       "      <td>22</td>\n",
       "      <td>0</td>\n",
       "    </tr>\n",
       "    <tr>\n",
       "      <th>121160</th>\n",
       "      <td>2.0117</td>\n",
       "      <td>1.3037</td>\n",
       "      <td>1.5527</td>\n",
       "      <td>0.2246</td>\n",
       "      <td>0.0513</td>\n",
       "      <td>0.0366</td>\n",
       "      <td>1.4014</td>\n",
       "      <td>0.8374</td>\n",
       "      <td>0.1660</td>\n",
       "      <td>0.1440</td>\n",
       "      <td>13</td>\n",
       "      <td>13</td>\n",
       "    </tr>\n",
       "  </tbody>\n",
       "</table>\n",
       "</div>"
      ],
      "text/plain": [
       "          Emg1    Emg2    Emg3    Emg4    Emg5    Emg6    Emg7    Emg8  \\\n",
       "31007   0.0024  0.0024  0.0024  0.0024  0.0024  0.0024  0.0073  0.0781   \n",
       "178101  0.0024  0.0024  0.0024  0.0024  0.0024  0.0024  0.0024  0.1050   \n",
       "98594   1.1060  0.2124  0.3711  0.0513  0.0146  0.0220  0.6787  0.7617   \n",
       "216336  0.0635  0.0024  0.0024  0.0024  0.0415  0.0537  0.5151  0.6177   \n",
       "121160  2.0117  1.3037  1.5527  0.2246  0.0513  0.0366  1.4014  0.8374   \n",
       "\n",
       "          Emg9   Emg10  stimulus  restimulus  \n",
       "31007   0.0024  0.0366         0           0  \n",
       "178101  0.1050  0.0073         0           0  \n",
       "98594   0.2319  0.0342        11          11  \n",
       "216336  0.0610  0.0049        22           0  \n",
       "121160  0.1660  0.1440        13          13  "
      ]
     },
     "execution_count": 11,
     "metadata": {},
     "output_type": "execute_result"
    }
   ],
   "source": [
    "raw_data = df_3\n",
    "raw_data.sample(5)"
   ]
  },
  {
   "cell_type": "code",
   "execution_count": 12,
   "id": "7e858342",
   "metadata": {},
   "outputs": [
    {
     "name": "stdout",
     "output_type": "stream",
     "text": [
      "The Shape of the Dataset is :  (227493, 12)\n",
      "************************************************************************************************************\n",
      "Column Names of the Dataset are :  Index(['Emg1', 'Emg2', 'Emg3', 'Emg4', 'Emg5', 'Emg6', 'Emg7', 'Emg8', 'Emg9',\n",
      "       'Emg10', 'stimulus', 'restimulus'],\n",
      "      dtype='object')\n",
      "************************************************************************************************************\n",
      "<class 'pandas.core.frame.DataFrame'>\n",
      "RangeIndex: 227493 entries, 0 to 227492\n",
      "Data columns (total 12 columns):\n",
      " #   Column      Non-Null Count   Dtype  \n",
      "---  ------      --------------   -----  \n",
      " 0   Emg1        227493 non-null  float64\n",
      " 1   Emg2        227493 non-null  float64\n",
      " 2   Emg3        227493 non-null  float64\n",
      " 3   Emg4        227493 non-null  float64\n",
      " 4   Emg5        227493 non-null  float64\n",
      " 5   Emg6        227493 non-null  float64\n",
      " 6   Emg7        227493 non-null  float64\n",
      " 7   Emg8        227493 non-null  float64\n",
      " 8   Emg9        227493 non-null  float64\n",
      " 9   Emg10       227493 non-null  float64\n",
      " 10  stimulus    227493 non-null  uint8  \n",
      " 11  restimulus  227493 non-null  uint8  \n",
      "dtypes: float64(10), uint8(2)\n",
      "memory usage: 17.8 MB\n",
      "None\n",
      "************************************************************************************************************\n"
     ]
    },
    {
     "data": {
      "text/html": [
       "<div>\n",
       "<style scoped>\n",
       "    .dataframe tbody tr th:only-of-type {\n",
       "        vertical-align: middle;\n",
       "    }\n",
       "\n",
       "    .dataframe tbody tr th {\n",
       "        vertical-align: top;\n",
       "    }\n",
       "\n",
       "    .dataframe thead th {\n",
       "        text-align: right;\n",
       "    }\n",
       "</style>\n",
       "<table border=\"1\" class=\"dataframe\">\n",
       "  <thead>\n",
       "    <tr style=\"text-align: right;\">\n",
       "      <th></th>\n",
       "      <th>Emg1</th>\n",
       "      <th>Emg2</th>\n",
       "      <th>Emg3</th>\n",
       "      <th>Emg4</th>\n",
       "      <th>Emg5</th>\n",
       "      <th>Emg6</th>\n",
       "      <th>Emg7</th>\n",
       "      <th>Emg8</th>\n",
       "      <th>Emg9</th>\n",
       "      <th>Emg10</th>\n",
       "      <th>stimulus</th>\n",
       "      <th>restimulus</th>\n",
       "    </tr>\n",
       "  </thead>\n",
       "  <tbody>\n",
       "    <tr>\n",
       "      <th>count</th>\n",
       "      <td>227493.000000</td>\n",
       "      <td>227493.000000</td>\n",
       "      <td>227493.000000</td>\n",
       "      <td>227493.000000</td>\n",
       "      <td>227493.000000</td>\n",
       "      <td>227493.000000</td>\n",
       "      <td>227493.000000</td>\n",
       "      <td>227493.000000</td>\n",
       "      <td>227493.000000</td>\n",
       "      <td>227493.000000</td>\n",
       "      <td>227493.000000</td>\n",
       "      <td>227493.000000</td>\n",
       "    </tr>\n",
       "    <tr>\n",
       "      <th>mean</th>\n",
       "      <td>0.177020</td>\n",
       "      <td>0.125848</td>\n",
       "      <td>0.195590</td>\n",
       "      <td>0.060284</td>\n",
       "      <td>0.018392</td>\n",
       "      <td>0.018891</td>\n",
       "      <td>0.218081</td>\n",
       "      <td>0.289072</td>\n",
       "      <td>0.134195</td>\n",
       "      <td>0.057882</td>\n",
       "      <td>6.284220</td>\n",
       "      <td>4.962707</td>\n",
       "    </tr>\n",
       "    <tr>\n",
       "      <th>std</th>\n",
       "      <td>0.332936</td>\n",
       "      <td>0.303522</td>\n",
       "      <td>0.430584</td>\n",
       "      <td>0.183509</td>\n",
       "      <td>0.038278</td>\n",
       "      <td>0.043190</td>\n",
       "      <td>0.410667</td>\n",
       "      <td>0.346111</td>\n",
       "      <td>0.248078</td>\n",
       "      <td>0.129270</td>\n",
       "      <td>7.679851</td>\n",
       "      <td>7.434667</td>\n",
       "    </tr>\n",
       "    <tr>\n",
       "      <th>min</th>\n",
       "      <td>0.002400</td>\n",
       "      <td>0.000000</td>\n",
       "      <td>0.002400</td>\n",
       "      <td>0.000000</td>\n",
       "      <td>0.002400</td>\n",
       "      <td>0.000000</td>\n",
       "      <td>0.002400</td>\n",
       "      <td>0.002400</td>\n",
       "      <td>0.002400</td>\n",
       "      <td>0.002400</td>\n",
       "      <td>0.000000</td>\n",
       "      <td>0.000000</td>\n",
       "    </tr>\n",
       "    <tr>\n",
       "      <th>25%</th>\n",
       "      <td>0.002400</td>\n",
       "      <td>0.002400</td>\n",
       "      <td>0.002400</td>\n",
       "      <td>0.002400</td>\n",
       "      <td>0.002400</td>\n",
       "      <td>0.002400</td>\n",
       "      <td>0.012200</td>\n",
       "      <td>0.087900</td>\n",
       "      <td>0.002400</td>\n",
       "      <td>0.009800</td>\n",
       "      <td>0.000000</td>\n",
       "      <td>0.000000</td>\n",
       "    </tr>\n",
       "    <tr>\n",
       "      <th>50%</th>\n",
       "      <td>0.034200</td>\n",
       "      <td>0.002400</td>\n",
       "      <td>0.002400</td>\n",
       "      <td>0.002400</td>\n",
       "      <td>0.002400</td>\n",
       "      <td>0.002400</td>\n",
       "      <td>0.048800</td>\n",
       "      <td>0.146500</td>\n",
       "      <td>0.102500</td>\n",
       "      <td>0.036600</td>\n",
       "      <td>2.000000</td>\n",
       "      <td>0.000000</td>\n",
       "    </tr>\n",
       "    <tr>\n",
       "      <th>75%</th>\n",
       "      <td>0.195300</td>\n",
       "      <td>0.097700</td>\n",
       "      <td>0.180700</td>\n",
       "      <td>0.034200</td>\n",
       "      <td>0.014600</td>\n",
       "      <td>0.009800</td>\n",
       "      <td>0.231900</td>\n",
       "      <td>0.351600</td>\n",
       "      <td>0.148900</td>\n",
       "      <td>0.058600</td>\n",
       "      <td>13.000000</td>\n",
       "      <td>10.000000</td>\n",
       "    </tr>\n",
       "    <tr>\n",
       "      <th>max</th>\n",
       "      <td>4.665500</td>\n",
       "      <td>4.660600</td>\n",
       "      <td>4.658200</td>\n",
       "      <td>4.619100</td>\n",
       "      <td>0.876500</td>\n",
       "      <td>0.632300</td>\n",
       "      <td>4.663100</td>\n",
       "      <td>4.577600</td>\n",
       "      <td>4.660600</td>\n",
       "      <td>4.628900</td>\n",
       "      <td>23.000000</td>\n",
       "      <td>23.000000</td>\n",
       "    </tr>\n",
       "  </tbody>\n",
       "</table>\n",
       "</div>"
      ],
      "text/plain": [
       "                Emg1           Emg2           Emg3           Emg4  \\\n",
       "count  227493.000000  227493.000000  227493.000000  227493.000000   \n",
       "mean        0.177020       0.125848       0.195590       0.060284   \n",
       "std         0.332936       0.303522       0.430584       0.183509   \n",
       "min         0.002400       0.000000       0.002400       0.000000   \n",
       "25%         0.002400       0.002400       0.002400       0.002400   \n",
       "50%         0.034200       0.002400       0.002400       0.002400   \n",
       "75%         0.195300       0.097700       0.180700       0.034200   \n",
       "max         4.665500       4.660600       4.658200       4.619100   \n",
       "\n",
       "                Emg5           Emg6           Emg7           Emg8  \\\n",
       "count  227493.000000  227493.000000  227493.000000  227493.000000   \n",
       "mean        0.018392       0.018891       0.218081       0.289072   \n",
       "std         0.038278       0.043190       0.410667       0.346111   \n",
       "min         0.002400       0.000000       0.002400       0.002400   \n",
       "25%         0.002400       0.002400       0.012200       0.087900   \n",
       "50%         0.002400       0.002400       0.048800       0.146500   \n",
       "75%         0.014600       0.009800       0.231900       0.351600   \n",
       "max         0.876500       0.632300       4.663100       4.577600   \n",
       "\n",
       "                Emg9          Emg10       stimulus     restimulus  \n",
       "count  227493.000000  227493.000000  227493.000000  227493.000000  \n",
       "mean        0.134195       0.057882       6.284220       4.962707  \n",
       "std         0.248078       0.129270       7.679851       7.434667  \n",
       "min         0.002400       0.002400       0.000000       0.000000  \n",
       "25%         0.002400       0.009800       0.000000       0.000000  \n",
       "50%         0.102500       0.036600       2.000000       0.000000  \n",
       "75%         0.148900       0.058600      13.000000      10.000000  \n",
       "max         4.660600       4.628900      23.000000      23.000000  "
      ]
     },
     "execution_count": 12,
     "metadata": {},
     "output_type": "execute_result"
    }
   ],
   "source": [
    "print(\"The Shape of the Dataset is : \",raw_data.shape)\n",
    "print(\"************************************************************************************************************\")\n",
    "print(\"Column Names of the Dataset are : \",raw_data.columns)\n",
    "print(\"************************************************************************************************************\")\n",
    "print(raw_data.info())\n",
    "print(\"************************************************************************************************************\")\n",
    "raw_data.describe(include='all')"
   ]
  },
  {
   "cell_type": "code",
   "execution_count": 13,
   "id": "53bfdc12",
   "metadata": {},
   "outputs": [
    {
     "name": "stdout",
     "output_type": "stream",
     "text": [
      "Unique Dependent values and their counts :\n",
      "0     108449\n",
      "18      5210\n",
      "20      5202\n",
      "14      5191\n",
      "9       5190\n",
      "19      5189\n",
      "12      5189\n",
      "2       5188\n",
      "13      5186\n",
      "21      5185\n",
      "17      5184\n",
      "10      5182\n",
      "11      5182\n",
      "8       5182\n",
      "7       5177\n",
      "4       5174\n",
      "23      5166\n",
      "16      5165\n",
      "1       5162\n",
      "22      5161\n",
      "15      5161\n",
      "5       5153\n",
      "3       5133\n",
      "6       5132\n",
      "Name: stimulus, dtype: int64\n"
     ]
    }
   ],
   "source": [
    "print(\"Unique Dependent values and their counts :\")\n",
    "print(raw_data[\"stimulus\"].value_counts())"
   ]
  },
  {
   "cell_type": "code",
   "execution_count": 14,
   "id": "7908f312",
   "metadata": {},
   "outputs": [
    {
     "data": {
      "text/plain": [
       "Text(0, 0.5, 'Frequency')"
      ]
     },
     "execution_count": 14,
     "metadata": {},
     "output_type": "execute_result"
    },
    {
     "data": {
      "image/png": "[encoded data removed]",
      "text/plain": [
       "<Figure size 432x288 with 1 Axes>"
      ]
     },
     "metadata": {
      "needs_background": "light"
     },
     "output_type": "display_data"
    }
   ],
   "source": [
    "count_classes = pd.value_counts(raw_data['stimulus'], sort = True)\n",
    "\n",
    "count_classes.plot(kind = 'bar', rot=0)\n",
    "\n",
    "plt.title(\"stimulus Class Distribution\")\n",
    "\n",
    "plt.xlabel(\"Class\")\n",
    "\n",
    "plt.ylabel(\"Frequency\")"
   ]
  },
  {
   "cell_type": "code",
   "execution_count": 15,
   "id": "895878d9",
   "metadata": {
    "scrolled": true
   },
   "outputs": [
    {
     "name": "stdout",
     "output_type": "stream",
     "text": [
      "Emg1          False\n",
      "Emg2          False\n",
      "Emg3          False\n",
      "Emg4          False\n",
      "Emg5          False\n",
      "Emg6          False\n",
      "Emg7          False\n",
      "Emg8          False\n",
      "Emg9          False\n",
      "Emg10         False\n",
      "stimulus      False\n",
      "restimulus    False\n",
      "dtype: bool\n"
     ]
    }
   ],
   "source": [
    "print(raw_data.isnull().any())"
   ]
  },
  {
   "cell_type": "markdown",
   "id": "85e67ffa",
   "metadata": {},
   "source": [
    "# Custom Outlier Detection"
   ]
  },
  {
   "cell_type": "code",
   "execution_count": 16,
   "id": "aecf9fdf",
   "metadata": {},
   "outputs": [],
   "source": [
    "index_names = raw_data[ (raw_data['stimulus'] != raw_data['restimulus'])].index\n",
    "raw_data.drop(index_names, inplace = True)"
   ]
  },
  {
   "cell_type": "code",
   "execution_count": 17,
   "id": "7ec50297",
   "metadata": {},
   "outputs": [
    {
     "data": {
      "text/html": [
       "<div>\n",
       "<style scoped>\n",
       "    .dataframe tbody tr th:only-of-type {\n",
       "        vertical-align: middle;\n",
       "    }\n",
       "\n",
       "    .dataframe tbody tr th {\n",
       "        vertical-align: top;\n",
       "    }\n",
       "\n",
       "    .dataframe thead th {\n",
       "        text-align: right;\n",
       "    }\n",
       "</style>\n",
       "<table border=\"1\" class=\"dataframe\">\n",
       "  <thead>\n",
       "    <tr style=\"text-align: right;\">\n",
       "      <th></th>\n",
       "      <th>Emg1</th>\n",
       "      <th>Emg2</th>\n",
       "      <th>Emg3</th>\n",
       "      <th>Emg4</th>\n",
       "      <th>Emg5</th>\n",
       "      <th>Emg6</th>\n",
       "      <th>Emg7</th>\n",
       "      <th>Emg8</th>\n",
       "      <th>Emg9</th>\n",
       "      <th>Emg10</th>\n",
       "      <th>stimulus</th>\n",
       "      <th>restimulus</th>\n",
       "    </tr>\n",
       "  </thead>\n",
       "  <tbody>\n",
       "    <tr>\n",
       "      <th>209843</th>\n",
       "      <td>0.5908</td>\n",
       "      <td>0.3052</td>\n",
       "      <td>1.1157</td>\n",
       "      <td>0.5273</td>\n",
       "      <td>0.0854</td>\n",
       "      <td>0.0781</td>\n",
       "      <td>0.5688</td>\n",
       "      <td>0.4126</td>\n",
       "      <td>0.1660</td>\n",
       "      <td>0.0146</td>\n",
       "      <td>22</td>\n",
       "      <td>22</td>\n",
       "    </tr>\n",
       "    <tr>\n",
       "      <th>30043</th>\n",
       "      <td>0.0024</td>\n",
       "      <td>0.0024</td>\n",
       "      <td>0.0024</td>\n",
       "      <td>0.0024</td>\n",
       "      <td>0.0024</td>\n",
       "      <td>0.0024</td>\n",
       "      <td>0.0073</td>\n",
       "      <td>0.0513</td>\n",
       "      <td>0.0024</td>\n",
       "      <td>0.0464</td>\n",
       "      <td>0</td>\n",
       "      <td>0</td>\n",
       "    </tr>\n",
       "    <tr>\n",
       "      <th>206835</th>\n",
       "      <td>0.2246</td>\n",
       "      <td>0.1172</td>\n",
       "      <td>0.3271</td>\n",
       "      <td>0.3320</td>\n",
       "      <td>0.0244</td>\n",
       "      <td>0.0024</td>\n",
       "      <td>0.2759</td>\n",
       "      <td>0.4980</td>\n",
       "      <td>0.0830</td>\n",
       "      <td>0.0024</td>\n",
       "      <td>0</td>\n",
       "      <td>0</td>\n",
       "    </tr>\n",
       "    <tr>\n",
       "      <th>37897</th>\n",
       "      <td>0.0024</td>\n",
       "      <td>0.0024</td>\n",
       "      <td>0.0024</td>\n",
       "      <td>0.0024</td>\n",
       "      <td>0.0049</td>\n",
       "      <td>0.0024</td>\n",
       "      <td>0.0024</td>\n",
       "      <td>0.0708</td>\n",
       "      <td>0.0024</td>\n",
       "      <td>0.0439</td>\n",
       "      <td>0</td>\n",
       "      <td>0</td>\n",
       "    </tr>\n",
       "    <tr>\n",
       "      <th>169150</th>\n",
       "      <td>0.1196</td>\n",
       "      <td>0.0024</td>\n",
       "      <td>0.0024</td>\n",
       "      <td>0.0024</td>\n",
       "      <td>0.0024</td>\n",
       "      <td>0.0024</td>\n",
       "      <td>0.2295</td>\n",
       "      <td>0.1782</td>\n",
       "      <td>1.5723</td>\n",
       "      <td>0.0537</td>\n",
       "      <td>0</td>\n",
       "      <td>0</td>\n",
       "    </tr>\n",
       "  </tbody>\n",
       "</table>\n",
       "</div>"
      ],
      "text/plain": [
       "          Emg1    Emg2    Emg3    Emg4    Emg5    Emg6    Emg7    Emg8  \\\n",
       "209843  0.5908  0.3052  1.1157  0.5273  0.0854  0.0781  0.5688  0.4126   \n",
       "30043   0.0024  0.0024  0.0024  0.0024  0.0024  0.0024  0.0073  0.0513   \n",
       "206835  0.2246  0.1172  0.3271  0.3320  0.0244  0.0024  0.2759  0.4980   \n",
       "37897   0.0024  0.0024  0.0024  0.0024  0.0049  0.0024  0.0024  0.0708   \n",
       "169150  0.1196  0.0024  0.0024  0.0024  0.0024  0.0024  0.2295  0.1782   \n",
       "\n",
       "          Emg9   Emg10  stimulus  restimulus  \n",
       "209843  0.1660  0.0146        22          22  \n",
       "30043   0.0024  0.0464         0           0  \n",
       "206835  0.0830  0.0024         0           0  \n",
       "37897   0.0024  0.0439         0           0  \n",
       "169150  1.5723  0.0537         0           0  "
      ]
     },
     "execution_count": 17,
     "metadata": {},
     "output_type": "execute_result"
    }
   ],
   "source": [
    "raw_data.sample(5)"
   ]
  },
  {
   "cell_type": "code",
   "execution_count": 18,
   "id": "40a9cbb4",
   "metadata": {},
   "outputs": [
    {
     "data": {
      "text/plain": [
       "(195668, 12)"
      ]
     },
     "execution_count": 18,
     "metadata": {},
     "output_type": "execute_result"
    }
   ],
   "source": [
    "raw_data.shape"
   ]
  },
  {
   "cell_type": "code",
   "execution_count": 19,
   "id": "967d1f4c",
   "metadata": {},
   "outputs": [
    {
     "name": "stdout",
     "output_type": "stream",
     "text": [
      "<class 'pandas.core.frame.DataFrame'>\n",
      "Int64Index: 195668 entries, 0 to 227492\n",
      "Data columns (total 12 columns):\n",
      " #   Column      Non-Null Count   Dtype  \n",
      "---  ------      --------------   -----  \n",
      " 0   Emg1        195668 non-null  float64\n",
      " 1   Emg2        195668 non-null  float64\n",
      " 2   Emg3        195668 non-null  float64\n",
      " 3   Emg4        195668 non-null  float64\n",
      " 4   Emg5        195668 non-null  float64\n",
      " 5   Emg6        195668 non-null  float64\n",
      " 6   Emg7        195668 non-null  float64\n",
      " 7   Emg8        195668 non-null  float64\n",
      " 8   Emg9        195668 non-null  float64\n",
      " 9   Emg10       195668 non-null  float64\n",
      " 10  stimulus    195668 non-null  uint8  \n",
      " 11  restimulus  195668 non-null  uint8  \n",
      "dtypes: float64(10), uint8(2)\n",
      "memory usage: 16.8 MB\n"
     ]
    }
   ],
   "source": [
    "raw_data.info()"
   ]
  },
  {
   "cell_type": "code",
   "execution_count": 20,
   "id": "1b144bb6",
   "metadata": {},
   "outputs": [
    {
     "name": "stdout",
     "output_type": "stream",
     "text": [
      "Emg1          False\n",
      "Emg2          False\n",
      "Emg3          False\n",
      "Emg4          False\n",
      "Emg5          False\n",
      "Emg6          False\n",
      "Emg7          False\n",
      "Emg8          False\n",
      "Emg9          False\n",
      "Emg10         False\n",
      "stimulus      False\n",
      "restimulus    False\n",
      "dtype: bool\n"
     ]
    }
   ],
   "source": [
    "print(raw_data.isnull().any())"
   ]
  },
  {
   "cell_type": "markdown",
   "id": "545221bb",
   "metadata": {},
   "source": [
    "# Filtering "
   ]
  },
  {
   "cell_type": "code",
   "execution_count": 21,
   "id": "5868d121",
   "metadata": {},
   "outputs": [],
   "source": [
    "index_names = raw_data[ (raw_data['stimulus'] >=16)].index\n",
    "raw_data.drop(index_names, inplace = True)"
   ]
  },
  {
   "cell_type": "code",
   "execution_count": 22,
   "id": "acb21d47",
   "metadata": {},
   "outputs": [
    {
     "name": "stdout",
     "output_type": "stream",
     "text": [
      "The Shape of the Dataset is :  (162490, 12)\n",
      "************************************************************************************************************\n",
      "Column Names of the Dataset are :  Index(['Emg1', 'Emg2', 'Emg3', 'Emg4', 'Emg5', 'Emg6', 'Emg7', 'Emg8', 'Emg9',\n",
      "       'Emg10', 'stimulus', 'restimulus'],\n",
      "      dtype='object')\n",
      "************************************************************************************************************\n",
      "<class 'pandas.core.frame.DataFrame'>\n",
      "Int64Index: 162490 entries, 0 to 227492\n",
      "Data columns (total 12 columns):\n",
      " #   Column      Non-Null Count   Dtype  \n",
      "---  ------      --------------   -----  \n",
      " 0   Emg1        162490 non-null  float64\n",
      " 1   Emg2        162490 non-null  float64\n",
      " 2   Emg3        162490 non-null  float64\n",
      " 3   Emg4        162490 non-null  float64\n",
      " 4   Emg5        162490 non-null  float64\n",
      " 5   Emg6        162490 non-null  float64\n",
      " 6   Emg7        162490 non-null  float64\n",
      " 7   Emg8        162490 non-null  float64\n",
      " 8   Emg9        162490 non-null  float64\n",
      " 9   Emg10       162490 non-null  float64\n",
      " 10  stimulus    162490 non-null  uint8  \n",
      " 11  restimulus  162490 non-null  uint8  \n",
      "dtypes: float64(10), uint8(2)\n",
      "memory usage: 13.9 MB\n",
      "None\n",
      "************************************************************************************************************\n"
     ]
    },
    {
     "data": {
      "text/html": [
       "<div>\n",
       "<style scoped>\n",
       "    .dataframe tbody tr th:only-of-type {\n",
       "        vertical-align: middle;\n",
       "    }\n",
       "\n",
       "    .dataframe tbody tr th {\n",
       "        vertical-align: top;\n",
       "    }\n",
       "\n",
       "    .dataframe thead th {\n",
       "        text-align: right;\n",
       "    }\n",
       "</style>\n",
       "<table border=\"1\" class=\"dataframe\">\n",
       "  <thead>\n",
       "    <tr style=\"text-align: right;\">\n",
       "      <th></th>\n",
       "      <th>Emg1</th>\n",
       "      <th>Emg2</th>\n",
       "      <th>Emg3</th>\n",
       "      <th>Emg4</th>\n",
       "      <th>Emg5</th>\n",
       "      <th>Emg6</th>\n",
       "      <th>Emg7</th>\n",
       "      <th>Emg8</th>\n",
       "      <th>Emg9</th>\n",
       "      <th>Emg10</th>\n",
       "      <th>stimulus</th>\n",
       "      <th>restimulus</th>\n",
       "    </tr>\n",
       "  </thead>\n",
       "  <tbody>\n",
       "    <tr>\n",
       "      <th>count</th>\n",
       "      <td>162490.000000</td>\n",
       "      <td>162490.000000</td>\n",
       "      <td>162490.000000</td>\n",
       "      <td>162490.000000</td>\n",
       "      <td>162490.000000</td>\n",
       "      <td>162490.000000</td>\n",
       "      <td>162490.000000</td>\n",
       "      <td>162490.000000</td>\n",
       "      <td>162490.000000</td>\n",
       "      <td>162490.000000</td>\n",
       "      <td>162490.000000</td>\n",
       "      <td>162490.000000</td>\n",
       "    </tr>\n",
       "    <tr>\n",
       "      <th>mean</th>\n",
       "      <td>0.158731</td>\n",
       "      <td>0.099909</td>\n",
       "      <td>0.141161</td>\n",
       "      <td>0.038706</td>\n",
       "      <td>0.013822</td>\n",
       "      <td>0.017741</td>\n",
       "      <td>0.191917</td>\n",
       "      <td>0.251381</td>\n",
       "      <td>0.122461</td>\n",
       "      <td>0.057591</td>\n",
       "      <td>2.756964</td>\n",
       "      <td>2.756964</td>\n",
       "    </tr>\n",
       "    <tr>\n",
       "      <th>std</th>\n",
       "      <td>0.332702</td>\n",
       "      <td>0.266460</td>\n",
       "      <td>0.296029</td>\n",
       "      <td>0.092014</td>\n",
       "      <td>0.027728</td>\n",
       "      <td>0.043612</td>\n",
       "      <td>0.389865</td>\n",
       "      <td>0.307862</td>\n",
       "      <td>0.215078</td>\n",
       "      <td>0.115781</td>\n",
       "      <td>4.576928</td>\n",
       "      <td>4.576928</td>\n",
       "    </tr>\n",
       "    <tr>\n",
       "      <th>min</th>\n",
       "      <td>0.002400</td>\n",
       "      <td>0.000000</td>\n",
       "      <td>0.002400</td>\n",
       "      <td>0.002400</td>\n",
       "      <td>0.002400</td>\n",
       "      <td>0.000000</td>\n",
       "      <td>0.002400</td>\n",
       "      <td>0.002400</td>\n",
       "      <td>0.002400</td>\n",
       "      <td>0.002400</td>\n",
       "      <td>0.000000</td>\n",
       "      <td>0.000000</td>\n",
       "    </tr>\n",
       "    <tr>\n",
       "      <th>25%</th>\n",
       "      <td>0.002400</td>\n",
       "      <td>0.002400</td>\n",
       "      <td>0.002400</td>\n",
       "      <td>0.002400</td>\n",
       "      <td>0.002400</td>\n",
       "      <td>0.002400</td>\n",
       "      <td>0.009800</td>\n",
       "      <td>0.085400</td>\n",
       "      <td>0.002400</td>\n",
       "      <td>0.012200</td>\n",
       "      <td>0.000000</td>\n",
       "      <td>0.000000</td>\n",
       "    </tr>\n",
       "    <tr>\n",
       "      <th>50%</th>\n",
       "      <td>0.024400</td>\n",
       "      <td>0.002400</td>\n",
       "      <td>0.002400</td>\n",
       "      <td>0.002400</td>\n",
       "      <td>0.002400</td>\n",
       "      <td>0.002400</td>\n",
       "      <td>0.039100</td>\n",
       "      <td>0.134300</td>\n",
       "      <td>0.092800</td>\n",
       "      <td>0.039100</td>\n",
       "      <td>0.000000</td>\n",
       "      <td>0.000000</td>\n",
       "    </tr>\n",
       "    <tr>\n",
       "      <th>75%</th>\n",
       "      <td>0.144000</td>\n",
       "      <td>0.029300</td>\n",
       "      <td>0.124500</td>\n",
       "      <td>0.017100</td>\n",
       "      <td>0.007300</td>\n",
       "      <td>0.004900</td>\n",
       "      <td>0.175800</td>\n",
       "      <td>0.285600</td>\n",
       "      <td>0.141600</td>\n",
       "      <td>0.058600</td>\n",
       "      <td>5.000000</td>\n",
       "      <td>5.000000</td>\n",
       "    </tr>\n",
       "    <tr>\n",
       "      <th>max</th>\n",
       "      <td>4.663100</td>\n",
       "      <td>4.660600</td>\n",
       "      <td>3.078600</td>\n",
       "      <td>1.684600</td>\n",
       "      <td>0.461400</td>\n",
       "      <td>0.632300</td>\n",
       "      <td>4.663100</td>\n",
       "      <td>4.577600</td>\n",
       "      <td>4.658200</td>\n",
       "      <td>4.231000</td>\n",
       "      <td>15.000000</td>\n",
       "      <td>15.000000</td>\n",
       "    </tr>\n",
       "  </tbody>\n",
       "</table>\n",
       "</div>"
      ],
      "text/plain": [
       "                Emg1           Emg2           Emg3           Emg4  \\\n",
       "count  162490.000000  162490.000000  162490.000000  162490.000000   \n",
       "mean        0.158731       0.099909       0.141161       0.038706   \n",
       "std         0.332702       0.266460       0.296029       0.092014   \n",
       "min         0.002400       0.000000       0.002400       0.002400   \n",
       "25%         0.002400       0.002400       0.002400       0.002400   \n",
       "50%         0.024400       0.002400       0.002400       0.002400   \n",
       "75%         0.144000       0.029300       0.124500       0.017100   \n",
       "max         4.663100       4.660600       3.078600       1.684600   \n",
       "\n",
       "                Emg5           Emg6           Emg7           Emg8  \\\n",
       "count  162490.000000  162490.000000  162490.000000  162490.000000   \n",
       "mean        0.013822       0.017741       0.191917       0.251381   \n",
       "std         0.027728       0.043612       0.389865       0.307862   \n",
       "min         0.002400       0.000000       0.002400       0.002400   \n",
       "25%         0.002400       0.002400       0.009800       0.085400   \n",
       "50%         0.002400       0.002400       0.039100       0.134300   \n",
       "75%         0.007300       0.004900       0.175800       0.285600   \n",
       "max         0.461400       0.632300       4.663100       4.577600   \n",
       "\n",
       "                Emg9          Emg10       stimulus     restimulus  \n",
       "count  162490.000000  162490.000000  162490.000000  162490.000000  \n",
       "mean        0.122461       0.057591       2.756964       2.756964  \n",
       "std         0.215078       0.115781       4.576928       4.576928  \n",
       "min         0.002400       0.002400       0.000000       0.000000  \n",
       "25%         0.002400       0.012200       0.000000       0.000000  \n",
       "50%         0.092800       0.039100       0.000000       0.000000  \n",
       "75%         0.141600       0.058600       5.000000       5.000000  \n",
       "max         4.658200       4.231000      15.000000      15.000000  "
      ]
     },
     "execution_count": 22,
     "metadata": {},
     "output_type": "execute_result"
    }
   ],
   "source": [
    "print(\"The Shape of the Dataset is : \",raw_data.shape)\n",
    "print(\"************************************************************************************************************\")\n",
    "print(\"Column Names of the Dataset are : \",raw_data.columns)\n",
    "print(\"************************************************************************************************************\")\n",
    "print(raw_data.info())\n",
    "print(\"************************************************************************************************************\")\n",
    "raw_data.describe(include='all')"
   ]
  },
  {
   "cell_type": "code",
   "execution_count": 23,
   "id": "539f44de",
   "metadata": {},
   "outputs": [],
   "source": [
    "X = raw_data.iloc[:,0:10]\n",
    "y = raw_data.stimulus"
   ]
  },
  {
   "cell_type": "markdown",
   "id": "de019969",
   "metadata": {},
   "source": [
    "# Scaling Data"
   ]
  },
  {
   "cell_type": "code",
   "execution_count": 24,
   "id": "96fd8467",
   "metadata": {},
   "outputs": [],
   "source": [
    "from sklearn.preprocessing import StandardScaler"
   ]
  },
  {
   "cell_type": "code",
   "execution_count": 25,
   "id": "578cd322",
   "metadata": {
    "scrolled": true
   },
   "outputs": [],
   "source": [
    "X = StandardScaler().fit_transform(X)"
   ]
  },
  {
   "cell_type": "markdown",
   "id": "6e77781d",
   "metadata": {},
   "source": [
    "# Splitting data for training and testing"
   ]
  },
  {
   "cell_type": "code",
   "execution_count": 26,
   "id": "e84bd25c",
   "metadata": {},
   "outputs": [],
   "source": [
    "X_train, X_test, y_train, y_test = train_test_split(X, y, test_size = 0.1, random_state = 39)"
   ]
  },
  {
   "cell_type": "markdown",
   "id": "44dc3e2c",
   "metadata": {},
   "source": [
    "# Machine Learning Models"
   ]
  },
  {
   "cell_type": "markdown",
   "id": "6b8b866a",
   "metadata": {},
   "source": [
    "# Decision Tree"
   ]
  },
  {
   "cell_type": "code",
   "execution_count": 27,
   "id": "e50a45db",
   "metadata": {},
   "outputs": [
    {
     "name": "stdout",
     "output_type": "stream",
     "text": [
      "1.2649946212768555 seconds\n"
     ]
    }
   ],
   "source": [
    "from sklearn import tree\n",
    "import time\n",
    "start_time = time.time()\n",
    "tree = tree.DecisionTreeClassifier(ccp_alpha= 0.0,\n",
    "              class_weight= None,\n",
    "              criterion = \"entropy\",\n",
    "              max_depth = None,\n",
    "              max_features = None,\n",
    "              max_leaf_nodes = None,\n",
    "              min_impurity_decrease = 0.0,\n",
    "              min_samples_leaf = 1,\n",
    "              min_samples_split = 2,\n",
    "              min_weight_fraction_leaf = 0.0,\n",
    "              random_state = None,\n",
    "              splitter = 'best')\n",
    "tree.fit(X_train, y_train)\n",
    "print (time.time() - start_time, \"seconds\")"
   ]
  },
  {
   "cell_type": "code",
   "execution_count": 28,
   "id": "f642f954",
   "metadata": {},
   "outputs": [],
   "source": [
    "y_pred1 = tree.predict(X_test)"
   ]
  },
  {
   "cell_type": "code",
   "execution_count": 29,
   "id": "b2cf417f",
   "metadata": {},
   "outputs": [
    {
     "name": "stdout",
     "output_type": "stream",
     "text": [
      "Accuracy is: 92.898024493815\n"
     ]
    }
   ],
   "source": [
    "from sklearn.metrics import accuracy_score\n",
    "accuracy = {accuracy_score(y_test, y_pred1)}\n",
    "print(f\"Accuracy is: {accuracy_score(y_test, y_pred1)* 100}\")"
   ]
  },
  {
   "cell_type": "code",
   "execution_count": 30,
   "id": "4b4d6a24",
   "metadata": {},
   "outputs": [
    {
     "name": "stdout",
     "output_type": "stream",
     "text": [
      "\u001b[1mClassification report : \u001b[0m\n",
      "               precision    recall  f1-score   support\n",
      "\n",
      "           0       0.98      0.98      0.98     10705\n",
      "           1       0.85      0.84      0.84       357\n",
      "           2       0.82      0.79      0.80       367\n",
      "           3       0.79      0.82      0.80       362\n",
      "           4       0.82      0.83      0.83       357\n",
      "           5       0.81      0.77      0.79       388\n",
      "           6       0.88      0.85      0.86       416\n",
      "           7       0.76      0.76      0.76       324\n",
      "           8       0.83      0.77      0.80       333\n",
      "           9       0.83      0.82      0.83       350\n",
      "          10       0.77      0.78      0.78       376\n",
      "          11       0.83      0.87      0.85       408\n",
      "          12       0.84      0.86      0.85       363\n",
      "          13       0.89      0.86      0.87       366\n",
      "          14       0.88      0.86      0.87       463\n",
      "          15       0.82      0.86      0.84       314\n",
      "\n",
      "    accuracy                           0.93     16249\n",
      "   macro avg       0.84      0.83      0.83     16249\n",
      "weighted avg       0.93      0.93      0.93     16249\n",
      "\n",
      "\u001b[1mConfusion Matrix : \u001b[0m\n"
     ]
    },
    {
     "data": {
      "image/png": "[encoded data removed]",
      "text/plain": [
       "<Figure size 432x288 with 2 Axes>"
      ]
     },
     "metadata": {
      "needs_background": "light"
     },
     "output_type": "display_data"
    }
   ],
   "source": [
    "print('\\033[1m' +'Classification report : '+ '\\033[0m\\n', classification_report(y_test, y_pred1))\n",
    "\n",
    "cm = confusion_matrix(y_pred1, y_test)\n",
    "print('\\033[1m' +'Confusion Matrix : '+ '\\033[0m')\n",
    "sns.heatmap(cm, cmap = 'OrRd',annot = True, fmt='d')\n",
    "plt.show()"
   ]
  },
  {
   "cell_type": "markdown",
   "id": "1f4c542b",
   "metadata": {},
   "source": [
    "# Evaluation -- Decision Tree"
   ]
  },
  {
   "cell_type": "code",
   "execution_count": 31,
   "id": "842ce776",
   "metadata": {},
   "outputs": [
    {
     "name": "stdout",
     "output_type": "stream",
     "text": [
      "MAE: 9.225860052926334\n",
      "MSE: 3.063880854206413\n",
      "RMSE: 1.7503944853107865\n"
     ]
    }
   ],
   "source": [
    "from sklearn import metrics\n",
    "\n",
    "print('MAE:', metrics.mean_absolute_error(y_test,y_pred1))\n",
    "print('MSE:', metrics.mean_squared_error(y_test, y_pred1))\n",
    "print('RMSE:', np.sqrt(metrics.mean_squared_error(y_test, y_pred1)))"
   ]
  },
  {
   "cell_type": "code",
   "execution_count": 32,
   "id": "ea853657",
   "metadata": {},
   "outputs": [
    {
     "name": "stdout",
     "output_type": "stream",
     "text": [
      "Precision Score :  0.9288131662465744\n",
      "Recall Score :  0.92898024493815\n",
      "f1_score :  0.928815318587581\n"
     ]
    }
   ],
   "source": [
    "from sklearn.metrics import precision_score\n",
    "print(\"Precision Score : \",precision_score(y_test, y_pred1, average='weighted'))\n",
    "\n",
    "\n",
    "from sklearn.metrics import recall_score\n",
    "print(\"Recall Score : \",recall_score(y_test, y_pred1,average='weighted'))\n",
    "\n",
    "\n",
    "from sklearn.metrics import f1_score\n",
    "print(\"f1_score : \",f1_score(y_test, y_pred1,average='weighted'))"
   ]
  },
  {
   "cell_type": "markdown",
   "id": "991d324e",
   "metadata": {},
   "source": [
    "# KNeighborsClassifier"
   ]
  },
  {
   "cell_type": "code",
   "execution_count": 33,
   "id": "e9a4aa97",
   "metadata": {},
   "outputs": [
    {
     "name": "stdout",
     "output_type": "stream",
     "text": [
      "0.5844137668609619 seconds\n"
     ]
    }
   ],
   "source": [
    "from sklearn.neighbors import KNeighborsClassifier\n",
    "import time\n",
    "start_time = time.time()\n",
    "KNeighborsClassifier = KNeighborsClassifier(algorithm = 'ball_tree',\n",
    "                                            leaf_size = 30,\n",
    "                                            metric = 'minkowski',\n",
    "                                            metric_params= None,\n",
    "                                            n_jobs = -1,\n",
    "                                            n_neighbors = 2,\n",
    "                                            p = 1,\n",
    "                                            weights = 'distance')\n",
    "KNeighborsClassifier.fit(X_train, y_train)\n",
    "print (time.time() - start_time, \"seconds\")"
   ]
  },
  {
   "cell_type": "code",
   "execution_count": 34,
   "id": "4e426a4a",
   "metadata": {},
   "outputs": [],
   "source": [
    "y_pred2 = KNeighborsClassifier.predict(X_test)"
   ]
  },
  {
   "cell_type": "code",
   "execution_count": 35,
   "id": "94590fcf",
   "metadata": {},
   "outputs": [
    {
     "name": "stdout",
     "output_type": "stream",
     "text": [
      "Accuracy is: 97.77832481998892\n"
     ]
    }
   ],
   "source": [
    "from sklearn.metrics import accuracy_score\n",
    "accuracy = {accuracy_score(y_test, y_pred2)}\n",
    "print(f\"Accuracy is: {accuracy_score(y_test, y_pred2)* 100}\")"
   ]
  },
  {
   "cell_type": "code",
   "execution_count": 36,
   "id": "1cd69281",
   "metadata": {},
   "outputs": [
    {
     "name": "stdout",
     "output_type": "stream",
     "text": [
      "\u001b[1mClassification report : \u001b[0m\n",
      "               precision    recall  f1-score   support\n",
      "\n",
      "           0       0.99      0.99      0.99     10705\n",
      "           1       0.99      0.96      0.97       357\n",
      "           2       0.95      0.95      0.95       367\n",
      "           3       0.96      0.97      0.97       362\n",
      "           4       0.95      0.94      0.95       357\n",
      "           5       0.95      0.93      0.94       388\n",
      "           6       0.96      0.95      0.96       416\n",
      "           7       0.94      0.92      0.93       324\n",
      "           8       0.94      0.93      0.94       333\n",
      "           9       0.97      0.97      0.97       350\n",
      "          10       0.96      0.94      0.95       376\n",
      "          11       0.95      0.97      0.96       408\n",
      "          12       0.98      0.98      0.98       363\n",
      "          13       0.99      0.96      0.98       366\n",
      "          14       0.94      0.92      0.93       463\n",
      "          15       0.92      0.93      0.93       314\n",
      "\n",
      "    accuracy                           0.98     16249\n",
      "   macro avg       0.96      0.95      0.95     16249\n",
      "weighted avg       0.98      0.98      0.98     16249\n",
      "\n",
      "\u001b[1mConfusion Matrix : \u001b[0m\n"
     ]
    },
    {
     "data": {
      "image/png": "[encoded data removed]",
      "text/plain": [
       "<Figure size 432x288 with 2 Axes>"
      ]
     },
     "metadata": {
      "needs_background": "light"
     },
     "output_type": "display_data"
    }
   ],
   "source": [
    "print('\\033[1m' +'Classification report : '+ '\\033[0m\\n', classification_report(y_test, y_pred2))\n",
    "\n",
    "cm = confusion_matrix(y_pred2, y_test)\n",
    "print('\\033[1m' +'Confusion Matrix : '+ '\\033[0m')\n",
    "sns.heatmap(cm, cmap = 'OrRd',annot = True, fmt='d')\n",
    "plt.show()"
   ]
  },
  {
   "cell_type": "markdown",
   "id": "42dca8a9",
   "metadata": {},
   "source": [
    "# Evaluation -- KNeighborsClassifier"
   ]
  },
  {
   "cell_type": "code",
   "execution_count": 37,
   "id": "06ffc2ba",
   "metadata": {},
   "outputs": [
    {
     "name": "stdout",
     "output_type": "stream",
     "text": [
      "MAE: 3.2256754261800724\n",
      "MSE: 1.3178657148132193\n",
      "RMSE: 1.1479833251459794\n"
     ]
    }
   ],
   "source": [
    "from sklearn import metrics\n",
    "\n",
    "print('MAE:', metrics.mean_absolute_error(y_test,y_pred2))\n",
    "print('MSE:', metrics.mean_squared_error(y_test, y_pred2))\n",
    "print('RMSE:', np.sqrt(metrics.mean_squared_error(y_test, y_pred2)))"
   ]
  },
  {
   "cell_type": "code",
   "execution_count": 38,
   "id": "2723c1c1",
   "metadata": {},
   "outputs": [
    {
     "name": "stdout",
     "output_type": "stream",
     "text": [
      "Precision Score :  0.9777254137276467\n",
      "Recall Score :  0.9777832481998893\n",
      "f1_score :  0.9777206005898055\n"
     ]
    }
   ],
   "source": [
    "from sklearn.metrics import precision_score\n",
    "print(\"Precision Score : \",precision_score(y_test, y_pred2, average='weighted'))\n",
    "\n",
    "\n",
    "from sklearn.metrics import recall_score\n",
    "print(\"Recall Score : \",recall_score(y_test, y_pred2,average='weighted'))\n",
    "\n",
    "\n",
    "from sklearn.metrics import f1_score\n",
    "print(\"f1_score : \",f1_score(y_test, y_pred2,average='weighted'))"
   ]
  },
  {
   "cell_type": "markdown",
   "id": "d588566f",
   "metadata": {},
   "source": [
    "# Random Forest"
   ]
  },
  {
   "cell_type": "code",
   "execution_count": 39,
   "id": "c739d0c5",
   "metadata": {},
   "outputs": [
    {
     "name": "stdout",
     "output_type": "stream",
     "text": [
      "33.408369064331055 seconds\n"
     ]
    }
   ],
   "source": [
    "from sklearn.ensemble import RandomForestClassifier\n",
    "import time\n",
    "start_time = time.time()\n",
    "RandomForestClassifier = RandomForestClassifier(\n",
    "              bootstrap = True,\n",
    "              ccp_alpha = 0.0,\n",
    "              class_weight =  None,\n",
    "              criterion = 'entropy',\n",
    "              max_depth = None,\n",
    "              max_features = 'auto' ,\n",
    "              max_leaf_nodes = None,\n",
    "              max_samples = None,\n",
    "              min_impurity_decrease = 0.0,\n",
    "              min_samples_leaf = 1,\n",
    "              min_samples_split = 2,\n",
    "              min_weight_fraction_leaf = 0.0,\n",
    "              n_estimators = 100,\n",
    "              n_jobs = None,\n",
    "              oob_score = False,\n",
    "              random_state = None,\n",
    "              verbose = 0,\n",
    "              warm_start = False)\n",
    "RandomForestClassifier.fit(X_train, y_train)\n",
    "print (time.time() - start_time, \"seconds\")"
   ]
  },
  {
   "cell_type": "code",
   "execution_count": 40,
   "id": "8f8471c0",
   "metadata": {},
   "outputs": [],
   "source": [
    "y_pred3 = RandomForestClassifier.predict(X_test)"
   ]
  },
  {
   "cell_type": "code",
   "execution_count": 41,
   "id": "efabcbfd",
   "metadata": {},
   "outputs": [
    {
     "name": "stdout",
     "output_type": "stream",
     "text": [
      "Accuracy is: 97.42753400209244\n"
     ]
    }
   ],
   "source": [
    "from sklearn.metrics import accuracy_score\n",
    "accuracy = {accuracy_score(y_test, y_pred3)}\n",
    "print(f\"Accuracy is: {accuracy_score(y_test, y_pred3)* 100}\")"
   ]
  },
  {
   "cell_type": "code",
   "execution_count": 42,
   "id": "0c4aa718",
   "metadata": {},
   "outputs": [
    {
     "name": "stdout",
     "output_type": "stream",
     "text": [
      "\u001b[1mClassification report : \u001b[0m\n",
      "               precision    recall  f1-score   support\n",
      "\n",
      "           0       0.98      1.00      0.99     10705\n",
      "           1       0.98      0.95      0.96       357\n",
      "           2       0.96      0.93      0.94       367\n",
      "           3       0.96      0.93      0.94       362\n",
      "           4       0.96      0.93      0.95       357\n",
      "           5       0.96      0.90      0.93       388\n",
      "           6       0.97      0.95      0.96       416\n",
      "           7       0.93      0.89      0.91       324\n",
      "           8       0.94      0.90      0.92       333\n",
      "           9       0.97      0.92      0.95       350\n",
      "          10       0.99      0.90      0.94       376\n",
      "          11       0.96      0.98      0.97       408\n",
      "          12       0.97      0.97      0.97       363\n",
      "          13       0.98      0.95      0.96       366\n",
      "          14       0.95      0.92      0.94       463\n",
      "          15       0.98      0.88      0.93       314\n",
      "\n",
      "    accuracy                           0.97     16249\n",
      "   macro avg       0.96      0.93      0.95     16249\n",
      "weighted avg       0.97      0.97      0.97     16249\n",
      "\n",
      "\u001b[1mConfusion Matrix : \u001b[0m\n"
     ]
    },
    {
     "data": {
      "image/png": "[encoded data removed]",
      "text/plain": [
       "<Figure size 432x288 with 2 Axes>"
      ]
     },
     "metadata": {
      "needs_background": "light"
     },
     "output_type": "display_data"
    }
   ],
   "source": [
    "print('\\033[1m' +'Classification report : '+ '\\033[0m\\n', classification_report(y_test, y_pred3))\n",
    "\n",
    "cm = confusion_matrix(y_pred3, y_test)\n",
    "print('\\033[1m' +'Confusion Matrix : '+ '\\033[0m')\n",
    "sns.heatmap(cm, cmap = 'OrRd',annot = True, fmt='d')\n",
    "plt.show()"
   ]
  },
  {
   "cell_type": "markdown",
   "id": "e667eb72",
   "metadata": {},
   "source": [
    "# Evaluation -- Random Forest"
   ]
  },
  {
   "cell_type": "code",
   "execution_count": 43,
   "id": "e757d663",
   "metadata": {},
   "outputs": [
    {
     "name": "stdout",
     "output_type": "stream",
     "text": [
      "MAE: 4.764723983014339\n",
      "MSE: 1.6274232260446797\n",
      "RMSE: 1.2757049917769703\n"
     ]
    }
   ],
   "source": [
    "from sklearn import metrics\n",
    "\n",
    "print('MAE:', metrics.mean_absolute_error(y_test,y_pred3))\n",
    "print('MSE:', metrics.mean_squared_error(y_test, y_pred3))\n",
    "print('RMSE:', np.sqrt(metrics.mean_squared_error(y_test, y_pred3)))"
   ]
  },
  {
   "cell_type": "code",
   "execution_count": 44,
   "id": "870d2395",
   "metadata": {},
   "outputs": [
    {
     "name": "stdout",
     "output_type": "stream",
     "text": [
      "Precision Score :  0.974125481119408\n",
      "Recall Score :  0.9742753400209244\n",
      "f1_score :  0.9739512085145552\n"
     ]
    }
   ],
   "source": [
    "from sklearn.metrics import precision_score\n",
    "print(\"Precision Score : \",precision_score(y_test, y_pred3, average='weighted'))\n",
    "\n",
    "\n",
    "from sklearn.metrics import recall_score\n",
    "print(\"Recall Score : \",recall_score(y_test, y_pred3,average='weighted'))\n",
    "\n",
    "\n",
    "from sklearn.metrics import f1_score\n",
    "print(\"f1_score : \",f1_score(y_test, y_pred3,average='weighted'))"
   ]
  },
  {
   "cell_type": "markdown",
   "id": "c3892f2f",
   "metadata": {},
   "source": [
    "# ExtraTreesClassifier"
   ]
  },
  {
   "cell_type": "code",
   "execution_count": 45,
   "id": "f685eaad",
   "metadata": {},
   "outputs": [
    {
     "name": "stdout",
     "output_type": "stream",
     "text": [
      "23.467854022979736 seconds\n"
     ]
    }
   ],
   "source": [
    "from sklearn.ensemble import ExtraTreesClassifier\n",
    "import time\n",
    "start_time = time.time()\n",
    "extratree = ExtraTreesClassifier(bootstrap = False,\n",
    "             ccp_alpha = 0.0,\n",
    "             class_weight = None,\n",
    "             criterion = 'entropy',\n",
    "             max_depth = None,\n",
    "             max_features = 'auto',\n",
    "             max_leaf_nodes = None,\n",
    "             max_samples = None,\n",
    "             min_impurity_decrease = 0.0,\n",
    "             min_samples_leaf = 1,\n",
    "             min_samples_split = 2,\n",
    "             min_weight_fraction_leaf = 0.0,\n",
    "             n_estimators = 100,\n",
    "             n_jobs = None,\n",
    "             oob_score = False,\n",
    "             random_state = None,\n",
    "             verbose = 0,\n",
    "             warm_start = False)\n",
    "extratree.fit(X_train, y_train)\n",
    "print (time.time() - start_time, \"seconds\")"
   ]
  },
  {
   "cell_type": "code",
   "execution_count": 46,
   "id": "c9d25448",
   "metadata": {},
   "outputs": [],
   "source": [
    "y_pred5 = extratree.predict(X_test)"
   ]
  },
  {
   "cell_type": "code",
   "execution_count": 47,
   "id": "d2e38964",
   "metadata": {},
   "outputs": [
    {
     "name": "stdout",
     "output_type": "stream",
     "text": [
      "Accuracy is: 97.63062342297988\n"
     ]
    }
   ],
   "source": [
    "from sklearn.metrics import accuracy_score\n",
    "accuracy = {accuracy_score(y_test, y_pred5)}\n",
    "print(f\"Accuracy is: {accuracy_score(y_test, y_pred5)* 100}\")"
   ]
  },
  {
   "cell_type": "code",
   "execution_count": 48,
   "id": "e00fa1e8",
   "metadata": {},
   "outputs": [
    {
     "name": "stdout",
     "output_type": "stream",
     "text": [
      "\u001b[1mClassification report : \u001b[0m\n",
      "               precision    recall  f1-score   support\n",
      "\n",
      "           0       0.98      1.00      0.99     10705\n",
      "           1       0.99      0.95      0.97       357\n",
      "           2       0.97      0.94      0.95       367\n",
      "           3       0.97      0.95      0.96       362\n",
      "           4       0.99      0.94      0.96       357\n",
      "           5       0.99      0.91      0.94       388\n",
      "           6       0.98      0.96      0.97       416\n",
      "           7       0.94      0.91      0.92       324\n",
      "           8       0.96      0.90      0.93       333\n",
      "           9       0.97      0.91      0.94       350\n",
      "          10       0.99      0.90      0.94       376\n",
      "          11       0.97      0.98      0.97       408\n",
      "          12       0.98      0.98      0.98       363\n",
      "          13       0.99      0.95      0.97       366\n",
      "          14       0.96      0.93      0.95       463\n",
      "          15       0.98      0.89      0.93       314\n",
      "\n",
      "    accuracy                           0.98     16249\n",
      "   macro avg       0.97      0.94      0.95     16249\n",
      "weighted avg       0.98      0.98      0.98     16249\n",
      "\n",
      "\u001b[1mConfusion Matrix : \u001b[0m\n"
     ]
    },
    {
     "data": {
      "image/png": "[encoded data removed]",
      "text/plain": [
       "<Figure size 432x288 with 2 Axes>"
      ]
     },
     "metadata": {
      "needs_background": "light"
     },
     "output_type": "display_data"
    }
   ],
   "source": [
    "print('\\033[1m' +'Classification report : '+ '\\033[0m\\n', classification_report(y_test, y_pred5))\n",
    "\n",
    "cm = confusion_matrix(y_pred5, y_test)\n",
    "print('\\033[1m' +'Confusion Matrix : '+ '\\033[0m')\n",
    "sns.heatmap(cm, cmap = 'OrRd',annot = True, fmt='d')\n",
    "plt.show()"
   ]
  },
  {
   "cell_type": "markdown",
   "id": "ae482e90",
   "metadata": {},
   "source": [
    "# Evaluation -- ExtraTreesClassifier"
   ]
  },
  {
   "cell_type": "code",
   "execution_count": 49,
   "id": "007a7318",
   "metadata": {},
   "outputs": [
    {
     "name": "stdout",
     "output_type": "stream",
     "text": [
      "MAE: 4.6870576650870825\n",
      "MSE: 1.6418241122530617\n",
      "RMSE: 1.2813368457408307\n"
     ]
    }
   ],
   "source": [
    "from sklearn import metrics\n",
    "\n",
    "print('MAE:', metrics.mean_absolute_error(y_test,y_pred5))\n",
    "print('MSE:', metrics.mean_squared_error(y_test, y_pred5))\n",
    "print('RMSE:', np.sqrt(metrics.mean_squared_error(y_test, y_pred5)))"
   ]
  },
  {
   "cell_type": "code",
   "execution_count": 50,
   "id": "58a5a99b",
   "metadata": {},
   "outputs": [
    {
     "name": "stdout",
     "output_type": "stream",
     "text": [
      "Precision Score :  0.9763151274942068\n",
      "Recall Score :  0.9763062342297988\n",
      "f1_score :  0.976002541515282\n"
     ]
    }
   ],
   "source": [
    "from sklearn.metrics import precision_score\n",
    "print(\"Precision Score : \",precision_score(y_test, y_pred5, average='weighted'))\n",
    "\n",
    "\n",
    "from sklearn.metrics import recall_score\n",
    "print(\"Recall Score : \",recall_score(y_test, y_pred5,average='weighted'))\n",
    "\n",
    "\n",
    "from sklearn.metrics import f1_score\n",
    "print(\"f1_score : \",f1_score(y_test, y_pred5,average='weighted'))"
   ]
  },
  {
   "cell_type": "markdown",
   "id": "a7cc99db",
   "metadata": {},
   "source": [
    "# XGBoost"
   ]
  },
  {
   "cell_type": "code",
   "execution_count": 51,
   "id": "58b2e154",
   "metadata": {},
   "outputs": [
    {
     "name": "stderr",
     "output_type": "stream",
     "text": [
      "C:\\Users\\nafem\\anaconda3\\lib\\site-packages\\xgboost\\compat.py:36: FutureWarning: pandas.Int64Index is deprecated and will be removed from pandas in a future version. Use pandas.Index with the appropriate dtype instead.\n",
      "  from pandas import MultiIndex, Int64Index\n",
      "C:\\Users\\nafem\\anaconda3\\lib\\site-packages\\xgboost\\sklearn.py:1224: UserWarning: The use of label encoder in XGBClassifier is deprecated and will be removed in a future release. To remove this warning, do the following: 1) Pass option use_label_encoder=False when constructing XGBClassifier object; and 2) Encode your labels (y) as integers starting with 0, i.e. 0, 1, 2, ..., [num_class - 1].\n",
      "  warnings.warn(label_encoder_deprecation_msg, UserWarning)\n"
     ]
    },
    {
     "name": "stdout",
     "output_type": "stream",
     "text": [
      "[16:17:45] WARNING: C:\\Windows\\Temp\\abs_557yfx631l\\croots\\recipe\\xgboost-split_1659548953302\\work\\src\\learner.cc:1115: Starting in XGBoost 1.3.0, the default evaluation metric used with the objective 'multi:softprob' was changed from 'merror' to 'mlogloss'. Explicitly set eval_metric if you'd like to restore the old behavior.\n",
      "120.3704993724823 seconds\n"
     ]
    }
   ],
   "source": [
    "from xgboost import XGBClassifier\n",
    "import time\n",
    "start_time = time.time()\n",
    "xgb = XGBClassifier()\n",
    "xgb.fit(X_train, y_train)\n",
    "print (time.time() - start_time, \"seconds\")"
   ]
  },
  {
   "cell_type": "code",
   "execution_count": 52,
   "id": "9a8d1e5f",
   "metadata": {},
   "outputs": [],
   "source": [
    "y_pred4 = xgb.predict(X_test)"
   ]
  },
  {
   "cell_type": "code",
   "execution_count": 53,
   "id": "bb48a8c5",
   "metadata": {},
   "outputs": [
    {
     "name": "stdout",
     "output_type": "stream",
     "text": [
      "Accuracy is: 95.31663486983814\n"
     ]
    }
   ],
   "source": [
    "from sklearn.metrics import accuracy_score\n",
    "accuracy = {accuracy_score(y_test, y_pred4)}\n",
    "print(f\"Accuracy is: {accuracy_score(y_test, y_pred4)* 100}\")"
   ]
  },
  {
   "cell_type": "code",
   "execution_count": 54,
   "id": "9da8ce67",
   "metadata": {},
   "outputs": [
    {
     "name": "stdout",
     "output_type": "stream",
     "text": [
      "\u001b[1mClassification report : \u001b[0m\n",
      "               precision    recall  f1-score   support\n",
      "\n",
      "           0       0.98      0.99      0.99     10705\n",
      "           1       0.96      0.92      0.94       357\n",
      "           2       0.84      0.82      0.83       367\n",
      "           3       0.89      0.87      0.88       362\n",
      "           4       0.93      0.87      0.90       357\n",
      "           5       0.91      0.80      0.85       388\n",
      "           6       0.91      0.90      0.90       416\n",
      "           7       0.85      0.85      0.85       324\n",
      "           8       0.88      0.83      0.85       333\n",
      "           9       0.91      0.86      0.89       350\n",
      "          10       0.92      0.83      0.87       376\n",
      "          11       0.89      0.93      0.91       408\n",
      "          12       0.93      0.96      0.94       363\n",
      "          13       0.95      0.92      0.93       366\n",
      "          14       0.91      0.89      0.90       463\n",
      "          15       0.94      0.83      0.88       314\n",
      "\n",
      "    accuracy                           0.95     16249\n",
      "   macro avg       0.91      0.88      0.89     16249\n",
      "weighted avg       0.95      0.95      0.95     16249\n",
      "\n",
      "\u001b[1mConfusion Matrix : \u001b[0m\n"
     ]
    },
    {
     "data": {
      "image/png": "[encoded data removed]",
      "text/plain": [
       "<Figure size 432x288 with 2 Axes>"
      ]
     },
     "metadata": {
      "needs_background": "light"
     },
     "output_type": "display_data"
    }
   ],
   "source": [
    "print('\\033[1m' +'Classification report : '+ '\\033[0m\\n', classification_report(y_test, y_pred4))\n",
    "\n",
    "cm = confusion_matrix(y_pred4, y_test)\n",
    "print('\\033[1m' +'Confusion Matrix : '+ '\\033[0m')\n",
    "sns.heatmap(cm, cmap = 'OrRd',annot = True, fmt='d')\n",
    "plt.show()"
   ]
  },
  {
   "cell_type": "markdown",
   "id": "23dfd8e8",
   "metadata": {},
   "source": [
    "# Evaluation -- XGBoost"
   ]
  },
  {
   "cell_type": "code",
   "execution_count": 55,
   "id": "e226f6d5",
   "metadata": {},
   "outputs": [
    {
     "name": "stdout",
     "output_type": "stream",
     "text": [
      "MAE: 7.286479167948797\n",
      "MSE: 2.2698012185365255\n",
      "RMSE: 1.5065859479420767\n"
     ]
    }
   ],
   "source": [
    "from sklearn import metrics\n",
    "\n",
    "print('MAE:', metrics.mean_absolute_error(y_test,y_pred4))\n",
    "print('MSE:', metrics.mean_squared_error(y_test, y_pred4))\n",
    "print('RMSE:', np.sqrt(metrics.mean_squared_error(y_test, y_pred4)))"
   ]
  },
  {
   "cell_type": "code",
   "execution_count": 56,
   "id": "3d6b190f",
   "metadata": {},
   "outputs": [
    {
     "name": "stdout",
     "output_type": "stream",
     "text": [
      "Precision Score :  0.9524195988348096\n",
      "Recall Score :  0.9531663486983815\n",
      "f1_score :  0.9524379990525834\n"
     ]
    }
   ],
   "source": [
    "from sklearn.metrics import precision_score\n",
    "print(\"Precision Score : \",precision_score(y_test, y_pred4, average='weighted'))\n",
    "\n",
    "\n",
    "from sklearn.metrics import recall_score\n",
    "print(\"Recall Score : \",recall_score(y_test, y_pred4,average='weighted'))\n",
    "\n",
    "\n",
    "from sklearn.metrics import f1_score\n",
    "print(\"f1_score : \",f1_score(y_test, y_pred4,average='weighted'))"
   ]
  },
  {
   "cell_type": "code",
   "execution_count": null,
   "id": "e929a31d",
   "metadata": {},
   "outputs": [],
   "source": []
  },
  {
   "cell_type": "code",
   "execution_count": null,
   "id": "061d12d7",
   "metadata": {},
   "outputs": [],
   "source": []
  },
  {
   "cell_type": "code",
   "execution_count": null,
   "id": "fce816ca",
   "metadata": {},
   "outputs": [],
   "source": []
  }
 ],
 "metadata": {
  "kernelspec": {
   "display_name": "Python 3 (ipykernel)",
   "language": "python",
   "name": "python3"
  },
  "language_info": {
   "codemirror_mode": {
    "name": "ipython",
    "version": 3
   },
   "file_extension": ".py",
   "mimetype": "text/x-python",
   "name": "python",
   "nbconvert_exporter": "python",
   "pygments_lexer": "ipython3",
   "version": "3.9.12"
  }
 },
 "nbformat": 4,
 "nbformat_minor": 5
}
