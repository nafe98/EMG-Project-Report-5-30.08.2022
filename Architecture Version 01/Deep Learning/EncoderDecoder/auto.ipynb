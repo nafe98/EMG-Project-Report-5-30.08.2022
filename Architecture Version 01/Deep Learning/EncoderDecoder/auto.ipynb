{
 "cells": [
  {
   "cell_type": "markdown",
   "id": "a76f9c3f",
   "metadata": {},
   "source": [
    "# Importing Libraries"
   ]
  },
  {
   "cell_type": "code",
   "execution_count": 1,
   "id": "cb8d9727",
   "metadata": {},
   "outputs": [],
   "source": [
    "import numpy as np\n",
    "import pandas as pd\n",
    "import matplotlib.pyplot as plt\n",
    "import seaborn as sns\n",
    "from sklearn.model_selection import train_test_split\n",
    "from sklearn.metrics import confusion_matrix, f1_score, accuracy_score, classification_report"
   ]
  },
  {
   "cell_type": "markdown",
   "id": "576dc0b5",
   "metadata": {},
   "source": [
    "# Exploratory Data Analysis¶"
   ]
  },
  {
   "cell_type": "code",
   "execution_count": 2,
   "id": "c72bb47b",
   "metadata": {},
   "outputs": [
    {
     "data": {
      "text/html": [
       "<div>\n",
       "<style scoped>\n",
       "    .dataframe tbody tr th:only-of-type {\n",
       "        vertical-align: middle;\n",
       "    }\n",
       "\n",
       "    .dataframe tbody tr th {\n",
       "        vertical-align: top;\n",
       "    }\n",
       "\n",
       "    .dataframe thead th {\n",
       "        text-align: right;\n",
       "    }\n",
       "</style>\n",
       "<table border=\"1\" class=\"dataframe\">\n",
       "  <thead>\n",
       "    <tr style=\"text-align: right;\">\n",
       "      <th></th>\n",
       "      <th>Emg1</th>\n",
       "    </tr>\n",
       "  </thead>\n",
       "  <tbody>\n",
       "    <tr>\n",
       "      <th>156226</th>\n",
       "      <td>0.2100</td>\n",
       "    </tr>\n",
       "    <tr>\n",
       "      <th>444715</th>\n",
       "      <td>0.6714</td>\n",
       "    </tr>\n",
       "    <tr>\n",
       "      <th>399391</th>\n",
       "      <td>0.0781</td>\n",
       "    </tr>\n",
       "    <tr>\n",
       "      <th>88926</th>\n",
       "      <td>0.0024</td>\n",
       "    </tr>\n",
       "    <tr>\n",
       "      <th>422803</th>\n",
       "      <td>0.0024</td>\n",
       "    </tr>\n",
       "  </tbody>\n",
       "</table>\n",
       "</div>"
      ],
      "text/plain": [
       "          Emg1\n",
       "156226  0.2100\n",
       "444715  0.6714\n",
       "399391  0.0781\n",
       "88926   0.0024\n",
       "422803  0.0024"
      ]
     },
     "execution_count": 2,
     "metadata": {},
     "output_type": "execute_result"
    }
   ],
   "source": [
    "raw_data = pd.read_excel('EMG_1_Subject_1.xlsx')\n",
    "raw_data.sample(5)"
   ]
  },
  {
   "cell_type": "code",
   "execution_count": 3,
   "id": "a85e933c",
   "metadata": {},
   "outputs": [
    {
     "data": {
      "text/plain": [
       "(471483, 1)"
      ]
     },
     "execution_count": 3,
     "metadata": {},
     "output_type": "execute_result"
    }
   ],
   "source": [
    "raw_data.shape"
   ]
  },
  {
   "cell_type": "code",
   "execution_count": 4,
   "id": "e05e202f",
   "metadata": {},
   "outputs": [
    {
     "data": {
      "text/plain": [
       "Index(['Emg1'], dtype='object')"
      ]
     },
     "execution_count": 4,
     "metadata": {},
     "output_type": "execute_result"
    }
   ],
   "source": [
    "raw_data.columns"
   ]
  },
  {
   "cell_type": "code",
   "execution_count": 5,
   "id": "fde113c0",
   "metadata": {},
   "outputs": [
    {
     "name": "stdout",
     "output_type": "stream",
     "text": [
      "<class 'pandas.core.frame.DataFrame'>\n",
      "RangeIndex: 471483 entries, 0 to 471482\n",
      "Data columns (total 1 columns):\n",
      " #   Column  Non-Null Count   Dtype  \n",
      "---  ------  --------------   -----  \n",
      " 0   Emg1    471483 non-null  float64\n",
      "dtypes: float64(1)\n",
      "memory usage: 3.6 MB\n"
     ]
    }
   ],
   "source": [
    "raw_data.info()"
   ]
  },
  {
   "cell_type": "code",
   "execution_count": 6,
   "id": "0ae97d58",
   "metadata": {},
   "outputs": [
    {
     "data": {
      "text/html": [
       "<div>\n",
       "<style scoped>\n",
       "    .dataframe tbody tr th:only-of-type {\n",
       "        vertical-align: middle;\n",
       "    }\n",
       "\n",
       "    .dataframe tbody tr th {\n",
       "        vertical-align: top;\n",
       "    }\n",
       "\n",
       "    .dataframe thead th {\n",
       "        text-align: right;\n",
       "    }\n",
       "</style>\n",
       "<table border=\"1\" class=\"dataframe\">\n",
       "  <thead>\n",
       "    <tr style=\"text-align: right;\">\n",
       "      <th></th>\n",
       "      <th>Emg1</th>\n",
       "    </tr>\n",
       "  </thead>\n",
       "  <tbody>\n",
       "    <tr>\n",
       "      <th>count</th>\n",
       "      <td>471483.000000</td>\n",
       "    </tr>\n",
       "    <tr>\n",
       "      <th>mean</th>\n",
       "      <td>0.129657</td>\n",
       "    </tr>\n",
       "    <tr>\n",
       "      <th>std</th>\n",
       "      <td>0.286859</td>\n",
       "    </tr>\n",
       "    <tr>\n",
       "      <th>min</th>\n",
       "      <td>0.002400</td>\n",
       "    </tr>\n",
       "    <tr>\n",
       "      <th>25%</th>\n",
       "      <td>0.002400</td>\n",
       "    </tr>\n",
       "    <tr>\n",
       "      <th>50%</th>\n",
       "      <td>0.017100</td>\n",
       "    </tr>\n",
       "    <tr>\n",
       "      <th>75%</th>\n",
       "      <td>0.114700</td>\n",
       "    </tr>\n",
       "    <tr>\n",
       "      <th>max</th>\n",
       "      <td>4.665500</td>\n",
       "    </tr>\n",
       "  </tbody>\n",
       "</table>\n",
       "</div>"
      ],
      "text/plain": [
       "                Emg1\n",
       "count  471483.000000\n",
       "mean        0.129657\n",
       "std         0.286859\n",
       "min         0.002400\n",
       "25%         0.002400\n",
       "50%         0.017100\n",
       "75%         0.114700\n",
       "max         4.665500"
      ]
     },
     "execution_count": 6,
     "metadata": {},
     "output_type": "execute_result"
    }
   ],
   "source": [
    "raw_data.describe(include='all')"
   ]
  },
  {
   "cell_type": "markdown",
   "id": "559e95c3",
   "metadata": {},
   "source": [
    "# AutoEncoder"
   ]
  },
  {
   "cell_type": "markdown",
   "id": "c0f35819",
   "metadata": {},
   "source": [
    "# Scale data"
   ]
  },
  {
   "cell_type": "code",
   "execution_count": 7,
   "id": "9eb5791b",
   "metadata": {},
   "outputs": [],
   "source": [
    "from sklearn.datasets import make_classification\n",
    "from sklearn.preprocessing import MinMaxScaler\n",
    "from sklearn.model_selection import train_test_split\n",
    "from tensorflow.keras.models import Model\n",
    "from tensorflow.keras.layers import Input\n",
    "from tensorflow.keras.layers import Dense\n",
    "from tensorflow.keras.layers import LeakyReLU,ReLU\n",
    "from tensorflow.keras.layers import BatchNormalization\n",
    "from tensorflow.keras.utils import plot_model\n",
    "from matplotlib import pyplot\n",
    "from tensorflow.keras.models import load_model"
   ]
  },
  {
   "cell_type": "code",
   "execution_count": 14,
   "id": "a1168fed",
   "metadata": {},
   "outputs": [],
   "source": [
    "dataset = raw_data\n",
    "\n",
    "\n",
    "scaler = MinMaxScaler(feature_range=(0, 1)) #Also try QuantileTransformer\n",
    "dataset = scaler.fit_transform(dataset)"
   ]
  },
  {
   "cell_type": "code",
   "execution_count": 15,
   "id": "2132751a",
   "metadata": {},
   "outputs": [],
   "source": [
    "train_size = int(len(dataset) * 0.99)\n",
    "test_size = len(dataset) - train_size\n",
    "train, test = dataset[0:train_size,:], dataset[train_size:len(dataset),:]"
   ]
  },
  {
   "cell_type": "code",
   "execution_count": 17,
   "id": "4d90f5fb",
   "metadata": {},
   "outputs": [],
   "source": [
    "n_inputs = raw_data.shape[1]"
   ]
  },
  {
   "cell_type": "markdown",
   "id": "bf22f0ba",
   "metadata": {},
   "source": [
    "# AutoEncoder Architecture"
   ]
  },
  {
   "cell_type": "code",
   "execution_count": 18,
   "id": "d64be4e1",
   "metadata": {},
   "outputs": [],
   "source": [
    "# define encoder\n",
    "visible = Input(shape=(n_inputs,))"
   ]
  },
  {
   "cell_type": "markdown",
   "id": "ee6df3f5",
   "metadata": {},
   "source": [
    "### Encoder Layer"
   ]
  },
  {
   "cell_type": "code",
   "execution_count": 19,
   "id": "57619e8a",
   "metadata": {},
   "outputs": [],
   "source": [
    "# encoder level 1\n",
    "e = Dense(n_inputs*2, activation = 'relu')(visible)\n",
    "e = BatchNormalization()(e)"
   ]
  },
  {
   "cell_type": "markdown",
   "id": "e9b7c6e6",
   "metadata": {},
   "source": [
    "### Bottleneck Layer"
   ]
  },
  {
   "cell_type": "code",
   "execution_count": 20,
   "id": "17061a3b",
   "metadata": {},
   "outputs": [],
   "source": [
    "# bottleneck\n",
    "n_bottleneck = n_inputs\n",
    "bottleneck = Dense(n_bottleneck)(e)"
   ]
  },
  {
   "cell_type": "markdown",
   "id": "b43985b6",
   "metadata": {},
   "source": [
    "### Decoder Layer"
   ]
  },
  {
   "cell_type": "code",
   "execution_count": 21,
   "id": "5b23fbaf",
   "metadata": {},
   "outputs": [],
   "source": [
    "# decoder level 1\n",
    "d = Dense(n_inputs*2, activation = 'relu')(bottleneck)\n",
    "d = BatchNormalization()(d)"
   ]
  },
  {
   "cell_type": "code",
   "execution_count": 22,
   "id": "dffa7fd5",
   "metadata": {},
   "outputs": [],
   "source": [
    "# output layer\n",
    "output = Dense(n_inputs, activation='softmax')(d)"
   ]
  },
  {
   "cell_type": "code",
   "execution_count": 23,
   "id": "9ee59e7b",
   "metadata": {},
   "outputs": [],
   "source": [
    "# define autoencoder model\n",
    "model = Model(inputs=visible, outputs=output)"
   ]
  },
  {
   "cell_type": "markdown",
   "id": "0359421a",
   "metadata": {},
   "source": [
    "# Model Compilation"
   ]
  },
  {
   "cell_type": "code",
   "execution_count": 24,
   "id": "91a473f4",
   "metadata": {},
   "outputs": [],
   "source": [
    "# compile autoencoder model\n",
    "model.compile(optimizer='adam', loss='mse')"
   ]
  },
  {
   "cell_type": "code",
   "execution_count": 25,
   "id": "74114cc5",
   "metadata": {},
   "outputs": [
    {
     "data": {
      "image/png": "[encoded data removed]",
      "text/plain": [
       "<IPython.core.display.Image object>"
      ]
     },
     "execution_count": 25,
     "metadata": {},
     "output_type": "execute_result"
    }
   ],
   "source": [
    "# plot the autoencoder\n",
    "plot_model(model, 'autoencoder_compress.png', show_shapes=True)"
   ]
  },
  {
   "cell_type": "code",
   "execution_count": 27,
   "id": "5b2cc1a2",
   "metadata": {},
   "outputs": [
    {
     "name": "stdout",
     "output_type": "stream",
     "text": [
      "Epoch 1/20\n",
      "7294/7294 [==============================] - 10s 1ms/step - loss: 0.9503 - val_loss: 0.9166\n",
      "Epoch 2/20\n",
      "7294/7294 [==============================] - 9s 1ms/step - loss: 0.9503 - val_loss: 0.9166\n",
      "Epoch 3/20\n",
      "7294/7294 [==============================] - 10s 1ms/step - loss: 0.9503 - val_loss: 0.9166\n",
      "Epoch 4/20\n",
      "7294/7294 [==============================] - 10s 1ms/step - loss: 0.9503 - val_loss: 0.9166loss: 0.950 - ETA: 2s - lo - ETA: 0s - \n",
      "Epoch 5/20\n",
      "7294/7294 [==============================] - 9s 1ms/step - loss: 0.9503 - val_loss: 0.9166\n",
      "Epoch 6/20\n",
      "7294/7294 [==============================] - 9s 1ms/step - loss: 0.9503 - val_loss: 0.9166\n",
      "Epoch 7/20\n",
      "7294/7294 [==============================] - 9s 1ms/step - loss: 0.9503 - val_loss: 0.9166\n",
      "Epoch 8/20\n",
      "7294/7294 [==============================] - 9s 1ms/step - loss: 0.9503 - val_loss: 0.9166\n",
      "Epoch 9/20\n",
      "7294/7294 [==============================] - 9s 1ms/step - loss: 0.9503 - val_loss: 0.9166\n",
      "Epoch 10/20\n",
      "7294/7294 [==============================] - 9s 1ms/step - loss: 0.9503 - val_loss: 0.9166\n",
      "Epoch 11/20\n",
      "7294/7294 [==============================] - 10s 1ms/step - loss: 0.9503 - val_loss: 0.9166\n",
      "Epoch 12/20\n",
      "7294/7294 [==============================] - 9s 1ms/step - loss: 0.9503 - val_loss: 0.9166\n",
      "Epoch 13/20\n",
      "7294/7294 [==============================] - 10s 1ms/step - loss: 0.9503 - val_loss: 0.9166\n",
      "Epoch 14/20\n",
      "7294/7294 [==============================] - 9s 1ms/step - loss: 0.9503 - val_loss: 0.9166\n",
      "Epoch 15/20\n",
      "7294/7294 [==============================] - 9s 1ms/step - loss: 0.9503 - val_loss: 0.9166\n",
      "Epoch 16/20\n",
      "7294/7294 [==============================] - 9s 1ms/step - loss: 0.9503 - val_loss: 0.9166\n",
      "Epoch 17/20\n",
      "7294/7294 [==============================] - 10s 1ms/step - loss: 0.9503 - val_loss: 0.9166\n",
      "Epoch 18/20\n",
      "7294/7294 [==============================] - 9s 1ms/step - loss: 0.9503 - val_loss: 0.9166\n",
      "Epoch 19/20\n",
      "7294/7294 [==============================] - 9s 1ms/step - loss: 0.9503 - val_loss: 0.9166\n",
      "Epoch 20/20\n",
      "7294/7294 [==============================] - 9s 1ms/step - loss: 0.9503 - val_loss: 0.9166\n"
     ]
    }
   ],
   "source": [
    "# fit the autoencoder model to reconstruct input\n",
    "history = model.fit(train, train, epochs=20, batch_size=64,validation_data=(test,test))"
   ]
  },
  {
   "cell_type": "code",
   "execution_count": 28,
   "id": "358b3d20",
   "metadata": {},
   "outputs": [
    {
     "data": {
      "image/png": "[encoded data removed]",
      "text/plain": [
       "<Figure size 432x288 with 1 Axes>"
      ]
     },
     "metadata": {
      "needs_background": "light"
     },
     "output_type": "display_data"
    }
   ],
   "source": [
    "# plot loss\n",
    "pyplot.plot(history.history['loss'], label='train')\n",
    "pyplot.plot(history.history['val_loss'], label='test')\n",
    "pyplot.legend()\n",
    "pyplot.show()"
   ]
  },
  {
   "cell_type": "code",
   "execution_count": null,
   "id": "7e9811b0",
   "metadata": {},
   "outputs": [],
   "source": []
  }
 ],
 "metadata": {
  "kernelspec": {
   "display_name": "Python 3 (ipykernel)",
   "language": "python",
   "name": "python3"
  },
  "language_info": {
   "codemirror_mode": {
    "name": "ipython",
    "version": 3
   },
   "file_extension": ".py",
   "mimetype": "text/x-python",
   "name": "python",
   "nbconvert_exporter": "python",
   "pygments_lexer": "ipython3",
   "version": "3.8.12"
  }
 },
 "nbformat": 4,
 "nbformat_minor": 5
}
