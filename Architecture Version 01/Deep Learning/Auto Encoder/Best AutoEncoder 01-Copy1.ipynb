{
 "cells": [
  {
   "cell_type": "markdown",
   "id": "a76f9c3f",
   "metadata": {},
   "source": [
    "# Importing Libraries"
   ]
  },
  {
   "cell_type": "code",
   "execution_count": 1,
   "id": "cb8d9727",
   "metadata": {},
   "outputs": [],
   "source": [
    "import numpy as np\n",
    "import pandas as pd\n",
    "import matplotlib.pyplot as plt\n",
    "import seaborn as sns\n",
    "from sklearn.model_selection import train_test_split\n",
    "from sklearn.metrics import confusion_matrix, f1_score, accuracy_score, classification_report"
   ]
  },
  {
   "cell_type": "markdown",
   "id": "576dc0b5",
   "metadata": {},
   "source": [
    "# Exploratory Data Analysis¶"
   ]
  },
  {
   "cell_type": "code",
   "execution_count": 2,
   "id": "c72bb47b",
   "metadata": {},
   "outputs": [
    {
     "data": {
      "text/html": [
       "<div>\n",
       "<style scoped>\n",
       "    .dataframe tbody tr th:only-of-type {\n",
       "        vertical-align: middle;\n",
       "    }\n",
       "\n",
       "    .dataframe tbody tr th {\n",
       "        vertical-align: top;\n",
       "    }\n",
       "\n",
       "    .dataframe thead th {\n",
       "        text-align: right;\n",
       "    }\n",
       "</style>\n",
       "<table border=\"1\" class=\"dataframe\">\n",
       "  <thead>\n",
       "    <tr style=\"text-align: right;\">\n",
       "      <th></th>\n",
       "      <th>Emg1</th>\n",
       "      <th>Emg2</th>\n",
       "      <th>Emg3</th>\n",
       "      <th>Emg4</th>\n",
       "      <th>Emg5</th>\n",
       "      <th>Emg6</th>\n",
       "      <th>Emg7</th>\n",
       "      <th>Emg8</th>\n",
       "      <th>Emg9</th>\n",
       "      <th>Emg10</th>\n",
       "      <th>repetition</th>\n",
       "      <th>rerepetition</th>\n",
       "      <th>stimulus</th>\n",
       "      <th>restimulus</th>\n",
       "    </tr>\n",
       "  </thead>\n",
       "  <tbody>\n",
       "    <tr>\n",
       "      <th>312721</th>\n",
       "      <td>0.0537</td>\n",
       "      <td>0.0024</td>\n",
       "      <td>0.0024</td>\n",
       "      <td>0.0024</td>\n",
       "      <td>0.0024</td>\n",
       "      <td>0.0024</td>\n",
       "      <td>0.0195</td>\n",
       "      <td>0.1514</td>\n",
       "      <td>0.0024</td>\n",
       "      <td>0.0488</td>\n",
       "      <td>0</td>\n",
       "      <td>0</td>\n",
       "      <td>0</td>\n",
       "      <td>0</td>\n",
       "    </tr>\n",
       "    <tr>\n",
       "      <th>260792</th>\n",
       "      <td>0.7080</td>\n",
       "      <td>0.3467</td>\n",
       "      <td>0.2515</td>\n",
       "      <td>0.0562</td>\n",
       "      <td>0.0391</td>\n",
       "      <td>0.1318</td>\n",
       "      <td>0.7227</td>\n",
       "      <td>0.3906</td>\n",
       "      <td>0.2051</td>\n",
       "      <td>0.0659</td>\n",
       "      <td>8</td>\n",
       "      <td>8</td>\n",
       "      <td>2</td>\n",
       "      <td>2</td>\n",
       "    </tr>\n",
       "    <tr>\n",
       "      <th>121997</th>\n",
       "      <td>0.0024</td>\n",
       "      <td>0.0024</td>\n",
       "      <td>0.0024</td>\n",
       "      <td>0.0024</td>\n",
       "      <td>0.0024</td>\n",
       "      <td>0.0024</td>\n",
       "      <td>0.0562</td>\n",
       "      <td>0.0635</td>\n",
       "      <td>0.0024</td>\n",
       "      <td>0.0098</td>\n",
       "      <td>5</td>\n",
       "      <td>0</td>\n",
       "      <td>3</td>\n",
       "      <td>3</td>\n",
       "    </tr>\n",
       "    <tr>\n",
       "      <th>234378</th>\n",
       "      <td>0.0879</td>\n",
       "      <td>0.0366</td>\n",
       "      <td>0.0024</td>\n",
       "      <td>0.0024</td>\n",
       "      <td>0.0024</td>\n",
       "      <td>0.0098</td>\n",
       "      <td>0.2856</td>\n",
       "      <td>0.3589</td>\n",
       "      <td>0.0024</td>\n",
       "      <td>0.2148</td>\n",
       "      <td>9</td>\n",
       "      <td>0</td>\n",
       "      <td>16</td>\n",
       "      <td>16</td>\n",
       "    </tr>\n",
       "    <tr>\n",
       "      <th>370371</th>\n",
       "      <td>0.0024</td>\n",
       "      <td>0.0024</td>\n",
       "      <td>0.0024</td>\n",
       "      <td>0.0024</td>\n",
       "      <td>0.0024</td>\n",
       "      <td>0.0024</td>\n",
       "      <td>0.0635</td>\n",
       "      <td>0.1099</td>\n",
       "      <td>0.2075</td>\n",
       "      <td>0.0439</td>\n",
       "      <td>0</td>\n",
       "      <td>0</td>\n",
       "      <td>0</td>\n",
       "      <td>0</td>\n",
       "    </tr>\n",
       "  </tbody>\n",
       "</table>\n",
       "</div>"
      ],
      "text/plain": [
       "          Emg1    Emg2    Emg3    Emg4    Emg5    Emg6    Emg7    Emg8  \\\n",
       "312721  0.0537  0.0024  0.0024  0.0024  0.0024  0.0024  0.0195  0.1514   \n",
       "260792  0.7080  0.3467  0.2515  0.0562  0.0391  0.1318  0.7227  0.3906   \n",
       "121997  0.0024  0.0024  0.0024  0.0024  0.0024  0.0024  0.0562  0.0635   \n",
       "234378  0.0879  0.0366  0.0024  0.0024  0.0024  0.0098  0.2856  0.3589   \n",
       "370371  0.0024  0.0024  0.0024  0.0024  0.0024  0.0024  0.0635  0.1099   \n",
       "\n",
       "          Emg9   Emg10  repetition  rerepetition  stimulus  restimulus  \n",
       "312721  0.0024  0.0488           0             0         0           0  \n",
       "260792  0.2051  0.0659           8             8         2           2  \n",
       "121997  0.0024  0.0098           5             0         3           3  \n",
       "234378  0.0024  0.2148           9             0        16          16  \n",
       "370371  0.2075  0.0439           0             0         0           0  "
      ]
     },
     "execution_count": 2,
     "metadata": {},
     "output_type": "execute_result"
    }
   ],
   "source": [
    "raw_data = pd.read_excel('Dataset 1 Patient 1.xlsx')\n",
    "raw_data.sample(5)"
   ]
  },
  {
   "cell_type": "code",
   "execution_count": 3,
   "id": "a85e933c",
   "metadata": {},
   "outputs": [
    {
     "data": {
      "text/plain": [
       "(471483, 14)"
      ]
     },
     "execution_count": 3,
     "metadata": {},
     "output_type": "execute_result"
    }
   ],
   "source": [
    "raw_data.shape"
   ]
  },
  {
   "cell_type": "code",
   "execution_count": 4,
   "id": "e05e202f",
   "metadata": {},
   "outputs": [
    {
     "data": {
      "text/plain": [
       "Index(['Emg1', 'Emg2', 'Emg3', 'Emg4', 'Emg5', 'Emg6', 'Emg7', 'Emg8', 'Emg9',\n",
       "       'Emg10', 'repetition', 'rerepetition', 'stimulus', 'restimulus'],\n",
       "      dtype='object')"
      ]
     },
     "execution_count": 4,
     "metadata": {},
     "output_type": "execute_result"
    }
   ],
   "source": [
    "raw_data.columns"
   ]
  },
  {
   "cell_type": "code",
   "execution_count": 5,
   "id": "fde113c0",
   "metadata": {},
   "outputs": [
    {
     "name": "stdout",
     "output_type": "stream",
     "text": [
      "<class 'pandas.core.frame.DataFrame'>\n",
      "RangeIndex: 471483 entries, 0 to 471482\n",
      "Data columns (total 14 columns):\n",
      " #   Column        Non-Null Count   Dtype  \n",
      "---  ------        --------------   -----  \n",
      " 0   Emg1          471483 non-null  float64\n",
      " 1   Emg2          471483 non-null  float64\n",
      " 2   Emg3          471483 non-null  float64\n",
      " 3   Emg4          471483 non-null  float64\n",
      " 4   Emg5          471483 non-null  float64\n",
      " 5   Emg6          471483 non-null  float64\n",
      " 6   Emg7          471483 non-null  float64\n",
      " 7   Emg8          471483 non-null  float64\n",
      " 8   Emg9          471483 non-null  float64\n",
      " 9   Emg10         471483 non-null  float64\n",
      " 10  repetition    471483 non-null  int64  \n",
      " 11  rerepetition  471483 non-null  int64  \n",
      " 12  stimulus      471483 non-null  int64  \n",
      " 13  restimulus    471483 non-null  int64  \n",
      "dtypes: float64(10), int64(4)\n",
      "memory usage: 50.4 MB\n"
     ]
    }
   ],
   "source": [
    "raw_data.info()"
   ]
  },
  {
   "cell_type": "code",
   "execution_count": 6,
   "id": "0ae97d58",
   "metadata": {},
   "outputs": [
    {
     "data": {
      "text/html": [
       "<div>\n",
       "<style scoped>\n",
       "    .dataframe tbody tr th:only-of-type {\n",
       "        vertical-align: middle;\n",
       "    }\n",
       "\n",
       "    .dataframe tbody tr th {\n",
       "        vertical-align: top;\n",
       "    }\n",
       "\n",
       "    .dataframe thead th {\n",
       "        text-align: right;\n",
       "    }\n",
       "</style>\n",
       "<table border=\"1\" class=\"dataframe\">\n",
       "  <thead>\n",
       "    <tr style=\"text-align: right;\">\n",
       "      <th></th>\n",
       "      <th>Emg1</th>\n",
       "      <th>Emg2</th>\n",
       "      <th>Emg3</th>\n",
       "      <th>Emg4</th>\n",
       "      <th>Emg5</th>\n",
       "      <th>Emg6</th>\n",
       "      <th>Emg7</th>\n",
       "      <th>Emg8</th>\n",
       "      <th>Emg9</th>\n",
       "      <th>Emg10</th>\n",
       "      <th>repetition</th>\n",
       "      <th>rerepetition</th>\n",
       "      <th>stimulus</th>\n",
       "      <th>restimulus</th>\n",
       "    </tr>\n",
       "  </thead>\n",
       "  <tbody>\n",
       "    <tr>\n",
       "      <th>count</th>\n",
       "      <td>471483.000000</td>\n",
       "      <td>471483.000000</td>\n",
       "      <td>471483.000000</td>\n",
       "      <td>471483.000000</td>\n",
       "      <td>471483.000000</td>\n",
       "      <td>471483.000000</td>\n",
       "      <td>471483.000000</td>\n",
       "      <td>471483.000000</td>\n",
       "      <td>471483.000000</td>\n",
       "      <td>471483.000000</td>\n",
       "      <td>471483.000000</td>\n",
       "      <td>471483.000000</td>\n",
       "      <td>471483.000000</td>\n",
       "      <td>471483.000000</td>\n",
       "    </tr>\n",
       "    <tr>\n",
       "      <th>mean</th>\n",
       "      <td>0.129657</td>\n",
       "      <td>0.122672</td>\n",
       "      <td>0.123409</td>\n",
       "      <td>0.044321</td>\n",
       "      <td>0.012722</td>\n",
       "      <td>0.014612</td>\n",
       "      <td>0.221796</td>\n",
       "      <td>0.233414</td>\n",
       "      <td>0.107259</td>\n",
       "      <td>0.072334</td>\n",
       "      <td>3.136047</td>\n",
       "      <td>2.113255</td>\n",
       "      <td>5.562892</td>\n",
       "      <td>4.570513</td>\n",
       "    </tr>\n",
       "    <tr>\n",
       "      <th>std</th>\n",
       "      <td>0.286859</td>\n",
       "      <td>0.322911</td>\n",
       "      <td>0.337717</td>\n",
       "      <td>0.167680</td>\n",
       "      <td>0.032359</td>\n",
       "      <td>0.042109</td>\n",
       "      <td>0.476014</td>\n",
       "      <td>0.353467</td>\n",
       "      <td>0.233386</td>\n",
       "      <td>0.156993</td>\n",
       "      <td>3.480664</td>\n",
       "      <td>3.212682</td>\n",
       "      <td>6.575838</td>\n",
       "      <td>6.427040</td>\n",
       "    </tr>\n",
       "    <tr>\n",
       "      <th>min</th>\n",
       "      <td>0.002400</td>\n",
       "      <td>0.000000</td>\n",
       "      <td>0.002400</td>\n",
       "      <td>0.000000</td>\n",
       "      <td>0.002400</td>\n",
       "      <td>0.000000</td>\n",
       "      <td>0.002400</td>\n",
       "      <td>0.002400</td>\n",
       "      <td>0.000000</td>\n",
       "      <td>0.002400</td>\n",
       "      <td>0.000000</td>\n",
       "      <td>0.000000</td>\n",
       "      <td>0.000000</td>\n",
       "      <td>0.000000</td>\n",
       "    </tr>\n",
       "    <tr>\n",
       "      <th>25%</th>\n",
       "      <td>0.002400</td>\n",
       "      <td>0.002400</td>\n",
       "      <td>0.002400</td>\n",
       "      <td>0.002400</td>\n",
       "      <td>0.002400</td>\n",
       "      <td>0.002400</td>\n",
       "      <td>0.012200</td>\n",
       "      <td>0.063500</td>\n",
       "      <td>0.002400</td>\n",
       "      <td>0.009800</td>\n",
       "      <td>0.000000</td>\n",
       "      <td>0.000000</td>\n",
       "      <td>0.000000</td>\n",
       "      <td>0.000000</td>\n",
       "    </tr>\n",
       "    <tr>\n",
       "      <th>50%</th>\n",
       "      <td>0.017100</td>\n",
       "      <td>0.002400</td>\n",
       "      <td>0.002400</td>\n",
       "      <td>0.002400</td>\n",
       "      <td>0.002400</td>\n",
       "      <td>0.002400</td>\n",
       "      <td>0.051300</td>\n",
       "      <td>0.112300</td>\n",
       "      <td>0.007300</td>\n",
       "      <td>0.039100</td>\n",
       "      <td>2.000000</td>\n",
       "      <td>0.000000</td>\n",
       "      <td>3.000000</td>\n",
       "      <td>0.000000</td>\n",
       "    </tr>\n",
       "    <tr>\n",
       "      <th>75%</th>\n",
       "      <td>0.114700</td>\n",
       "      <td>0.046400</td>\n",
       "      <td>0.058600</td>\n",
       "      <td>0.007300</td>\n",
       "      <td>0.002400</td>\n",
       "      <td>0.002400</td>\n",
       "      <td>0.190400</td>\n",
       "      <td>0.244100</td>\n",
       "      <td>0.136700</td>\n",
       "      <td>0.065900</td>\n",
       "      <td>6.000000</td>\n",
       "      <td>4.000000</td>\n",
       "      <td>10.000000</td>\n",
       "      <td>9.000000</td>\n",
       "    </tr>\n",
       "    <tr>\n",
       "      <th>max</th>\n",
       "      <td>4.665500</td>\n",
       "      <td>4.663100</td>\n",
       "      <td>4.658200</td>\n",
       "      <td>4.663100</td>\n",
       "      <td>0.876500</td>\n",
       "      <td>1.484400</td>\n",
       "      <td>4.663100</td>\n",
       "      <td>4.665500</td>\n",
       "      <td>4.660600</td>\n",
       "      <td>4.628900</td>\n",
       "      <td>10.000000</td>\n",
       "      <td>10.000000</td>\n",
       "      <td>23.000000</td>\n",
       "      <td>23.000000</td>\n",
       "    </tr>\n",
       "  </tbody>\n",
       "</table>\n",
       "</div>"
      ],
      "text/plain": [
       "                Emg1           Emg2           Emg3           Emg4  \\\n",
       "count  471483.000000  471483.000000  471483.000000  471483.000000   \n",
       "mean        0.129657       0.122672       0.123409       0.044321   \n",
       "std         0.286859       0.322911       0.337717       0.167680   \n",
       "min         0.002400       0.000000       0.002400       0.000000   \n",
       "25%         0.002400       0.002400       0.002400       0.002400   \n",
       "50%         0.017100       0.002400       0.002400       0.002400   \n",
       "75%         0.114700       0.046400       0.058600       0.007300   \n",
       "max         4.665500       4.663100       4.658200       4.663100   \n",
       "\n",
       "                Emg5           Emg6           Emg7           Emg8  \\\n",
       "count  471483.000000  471483.000000  471483.000000  471483.000000   \n",
       "mean        0.012722       0.014612       0.221796       0.233414   \n",
       "std         0.032359       0.042109       0.476014       0.353467   \n",
       "min         0.002400       0.000000       0.002400       0.002400   \n",
       "25%         0.002400       0.002400       0.012200       0.063500   \n",
       "50%         0.002400       0.002400       0.051300       0.112300   \n",
       "75%         0.002400       0.002400       0.190400       0.244100   \n",
       "max         0.876500       1.484400       4.663100       4.665500   \n",
       "\n",
       "                Emg9          Emg10     repetition   rerepetition  \\\n",
       "count  471483.000000  471483.000000  471483.000000  471483.000000   \n",
       "mean        0.107259       0.072334       3.136047       2.113255   \n",
       "std         0.233386       0.156993       3.480664       3.212682   \n",
       "min         0.000000       0.002400       0.000000       0.000000   \n",
       "25%         0.002400       0.009800       0.000000       0.000000   \n",
       "50%         0.007300       0.039100       2.000000       0.000000   \n",
       "75%         0.136700       0.065900       6.000000       4.000000   \n",
       "max         4.660600       4.628900      10.000000      10.000000   \n",
       "\n",
       "            stimulus     restimulus  \n",
       "count  471483.000000  471483.000000  \n",
       "mean        5.562892       4.570513  \n",
       "std         6.575838       6.427040  \n",
       "min         0.000000       0.000000  \n",
       "25%         0.000000       0.000000  \n",
       "50%         3.000000       0.000000  \n",
       "75%        10.000000       9.000000  \n",
       "max        23.000000      23.000000  "
      ]
     },
     "execution_count": 6,
     "metadata": {},
     "output_type": "execute_result"
    }
   ],
   "source": [
    "raw_data.describe(include='all')"
   ]
  },
  {
   "cell_type": "code",
   "execution_count": 7,
   "id": "071b96e6",
   "metadata": {},
   "outputs": [
    {
     "name": "stdout",
     "output_type": "stream",
     "text": [
      "Unique Dependent values and their counts :\n",
      "0     202625\n",
      "2      15538\n",
      "12     15532\n",
      "8      15531\n",
      "7      15518\n",
      "4      15516\n",
      "11     15514\n",
      "5      15492\n",
      "9      15492\n",
      "10     15477\n",
      "1      15476\n",
      "3      15469\n",
      "6      15469\n",
      "14     10361\n",
      "13     10360\n",
      "17     10346\n",
      "15     10334\n",
      "16     10320\n",
      "18      5210\n",
      "20      5202\n",
      "19      5189\n",
      "21      5185\n",
      "23      5166\n",
      "22      5161\n",
      "Name: stimulus, dtype: int64\n"
     ]
    }
   ],
   "source": [
    "print(\"Unique Dependent values and their counts :\")\n",
    "print(raw_data[\"stimulus\"].value_counts())"
   ]
  },
  {
   "cell_type": "code",
   "execution_count": 8,
   "id": "50a0f9be",
   "metadata": {},
   "outputs": [
    {
     "data": {
      "text/plain": [
       "Text(0, 0.5, 'Frequency')"
      ]
     },
     "execution_count": 8,
     "metadata": {},
     "output_type": "execute_result"
    },
    {
     "data": {
      "image/png": "[encoded data removed]",
      "text/plain": [
       "<Figure size 432x288 with 1 Axes>"
      ]
     },
     "metadata": {
      "needs_background": "light"
     },
     "output_type": "display_data"
    }
   ],
   "source": [
    "count_classes = pd.value_counts(raw_data['stimulus'], sort = True)\n",
    "\n",
    "count_classes.plot(kind = 'bar', rot=0)\n",
    "\n",
    "plt.title(\"stimulus Class Distribution\")\n",
    "\n",
    "plt.xlabel(\"Class\")\n",
    "\n",
    "plt.ylabel(\"Frequency\")"
   ]
  },
  {
   "cell_type": "markdown",
   "id": "275440c4",
   "metadata": {},
   "source": [
    "# Data Cleaning and Exploratory Data Analysis with New Data"
   ]
  },
  {
   "cell_type": "code",
   "execution_count": 9,
   "id": "e8ed6471",
   "metadata": {},
   "outputs": [],
   "source": [
    "index_names = raw_data[ (raw_data['stimulus'] != raw_data['restimulus'])].index\n",
    "raw_data.drop(index_names, inplace = True)"
   ]
  },
  {
   "cell_type": "code",
   "execution_count": 10,
   "id": "395d42c1",
   "metadata": {},
   "outputs": [],
   "source": [
    "index_names = raw_data[ (raw_data['repetition'] != raw_data['rerepetition'])].index\n",
    "raw_data.drop(index_names, inplace = True)"
   ]
  },
  {
   "cell_type": "code",
   "execution_count": 11,
   "id": "5ccb8950",
   "metadata": {},
   "outputs": [
    {
     "data": {
      "text/html": [
       "<div>\n",
       "<style scoped>\n",
       "    .dataframe tbody tr th:only-of-type {\n",
       "        vertical-align: middle;\n",
       "    }\n",
       "\n",
       "    .dataframe tbody tr th {\n",
       "        vertical-align: top;\n",
       "    }\n",
       "\n",
       "    .dataframe thead th {\n",
       "        text-align: right;\n",
       "    }\n",
       "</style>\n",
       "<table border=\"1\" class=\"dataframe\">\n",
       "  <thead>\n",
       "    <tr style=\"text-align: right;\">\n",
       "      <th></th>\n",
       "      <th>Emg1</th>\n",
       "      <th>Emg2</th>\n",
       "      <th>Emg3</th>\n",
       "      <th>Emg4</th>\n",
       "      <th>Emg5</th>\n",
       "      <th>Emg6</th>\n",
       "      <th>Emg7</th>\n",
       "      <th>Emg8</th>\n",
       "      <th>Emg9</th>\n",
       "      <th>Emg10</th>\n",
       "      <th>repetition</th>\n",
       "      <th>rerepetition</th>\n",
       "      <th>stimulus</th>\n",
       "      <th>restimulus</th>\n",
       "    </tr>\n",
       "  </thead>\n",
       "  <tbody>\n",
       "    <tr>\n",
       "      <th>192892</th>\n",
       "      <td>0.0562</td>\n",
       "      <td>0.8740</td>\n",
       "      <td>0.0610</td>\n",
       "      <td>0.0195</td>\n",
       "      <td>0.0024</td>\n",
       "      <td>0.0024</td>\n",
       "      <td>0.5127</td>\n",
       "      <td>0.1196</td>\n",
       "      <td>0.3662</td>\n",
       "      <td>0.0586</td>\n",
       "      <td>10</td>\n",
       "      <td>10</td>\n",
       "      <td>11</td>\n",
       "      <td>11</td>\n",
       "    </tr>\n",
       "    <tr>\n",
       "      <th>298980</th>\n",
       "      <td>0.0171</td>\n",
       "      <td>0.0024</td>\n",
       "      <td>0.0024</td>\n",
       "      <td>0.0024</td>\n",
       "      <td>0.0024</td>\n",
       "      <td>0.0024</td>\n",
       "      <td>0.0171</td>\n",
       "      <td>0.0806</td>\n",
       "      <td>0.0024</td>\n",
       "      <td>0.0488</td>\n",
       "      <td>0</td>\n",
       "      <td>0</td>\n",
       "      <td>0</td>\n",
       "      <td>0</td>\n",
       "    </tr>\n",
       "    <tr>\n",
       "      <th>188464</th>\n",
       "      <td>0.0024</td>\n",
       "      <td>0.0024</td>\n",
       "      <td>0.0024</td>\n",
       "      <td>0.0024</td>\n",
       "      <td>0.0024</td>\n",
       "      <td>0.0024</td>\n",
       "      <td>0.0171</td>\n",
       "      <td>0.0073</td>\n",
       "      <td>0.0024</td>\n",
       "      <td>0.0562</td>\n",
       "      <td>0</td>\n",
       "      <td>0</td>\n",
       "      <td>0</td>\n",
       "      <td>0</td>\n",
       "    </tr>\n",
       "    <tr>\n",
       "      <th>424986</th>\n",
       "      <td>0.0073</td>\n",
       "      <td>0.0024</td>\n",
       "      <td>0.0024</td>\n",
       "      <td>0.0024</td>\n",
       "      <td>0.0024</td>\n",
       "      <td>0.0024</td>\n",
       "      <td>0.0586</td>\n",
       "      <td>0.1538</td>\n",
       "      <td>0.1001</td>\n",
       "      <td>0.0024</td>\n",
       "      <td>0</td>\n",
       "      <td>0</td>\n",
       "      <td>0</td>\n",
       "      <td>0</td>\n",
       "    </tr>\n",
       "    <tr>\n",
       "      <th>316339</th>\n",
       "      <td>0.0024</td>\n",
       "      <td>0.0024</td>\n",
       "      <td>0.0024</td>\n",
       "      <td>0.0024</td>\n",
       "      <td>0.0024</td>\n",
       "      <td>0.0024</td>\n",
       "      <td>0.0220</td>\n",
       "      <td>0.0757</td>\n",
       "      <td>0.0024</td>\n",
       "      <td>0.0244</td>\n",
       "      <td>0</td>\n",
       "      <td>0</td>\n",
       "      <td>0</td>\n",
       "      <td>0</td>\n",
       "    </tr>\n",
       "  </tbody>\n",
       "</table>\n",
       "</div>"
      ],
      "text/plain": [
       "          Emg1    Emg2    Emg3    Emg4    Emg5    Emg6    Emg7    Emg8  \\\n",
       "192892  0.0562  0.8740  0.0610  0.0195  0.0024  0.0024  0.5127  0.1196   \n",
       "298980  0.0171  0.0024  0.0024  0.0024  0.0024  0.0024  0.0171  0.0806   \n",
       "188464  0.0024  0.0024  0.0024  0.0024  0.0024  0.0024  0.0171  0.0073   \n",
       "424986  0.0073  0.0024  0.0024  0.0024  0.0024  0.0024  0.0586  0.1538   \n",
       "316339  0.0024  0.0024  0.0024  0.0024  0.0024  0.0024  0.0220  0.0757   \n",
       "\n",
       "          Emg9   Emg10  repetition  rerepetition  stimulus  restimulus  \n",
       "192892  0.3662  0.0586          10            10        11          11  \n",
       "298980  0.0024  0.0488           0             0         0           0  \n",
       "188464  0.0024  0.0562           0             0         0           0  \n",
       "424986  0.1001  0.0024           0             0         0           0  \n",
       "316339  0.0024  0.0244           0             0         0           0  "
      ]
     },
     "execution_count": 11,
     "metadata": {},
     "output_type": "execute_result"
    }
   ],
   "source": [
    "raw_data.sample(5)"
   ]
  },
  {
   "cell_type": "code",
   "execution_count": 12,
   "id": "ab84cf47",
   "metadata": {},
   "outputs": [
    {
     "data": {
      "text/plain": [
       "(378535, 14)"
      ]
     },
     "execution_count": 12,
     "metadata": {},
     "output_type": "execute_result"
    }
   ],
   "source": [
    "raw_data.shape"
   ]
  },
  {
   "cell_type": "code",
   "execution_count": 13,
   "id": "fcb24936",
   "metadata": {},
   "outputs": [
    {
     "name": "stdout",
     "output_type": "stream",
     "text": [
      "<class 'pandas.core.frame.DataFrame'>\n",
      "Int64Index: 378535 entries, 0 to 471482\n",
      "Data columns (total 14 columns):\n",
      " #   Column        Non-Null Count   Dtype  \n",
      "---  ------        --------------   -----  \n",
      " 0   Emg1          378535 non-null  float64\n",
      " 1   Emg2          378535 non-null  float64\n",
      " 2   Emg3          378535 non-null  float64\n",
      " 3   Emg4          378535 non-null  float64\n",
      " 4   Emg5          378535 non-null  float64\n",
      " 5   Emg6          378535 non-null  float64\n",
      " 6   Emg7          378535 non-null  float64\n",
      " 7   Emg8          378535 non-null  float64\n",
      " 8   Emg9          378535 non-null  float64\n",
      " 9   Emg10         378535 non-null  float64\n",
      " 10  repetition    378535 non-null  int64  \n",
      " 11  rerepetition  378535 non-null  int64  \n",
      " 12  stimulus      378535 non-null  int64  \n",
      " 13  restimulus    378535 non-null  int64  \n",
      "dtypes: float64(10), int64(4)\n",
      "memory usage: 43.3 MB\n"
     ]
    }
   ],
   "source": [
    "raw_data.info()"
   ]
  },
  {
   "cell_type": "code",
   "execution_count": 14,
   "id": "8ada4ef1",
   "metadata": {},
   "outputs": [
    {
     "name": "stdout",
     "output_type": "stream",
     "text": [
      "Emg1            False\n",
      "Emg2            False\n",
      "Emg3            False\n",
      "Emg4            False\n",
      "Emg5            False\n",
      "Emg6            False\n",
      "Emg7            False\n",
      "Emg8            False\n",
      "Emg9            False\n",
      "Emg10           False\n",
      "repetition      False\n",
      "rerepetition    False\n",
      "stimulus        False\n",
      "restimulus      False\n",
      "dtype: bool\n"
     ]
    }
   ],
   "source": [
    "print(raw_data.isnull().any())"
   ]
  },
  {
   "cell_type": "code",
   "execution_count": 15,
   "id": "138ec425",
   "metadata": {},
   "outputs": [],
   "source": [
    "X = raw_data.iloc[:,0:10]\n",
    "y = raw_data.stimulus"
   ]
  },
  {
   "cell_type": "code",
   "execution_count": 16,
   "id": "9c1574d6",
   "metadata": {},
   "outputs": [],
   "source": [
    "# Splitting data for training and testing\n",
    "X_train, X_test, y_train, y_test = train_test_split(X, y, test_size = 0.2, random_state = 39)"
   ]
  },
  {
   "cell_type": "markdown",
   "id": "559e95c3",
   "metadata": {},
   "source": [
    "# AutoEncoder"
   ]
  },
  {
   "cell_type": "markdown",
   "id": "c0f35819",
   "metadata": {},
   "source": [
    "# Scale data"
   ]
  },
  {
   "cell_type": "code",
   "execution_count": 163,
   "id": "9eb5791b",
   "metadata": {},
   "outputs": [],
   "source": [
    "from sklearn.datasets import make_classification\n",
    "from sklearn.preprocessing import MinMaxScaler\n",
    "from sklearn.model_selection import train_test_split\n",
    "from tensorflow.keras.models import Model\n",
    "from tensorflow.keras.layers import Input\n",
    "from tensorflow.keras.layers import Dense\n",
    "from tensorflow.keras.layers import LeakyReLU,ReLU\n",
    "from tensorflow.keras.layers import BatchNormalization\n",
    "from tensorflow.keras.utils import plot_model\n",
    "from matplotlib import pyplot\n",
    "from tensorflow.keras.models import load_model"
   ]
  },
  {
   "cell_type": "code",
   "execution_count": 164,
   "id": "e33e634f",
   "metadata": {},
   "outputs": [],
   "source": [
    "t = MinMaxScaler()\n",
    "t.fit(X_train)\n",
    "X_train = t.transform(X_train)\n",
    "X_test = t.transform(X_test)"
   ]
  },
  {
   "cell_type": "code",
   "execution_count": 165,
   "id": "4d90f5fb",
   "metadata": {},
   "outputs": [],
   "source": [
    "n_inputs = X.shape[1]"
   ]
  },
  {
   "cell_type": "code",
   "execution_count": 166,
   "id": "84531636",
   "metadata": {},
   "outputs": [
    {
     "data": {
      "text/plain": [
       "10"
      ]
     },
     "execution_count": 166,
     "metadata": {},
     "output_type": "execute_result"
    }
   ],
   "source": [
    "X.shape[1]"
   ]
  },
  {
   "cell_type": "code",
   "execution_count": 167,
   "id": "d64be4e1",
   "metadata": {},
   "outputs": [],
   "source": [
    "# define encoder\n",
    "visible = Input(shape=(n_inputs,))"
   ]
  },
  {
   "cell_type": "code",
   "execution_count": 168,
   "id": "57619e8a",
   "metadata": {},
   "outputs": [],
   "source": [
    "# encoder level 1\n",
    "e = Dense(10, activation = 'relu')(visible)\n",
    "e = BatchNormalization()(e)"
   ]
  },
  {
   "cell_type": "code",
   "execution_count": 169,
   "id": "17061a3b",
   "metadata": {},
   "outputs": [],
   "source": [
    "# bottleneck\n",
    "n_bottleneck = n_inputs\n",
    "bottleneck = Dense(n_bottleneck)(e)"
   ]
  },
  {
   "cell_type": "code",
   "execution_count": 171,
   "id": "5b23fbaf",
   "metadata": {},
   "outputs": [],
   "source": [
    "# decoder level 2\n",
    "d = Dense(10,activation = 'relu')(bottleneck)\n",
    "d = BatchNormalization()(d)"
   ]
  },
  {
   "cell_type": "code",
   "execution_count": 172,
   "id": "dffa7fd5",
   "metadata": {},
   "outputs": [],
   "source": [
    "# output layer\n",
    "output = Dense(n_inputs, activation='softmax')(d)"
   ]
  },
  {
   "cell_type": "code",
   "execution_count": 173,
   "id": "9ee59e7b",
   "metadata": {},
   "outputs": [],
   "source": [
    "# define autoencoder model\n",
    "model = Model(inputs=visible, outputs=output)"
   ]
  },
  {
   "cell_type": "code",
   "execution_count": 174,
   "id": "91a473f4",
   "metadata": {},
   "outputs": [],
   "source": [
    "# compile autoencoder model\n",
    "model.compile(optimizer='adam', loss='mse')"
   ]
  },
  {
   "cell_type": "code",
   "execution_count": 175,
   "id": "74114cc5",
   "metadata": {},
   "outputs": [
    {
     "name": "stdout",
     "output_type": "stream",
     "text": [
      "You must install pydot (`pip install pydot`) and install graphviz (see instructions at https://graphviz.gitlab.io/download/) for plot_model/model_to_dot to work.\n"
     ]
    }
   ],
   "source": [
    "# plot the autoencoder\n",
    "plot_model(model, 'autoencoder_compress.png', show_shapes=True)"
   ]
  },
  {
   "cell_type": "code",
   "execution_count": 176,
   "id": "5b2cc1a2",
   "metadata": {},
   "outputs": [
    {
     "name": "stdout",
     "output_type": "stream",
     "text": [
      "Epoch 1/200\n",
      "76/76 [==============================] - 1s 7ms/step - loss: 0.0116 - val_loss: 0.0096\n",
      "Epoch 2/200\n",
      "76/76 [==============================] - 0s 4ms/step - loss: 0.0090 - val_loss: 0.0094\n",
      "Epoch 3/200\n",
      "76/76 [==============================] - 0s 4ms/step - loss: 0.0085 - val_loss: 0.0092\n",
      "Epoch 4/200\n",
      "76/76 [==============================] - 0s 4ms/step - loss: 0.0082 - val_loss: 0.0090\n",
      "Epoch 5/200\n",
      "76/76 [==============================] - 0s 4ms/step - loss: 0.0080 - val_loss: 0.0087\n",
      "Epoch 6/200\n",
      "76/76 [==============================] - 0s 4ms/step - loss: 0.0078 - val_loss: 0.0084\n",
      "Epoch 7/200\n",
      "76/76 [==============================] - 0s 4ms/step - loss: 0.0077 - val_loss: 0.0081\n",
      "Epoch 8/200\n",
      "76/76 [==============================] - 0s 4ms/step - loss: 0.0076 - val_loss: 0.0080\n",
      "Epoch 9/200\n",
      "76/76 [==============================] - 0s 4ms/step - loss: 0.0075 - val_loss: 0.0079\n",
      "Epoch 10/200\n",
      "76/76 [==============================] - 0s 4ms/step - loss: 0.0075 - val_loss: 0.0077\n",
      "Epoch 11/200\n",
      "76/76 [==============================] - 0s 4ms/step - loss: 0.0075 - val_loss: 0.0076\n",
      "Epoch 12/200\n",
      "76/76 [==============================] - 0s 4ms/step - loss: 0.0075 - val_loss: 0.0076\n",
      "Epoch 13/200\n",
      "76/76 [==============================] - 0s 4ms/step - loss: 0.0074 - val_loss: 0.0076\n",
      "Epoch 14/200\n",
      "76/76 [==============================] - 0s 4ms/step - loss: 0.0074 - val_loss: 0.0075\n",
      "Epoch 15/200\n",
      "76/76 [==============================] - 0s 5ms/step - loss: 0.0074 - val_loss: 0.0075\n",
      "Epoch 16/200\n",
      "76/76 [==============================] - 0s 4ms/step - loss: 0.0074 - val_loss: 0.0075\n",
      "Epoch 17/200\n",
      "76/76 [==============================] - 0s 4ms/step - loss: 0.0074 - val_loss: 0.0075\n",
      "Epoch 18/200\n",
      "76/76 [==============================] - 0s 4ms/step - loss: 0.0074 - val_loss: 0.0075\n",
      "Epoch 19/200\n",
      "76/76 [==============================] - 0s 4ms/step - loss: 0.0074 - val_loss: 0.0075\n",
      "Epoch 20/200\n",
      "76/76 [==============================] - 0s 4ms/step - loss: 0.0074 - val_loss: 0.0074\n",
      "Epoch 21/200\n",
      "76/76 [==============================] - 0s 4ms/step - loss: 0.0074 - val_loss: 0.0074\n",
      "Epoch 22/200\n",
      "76/76 [==============================] - 0s 4ms/step - loss: 0.0074 - val_loss: 0.0074\n",
      "Epoch 23/200\n",
      "76/76 [==============================] - 0s 4ms/step - loss: 0.0074 - val_loss: 0.0074\n",
      "Epoch 24/200\n",
      "76/76 [==============================] - 0s 4ms/step - loss: 0.0074 - val_loss: 0.0074\n",
      "Epoch 25/200\n",
      "76/76 [==============================] - 0s 4ms/step - loss: 0.0074 - val_loss: 0.0074\n",
      "Epoch 26/200\n",
      "76/76 [==============================] - 0s 4ms/step - loss: 0.0074 - val_loss: 0.0074\n",
      "Epoch 27/200\n",
      "76/76 [==============================] - 0s 4ms/step - loss: 0.0074 - val_loss: 0.0074\n",
      "Epoch 28/200\n",
      "76/76 [==============================] - 0s 4ms/step - loss: 0.0074 - val_loss: 0.0074\n",
      "Epoch 29/200\n",
      "76/76 [==============================] - 0s 4ms/step - loss: 0.0074 - val_loss: 0.0074\n",
      "Epoch 30/200\n",
      "76/76 [==============================] - 0s 4ms/step - loss: 0.0074 - val_loss: 0.0074\n",
      "Epoch 31/200\n",
      "76/76 [==============================] - 0s 4ms/step - loss: 0.0073 - val_loss: 0.0074\n",
      "Epoch 32/200\n",
      "76/76 [==============================] - 0s 4ms/step - loss: 0.0073 - val_loss: 0.0074\n",
      "Epoch 33/200\n",
      "76/76 [==============================] - 0s 4ms/step - loss: 0.0073 - val_loss: 0.0074\n",
      "Epoch 34/200\n",
      "76/76 [==============================] - 0s 5ms/step - loss: 0.0073 - val_loss: 0.0074\n",
      "Epoch 35/200\n",
      "76/76 [==============================] - 0s 4ms/step - loss: 0.0073 - val_loss: 0.0074\n",
      "Epoch 36/200\n",
      "76/76 [==============================] - 0s 4ms/step - loss: 0.0073 - val_loss: 0.0074\n",
      "Epoch 37/200\n",
      "76/76 [==============================] - 0s 4ms/step - loss: 0.0073 - val_loss: 0.0074\n",
      "Epoch 38/200\n",
      "76/76 [==============================] - 0s 5ms/step - loss: 0.0073 - val_loss: 0.0074\n",
      "Epoch 39/200\n",
      "76/76 [==============================] - 0s 4ms/step - loss: 0.0073 - val_loss: 0.0074\n",
      "Epoch 40/200\n",
      "76/76 [==============================] - 0s 4ms/step - loss: 0.0073 - val_loss: 0.0074\n",
      "Epoch 41/200\n",
      "76/76 [==============================] - 0s 4ms/step - loss: 0.0073 - val_loss: 0.0074\n",
      "Epoch 42/200\n",
      "76/76 [==============================] - 0s 4ms/step - loss: 0.0073 - val_loss: 0.0074\n",
      "Epoch 43/200\n",
      "76/76 [==============================] - 0s 4ms/step - loss: 0.0073 - val_loss: 0.0074\n",
      "Epoch 44/200\n",
      "76/76 [==============================] - 0s 4ms/step - loss: 0.0073 - val_loss: 0.0074\n",
      "Epoch 45/200\n",
      "76/76 [==============================] - 0s 5ms/step - loss: 0.0073 - val_loss: 0.0074\n",
      "Epoch 46/200\n",
      "76/76 [==============================] - 0s 5ms/step - loss: 0.0073 - val_loss: 0.0074\n",
      "Epoch 47/200\n",
      "76/76 [==============================] - 0s 4ms/step - loss: 0.0073 - val_loss: 0.0074\n",
      "Epoch 48/200\n",
      "76/76 [==============================] - 0s 4ms/step - loss: 0.0073 - val_loss: 0.0074\n",
      "Epoch 49/200\n",
      "76/76 [==============================] - 0s 5ms/step - loss: 0.0073 - val_loss: 0.0074\n",
      "Epoch 50/200\n",
      "76/76 [==============================] - 0s 4ms/step - loss: 0.0073 - val_loss: 0.0074\n",
      "Epoch 51/200\n",
      "76/76 [==============================] - 0s 4ms/step - loss: 0.0073 - val_loss: 0.0074\n",
      "Epoch 52/200\n",
      "76/76 [==============================] - 0s 4ms/step - loss: 0.0073 - val_loss: 0.0074\n",
      "Epoch 53/200\n",
      "76/76 [==============================] - 0s 4ms/step - loss: 0.0073 - val_loss: 0.0074\n",
      "Epoch 54/200\n",
      "76/76 [==============================] - 0s 4ms/step - loss: 0.0073 - val_loss: 0.0074\n",
      "Epoch 55/200\n",
      "76/76 [==============================] - 0s 5ms/step - loss: 0.0073 - val_loss: 0.0074\n",
      "Epoch 56/200\n",
      "76/76 [==============================] - 0s 4ms/step - loss: 0.0073 - val_loss: 0.0074\n",
      "Epoch 57/200\n",
      "76/76 [==============================] - 0s 5ms/step - loss: 0.0073 - val_loss: 0.0074\n",
      "Epoch 58/200\n",
      "76/76 [==============================] - 0s 4ms/step - loss: 0.0073 - val_loss: 0.0074\n",
      "Epoch 59/200\n",
      "76/76 [==============================] - 0s 5ms/step - loss: 0.0073 - val_loss: 0.0074\n",
      "Epoch 60/200\n",
      "76/76 [==============================] - 0s 4ms/step - loss: 0.0073 - val_loss: 0.0074\n",
      "Epoch 61/200\n",
      "76/76 [==============================] - 0s 5ms/step - loss: 0.0073 - val_loss: 0.0074\n",
      "Epoch 62/200\n",
      "76/76 [==============================] - 0s 5ms/step - loss: 0.0073 - val_loss: 0.0074\n",
      "Epoch 63/200\n",
      "76/76 [==============================] - 0s 5ms/step - loss: 0.0073 - val_loss: 0.0074\n",
      "Epoch 64/200\n",
      "76/76 [==============================] - 0s 4ms/step - loss: 0.0073 - val_loss: 0.0074\n",
      "Epoch 65/200\n",
      "76/76 [==============================] - 0s 4ms/step - loss: 0.0073 - val_loss: 0.0074\n",
      "Epoch 66/200\n",
      "76/76 [==============================] - 0s 4ms/step - loss: 0.0073 - val_loss: 0.0074\n",
      "Epoch 67/200\n",
      "76/76 [==============================] - 0s 4ms/step - loss: 0.0073 - val_loss: 0.0074\n",
      "Epoch 68/200\n",
      "76/76 [==============================] - 0s 4ms/step - loss: 0.0073 - val_loss: 0.0074\n",
      "Epoch 69/200\n",
      "76/76 [==============================] - 0s 4ms/step - loss: 0.0073 - val_loss: 0.0074\n",
      "Epoch 70/200\n",
      "76/76 [==============================] - 0s 4ms/step - loss: 0.0073 - val_loss: 0.0074\n",
      "Epoch 71/200\n",
      "76/76 [==============================] - 0s 4ms/step - loss: 0.0073 - val_loss: 0.0074\n",
      "Epoch 72/200\n",
      "76/76 [==============================] - 0s 4ms/step - loss: 0.0073 - val_loss: 0.0074\n",
      "Epoch 73/200\n",
      "76/76 [==============================] - 0s 4ms/step - loss: 0.0073 - val_loss: 0.0074\n",
      "Epoch 74/200\n",
      "76/76 [==============================] - 0s 4ms/step - loss: 0.0073 - val_loss: 0.0074\n",
      "Epoch 75/200\n",
      "76/76 [==============================] - 0s 4ms/step - loss: 0.0073 - val_loss: 0.0074\n",
      "Epoch 76/200\n",
      "76/76 [==============================] - 0s 4ms/step - loss: 0.0073 - val_loss: 0.0074\n",
      "Epoch 77/200\n",
      "76/76 [==============================] - 0s 4ms/step - loss: 0.0073 - val_loss: 0.0074\n",
      "Epoch 78/200\n",
      "76/76 [==============================] - 0s 4ms/step - loss: 0.0073 - val_loss: 0.0074\n",
      "Epoch 79/200\n",
      "76/76 [==============================] - 0s 4ms/step - loss: 0.0073 - val_loss: 0.0074\n",
      "Epoch 80/200\n",
      "76/76 [==============================] - 0s 4ms/step - loss: 0.0073 - val_loss: 0.0074\n",
      "Epoch 81/200\n",
      "76/76 [==============================] - 0s 4ms/step - loss: 0.0073 - val_loss: 0.0074\n",
      "Epoch 82/200\n",
      "76/76 [==============================] - 0s 4ms/step - loss: 0.0073 - val_loss: 0.0074\n",
      "Epoch 83/200\n"
     ]
    },
    {
     "name": "stdout",
     "output_type": "stream",
     "text": [
      "76/76 [==============================] - 0s 4ms/step - loss: 0.0073 - val_loss: 0.0074\n",
      "Epoch 84/200\n",
      "76/76 [==============================] - 0s 4ms/step - loss: 0.0073 - val_loss: 0.0074\n",
      "Epoch 85/200\n",
      "76/76 [==============================] - 0s 5ms/step - loss: 0.0073 - val_loss: 0.0074\n",
      "Epoch 86/200\n",
      "76/76 [==============================] - 0s 4ms/step - loss: 0.0073 - val_loss: 0.0074\n",
      "Epoch 87/200\n",
      "76/76 [==============================] - 0s 4ms/step - loss: 0.0073 - val_loss: 0.0074\n",
      "Epoch 88/200\n",
      "76/76 [==============================] - 0s 4ms/step - loss: 0.0073 - val_loss: 0.0074\n",
      "Epoch 89/200\n",
      "76/76 [==============================] - 0s 4ms/step - loss: 0.0073 - val_loss: 0.0074\n",
      "Epoch 90/200\n",
      "76/76 [==============================] - 0s 4ms/step - loss: 0.0073 - val_loss: 0.0074\n",
      "Epoch 91/200\n",
      "76/76 [==============================] - 0s 5ms/step - loss: 0.0073 - val_loss: 0.0074\n",
      "Epoch 92/200\n",
      "76/76 [==============================] - 0s 4ms/step - loss: 0.0073 - val_loss: 0.0074\n",
      "Epoch 93/200\n",
      "76/76 [==============================] - 0s 4ms/step - loss: 0.0073 - val_loss: 0.0074\n",
      "Epoch 94/200\n",
      "76/76 [==============================] - 0s 4ms/step - loss: 0.0073 - val_loss: 0.0074\n",
      "Epoch 95/200\n",
      "76/76 [==============================] - 0s 4ms/step - loss: 0.0073 - val_loss: 0.0073\n",
      "Epoch 96/200\n",
      "76/76 [==============================] - 0s 4ms/step - loss: 0.0073 - val_loss: 0.0073\n",
      "Epoch 97/200\n",
      "76/76 [==============================] - 0s 4ms/step - loss: 0.0073 - val_loss: 0.0073\n",
      "Epoch 98/200\n",
      "76/76 [==============================] - 0s 4ms/step - loss: 0.0073 - val_loss: 0.0073\n",
      "Epoch 99/200\n",
      "76/76 [==============================] - 0s 4ms/step - loss: 0.0073 - val_loss: 0.0074\n",
      "Epoch 100/200\n",
      "76/76 [==============================] - 0s 4ms/step - loss: 0.0073 - val_loss: 0.0073\n",
      "Epoch 101/200\n",
      "76/76 [==============================] - 0s 4ms/step - loss: 0.0073 - val_loss: 0.0074\n",
      "Epoch 102/200\n",
      "76/76 [==============================] - 0s 4ms/step - loss: 0.0073 - val_loss: 0.0073\n",
      "Epoch 103/200\n",
      "76/76 [==============================] - 0s 4ms/step - loss: 0.0073 - val_loss: 0.0073\n",
      "Epoch 104/200\n",
      "76/76 [==============================] - 0s 4ms/step - loss: 0.0073 - val_loss: 0.0073\n",
      "Epoch 105/200\n",
      "76/76 [==============================] - 0s 4ms/step - loss: 0.0073 - val_loss: 0.0073\n",
      "Epoch 106/200\n",
      "76/76 [==============================] - 0s 4ms/step - loss: 0.0073 - val_loss: 0.0073\n",
      "Epoch 107/200\n",
      "76/76 [==============================] - 0s 4ms/step - loss: 0.0073 - val_loss: 0.0073\n",
      "Epoch 108/200\n",
      "76/76 [==============================] - 0s 4ms/step - loss: 0.0073 - val_loss: 0.0073\n",
      "Epoch 109/200\n",
      "76/76 [==============================] - 0s 4ms/step - loss: 0.0073 - val_loss: 0.0073\n",
      "Epoch 110/200\n",
      "76/76 [==============================] - 0s 4ms/step - loss: 0.0073 - val_loss: 0.0073\n",
      "Epoch 111/200\n",
      "76/76 [==============================] - 0s 4ms/step - loss: 0.0073 - val_loss: 0.0073\n",
      "Epoch 112/200\n",
      "76/76 [==============================] - 0s 4ms/step - loss: 0.0073 - val_loss: 0.0073\n",
      "Epoch 113/200\n",
      "76/76 [==============================] - 0s 4ms/step - loss: 0.0073 - val_loss: 0.0073\n",
      "Epoch 114/200\n",
      "76/76 [==============================] - 0s 4ms/step - loss: 0.0073 - val_loss: 0.0074\n",
      "Epoch 115/200\n",
      "76/76 [==============================] - 0s 4ms/step - loss: 0.0073 - val_loss: 0.0073\n",
      "Epoch 116/200\n",
      "76/76 [==============================] - 0s 4ms/step - loss: 0.0073 - val_loss: 0.0074\n",
      "Epoch 117/200\n",
      "76/76 [==============================] - 0s 4ms/step - loss: 0.0073 - val_loss: 0.0074\n",
      "Epoch 118/200\n",
      "76/76 [==============================] - 0s 4ms/step - loss: 0.0073 - val_loss: 0.0073\n",
      "Epoch 119/200\n",
      "76/76 [==============================] - 0s 4ms/step - loss: 0.0073 - val_loss: 0.0073\n",
      "Epoch 120/200\n",
      "76/76 [==============================] - 0s 4ms/step - loss: 0.0073 - val_loss: 0.0073\n",
      "Epoch 121/200\n",
      "76/76 [==============================] - 0s 4ms/step - loss: 0.0073 - val_loss: 0.0073\n",
      "Epoch 122/200\n",
      "76/76 [==============================] - 0s 4ms/step - loss: 0.0073 - val_loss: 0.0074\n",
      "Epoch 123/200\n",
      "76/76 [==============================] - 0s 4ms/step - loss: 0.0073 - val_loss: 0.0073\n",
      "Epoch 124/200\n",
      "76/76 [==============================] - 0s 4ms/step - loss: 0.0073 - val_loss: 0.0073\n",
      "Epoch 125/200\n",
      "76/76 [==============================] - 0s 4ms/step - loss: 0.0073 - val_loss: 0.0073\n",
      "Epoch 126/200\n",
      "76/76 [==============================] - 0s 4ms/step - loss: 0.0073 - val_loss: 0.0074\n",
      "Epoch 127/200\n",
      "76/76 [==============================] - 0s 4ms/step - loss: 0.0073 - val_loss: 0.0073\n",
      "Epoch 128/200\n",
      "76/76 [==============================] - 0s 4ms/step - loss: 0.0073 - val_loss: 0.0073\n",
      "Epoch 129/200\n",
      "76/76 [==============================] - 0s 4ms/step - loss: 0.0073 - val_loss: 0.0074\n",
      "Epoch 130/200\n",
      "76/76 [==============================] - 0s 4ms/step - loss: 0.0073 - val_loss: 0.0073\n",
      "Epoch 131/200\n",
      "76/76 [==============================] - 0s 4ms/step - loss: 0.0073 - val_loss: 0.0074\n",
      "Epoch 132/200\n",
      "76/76 [==============================] - 0s 4ms/step - loss: 0.0073 - val_loss: 0.0074\n",
      "Epoch 133/200\n",
      "76/76 [==============================] - 0s 4ms/step - loss: 0.0073 - val_loss: 0.0074\n",
      "Epoch 134/200\n",
      "76/76 [==============================] - 0s 4ms/step - loss: 0.0073 - val_loss: 0.0073\n",
      "Epoch 135/200\n",
      "76/76 [==============================] - 0s 4ms/step - loss: 0.0073 - val_loss: 0.0074\n",
      "Epoch 136/200\n",
      "76/76 [==============================] - 0s 4ms/step - loss: 0.0073 - val_loss: 0.0074\n",
      "Epoch 137/200\n",
      "76/76 [==============================] - 0s 4ms/step - loss: 0.0073 - val_loss: 0.0074\n",
      "Epoch 138/200\n",
      "76/76 [==============================] - 0s 4ms/step - loss: 0.0073 - val_loss: 0.0073\n",
      "Epoch 139/200\n",
      "76/76 [==============================] - 0s 4ms/step - loss: 0.0073 - val_loss: 0.0074\n",
      "Epoch 140/200\n",
      "76/76 [==============================] - 0s 4ms/step - loss: 0.0073 - val_loss: 0.0073\n",
      "Epoch 141/200\n",
      "76/76 [==============================] - 0s 4ms/step - loss: 0.0073 - val_loss: 0.0074\n",
      "Epoch 142/200\n",
      "76/76 [==============================] - 0s 4ms/step - loss: 0.0073 - val_loss: 0.0073\n",
      "Epoch 143/200\n",
      "76/76 [==============================] - 0s 4ms/step - loss: 0.0073 - val_loss: 0.0073\n",
      "Epoch 144/200\n",
      "76/76 [==============================] - 0s 4ms/step - loss: 0.0073 - val_loss: 0.0073\n",
      "Epoch 145/200\n",
      "76/76 [==============================] - 0s 4ms/step - loss: 0.0073 - val_loss: 0.0073\n",
      "Epoch 146/200\n",
      "76/76 [==============================] - 0s 4ms/step - loss: 0.0073 - val_loss: 0.0073\n",
      "Epoch 147/200\n",
      "76/76 [==============================] - 0s 4ms/step - loss: 0.0073 - val_loss: 0.0073\n",
      "Epoch 148/200\n",
      "76/76 [==============================] - 0s 4ms/step - loss: 0.0073 - val_loss: 0.0073\n",
      "Epoch 149/200\n",
      "76/76 [==============================] - 0s 4ms/step - loss: 0.0073 - val_loss: 0.0073\n",
      "Epoch 150/200\n",
      "76/76 [==============================] - 0s 4ms/step - loss: 0.0073 - val_loss: 0.0073\n",
      "Epoch 151/200\n",
      "76/76 [==============================] - 0s 4ms/step - loss: 0.0073 - val_loss: 0.0073\n",
      "Epoch 152/200\n",
      "76/76 [==============================] - 0s 4ms/step - loss: 0.0073 - val_loss: 0.0073\n",
      "Epoch 153/200\n",
      "76/76 [==============================] - 0s 4ms/step - loss: 0.0073 - val_loss: 0.0074\n",
      "Epoch 154/200\n",
      "76/76 [==============================] - 0s 4ms/step - loss: 0.0073 - val_loss: 0.0074\n",
      "Epoch 155/200\n",
      "76/76 [==============================] - 0s 4ms/step - loss: 0.0073 - val_loss: 0.0074\n",
      "Epoch 156/200\n",
      "76/76 [==============================] - 0s 4ms/step - loss: 0.0073 - val_loss: 0.0074\n",
      "Epoch 157/200\n",
      "76/76 [==============================] - 0s 4ms/step - loss: 0.0073 - val_loss: 0.0074\n",
      "Epoch 158/200\n",
      "76/76 [==============================] - 0s 4ms/step - loss: 0.0073 - val_loss: 0.0073\n",
      "Epoch 159/200\n",
      "76/76 [==============================] - 0s 4ms/step - loss: 0.0073 - val_loss: 0.0073\n",
      "Epoch 160/200\n",
      "76/76 [==============================] - 0s 4ms/step - loss: 0.0073 - val_loss: 0.0073\n",
      "Epoch 161/200\n",
      "76/76 [==============================] - 0s 4ms/step - loss: 0.0073 - val_loss: 0.0073\n",
      "Epoch 162/200\n",
      "76/76 [==============================] - 0s 4ms/step - loss: 0.0073 - val_loss: 0.0073\n",
      "Epoch 163/200\n",
      "76/76 [==============================] - 0s 4ms/step - loss: 0.0073 - val_loss: 0.0073\n",
      "Epoch 164/200\n",
      "76/76 [==============================] - 0s 4ms/step - loss: 0.0073 - val_loss: 0.0073\n",
      "Epoch 165/200\n",
      "76/76 [==============================] - 0s 4ms/step - loss: 0.0073 - val_loss: 0.0073\n",
      "Epoch 166/200\n",
      "76/76 [==============================] - 0s 4ms/step - loss: 0.0073 - val_loss: 0.0073\n",
      "Epoch 167/200\n",
      "76/76 [==============================] - 0s 4ms/step - loss: 0.0073 - val_loss: 0.0073\n",
      "Epoch 168/200\n",
      "76/76 [==============================] - 0s 4ms/step - loss: 0.0073 - val_loss: 0.0073\n",
      "Epoch 169/200\n",
      "76/76 [==============================] - 0s 4ms/step - loss: 0.0073 - val_loss: 0.0073\n",
      "Epoch 170/200\n",
      "76/76 [==============================] - 0s 4ms/step - loss: 0.0073 - val_loss: 0.0073\n",
      "Epoch 171/200\n",
      "76/76 [==============================] - 0s 4ms/step - loss: 0.0073 - val_loss: 0.0073\n",
      "Epoch 172/200\n",
      "76/76 [==============================] - 0s 4ms/step - loss: 0.0073 - val_loss: 0.0073\n",
      "Epoch 173/200\n",
      "76/76 [==============================] - 0s 4ms/step - loss: 0.0073 - val_loss: 0.0073\n",
      "Epoch 174/200\n",
      "76/76 [==============================] - 0s 4ms/step - loss: 0.0073 - val_loss: 0.0073\n",
      "Epoch 175/200\n",
      "76/76 [==============================] - 0s 4ms/step - loss: 0.0073 - val_loss: 0.0073\n",
      "Epoch 176/200\n",
      "76/76 [==============================] - 0s 4ms/step - loss: 0.0073 - val_loss: 0.0073\n",
      "Epoch 177/200\n",
      "76/76 [==============================] - 0s 4ms/step - loss: 0.0073 - val_loss: 0.0073\n",
      "Epoch 178/200\n",
      "76/76 [==============================] - 0s 4ms/step - loss: 0.0073 - val_loss: 0.0073\n",
      "Epoch 179/200\n",
      "76/76 [==============================] - 0s 4ms/step - loss: 0.0073 - val_loss: 0.0073\n",
      "Epoch 180/200\n",
      "76/76 [==============================] - 0s 4ms/step - loss: 0.0073 - val_loss: 0.0074\n",
      "Epoch 181/200\n",
      "76/76 [==============================] - 0s 4ms/step - loss: 0.0073 - val_loss: 0.0073\n",
      "Epoch 182/200\n",
      "76/76 [==============================] - 0s 5ms/step - loss: 0.0073 - val_loss: 0.0073\n",
      "Epoch 183/200\n",
      "76/76 [==============================] - 0s 5ms/step - loss: 0.0073 - val_loss: 0.0074\n",
      "Epoch 184/200\n",
      "76/76 [==============================] - 0s 5ms/step - loss: 0.0073 - val_loss: 0.0075\n",
      "Epoch 185/200\n",
      "76/76 [==============================] - 0s 4ms/step - loss: 0.0073 - val_loss: 0.0074\n",
      "Epoch 186/200\n",
      "76/76 [==============================] - 0s 5ms/step - loss: 0.0073 - val_loss: 0.0074\n",
      "Epoch 187/200\n",
      "76/76 [==============================] - 0s 4ms/step - loss: 0.0073 - val_loss: 0.0074\n",
      "Epoch 188/200\n",
      "76/76 [==============================] - 0s 5ms/step - loss: 0.0073 - val_loss: 0.0073\n",
      "Epoch 189/200\n",
      "76/76 [==============================] - 0s 4ms/step - loss: 0.0073 - val_loss: 0.0073\n",
      "Epoch 190/200\n",
      "76/76 [==============================] - 0s 4ms/step - loss: 0.0073 - val_loss: 0.0073\n",
      "Epoch 191/200\n",
      "76/76 [==============================] - 0s 5ms/step - loss: 0.0073 - val_loss: 0.0073\n",
      "Epoch 192/200\n",
      "76/76 [==============================] - 0s 4ms/step - loss: 0.0073 - val_loss: 0.0073\n",
      "Epoch 193/200\n",
      "76/76 [==============================] - 0s 4ms/step - loss: 0.0073 - val_loss: 0.0073\n",
      "Epoch 194/200\n",
      "76/76 [==============================] - 0s 4ms/step - loss: 0.0073 - val_loss: 0.0073\n",
      "Epoch 195/200\n",
      "76/76 [==============================] - 0s 4ms/step - loss: 0.0073 - val_loss: 0.0073\n",
      "Epoch 196/200\n",
      "76/76 [==============================] - 0s 4ms/step - loss: 0.0073 - val_loss: 0.0073\n",
      "Epoch 197/200\n",
      "76/76 [==============================] - 0s 4ms/step - loss: 0.0073 - val_loss: 0.0073\n",
      "Epoch 198/200\n",
      "76/76 [==============================] - 0s 4ms/step - loss: 0.0073 - val_loss: 0.0073\n",
      "Epoch 199/200\n",
      "76/76 [==============================] - 0s 4ms/step - loss: 0.0073 - val_loss: 0.0073\n",
      "Epoch 200/200\n",
      "76/76 [==============================] - 0s 5ms/step - loss: 0.0073 - val_loss: 0.0073\n"
     ]
    }
   ],
   "source": [
    "# fit the autoencoder model to reconstruct input\n",
    "history = model.fit(X_train, X_train, epochs=200, batch_size=4000,validation_data=(X_test,X_test))"
   ]
  },
  {
   "cell_type": "code",
   "execution_count": 177,
   "id": "358b3d20",
   "metadata": {},
   "outputs": [
    {
     "data": {
      "image/png": "[encoded data removed]",
      "text/plain": [
       "<Figure size 432x288 with 1 Axes>"
      ]
     },
     "metadata": {
      "needs_background": "light"
     },
     "output_type": "display_data"
    }
   ],
   "source": [
    "# plot loss\n",
    "pyplot.plot(history.history['loss'], label='train')\n",
    "pyplot.plot(history.history['val_loss'], label='test')\n",
    "pyplot.legend()\n",
    "pyplot.show()"
   ]
  },
  {
   "cell_type": "code",
   "execution_count": 178,
   "id": "98a7b267",
   "metadata": {},
   "outputs": [
    {
     "name": "stdout",
     "output_type": "stream",
     "text": [
      "You must install pydot (`pip install pydot`) and install graphviz (see instructions at https://graphviz.gitlab.io/download/) for plot_model/model_to_dot to work.\n",
      "WARNING:tensorflow:Compiled the loaded model, but the compiled metrics have yet to be built. `model.compile_metrics` will be empty until you train or evaluate the model.\n"
     ]
    }
   ],
   "source": [
    "# define an encoder model (without the decoder)\n",
    "encoder = Model(inputs=visible, outputs=bottleneck)\n",
    "plot_model(encoder, 'encoder_compress.png', show_shapes=True)\n",
    "# save the encoder to file\n",
    "encoder.save('encoder.h5')"
   ]
  },
  {
   "cell_type": "markdown",
   "id": "c91c23f1",
   "metadata": {},
   "source": [
    "# Encoder as Data Preparation for Predictive Model"
   ]
  },
  {
   "cell_type": "code",
   "execution_count": 179,
   "id": "b5a2a2c9",
   "metadata": {},
   "outputs": [
    {
     "name": "stdout",
     "output_type": "stream",
     "text": [
      "WARNING:tensorflow:No training configuration found in the save file, so the model was *not* compiled. Compile it manually.\n"
     ]
    }
   ],
   "source": [
    "# scale data\n",
    "t = MinMaxScaler()\n",
    "t.fit(X_train)\n",
    "X_train = t.transform(X_train)\n",
    "X_test = t.transform(X_test)\n",
    "# load the model from file\n",
    "encoder = load_model('encoder.h5')\n",
    "# encode the train data\n",
    "X_train_encode = encoder.predict(X_train)\n",
    "# encode the test data\n",
    "X_test_encode = encoder.predict(X_test)"
   ]
  },
  {
   "cell_type": "markdown",
   "id": "e657abbe",
   "metadata": {},
   "source": [
    "# Machine Learning Models"
   ]
  },
  {
   "cell_type": "markdown",
   "id": "8743ea5d",
   "metadata": {},
   "source": [
    "# Decision Tree"
   ]
  },
  {
   "cell_type": "code",
   "execution_count": 180,
   "id": "dbe7e4c1",
   "metadata": {},
   "outputs": [
    {
     "data": {
      "text/plain": [
       "DecisionTreeClassifier()"
      ]
     },
     "execution_count": 180,
     "metadata": {},
     "output_type": "execute_result"
    }
   ],
   "source": [
    "from sklearn import tree\n",
    "tree = tree.DecisionTreeClassifier()\n",
    "tree.fit(X_train_encode, y_train)"
   ]
  },
  {
   "cell_type": "code",
   "execution_count": 181,
   "id": "bcb8239c",
   "metadata": {},
   "outputs": [],
   "source": [
    "y_pred1 = tree.predict(X_test_encode)"
   ]
  },
  {
   "cell_type": "code",
   "execution_count": 182,
   "id": "95712989",
   "metadata": {},
   "outputs": [
    {
     "name": "stdout",
     "output_type": "stream",
     "text": [
      "Accuracy is: 77.88315479414057\n"
     ]
    }
   ],
   "source": [
    "from sklearn.metrics import accuracy_score\n",
    "accuracy = {accuracy_score(y_test, y_pred1)}\n",
    "print(f\"Accuracy is: {accuracy_score(y_test, y_pred1)* 100}\")"
   ]
  },
  {
   "cell_type": "code",
   "execution_count": 183,
   "id": "e1e5a0b3",
   "metadata": {},
   "outputs": [
    {
     "name": "stdout",
     "output_type": "stream",
     "text": [
      "\u001b[1mClassification report : \u001b[0m\n",
      "               precision    recall  f1-score   support\n",
      "\n",
      "           0       0.92      0.93      0.92     40005\n",
      "           1       0.63      0.65      0.64      2108\n",
      "           2       0.63      0.59      0.61      1923\n",
      "           3       0.61      0.61      0.61      2110\n",
      "           4       0.60      0.58      0.59      1957\n",
      "           5       0.63      0.63      0.63      2046\n",
      "           6       0.62      0.62      0.62      2187\n",
      "           7       0.62      0.65      0.64      1753\n",
      "           8       0.59      0.59      0.59      1740\n",
      "           9       0.56      0.57      0.57      1876\n",
      "          10       0.62      0.58      0.60      2030\n",
      "          11       0.56      0.57      0.56      1940\n",
      "          12       0.53      0.51      0.52      2123\n",
      "          13       0.56      0.55      0.56      1332\n",
      "          14       0.67      0.66      0.66      1226\n",
      "          15       0.65      0.66      0.66      1161\n",
      "          16       0.69      0.66      0.67      1543\n",
      "          17       0.63      0.62      0.62      1603\n",
      "          18       0.61      0.60      0.61       821\n",
      "          19       0.65      0.69      0.67       766\n",
      "          20       0.70      0.67      0.68       798\n",
      "          21       0.58      0.58      0.58       889\n",
      "          22       0.76      0.75      0.75       876\n",
      "          23       0.74      0.77      0.76       894\n",
      "\n",
      "    accuracy                           0.78     75707\n",
      "   macro avg       0.64      0.64      0.64     75707\n",
      "weighted avg       0.78      0.78      0.78     75707\n",
      "\n",
      "\u001b[1mConfusion Matrix : \u001b[0m\n"
     ]
    },
    {
     "data": {
      "image/png": "[encoded data removed]",
      "text/plain": [
       "<Figure size 432x288 with 2 Axes>"
      ]
     },
     "metadata": {
      "needs_background": "light"
     },
     "output_type": "display_data"
    }
   ],
   "source": [
    "print('\\033[1m' +'Classification report : '+ '\\033[0m\\n', classification_report(y_test, y_pred1))\n",
    "\n",
    "cm = confusion_matrix(y_pred1, y_test)\n",
    "print('\\033[1m' +'Confusion Matrix : '+ '\\033[0m')\n",
    "sns.heatmap(cm, cmap = 'OrRd',annot = True, fmt='d')\n",
    "plt.show()"
   ]
  },
  {
   "cell_type": "markdown",
   "id": "4ebcef17",
   "metadata": {},
   "source": [
    "# Evaluation -- Decision Tree"
   ]
  },
  {
   "cell_type": "code",
   "execution_count": 184,
   "id": "cbae2add",
   "metadata": {},
   "outputs": [
    {
     "name": "stdout",
     "output_type": "stream",
     "text": [
      "MAE: 1.5727871927298664\n",
      "MSE: 16.89829209980583\n",
      "RMSE: 4.110753227792424\n"
     ]
    }
   ],
   "source": [
    "from sklearn import metrics\n",
    "\n",
    "print('MAE:', metrics.mean_absolute_error(y_test,y_pred1))\n",
    "print('MSE:', metrics.mean_squared_error(y_test, y_pred1))\n",
    "print('RMSE:', np.sqrt(metrics.mean_squared_error(y_test, y_pred1)))"
   ]
  },
  {
   "cell_type": "code",
   "execution_count": 185,
   "id": "f7ac1ceb",
   "metadata": {},
   "outputs": [
    {
     "name": "stdout",
     "output_type": "stream",
     "text": [
      "Precision Score :  0.7777705843798502\n",
      "Recall Score :  0.7788315479414056\n",
      "f1_score :  0.778226965343428\n"
     ]
    }
   ],
   "source": [
    "from sklearn.metrics import precision_score\n",
    "print(\"Precision Score : \",precision_score(y_test, y_pred1, average='weighted'))\n",
    "\n",
    "\n",
    "from sklearn.metrics import recall_score\n",
    "print(\"Recall Score : \",recall_score(y_test, y_pred1,average='weighted'))\n",
    "\n",
    "\n",
    "from sklearn.metrics import f1_score\n",
    "print(\"f1_score : \",f1_score(y_test, y_pred1,average='weighted'))"
   ]
  },
  {
   "cell_type": "markdown",
   "id": "f901aeef",
   "metadata": {},
   "source": [
    "# KNeighborsClassifier"
   ]
  },
  {
   "cell_type": "code",
   "execution_count": 186,
   "id": "15fd9ac9",
   "metadata": {},
   "outputs": [
    {
     "data": {
      "text/plain": [
       "KNeighborsClassifier()"
      ]
     },
     "execution_count": 186,
     "metadata": {},
     "output_type": "execute_result"
    }
   ],
   "source": [
    "from sklearn.neighbors import KNeighborsClassifier\n",
    "KNeighborsClassifier = KNeighborsClassifier()\n",
    "KNeighborsClassifier.fit(X_train_encode, y_train)"
   ]
  },
  {
   "cell_type": "code",
   "execution_count": 187,
   "id": "da059a26",
   "metadata": {},
   "outputs": [],
   "source": [
    "y_pred2 = KNeighborsClassifier.predict(X_test_encode)"
   ]
  },
  {
   "cell_type": "code",
   "execution_count": 188,
   "id": "1d358310",
   "metadata": {},
   "outputs": [
    {
     "name": "stdout",
     "output_type": "stream",
     "text": [
      "Accuracy is: 85.90751185491435\n"
     ]
    }
   ],
   "source": [
    "from sklearn.metrics import accuracy_score\n",
    "accuracy = {accuracy_score(y_test, y_pred2)}\n",
    "print(f\"Accuracy is: {accuracy_score(y_test, y_pred2)* 100}\")"
   ]
  },
  {
   "cell_type": "code",
   "execution_count": 189,
   "id": "5e0d6dfd",
   "metadata": {},
   "outputs": [
    {
     "name": "stdout",
     "output_type": "stream",
     "text": [
      "\u001b[1mClassification report : \u001b[0m\n",
      "               precision    recall  f1-score   support\n",
      "\n",
      "           0       0.91      0.98      0.94     40005\n",
      "           1       0.79      0.76      0.78      2108\n",
      "           2       0.82      0.71      0.76      1923\n",
      "           3       0.77      0.71      0.74      2110\n",
      "           4       0.76      0.72      0.74      1957\n",
      "           5       0.78      0.74      0.76      2046\n",
      "           6       0.80      0.73      0.76      2187\n",
      "           7       0.84      0.73      0.78      1753\n",
      "           8       0.78      0.71      0.75      1740\n",
      "           9       0.72      0.71      0.72      1876\n",
      "          10       0.83      0.67      0.74      2030\n",
      "          11       0.73      0.66      0.69      1940\n",
      "          12       0.76      0.60      0.67      2123\n",
      "          13       0.80      0.66      0.72      1332\n",
      "          14       0.75      0.79      0.77      1226\n",
      "          15       0.81      0.78      0.79      1161\n",
      "          16       0.83      0.79      0.81      1543\n",
      "          17       0.81      0.70      0.75      1603\n",
      "          18       0.82      0.73      0.78       821\n",
      "          19       0.84      0.77      0.80       766\n",
      "          20       0.86      0.83      0.85       798\n",
      "          21       0.83      0.65      0.73       889\n",
      "          22       0.93      0.82      0.87       876\n",
      "          23       0.86      0.85      0.85       894\n",
      "\n",
      "    accuracy                           0.86     75707\n",
      "   macro avg       0.81      0.74      0.77     75707\n",
      "weighted avg       0.85      0.86      0.85     75707\n",
      "\n",
      "\u001b[1mConfusion Matrix : \u001b[0m\n"
     ]
    },
    {
     "data": {
      "image/png": "[encoded data removed]",
      "text/plain": [
       "<Figure size 432x288 with 2 Axes>"
      ]
     },
     "metadata": {
      "needs_background": "light"
     },
     "output_type": "display_data"
    }
   ],
   "source": [
    "print('\\033[1m' +'Classification report : '+ '\\033[0m\\n', classification_report(y_test, y_pred2))\n",
    "\n",
    "cm = confusion_matrix(y_pred2, y_test)\n",
    "print('\\033[1m' +'Confusion Matrix : '+ '\\033[0m')\n",
    "sns.heatmap(cm, cmap = 'OrRd',annot = True, fmt='d')\n",
    "plt.show()"
   ]
  },
  {
   "cell_type": "markdown",
   "id": "d8d41935",
   "metadata": {},
   "source": [
    "# Evaluation -- KNeighborsClassifier"
   ]
  },
  {
   "cell_type": "code",
   "execution_count": 190,
   "id": "bd1c5fe9",
   "metadata": {},
   "outputs": [
    {
     "name": "stdout",
     "output_type": "stream",
     "text": [
      "MAE: 1.0059968034659938\n",
      "MSE: 10.918950691481633\n",
      "RMSE: 3.3043835569560676\n"
     ]
    }
   ],
   "source": [
    "from sklearn import metrics\n",
    "\n",
    "print('MAE:', metrics.mean_absolute_error(y_test,y_pred2))\n",
    "print('MSE:', metrics.mean_squared_error(y_test, y_pred2))\n",
    "print('RMSE:', np.sqrt(metrics.mean_squared_error(y_test, y_pred2)))"
   ]
  },
  {
   "cell_type": "code",
   "execution_count": 191,
   "id": "de3e3c02",
   "metadata": {},
   "outputs": [
    {
     "name": "stdout",
     "output_type": "stream",
     "text": [
      "Precision Score :  0.8544859457366621\n",
      "Recall Score :  0.8590751185491434\n",
      "f1_score :  0.8546568229496677\n"
     ]
    }
   ],
   "source": [
    "from sklearn.metrics import precision_score\n",
    "print(\"Precision Score : \",precision_score(y_test, y_pred2, average='weighted'))\n",
    "\n",
    "\n",
    "from sklearn.metrics import recall_score\n",
    "print(\"Recall Score : \",recall_score(y_test, y_pred2,average='weighted'))\n",
    "\n",
    "\n",
    "from sklearn.metrics import f1_score\n",
    "print(\"f1_score : \",f1_score(y_test, y_pred2,average='weighted'))"
   ]
  },
  {
   "cell_type": "markdown",
   "id": "5065ae39",
   "metadata": {},
   "source": [
    "# Random Forest"
   ]
  },
  {
   "cell_type": "code",
   "execution_count": 140,
   "id": "be857e35",
   "metadata": {},
   "outputs": [
    {
     "data": {
      "text/plain": [
       "RandomForestClassifier()"
      ]
     },
     "execution_count": 140,
     "metadata": {},
     "output_type": "execute_result"
    }
   ],
   "source": [
    "from sklearn.ensemble import RandomForestClassifier\n",
    "RandomForestClassifier = RandomForestClassifier()\n",
    "RandomForestClassifier.fit(X_train_encode, y_train)"
   ]
  },
  {
   "cell_type": "code",
   "execution_count": 141,
   "id": "544a9fa7",
   "metadata": {},
   "outputs": [],
   "source": [
    "y_pred3 = RandomForestClassifier.predict(X_test_encode)"
   ]
  },
  {
   "cell_type": "code",
   "execution_count": 142,
   "id": "a0daf4ac",
   "metadata": {},
   "outputs": [
    {
     "name": "stdout",
     "output_type": "stream",
     "text": [
      "Accuracy is: 82.69644814878413\n"
     ]
    }
   ],
   "source": [
    "from sklearn.metrics import accuracy_score\n",
    "accuracy = {accuracy_score(y_test, y_pred3)}\n",
    "print(f\"Accuracy is: {accuracy_score(y_test, y_pred3)* 100}\")"
   ]
  },
  {
   "cell_type": "code",
   "execution_count": 143,
   "id": "17ccca6d",
   "metadata": {},
   "outputs": [
    {
     "name": "stdout",
     "output_type": "stream",
     "text": [
      "\u001b[1mClassification report : \u001b[0m\n",
      "               precision    recall  f1-score   support\n",
      "\n",
      "           0       0.90      0.98      0.94     40005\n",
      "           1       0.74      0.68      0.71      2108\n",
      "           2       0.79      0.62      0.70      1923\n",
      "           3       0.73      0.64      0.68      2110\n",
      "           4       0.72      0.66      0.69      1957\n",
      "           5       0.72      0.70      0.71      2046\n",
      "           6       0.75      0.65      0.69      2187\n",
      "           7       0.77      0.69      0.73      1753\n",
      "           8       0.68      0.67      0.67      1740\n",
      "           9       0.68      0.63      0.65      1876\n",
      "          10       0.74      0.63      0.68      2030\n",
      "          11       0.68      0.61      0.65      1940\n",
      "          12       0.65      0.56      0.60      2123\n",
      "          13       0.74      0.62      0.68      1332\n",
      "          14       0.68      0.72      0.70      1226\n",
      "          15       0.77      0.72      0.74      1161\n",
      "          16       0.75      0.70      0.72      1543\n",
      "          17       0.75      0.65      0.70      1603\n",
      "          18       0.72      0.63      0.67       821\n",
      "          19       0.83      0.74      0.78       766\n",
      "          20       0.74      0.77      0.75       798\n",
      "          21       0.70      0.55      0.62       889\n",
      "          22       0.85      0.75      0.80       876\n",
      "          23       0.80      0.84      0.82       894\n",
      "\n",
      "    accuracy                           0.83     75707\n",
      "   macro avg       0.74      0.68      0.71     75707\n",
      "weighted avg       0.82      0.83      0.82     75707\n",
      "\n",
      "\u001b[1mConfusion Matrix : \u001b[0m\n"
     ]
    },
    {
     "data": {
      "image/png": "[encoded data removed]",
      "text/plain": [
       "<Figure size 432x288 with 2 Axes>"
      ]
     },
     "metadata": {
      "needs_background": "light"
     },
     "output_type": "display_data"
    }
   ],
   "source": [
    "print('\\033[1m' +'Classification report : '+ '\\033[0m\\n', classification_report(y_test, y_pred3))\n",
    "\n",
    "cm = confusion_matrix(y_pred3, y_test)\n",
    "print('\\033[1m' +'Confusion Matrix : '+ '\\033[0m')\n",
    "sns.heatmap(cm, cmap = 'OrRd',annot = True, fmt='d')\n",
    "plt.show()"
   ]
  },
  {
   "cell_type": "markdown",
   "id": "bf149f54",
   "metadata": {},
   "source": [
    "# Evaluation -- Random Forest"
   ]
  },
  {
   "cell_type": "code",
   "execution_count": 144,
   "id": "44b863ad",
   "metadata": {},
   "outputs": [
    {
     "name": "stdout",
     "output_type": "stream",
     "text": [
      "MAE: 1.2600420040418985\n",
      "MSE: 13.862232026100624\n",
      "RMSE: 3.7232018513774707\n"
     ]
    }
   ],
   "source": [
    "from sklearn import metrics\n",
    "\n",
    "print('MAE:', metrics.mean_absolute_error(y_test,y_pred3))\n",
    "print('MSE:', metrics.mean_squared_error(y_test, y_pred3))\n",
    "print('RMSE:', np.sqrt(metrics.mean_squared_error(y_test, y_pred3)))"
   ]
  },
  {
   "cell_type": "code",
   "execution_count": 145,
   "id": "f40def00",
   "metadata": {},
   "outputs": [
    {
     "name": "stdout",
     "output_type": "stream",
     "text": [
      "Precision Score :  0.8195233097514291\n",
      "Recall Score :  0.8269644814878413\n",
      "f1_score :  0.8211128849688017\n"
     ]
    }
   ],
   "source": [
    "from sklearn.metrics import precision_score\n",
    "print(\"Precision Score : \",precision_score(y_test, y_pred3, average='weighted'))\n",
    "\n",
    "\n",
    "from sklearn.metrics import recall_score\n",
    "print(\"Recall Score : \",recall_score(y_test, y_pred3,average='weighted'))\n",
    "\n",
    "\n",
    "from sklearn.metrics import f1_score\n",
    "print(\"f1_score : \",f1_score(y_test, y_pred3,average='weighted'))"
   ]
  },
  {
   "cell_type": "markdown",
   "id": "fc99a8db",
   "metadata": {},
   "source": [
    "# XGBoost"
   ]
  },
  {
   "cell_type": "code",
   "execution_count": 50,
   "id": "cf92a2ce",
   "metadata": {},
   "outputs": [
    {
     "name": "stderr",
     "output_type": "stream",
     "text": [
      "E:\\MachineLearning\\envs\\gpu\\lib\\site-packages\\xgboost\\compat.py:36: FutureWarning: pandas.Int64Index is deprecated and will be removed from pandas in a future version. Use pandas.Index with the appropriate dtype instead.\n",
      "  from pandas import MultiIndex, Int64Index\n",
      "E:\\MachineLearning\\envs\\gpu\\lib\\site-packages\\xgboost\\sklearn.py:1224: UserWarning: The use of label encoder in XGBClassifier is deprecated and will be removed in a future release. To remove this warning, do the following: 1) Pass option use_label_encoder=False when constructing XGBClassifier object; and 2) Encode your labels (y) as integers starting with 0, i.e. 0, 1, 2, ..., [num_class - 1].\n",
      "  warnings.warn(label_encoder_deprecation_msg, UserWarning)\n"
     ]
    },
    {
     "name": "stdout",
     "output_type": "stream",
     "text": [
      "[20:45:24] WARNING: C:/Users/Administrator/workspace/xgboost-win64_release_1.5.1/src/learner.cc:1115: Starting in XGBoost 1.3.0, the default evaluation metric used with the objective 'multi:softprob' was changed from 'merror' to 'mlogloss'. Explicitly set eval_metric if you'd like to restore the old behavior.\n"
     ]
    },
    {
     "data": {
      "text/plain": [
       "XGBClassifier(base_score=0.5, booster='gbtree', colsample_bylevel=1,\n",
       "              colsample_bynode=1, colsample_bytree=1, enable_categorical=False,\n",
       "              gamma=0, gpu_id=-1, importance_type=None,\n",
       "              interaction_constraints='', learning_rate=0.300000012,\n",
       "              max_delta_step=0, max_depth=6, min_child_weight=1, missing=nan,\n",
       "              monotone_constraints='()', n_estimators=100, n_jobs=12,\n",
       "              num_parallel_tree=1, objective='multi:softprob', predictor='auto',\n",
       "              random_state=0, reg_alpha=0, reg_lambda=1, scale_pos_weight=None,\n",
       "              subsample=1, tree_method='exact', validate_parameters=1,\n",
       "              verbosity=None)"
      ]
     },
     "execution_count": 50,
     "metadata": {},
     "output_type": "execute_result"
    }
   ],
   "source": [
    "from xgboost import XGBClassifier\n",
    "xgb = XGBClassifier()\n",
    "xgb.fit(X_train_encode, y_train)"
   ]
  },
  {
   "cell_type": "code",
   "execution_count": 51,
   "id": "122b4ba0",
   "metadata": {},
   "outputs": [],
   "source": [
    "y_pred4 = xgb.predict(X_test_encode)"
   ]
  },
  {
   "cell_type": "code",
   "execution_count": 52,
   "id": "022138ba",
   "metadata": {},
   "outputs": [
    {
     "name": "stdout",
     "output_type": "stream",
     "text": [
      "Accuracy is: 84.73588967995033\n"
     ]
    }
   ],
   "source": [
    "from sklearn.metrics import accuracy_score\n",
    "accuracy = {accuracy_score(y_test, y_pred4)}\n",
    "print(f\"Accuracy is: {accuracy_score(y_test, y_pred4)* 100}\")"
   ]
  },
  {
   "cell_type": "code",
   "execution_count": 53,
   "id": "269a9899",
   "metadata": {},
   "outputs": [
    {
     "name": "stdout",
     "output_type": "stream",
     "text": [
      "\u001b[1mClassification report : \u001b[0m\n",
      "               precision    recall  f1-score   support\n",
      "\n",
      "           0       0.90      0.98      0.94     40005\n",
      "           1       0.79      0.71      0.75      2108\n",
      "           2       0.82      0.64      0.72      1923\n",
      "           3       0.77      0.66      0.71      2110\n",
      "           4       0.76      0.66      0.71      1957\n",
      "           5       0.76      0.73      0.74      2046\n",
      "           6       0.79      0.68      0.73      2187\n",
      "           7       0.79      0.72      0.75      1753\n",
      "           8       0.72      0.70      0.71      1740\n",
      "           9       0.67      0.65      0.66      1876\n",
      "          10       0.79      0.66      0.72      2030\n",
      "          11       0.71      0.63      0.67      1940\n",
      "          12       0.71      0.59      0.64      2123\n",
      "          13       0.79      0.63      0.70      1332\n",
      "          14       0.76      0.78      0.77      1226\n",
      "          15       0.80      0.76      0.78      1161\n",
      "          16       0.82      0.77      0.79      1543\n",
      "          17       0.76      0.68      0.72      1603\n",
      "          18       0.80      0.74      0.77       821\n",
      "          19       0.89      0.81      0.85       766\n",
      "          20       0.83      0.85      0.84       798\n",
      "          21       0.80      0.73      0.76       889\n",
      "          22       0.89      0.85      0.87       876\n",
      "          23       0.85      0.90      0.88       894\n",
      "\n",
      "    accuracy                           0.85     75707\n",
      "   macro avg       0.79      0.73      0.76     75707\n",
      "weighted avg       0.84      0.85      0.84     75707\n",
      "\n",
      "\u001b[1mConfusion Matrix : \u001b[0m\n"
     ]
    },
    {
     "data": {
      "image/png": "[encoded data removed]",
      "text/plain": [
       "<Figure size 432x288 with 2 Axes>"
      ]
     },
     "metadata": {
      "needs_background": "light"
     },
     "output_type": "display_data"
    }
   ],
   "source": [
    "print('\\033[1m' +'Classification report : '+ '\\033[0m\\n', classification_report(y_test, y_pred4))\n",
    "\n",
    "cm = confusion_matrix(y_pred4, y_test)\n",
    "print('\\033[1m' +'Confusion Matrix : '+ '\\033[0m')\n",
    "sns.heatmap(cm, cmap = 'OrRd',annot = True, fmt='d')\n",
    "plt.show()"
   ]
  },
  {
   "cell_type": "markdown",
   "id": "3031b603",
   "metadata": {},
   "source": [
    "# Evaluation -- XGBoost"
   ]
  },
  {
   "cell_type": "code",
   "execution_count": 54,
   "id": "f5efef7b",
   "metadata": {},
   "outputs": [
    {
     "name": "stdout",
     "output_type": "stream",
     "text": [
      "MAE: 1.0511577529158467\n",
      "MSE: 11.246067074378855\n",
      "RMSE: 3.353515629064349\n"
     ]
    }
   ],
   "source": [
    "from sklearn import metrics\n",
    "\n",
    "print('MAE:', metrics.mean_absolute_error(y_test,y_pred4))\n",
    "print('MSE:', metrics.mean_squared_error(y_test, y_pred4))\n",
    "print('RMSE:', np.sqrt(metrics.mean_squared_error(y_test, y_pred4)))"
   ]
  },
  {
   "cell_type": "code",
   "execution_count": 55,
   "id": "36005adc",
   "metadata": {},
   "outputs": [
    {
     "name": "stdout",
     "output_type": "stream",
     "text": [
      "Precision Score :  0.8414270075240451\n",
      "Recall Score :  0.8473588967995034\n",
      "f1_score :  0.8420683490893114\n"
     ]
    }
   ],
   "source": [
    "from sklearn.metrics import precision_score\n",
    "print(\"Precision Score : \",precision_score(y_test, y_pred4, average='weighted'))\n",
    "\n",
    "\n",
    "from sklearn.metrics import recall_score\n",
    "print(\"Recall Score : \",recall_score(y_test, y_pred4,average='weighted'))\n",
    "\n",
    "\n",
    "from sklearn.metrics import f1_score\n",
    "print(\"f1_score : \",f1_score(y_test, y_pred4,average='weighted'))"
   ]
  },
  {
   "cell_type": "markdown",
   "id": "5805a6f2",
   "metadata": {},
   "source": [
    "# ExtraTreesClassifier"
   ]
  },
  {
   "cell_type": "code",
   "execution_count": 56,
   "id": "bb5c43f7",
   "metadata": {},
   "outputs": [
    {
     "data": {
      "text/plain": [
       "ExtraTreesClassifier()"
      ]
     },
     "execution_count": 56,
     "metadata": {},
     "output_type": "execute_result"
    }
   ],
   "source": [
    "from sklearn.ensemble import ExtraTreesClassifier\n",
    "extratree = ExtraTreesClassifier()\n",
    "extratree.fit(X_train_encode, y_train)"
   ]
  },
  {
   "cell_type": "code",
   "execution_count": 57,
   "id": "71002958",
   "metadata": {},
   "outputs": [],
   "source": [
    "y_pred5 = extratree.predict(X_test_encode)"
   ]
  },
  {
   "cell_type": "code",
   "execution_count": 58,
   "id": "b61749b4",
   "metadata": {},
   "outputs": [
    {
     "name": "stdout",
     "output_type": "stream",
     "text": [
      "Accuracy is: 90.93742982815327\n"
     ]
    }
   ],
   "source": [
    "from sklearn.metrics import accuracy_score\n",
    "accuracy = {accuracy_score(y_test, y_pred5)}\n",
    "print(f\"Accuracy is: {accuracy_score(y_test, y_pred5)* 100}\")"
   ]
  },
  {
   "cell_type": "code",
   "execution_count": 59,
   "id": "06532654",
   "metadata": {},
   "outputs": [
    {
     "name": "stdout",
     "output_type": "stream",
     "text": [
      "\u001b[1mClassification report : \u001b[0m\n",
      "               precision    recall  f1-score   support\n",
      "\n",
      "           0       0.92      0.99      0.95     40005\n",
      "           1       0.88      0.83      0.85      2108\n",
      "           2       0.93      0.79      0.86      1923\n",
      "           3       0.89      0.80      0.84      2110\n",
      "           4       0.89      0.78      0.83      1957\n",
      "           5       0.89      0.84      0.86      2046\n",
      "           6       0.91      0.82      0.87      2187\n",
      "           7       0.88      0.82      0.85      1753\n",
      "           8       0.86      0.80      0.83      1740\n",
      "           9       0.84      0.81      0.82      1876\n",
      "          10       0.91      0.80      0.85      2030\n",
      "          11       0.87      0.80      0.83      1940\n",
      "          12       0.83      0.71      0.76      2123\n",
      "          13       0.91      0.81      0.86      1332\n",
      "          14       0.85      0.86      0.86      1226\n",
      "          15       0.90      0.84      0.87      1161\n",
      "          16       0.90      0.89      0.90      1543\n",
      "          17       0.90      0.81      0.85      1603\n",
      "          18       0.91      0.86      0.89       821\n",
      "          19       0.94      0.88      0.91       766\n",
      "          20       0.94      0.94      0.94       798\n",
      "          21       0.94      0.89      0.91       889\n",
      "          22       0.97      0.92      0.94       876\n",
      "          23       0.92      0.96      0.94       894\n",
      "\n",
      "    accuracy                           0.91     75707\n",
      "   macro avg       0.90      0.84      0.87     75707\n",
      "weighted avg       0.91      0.91      0.91     75707\n",
      "\n",
      "\u001b[1mConfusion Matrix : \u001b[0m\n"
     ]
    },
    {
     "data": {
      "image/png": "[encoded data removed]",
      "text/plain": [
       "<Figure size 432x288 with 2 Axes>"
      ]
     },
     "metadata": {
      "needs_background": "light"
     },
     "output_type": "display_data"
    }
   ],
   "source": [
    "print('\\033[1m' +'Classification report : '+ '\\033[0m\\n', classification_report(y_test, y_pred5))\n",
    "\n",
    "cm = confusion_matrix(y_pred5, y_test)\n",
    "print('\\033[1m' +'Confusion Matrix : '+ '\\033[0m')\n",
    "sns.heatmap(cm, cmap = 'OrRd',annot = True, fmt='d')\n",
    "plt.show()"
   ]
  },
  {
   "cell_type": "markdown",
   "id": "2b86af64",
   "metadata": {},
   "source": [
    "# Evaluation -- ExtraTreesClassifier"
   ]
  },
  {
   "cell_type": "code",
   "execution_count": 60,
   "id": "a9e47f87",
   "metadata": {},
   "outputs": [
    {
     "name": "stdout",
     "output_type": "stream",
     "text": [
      "MAE: 0.6402842537678154\n",
      "MSE: 6.8267135139419075\n",
      "RMSE: 2.612798023947107\n"
     ]
    }
   ],
   "source": [
    "from sklearn import metrics\n",
    "\n",
    "print('MAE:', metrics.mean_absolute_error(y_test,y_pred5))\n",
    "print('MSE:', metrics.mean_squared_error(y_test, y_pred5))\n",
    "print('RMSE:', np.sqrt(metrics.mean_squared_error(y_test, y_pred5)))"
   ]
  },
  {
   "cell_type": "code",
   "execution_count": 61,
   "id": "6d09ec03",
   "metadata": {},
   "outputs": [
    {
     "name": "stdout",
     "output_type": "stream",
     "text": [
      "Precision Score :  0.9082696752331829\n",
      "Recall Score :  0.9093742982815327\n",
      "f1_score :  0.9074058929874371\n"
     ]
    }
   ],
   "source": [
    "from sklearn.metrics import precision_score\n",
    "print(\"Precision Score : \",precision_score(y_test, y_pred5, average='weighted'))\n",
    "\n",
    "\n",
    "from sklearn.metrics import recall_score\n",
    "print(\"Recall Score : \",recall_score(y_test, y_pred5,average='weighted'))\n",
    "\n",
    "\n",
    "from sklearn.metrics import f1_score\n",
    "print(\"f1_score : \",f1_score(y_test, y_pred5,average='weighted'))"
   ]
  },
  {
   "cell_type": "code",
   "execution_count": null,
   "id": "292f2127",
   "metadata": {},
   "outputs": [],
   "source": []
  },
  {
   "cell_type": "code",
   "execution_count": null,
   "id": "e39f766c",
   "metadata": {},
   "outputs": [],
   "source": []
  },
  {
   "cell_type": "code",
   "execution_count": null,
   "id": "0d74dc0a",
   "metadata": {},
   "outputs": [],
   "source": []
  }
 ],
 "metadata": {
  "kernelspec": {
   "display_name": "Python 3 (ipykernel)",
   "language": "python",
   "name": "python3"
  },
  "language_info": {
   "codemirror_mode": {
    "name": "ipython",
    "version": 3
   },
   "file_extension": ".py",
   "mimetype": "text/x-python",
   "name": "python",
   "nbconvert_exporter": "python",
   "pygments_lexer": "ipython3",
   "version": "3.8.12"
  }
 },
 "nbformat": 4,
 "nbformat_minor": 5
}
