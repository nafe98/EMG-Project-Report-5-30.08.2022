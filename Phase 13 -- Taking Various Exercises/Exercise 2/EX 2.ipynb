{
 "cells": [
  {
   "cell_type": "markdown",
   "id": "f47ebb05",
   "metadata": {},
   "source": [
    "# Importing Libraires "
   ]
  },
  {
   "cell_type": "code",
   "execution_count": 1,
   "id": "5ee40bfd",
   "metadata": {},
   "outputs": [],
   "source": [
    "import pandas as pd\n",
    "from scipy.io import loadmat"
   ]
  },
  {
   "cell_type": "markdown",
   "id": "729df6e0",
   "metadata": {},
   "source": [
    "#  Loading Exercise 2"
   ]
  },
  {
   "cell_type": "code",
   "execution_count": 2,
   "id": "21def76c",
   "metadata": {},
   "outputs": [],
   "source": [
    "Exercise_2 = loadmat(r\"S1_A1_E2.mat\")"
   ]
  },
  {
   "cell_type": "code",
   "execution_count": 3,
   "id": "6bd51743",
   "metadata": {},
   "outputs": [
    {
     "name": "stdout",
     "output_type": "stream",
     "text": [
      "{'__header__': b'MATLAB 5.0 MAT-file, Platform: MACI64, Created on: Mon Jul 28 11:54:17 2014', '__version__': '1.0', '__globals__': [], 'emg': array([[0.0024, 0.0024, 0.0024, ..., 0.0366, 0.0024, 0.0024],\n",
      "       [0.0024, 0.0024, 0.0024, ..., 0.0366, 0.0024, 0.0024],\n",
      "       [0.0024, 0.0024, 0.0024, ..., 0.0366, 0.0024, 0.0024],\n",
      "       ...,\n",
      "       [0.022 , 0.0024, 0.0024, ..., 0.0903, 0.0024, 0.0415],\n",
      "       [0.0342, 0.0024, 0.0049, ..., 0.1172, 0.0024, 0.0415],\n",
      "       [0.0415, 0.0024, 0.0024, ..., 0.1318, 0.0024, 0.0439]]), 'stimulus': array([[0],\n",
      "       [0],\n",
      "       [0],\n",
      "       ...,\n",
      "       [0],\n",
      "       [0],\n",
      "       [0]], dtype=uint8), 'glove': array([[160., 124., 118., ..., 159., 132., 112.],\n",
      "       [160., 124., 118., ..., 159., 132., 112.],\n",
      "       [160., 124., 118., ..., 159., 132., 112.],\n",
      "       ...,\n",
      "       [139., 141., 119., ..., 145., 131., 118.],\n",
      "       [139., 141., 119., ..., 145., 131., 118.],\n",
      "       [139., 141., 119., ..., 145., 131., 118.]]), 'subject': array([[1]], dtype=uint8), 'exercise': array([[2]], dtype=uint8), 'repetition': array([[0],\n",
      "       [0],\n",
      "       [0],\n",
      "       ...,\n",
      "       [0],\n",
      "       [0],\n",
      "       [0]], dtype=uint8), 'restimulus': array([[0],\n",
      "       [0],\n",
      "       [0],\n",
      "       ...,\n",
      "       [0],\n",
      "       [0],\n",
      "       [0]], dtype=uint8), 'rerepetition': array([[0],\n",
      "       [0],\n",
      "       [0],\n",
      "       ...,\n",
      "       [0],\n",
      "       [0],\n",
      "       [0]], dtype=uint8)}\n",
      "************************************************************************************************************\n",
      "dict_keys(['__header__', '__version__', '__globals__', 'emg', 'stimulus', 'glove', 'subject', 'exercise', 'repetition', 'restimulus', 'rerepetition'])\n"
     ]
    }
   ],
   "source": [
    "print(Exercise_2)\n",
    "print(\"************************************************************************************************************\")\n",
    "print(Exercise_2.keys())"
   ]
  },
  {
   "cell_type": "code",
   "execution_count": 4,
   "id": "83a1955e",
   "metadata": {},
   "outputs": [],
   "source": [
    "emg_2 = Exercise_2['emg']\n",
    "stimulus_2 = Exercise_2['stimulus']\n",
    "restimulus_2 = Exercise_2['restimulus']"
   ]
  },
  {
   "cell_type": "markdown",
   "id": "87cf6d67",
   "metadata": {},
   "source": [
    "# DataFramae"
   ]
  },
  {
   "cell_type": "markdown",
   "id": "bbb19c19",
   "metadata": {},
   "source": [
    "### Convert the dictionary into DataFrame"
   ]
  },
  {
   "cell_type": "code",
   "execution_count": 5,
   "id": "87c5e096",
   "metadata": {},
   "outputs": [],
   "source": [
    "df_2= pd.DataFrame(emg_2, \n",
    "                  columns = ['Emg1','Emg2','Emg3','Emg4','Emg5','Emg6','Emg7','Emg8','Emg9','Emg10'])"
   ]
  },
  {
   "cell_type": "code",
   "execution_count": 6,
   "id": "42f1d278",
   "metadata": {},
   "outputs": [
    {
     "data": {
      "text/html": [
       "<div>\n",
       "<style scoped>\n",
       "    .dataframe tbody tr th:only-of-type {\n",
       "        vertical-align: middle;\n",
       "    }\n",
       "\n",
       "    .dataframe tbody tr th {\n",
       "        vertical-align: top;\n",
       "    }\n",
       "\n",
       "    .dataframe thead th {\n",
       "        text-align: right;\n",
       "    }\n",
       "</style>\n",
       "<table border=\"1\" class=\"dataframe\">\n",
       "  <thead>\n",
       "    <tr style=\"text-align: right;\">\n",
       "      <th></th>\n",
       "      <th>Emg1</th>\n",
       "      <th>Emg2</th>\n",
       "      <th>Emg3</th>\n",
       "      <th>Emg4</th>\n",
       "      <th>Emg5</th>\n",
       "      <th>Emg6</th>\n",
       "      <th>Emg7</th>\n",
       "      <th>Emg8</th>\n",
       "      <th>Emg9</th>\n",
       "      <th>Emg10</th>\n",
       "    </tr>\n",
       "  </thead>\n",
       "  <tbody>\n",
       "    <tr>\n",
       "      <th>0</th>\n",
       "      <td>0.0024</td>\n",
       "      <td>0.0024</td>\n",
       "      <td>0.0024</td>\n",
       "      <td>0.0024</td>\n",
       "      <td>0.0024</td>\n",
       "      <td>0.0024</td>\n",
       "      <td>0.0024</td>\n",
       "      <td>0.0366</td>\n",
       "      <td>0.0024</td>\n",
       "      <td>0.0024</td>\n",
       "    </tr>\n",
       "    <tr>\n",
       "      <th>1</th>\n",
       "      <td>0.0024</td>\n",
       "      <td>0.0024</td>\n",
       "      <td>0.0024</td>\n",
       "      <td>0.0024</td>\n",
       "      <td>0.0024</td>\n",
       "      <td>0.0024</td>\n",
       "      <td>0.0024</td>\n",
       "      <td>0.0366</td>\n",
       "      <td>0.0024</td>\n",
       "      <td>0.0024</td>\n",
       "    </tr>\n",
       "    <tr>\n",
       "      <th>2</th>\n",
       "      <td>0.0024</td>\n",
       "      <td>0.0024</td>\n",
       "      <td>0.0024</td>\n",
       "      <td>0.0024</td>\n",
       "      <td>0.0024</td>\n",
       "      <td>0.0024</td>\n",
       "      <td>0.0024</td>\n",
       "      <td>0.0366</td>\n",
       "      <td>0.0024</td>\n",
       "      <td>0.0024</td>\n",
       "    </tr>\n",
       "    <tr>\n",
       "      <th>3</th>\n",
       "      <td>0.0195</td>\n",
       "      <td>0.0024</td>\n",
       "      <td>0.0024</td>\n",
       "      <td>0.0024</td>\n",
       "      <td>0.0024</td>\n",
       "      <td>0.0024</td>\n",
       "      <td>0.0049</td>\n",
       "      <td>0.0537</td>\n",
       "      <td>0.0024</td>\n",
       "      <td>0.0024</td>\n",
       "    </tr>\n",
       "    <tr>\n",
       "      <th>4</th>\n",
       "      <td>0.0293</td>\n",
       "      <td>0.0024</td>\n",
       "      <td>0.0024</td>\n",
       "      <td>0.0024</td>\n",
       "      <td>0.0024</td>\n",
       "      <td>0.0024</td>\n",
       "      <td>0.0049</td>\n",
       "      <td>0.0659</td>\n",
       "      <td>0.0024</td>\n",
       "      <td>0.0024</td>\n",
       "    </tr>\n",
       "    <tr>\n",
       "      <th>...</th>\n",
       "      <td>...</td>\n",
       "      <td>...</td>\n",
       "      <td>...</td>\n",
       "      <td>...</td>\n",
       "      <td>...</td>\n",
       "      <td>...</td>\n",
       "      <td>...</td>\n",
       "      <td>...</td>\n",
       "      <td>...</td>\n",
       "      <td>...</td>\n",
       "    </tr>\n",
       "    <tr>\n",
       "      <th>142971</th>\n",
       "      <td>0.0293</td>\n",
       "      <td>0.0024</td>\n",
       "      <td>0.0024</td>\n",
       "      <td>0.0024</td>\n",
       "      <td>0.0024</td>\n",
       "      <td>0.0024</td>\n",
       "      <td>0.0146</td>\n",
       "      <td>0.1025</td>\n",
       "      <td>0.0024</td>\n",
       "      <td>0.0415</td>\n",
       "    </tr>\n",
       "    <tr>\n",
       "      <th>142972</th>\n",
       "      <td>0.0293</td>\n",
       "      <td>0.0024</td>\n",
       "      <td>0.0024</td>\n",
       "      <td>0.0024</td>\n",
       "      <td>0.0024</td>\n",
       "      <td>0.0024</td>\n",
       "      <td>0.0146</td>\n",
       "      <td>0.1025</td>\n",
       "      <td>0.0024</td>\n",
       "      <td>0.0415</td>\n",
       "    </tr>\n",
       "    <tr>\n",
       "      <th>142973</th>\n",
       "      <td>0.0220</td>\n",
       "      <td>0.0024</td>\n",
       "      <td>0.0024</td>\n",
       "      <td>0.0024</td>\n",
       "      <td>0.0024</td>\n",
       "      <td>0.0024</td>\n",
       "      <td>0.0073</td>\n",
       "      <td>0.0903</td>\n",
       "      <td>0.0024</td>\n",
       "      <td>0.0415</td>\n",
       "    </tr>\n",
       "    <tr>\n",
       "      <th>142974</th>\n",
       "      <td>0.0342</td>\n",
       "      <td>0.0024</td>\n",
       "      <td>0.0049</td>\n",
       "      <td>0.0024</td>\n",
       "      <td>0.0024</td>\n",
       "      <td>0.0024</td>\n",
       "      <td>0.0171</td>\n",
       "      <td>0.1172</td>\n",
       "      <td>0.0024</td>\n",
       "      <td>0.0415</td>\n",
       "    </tr>\n",
       "    <tr>\n",
       "      <th>142975</th>\n",
       "      <td>0.0415</td>\n",
       "      <td>0.0024</td>\n",
       "      <td>0.0024</td>\n",
       "      <td>0.0024</td>\n",
       "      <td>0.0024</td>\n",
       "      <td>0.0024</td>\n",
       "      <td>0.0220</td>\n",
       "      <td>0.1318</td>\n",
       "      <td>0.0024</td>\n",
       "      <td>0.0439</td>\n",
       "    </tr>\n",
       "  </tbody>\n",
       "</table>\n",
       "<p>142976 rows × 10 columns</p>\n",
       "</div>"
      ],
      "text/plain": [
       "          Emg1    Emg2    Emg3    Emg4    Emg5    Emg6    Emg7    Emg8  \\\n",
       "0       0.0024  0.0024  0.0024  0.0024  0.0024  0.0024  0.0024  0.0366   \n",
       "1       0.0024  0.0024  0.0024  0.0024  0.0024  0.0024  0.0024  0.0366   \n",
       "2       0.0024  0.0024  0.0024  0.0024  0.0024  0.0024  0.0024  0.0366   \n",
       "3       0.0195  0.0024  0.0024  0.0024  0.0024  0.0024  0.0049  0.0537   \n",
       "4       0.0293  0.0024  0.0024  0.0024  0.0024  0.0024  0.0049  0.0659   \n",
       "...        ...     ...     ...     ...     ...     ...     ...     ...   \n",
       "142971  0.0293  0.0024  0.0024  0.0024  0.0024  0.0024  0.0146  0.1025   \n",
       "142972  0.0293  0.0024  0.0024  0.0024  0.0024  0.0024  0.0146  0.1025   \n",
       "142973  0.0220  0.0024  0.0024  0.0024  0.0024  0.0024  0.0073  0.0903   \n",
       "142974  0.0342  0.0024  0.0049  0.0024  0.0024  0.0024  0.0171  0.1172   \n",
       "142975  0.0415  0.0024  0.0024  0.0024  0.0024  0.0024  0.0220  0.1318   \n",
       "\n",
       "          Emg9   Emg10  \n",
       "0       0.0024  0.0024  \n",
       "1       0.0024  0.0024  \n",
       "2       0.0024  0.0024  \n",
       "3       0.0024  0.0024  \n",
       "4       0.0024  0.0024  \n",
       "...        ...     ...  \n",
       "142971  0.0024  0.0415  \n",
       "142972  0.0024  0.0415  \n",
       "142973  0.0024  0.0415  \n",
       "142974  0.0024  0.0415  \n",
       "142975  0.0024  0.0439  \n",
       "\n",
       "[142976 rows x 10 columns]"
      ]
     },
     "execution_count": 6,
     "metadata": {},
     "output_type": "execute_result"
    }
   ],
   "source": [
    "df_2"
   ]
  },
  {
   "cell_type": "code",
   "execution_count": 7,
   "id": "7054527d",
   "metadata": {},
   "outputs": [],
   "source": [
    "stimulus_2 = pd.DataFrame(stimulus_2)\n",
    "restimulus_2 = pd.DataFrame(restimulus_2)"
   ]
  },
  {
   "cell_type": "markdown",
   "id": "b5959ab0",
   "metadata": {},
   "source": [
    "### Adding new column to existing DataFrame"
   ]
  },
  {
   "cell_type": "code",
   "execution_count": 8,
   "id": "0a5018d3",
   "metadata": {},
   "outputs": [],
   "source": [
    "df_2['stimulus'] = stimulus_2\n",
    "df_2['restimulus'] = restimulus_2"
   ]
  },
  {
   "cell_type": "code",
   "execution_count": 9,
   "id": "4361ef70",
   "metadata": {},
   "outputs": [
    {
     "data": {
      "text/html": [
       "<div>\n",
       "<style scoped>\n",
       "    .dataframe tbody tr th:only-of-type {\n",
       "        vertical-align: middle;\n",
       "    }\n",
       "\n",
       "    .dataframe tbody tr th {\n",
       "        vertical-align: top;\n",
       "    }\n",
       "\n",
       "    .dataframe thead th {\n",
       "        text-align: right;\n",
       "    }\n",
       "</style>\n",
       "<table border=\"1\" class=\"dataframe\">\n",
       "  <thead>\n",
       "    <tr style=\"text-align: right;\">\n",
       "      <th></th>\n",
       "      <th>Emg1</th>\n",
       "      <th>Emg2</th>\n",
       "      <th>Emg3</th>\n",
       "      <th>Emg4</th>\n",
       "      <th>Emg5</th>\n",
       "      <th>Emg6</th>\n",
       "      <th>Emg7</th>\n",
       "      <th>Emg8</th>\n",
       "      <th>Emg9</th>\n",
       "      <th>Emg10</th>\n",
       "      <th>stimulus</th>\n",
       "      <th>restimulus</th>\n",
       "    </tr>\n",
       "  </thead>\n",
       "  <tbody>\n",
       "    <tr>\n",
       "      <th>0</th>\n",
       "      <td>0.0024</td>\n",
       "      <td>0.0024</td>\n",
       "      <td>0.0024</td>\n",
       "      <td>0.0024</td>\n",
       "      <td>0.0024</td>\n",
       "      <td>0.0024</td>\n",
       "      <td>0.0024</td>\n",
       "      <td>0.0366</td>\n",
       "      <td>0.0024</td>\n",
       "      <td>0.0024</td>\n",
       "      <td>0</td>\n",
       "      <td>0</td>\n",
       "    </tr>\n",
       "    <tr>\n",
       "      <th>1</th>\n",
       "      <td>0.0024</td>\n",
       "      <td>0.0024</td>\n",
       "      <td>0.0024</td>\n",
       "      <td>0.0024</td>\n",
       "      <td>0.0024</td>\n",
       "      <td>0.0024</td>\n",
       "      <td>0.0024</td>\n",
       "      <td>0.0366</td>\n",
       "      <td>0.0024</td>\n",
       "      <td>0.0024</td>\n",
       "      <td>0</td>\n",
       "      <td>0</td>\n",
       "    </tr>\n",
       "    <tr>\n",
       "      <th>2</th>\n",
       "      <td>0.0024</td>\n",
       "      <td>0.0024</td>\n",
       "      <td>0.0024</td>\n",
       "      <td>0.0024</td>\n",
       "      <td>0.0024</td>\n",
       "      <td>0.0024</td>\n",
       "      <td>0.0024</td>\n",
       "      <td>0.0366</td>\n",
       "      <td>0.0024</td>\n",
       "      <td>0.0024</td>\n",
       "      <td>0</td>\n",
       "      <td>0</td>\n",
       "    </tr>\n",
       "    <tr>\n",
       "      <th>3</th>\n",
       "      <td>0.0195</td>\n",
       "      <td>0.0024</td>\n",
       "      <td>0.0024</td>\n",
       "      <td>0.0024</td>\n",
       "      <td>0.0024</td>\n",
       "      <td>0.0024</td>\n",
       "      <td>0.0049</td>\n",
       "      <td>0.0537</td>\n",
       "      <td>0.0024</td>\n",
       "      <td>0.0024</td>\n",
       "      <td>0</td>\n",
       "      <td>0</td>\n",
       "    </tr>\n",
       "    <tr>\n",
       "      <th>4</th>\n",
       "      <td>0.0293</td>\n",
       "      <td>0.0024</td>\n",
       "      <td>0.0024</td>\n",
       "      <td>0.0024</td>\n",
       "      <td>0.0024</td>\n",
       "      <td>0.0024</td>\n",
       "      <td>0.0049</td>\n",
       "      <td>0.0659</td>\n",
       "      <td>0.0024</td>\n",
       "      <td>0.0024</td>\n",
       "      <td>0</td>\n",
       "      <td>0</td>\n",
       "    </tr>\n",
       "    <tr>\n",
       "      <th>...</th>\n",
       "      <td>...</td>\n",
       "      <td>...</td>\n",
       "      <td>...</td>\n",
       "      <td>...</td>\n",
       "      <td>...</td>\n",
       "      <td>...</td>\n",
       "      <td>...</td>\n",
       "      <td>...</td>\n",
       "      <td>...</td>\n",
       "      <td>...</td>\n",
       "      <td>...</td>\n",
       "      <td>...</td>\n",
       "    </tr>\n",
       "    <tr>\n",
       "      <th>142971</th>\n",
       "      <td>0.0293</td>\n",
       "      <td>0.0024</td>\n",
       "      <td>0.0024</td>\n",
       "      <td>0.0024</td>\n",
       "      <td>0.0024</td>\n",
       "      <td>0.0024</td>\n",
       "      <td>0.0146</td>\n",
       "      <td>0.1025</td>\n",
       "      <td>0.0024</td>\n",
       "      <td>0.0415</td>\n",
       "      <td>0</td>\n",
       "      <td>0</td>\n",
       "    </tr>\n",
       "    <tr>\n",
       "      <th>142972</th>\n",
       "      <td>0.0293</td>\n",
       "      <td>0.0024</td>\n",
       "      <td>0.0024</td>\n",
       "      <td>0.0024</td>\n",
       "      <td>0.0024</td>\n",
       "      <td>0.0024</td>\n",
       "      <td>0.0146</td>\n",
       "      <td>0.1025</td>\n",
       "      <td>0.0024</td>\n",
       "      <td>0.0415</td>\n",
       "      <td>0</td>\n",
       "      <td>0</td>\n",
       "    </tr>\n",
       "    <tr>\n",
       "      <th>142973</th>\n",
       "      <td>0.0220</td>\n",
       "      <td>0.0024</td>\n",
       "      <td>0.0024</td>\n",
       "      <td>0.0024</td>\n",
       "      <td>0.0024</td>\n",
       "      <td>0.0024</td>\n",
       "      <td>0.0073</td>\n",
       "      <td>0.0903</td>\n",
       "      <td>0.0024</td>\n",
       "      <td>0.0415</td>\n",
       "      <td>0</td>\n",
       "      <td>0</td>\n",
       "    </tr>\n",
       "    <tr>\n",
       "      <th>142974</th>\n",
       "      <td>0.0342</td>\n",
       "      <td>0.0024</td>\n",
       "      <td>0.0049</td>\n",
       "      <td>0.0024</td>\n",
       "      <td>0.0024</td>\n",
       "      <td>0.0024</td>\n",
       "      <td>0.0171</td>\n",
       "      <td>0.1172</td>\n",
       "      <td>0.0024</td>\n",
       "      <td>0.0415</td>\n",
       "      <td>0</td>\n",
       "      <td>0</td>\n",
       "    </tr>\n",
       "    <tr>\n",
       "      <th>142975</th>\n",
       "      <td>0.0415</td>\n",
       "      <td>0.0024</td>\n",
       "      <td>0.0024</td>\n",
       "      <td>0.0024</td>\n",
       "      <td>0.0024</td>\n",
       "      <td>0.0024</td>\n",
       "      <td>0.0220</td>\n",
       "      <td>0.1318</td>\n",
       "      <td>0.0024</td>\n",
       "      <td>0.0439</td>\n",
       "      <td>0</td>\n",
       "      <td>0</td>\n",
       "    </tr>\n",
       "  </tbody>\n",
       "</table>\n",
       "<p>142976 rows × 12 columns</p>\n",
       "</div>"
      ],
      "text/plain": [
       "          Emg1    Emg2    Emg3    Emg4    Emg5    Emg6    Emg7    Emg8  \\\n",
       "0       0.0024  0.0024  0.0024  0.0024  0.0024  0.0024  0.0024  0.0366   \n",
       "1       0.0024  0.0024  0.0024  0.0024  0.0024  0.0024  0.0024  0.0366   \n",
       "2       0.0024  0.0024  0.0024  0.0024  0.0024  0.0024  0.0024  0.0366   \n",
       "3       0.0195  0.0024  0.0024  0.0024  0.0024  0.0024  0.0049  0.0537   \n",
       "4       0.0293  0.0024  0.0024  0.0024  0.0024  0.0024  0.0049  0.0659   \n",
       "...        ...     ...     ...     ...     ...     ...     ...     ...   \n",
       "142971  0.0293  0.0024  0.0024  0.0024  0.0024  0.0024  0.0146  0.1025   \n",
       "142972  0.0293  0.0024  0.0024  0.0024  0.0024  0.0024  0.0146  0.1025   \n",
       "142973  0.0220  0.0024  0.0024  0.0024  0.0024  0.0024  0.0073  0.0903   \n",
       "142974  0.0342  0.0024  0.0049  0.0024  0.0024  0.0024  0.0171  0.1172   \n",
       "142975  0.0415  0.0024  0.0024  0.0024  0.0024  0.0024  0.0220  0.1318   \n",
       "\n",
       "          Emg9   Emg10  stimulus  restimulus  \n",
       "0       0.0024  0.0024         0           0  \n",
       "1       0.0024  0.0024         0           0  \n",
       "2       0.0024  0.0024         0           0  \n",
       "3       0.0024  0.0024         0           0  \n",
       "4       0.0024  0.0024         0           0  \n",
       "...        ...     ...       ...         ...  \n",
       "142971  0.0024  0.0415         0           0  \n",
       "142972  0.0024  0.0415         0           0  \n",
       "142973  0.0024  0.0415         0           0  \n",
       "142974  0.0024  0.0415         0           0  \n",
       "142975  0.0024  0.0439         0           0  \n",
       "\n",
       "[142976 rows x 12 columns]"
      ]
     },
     "execution_count": 9,
     "metadata": {},
     "output_type": "execute_result"
    }
   ],
   "source": [
    "df_2"
   ]
  },
  {
   "cell_type": "markdown",
   "id": "734801b6",
   "metadata": {},
   "source": [
    "# Exploratory Data Analysis"
   ]
  },
  {
   "cell_type": "code",
   "execution_count": 10,
   "id": "7728df40",
   "metadata": {},
   "outputs": [],
   "source": [
    "import numpy as np\n",
    "import pandas as pd\n",
    "import matplotlib.pyplot as plt\n",
    "import seaborn as sns\n",
    "from sklearn.model_selection import train_test_split\n",
    "from sklearn.metrics import confusion_matrix, f1_score, accuracy_score, classification_report"
   ]
  },
  {
   "cell_type": "code",
   "execution_count": 11,
   "id": "de084581",
   "metadata": {},
   "outputs": [
    {
     "data": {
      "text/html": [
       "<div>\n",
       "<style scoped>\n",
       "    .dataframe tbody tr th:only-of-type {\n",
       "        vertical-align: middle;\n",
       "    }\n",
       "\n",
       "    .dataframe tbody tr th {\n",
       "        vertical-align: top;\n",
       "    }\n",
       "\n",
       "    .dataframe thead th {\n",
       "        text-align: right;\n",
       "    }\n",
       "</style>\n",
       "<table border=\"1\" class=\"dataframe\">\n",
       "  <thead>\n",
       "    <tr style=\"text-align: right;\">\n",
       "      <th></th>\n",
       "      <th>Emg1</th>\n",
       "      <th>Emg2</th>\n",
       "      <th>Emg3</th>\n",
       "      <th>Emg4</th>\n",
       "      <th>Emg5</th>\n",
       "      <th>Emg6</th>\n",
       "      <th>Emg7</th>\n",
       "      <th>Emg8</th>\n",
       "      <th>Emg9</th>\n",
       "      <th>Emg10</th>\n",
       "      <th>stimulus</th>\n",
       "      <th>restimulus</th>\n",
       "    </tr>\n",
       "  </thead>\n",
       "  <tbody>\n",
       "    <tr>\n",
       "      <th>73683</th>\n",
       "      <td>0.2319</td>\n",
       "      <td>0.2222</td>\n",
       "      <td>0.0513</td>\n",
       "      <td>0.0708</td>\n",
       "      <td>0.0024</td>\n",
       "      <td>0.0024</td>\n",
       "      <td>0.0342</td>\n",
       "      <td>0.2490</td>\n",
       "      <td>0.2417</td>\n",
       "      <td>0.0098</td>\n",
       "      <td>9</td>\n",
       "      <td>9</td>\n",
       "    </tr>\n",
       "    <tr>\n",
       "      <th>11731</th>\n",
       "      <td>0.0024</td>\n",
       "      <td>0.0024</td>\n",
       "      <td>0.0024</td>\n",
       "      <td>0.0024</td>\n",
       "      <td>0.0024</td>\n",
       "      <td>0.0024</td>\n",
       "      <td>0.0024</td>\n",
       "      <td>0.0684</td>\n",
       "      <td>0.0024</td>\n",
       "      <td>0.0146</td>\n",
       "      <td>2</td>\n",
       "      <td>0</td>\n",
       "    </tr>\n",
       "    <tr>\n",
       "      <th>128492</th>\n",
       "      <td>0.0586</td>\n",
       "      <td>0.0024</td>\n",
       "      <td>0.0024</td>\n",
       "      <td>0.0024</td>\n",
       "      <td>0.0024</td>\n",
       "      <td>0.0024</td>\n",
       "      <td>0.1294</td>\n",
       "      <td>0.2197</td>\n",
       "      <td>0.0024</td>\n",
       "      <td>0.0684</td>\n",
       "      <td>0</td>\n",
       "      <td>0</td>\n",
       "    </tr>\n",
       "    <tr>\n",
       "      <th>91871</th>\n",
       "      <td>0.0488</td>\n",
       "      <td>0.6226</td>\n",
       "      <td>0.0122</td>\n",
       "      <td>0.0024</td>\n",
       "      <td>0.0073</td>\n",
       "      <td>0.0024</td>\n",
       "      <td>0.6323</td>\n",
       "      <td>0.1147</td>\n",
       "      <td>0.2393</td>\n",
       "      <td>0.0610</td>\n",
       "      <td>11</td>\n",
       "      <td>11</td>\n",
       "    </tr>\n",
       "    <tr>\n",
       "      <th>27195</th>\n",
       "      <td>0.0757</td>\n",
       "      <td>0.0024</td>\n",
       "      <td>0.0024</td>\n",
       "      <td>0.0024</td>\n",
       "      <td>0.0024</td>\n",
       "      <td>0.0024</td>\n",
       "      <td>0.0244</td>\n",
       "      <td>0.0879</td>\n",
       "      <td>0.0024</td>\n",
       "      <td>0.0220</td>\n",
       "      <td>0</td>\n",
       "      <td>0</td>\n",
       "    </tr>\n",
       "  </tbody>\n",
       "</table>\n",
       "</div>"
      ],
      "text/plain": [
       "          Emg1    Emg2    Emg3    Emg4    Emg5    Emg6    Emg7    Emg8  \\\n",
       "73683   0.2319  0.2222  0.0513  0.0708  0.0024  0.0024  0.0342  0.2490   \n",
       "11731   0.0024  0.0024  0.0024  0.0024  0.0024  0.0024  0.0024  0.0684   \n",
       "128492  0.0586  0.0024  0.0024  0.0024  0.0024  0.0024  0.1294  0.2197   \n",
       "91871   0.0488  0.6226  0.0122  0.0024  0.0073  0.0024  0.6323  0.1147   \n",
       "27195   0.0757  0.0024  0.0024  0.0024  0.0024  0.0024  0.0244  0.0879   \n",
       "\n",
       "          Emg9   Emg10  stimulus  restimulus  \n",
       "73683   0.2417  0.0098         9           9  \n",
       "11731   0.0024  0.0146         2           0  \n",
       "128492  0.0024  0.0684         0           0  \n",
       "91871   0.2393  0.0610        11          11  \n",
       "27195   0.0024  0.0220         0           0  "
      ]
     },
     "execution_count": 11,
     "metadata": {},
     "output_type": "execute_result"
    }
   ],
   "source": [
    "raw_data = df_2\n",
    "raw_data.sample(5)"
   ]
  },
  {
   "cell_type": "code",
   "execution_count": 12,
   "id": "7e858342",
   "metadata": {},
   "outputs": [
    {
     "name": "stdout",
     "output_type": "stream",
     "text": [
      "The Shape of the Dataset is :  (142976, 12)\n",
      "************************************************************************************************************\n",
      "Column Names of the Dataset are :  Index(['Emg1', 'Emg2', 'Emg3', 'Emg4', 'Emg5', 'Emg6', 'Emg7', 'Emg8', 'Emg9',\n",
      "       'Emg10', 'stimulus', 'restimulus'],\n",
      "      dtype='object')\n",
      "************************************************************************************************************\n",
      "<class 'pandas.core.frame.DataFrame'>\n",
      "RangeIndex: 142976 entries, 0 to 142975\n",
      "Data columns (total 12 columns):\n",
      " #   Column      Non-Null Count   Dtype  \n",
      "---  ------      --------------   -----  \n",
      " 0   Emg1        142976 non-null  float64\n",
      " 1   Emg2        142976 non-null  float64\n",
      " 2   Emg3        142976 non-null  float64\n",
      " 3   Emg4        142976 non-null  float64\n",
      " 4   Emg5        142976 non-null  float64\n",
      " 5   Emg6        142976 non-null  float64\n",
      " 6   Emg7        142976 non-null  float64\n",
      " 7   Emg8        142976 non-null  float64\n",
      " 8   Emg9        142976 non-null  float64\n",
      " 9   Emg10       142976 non-null  float64\n",
      " 10  stimulus    142976 non-null  uint8  \n",
      " 11  restimulus  142976 non-null  uint8  \n",
      "dtypes: float64(10), uint8(2)\n",
      "memory usage: 11.2 MB\n",
      "None\n",
      "************************************************************************************************************\n"
     ]
    },
    {
     "data": {
      "text/html": [
       "<div>\n",
       "<style scoped>\n",
       "    .dataframe tbody tr th:only-of-type {\n",
       "        vertical-align: middle;\n",
       "    }\n",
       "\n",
       "    .dataframe tbody tr th {\n",
       "        vertical-align: top;\n",
       "    }\n",
       "\n",
       "    .dataframe thead th {\n",
       "        text-align: right;\n",
       "    }\n",
       "</style>\n",
       "<table border=\"1\" class=\"dataframe\">\n",
       "  <thead>\n",
       "    <tr style=\"text-align: right;\">\n",
       "      <th></th>\n",
       "      <th>Emg1</th>\n",
       "      <th>Emg2</th>\n",
       "      <th>Emg3</th>\n",
       "      <th>Emg4</th>\n",
       "      <th>Emg5</th>\n",
       "      <th>Emg6</th>\n",
       "      <th>Emg7</th>\n",
       "      <th>Emg8</th>\n",
       "      <th>Emg9</th>\n",
       "      <th>Emg10</th>\n",
       "      <th>stimulus</th>\n",
       "      <th>restimulus</th>\n",
       "    </tr>\n",
       "  </thead>\n",
       "  <tbody>\n",
       "    <tr>\n",
       "      <th>count</th>\n",
       "      <td>142976.000000</td>\n",
       "      <td>142976.000000</td>\n",
       "      <td>142976.000000</td>\n",
       "      <td>142976.000000</td>\n",
       "      <td>142976.000000</td>\n",
       "      <td>142976.000000</td>\n",
       "      <td>142976.000000</td>\n",
       "      <td>142976.000000</td>\n",
       "      <td>142976.000000</td>\n",
       "      <td>142976.000000</td>\n",
       "      <td>142976.000000</td>\n",
       "      <td>142976.000000</td>\n",
       "    </tr>\n",
       "    <tr>\n",
       "      <th>mean</th>\n",
       "      <td>0.117857</td>\n",
       "      <td>0.143417</td>\n",
       "      <td>0.066564</td>\n",
       "      <td>0.041402</td>\n",
       "      <td>0.009957</td>\n",
       "      <td>0.014334</td>\n",
       "      <td>0.265964</td>\n",
       "      <td>0.227472</td>\n",
       "      <td>0.088279</td>\n",
       "      <td>0.108198</td>\n",
       "      <td>5.529494</td>\n",
       "      <td>3.366551</td>\n",
       "    </tr>\n",
       "    <tr>\n",
       "      <th>std</th>\n",
       "      <td>0.272271</td>\n",
       "      <td>0.397495</td>\n",
       "      <td>0.239760</td>\n",
       "      <td>0.193168</td>\n",
       "      <td>0.030656</td>\n",
       "      <td>0.049708</td>\n",
       "      <td>0.599680</td>\n",
       "      <td>0.430314</td>\n",
       "      <td>0.249193</td>\n",
       "      <td>0.209482</td>\n",
       "      <td>5.824562</td>\n",
       "      <td>5.330527</td>\n",
       "    </tr>\n",
       "    <tr>\n",
       "      <th>min</th>\n",
       "      <td>0.002400</td>\n",
       "      <td>0.000000</td>\n",
       "      <td>0.002400</td>\n",
       "      <td>0.002400</td>\n",
       "      <td>0.002400</td>\n",
       "      <td>0.000000</td>\n",
       "      <td>0.002400</td>\n",
       "      <td>0.002400</td>\n",
       "      <td>0.000000</td>\n",
       "      <td>0.002400</td>\n",
       "      <td>0.000000</td>\n",
       "      <td>0.000000</td>\n",
       "    </tr>\n",
       "    <tr>\n",
       "      <th>25%</th>\n",
       "      <td>0.002400</td>\n",
       "      <td>0.002400</td>\n",
       "      <td>0.002400</td>\n",
       "      <td>0.002400</td>\n",
       "      <td>0.002400</td>\n",
       "      <td>0.002400</td>\n",
       "      <td>0.012200</td>\n",
       "      <td>0.061000</td>\n",
       "      <td>0.002400</td>\n",
       "      <td>0.022000</td>\n",
       "      <td>0.000000</td>\n",
       "      <td>0.000000</td>\n",
       "    </tr>\n",
       "    <tr>\n",
       "      <th>50%</th>\n",
       "      <td>0.017100</td>\n",
       "      <td>0.002400</td>\n",
       "      <td>0.002400</td>\n",
       "      <td>0.002400</td>\n",
       "      <td>0.002400</td>\n",
       "      <td>0.002400</td>\n",
       "      <td>0.056200</td>\n",
       "      <td>0.105000</td>\n",
       "      <td>0.002400</td>\n",
       "      <td>0.056200</td>\n",
       "      <td>4.000000</td>\n",
       "      <td>0.000000</td>\n",
       "    </tr>\n",
       "    <tr>\n",
       "      <th>75%</th>\n",
       "      <td>0.105000</td>\n",
       "      <td>0.009800</td>\n",
       "      <td>0.004900</td>\n",
       "      <td>0.002400</td>\n",
       "      <td>0.002400</td>\n",
       "      <td>0.002400</td>\n",
       "      <td>0.183100</td>\n",
       "      <td>0.207500</td>\n",
       "      <td>0.017100</td>\n",
       "      <td>0.083000</td>\n",
       "      <td>11.000000</td>\n",
       "      <td>6.000000</td>\n",
       "    </tr>\n",
       "    <tr>\n",
       "      <th>max</th>\n",
       "      <td>4.226100</td>\n",
       "      <td>4.663100</td>\n",
       "      <td>4.655800</td>\n",
       "      <td>4.663100</td>\n",
       "      <td>0.468800</td>\n",
       "      <td>1.484400</td>\n",
       "      <td>4.663100</td>\n",
       "      <td>4.665500</td>\n",
       "      <td>4.658200</td>\n",
       "      <td>2.927200</td>\n",
       "      <td>17.000000</td>\n",
       "      <td>17.000000</td>\n",
       "    </tr>\n",
       "  </tbody>\n",
       "</table>\n",
       "</div>"
      ],
      "text/plain": [
       "                Emg1           Emg2           Emg3           Emg4  \\\n",
       "count  142976.000000  142976.000000  142976.000000  142976.000000   \n",
       "mean        0.117857       0.143417       0.066564       0.041402   \n",
       "std         0.272271       0.397495       0.239760       0.193168   \n",
       "min         0.002400       0.000000       0.002400       0.002400   \n",
       "25%         0.002400       0.002400       0.002400       0.002400   \n",
       "50%         0.017100       0.002400       0.002400       0.002400   \n",
       "75%         0.105000       0.009800       0.004900       0.002400   \n",
       "max         4.226100       4.663100       4.655800       4.663100   \n",
       "\n",
       "                Emg5           Emg6           Emg7           Emg8  \\\n",
       "count  142976.000000  142976.000000  142976.000000  142976.000000   \n",
       "mean        0.009957       0.014334       0.265964       0.227472   \n",
       "std         0.030656       0.049708       0.599680       0.430314   \n",
       "min         0.002400       0.000000       0.002400       0.002400   \n",
       "25%         0.002400       0.002400       0.012200       0.061000   \n",
       "50%         0.002400       0.002400       0.056200       0.105000   \n",
       "75%         0.002400       0.002400       0.183100       0.207500   \n",
       "max         0.468800       1.484400       4.663100       4.665500   \n",
       "\n",
       "                Emg9          Emg10       stimulus     restimulus  \n",
       "count  142976.000000  142976.000000  142976.000000  142976.000000  \n",
       "mean        0.088279       0.108198       5.529494       3.366551  \n",
       "std         0.249193       0.209482       5.824562       5.330527  \n",
       "min         0.000000       0.002400       0.000000       0.000000  \n",
       "25%         0.002400       0.022000       0.000000       0.000000  \n",
       "50%         0.002400       0.056200       4.000000       0.000000  \n",
       "75%         0.017100       0.083000      11.000000       6.000000  \n",
       "max         4.658200       2.927200      17.000000      17.000000  "
      ]
     },
     "execution_count": 12,
     "metadata": {},
     "output_type": "execute_result"
    }
   ],
   "source": [
    "print(\"The Shape of the Dataset is : \",raw_data.shape)\n",
    "print(\"************************************************************************************************************\")\n",
    "print(\"Column Names of the Dataset are : \",raw_data.columns)\n",
    "print(\"************************************************************************************************************\")\n",
    "print(raw_data.info())\n",
    "print(\"************************************************************************************************************\")\n",
    "raw_data.describe(include='all')"
   ]
  },
  {
   "cell_type": "code",
   "execution_count": 13,
   "id": "53bfdc12",
   "metadata": {},
   "outputs": [
    {
     "name": "stdout",
     "output_type": "stream",
     "text": [
      "Unique Dependent values and their counts :\n",
      "0     55113\n",
      "3      5178\n",
      "8      5177\n",
      "2      5176\n",
      "13     5174\n",
      "15     5173\n",
      "12     5170\n",
      "14     5170\n",
      "7      5170\n",
      "4      5169\n",
      "9      5167\n",
      "6      5167\n",
      "11     5166\n",
      "5      5166\n",
      "1      5165\n",
      "17     5162\n",
      "10     5158\n",
      "16     5155\n",
      "Name: stimulus, dtype: int64\n"
     ]
    }
   ],
   "source": [
    "print(\"Unique Dependent values and their counts :\")\n",
    "print(raw_data[\"stimulus\"].value_counts())"
   ]
  },
  {
   "cell_type": "code",
   "execution_count": 14,
   "id": "7908f312",
   "metadata": {},
   "outputs": [
    {
     "data": {
      "text/plain": [
       "Text(0, 0.5, 'Frequency')"
      ]
     },
     "execution_count": 14,
     "metadata": {},
     "output_type": "execute_result"
    },
    {
     "data": {
      "image/png": "[encoded data removed]",
      "text/plain": [
       "<Figure size 432x288 with 1 Axes>"
      ]
     },
     "metadata": {
      "needs_background": "light"
     },
     "output_type": "display_data"
    }
   ],
   "source": [
    "count_classes = pd.value_counts(raw_data['stimulus'], sort = True)\n",
    "\n",
    "count_classes.plot(kind = 'bar', rot=0)\n",
    "\n",
    "plt.title(\"stimulus Class Distribution\")\n",
    "\n",
    "plt.xlabel(\"Class\")\n",
    "\n",
    "plt.ylabel(\"Frequency\")"
   ]
  },
  {
   "cell_type": "code",
   "execution_count": 15,
   "id": "895878d9",
   "metadata": {
    "scrolled": true
   },
   "outputs": [
    {
     "name": "stdout",
     "output_type": "stream",
     "text": [
      "Emg1          False\n",
      "Emg2          False\n",
      "Emg3          False\n",
      "Emg4          False\n",
      "Emg5          False\n",
      "Emg6          False\n",
      "Emg7          False\n",
      "Emg8          False\n",
      "Emg9          False\n",
      "Emg10         False\n",
      "stimulus      False\n",
      "restimulus    False\n",
      "dtype: bool\n"
     ]
    }
   ],
   "source": [
    "print(raw_data.isnull().any())"
   ]
  },
  {
   "cell_type": "markdown",
   "id": "6e77781d",
   "metadata": {},
   "source": [
    "# Initializing Inputs and Outputs Variables "
   ]
  },
  {
   "cell_type": "code",
   "execution_count": 16,
   "id": "539f44de",
   "metadata": {},
   "outputs": [],
   "source": [
    "X = raw_data.iloc[:,0:10]\n",
    "y = raw_data.stimulus"
   ]
  },
  {
   "cell_type": "markdown",
   "id": "dbfe52e4",
   "metadata": {},
   "source": [
    "# Scalling Data"
   ]
  },
  {
   "cell_type": "code",
   "execution_count": 17,
   "id": "3d5407bf",
   "metadata": {},
   "outputs": [],
   "source": [
    "from sklearn.preprocessing import StandardScaler"
   ]
  },
  {
   "cell_type": "code",
   "execution_count": 18,
   "id": "271fd3b8",
   "metadata": {},
   "outputs": [],
   "source": [
    "X = StandardScaler().fit_transform(X)"
   ]
  },
  {
   "cell_type": "markdown",
   "id": "ee3c6ea3",
   "metadata": {},
   "source": [
    "# T-distributed Stochastic Neighbor Embedding"
   ]
  },
  {
   "cell_type": "markdown",
   "id": "180378d1",
   "metadata": {},
   "source": [
    "https://scikit-learn.org/stable/modules/generated/sklearn.manifold.TSNE.html"
   ]
  },
  {
   "cell_type": "code",
   "execution_count": 19,
   "id": "9c954001",
   "metadata": {},
   "outputs": [],
   "source": [
    "from sklearn.manifold import TSNE"
   ]
  },
  {
   "cell_type": "code",
   "execution_count": 20,
   "id": "540b2a72",
   "metadata": {},
   "outputs": [],
   "source": [
    "X_embedded = TSNE(n_components=3,learning_rate='auto',\n",
    "                  init='random').fit_transform(X)"
   ]
  },
  {
   "cell_type": "code",
   "execution_count": 21,
   "id": "26fab5f8",
   "metadata": {},
   "outputs": [
    {
     "data": {
      "text/plain": [
       "array([[-0.42405283, -0.35476484, -0.26761785, ..., -0.44356706,\n",
       "        -0.34463085, -0.50504731],\n",
       "       [-0.42405283, -0.35476484, -0.26761785, ..., -0.44356706,\n",
       "        -0.34463085, -0.50504731],\n",
       "       [-0.42405283, -0.35476484, -0.26761785, ..., -0.44356706,\n",
       "        -0.34463085, -0.50504731],\n",
       "       ...,\n",
       "       [-0.35206546, -0.35476484, -0.26761785, ..., -0.31877389,\n",
       "        -0.34463085, -0.31839599],\n",
       "       [-0.30725699, -0.35476484, -0.25719071, ..., -0.25626111,\n",
       "        -0.34463085, -0.31839599],\n",
       "       [-0.28044536, -0.35476484, -0.26761785, ..., -0.22233224,\n",
       "        -0.34463085, -0.30693913]])"
      ]
     },
     "execution_count": 21,
     "metadata": {},
     "output_type": "execute_result"
    }
   ],
   "source": [
    "X"
   ]
  },
  {
   "cell_type": "code",
   "execution_count": 22,
   "id": "d38e13f0",
   "metadata": {},
   "outputs": [
    {
     "data": {
      "text/plain": [
       "array([[ 28.10729   , -21.254837  ,  22.706476  ],\n",
       "       [ 27.938797  , -21.741179  ,  23.259665  ],\n",
       "       [ 28.102795  , -21.257685  ,  22.7032    ],\n",
       "       ...,\n",
       "       [-16.192213  ,  16.74478   ,   0.46437088],\n",
       "       [-11.890553  ,  19.040812  ,  -1.8004599 ],\n",
       "       [ -5.55843   ,  20.8229    ,  -5.3711233 ]], dtype=float32)"
      ]
     },
     "execution_count": 22,
     "metadata": {},
     "output_type": "execute_result"
    }
   ],
   "source": [
    "X_embedded"
   ]
  },
  {
   "cell_type": "markdown",
   "id": "cdc53468",
   "metadata": {},
   "source": [
    "# Creating Pandas Data Frame for Compressed Data"
   ]
  },
  {
   "cell_type": "markdown",
   "id": "be31b3f8",
   "metadata": {},
   "source": [
    "## Independent Variable / Input Variable"
   ]
  },
  {
   "cell_type": "code",
   "execution_count": 23,
   "id": "e30f1ee3",
   "metadata": {},
   "outputs": [],
   "source": [
    "new_data = pd.DataFrame(X_embedded, \n",
    "                  columns = ['TSNE Element 1','TSNE Element 2','TSNE Element 3'])"
   ]
  },
  {
   "cell_type": "code",
   "execution_count": 24,
   "id": "d3c031c7",
   "metadata": {},
   "outputs": [
    {
     "data": {
      "text/html": [
       "<div>\n",
       "<style scoped>\n",
       "    .dataframe tbody tr th:only-of-type {\n",
       "        vertical-align: middle;\n",
       "    }\n",
       "\n",
       "    .dataframe tbody tr th {\n",
       "        vertical-align: top;\n",
       "    }\n",
       "\n",
       "    .dataframe thead th {\n",
       "        text-align: right;\n",
       "    }\n",
       "</style>\n",
       "<table border=\"1\" class=\"dataframe\">\n",
       "  <thead>\n",
       "    <tr style=\"text-align: right;\">\n",
       "      <th></th>\n",
       "      <th>TSNE Element 1</th>\n",
       "      <th>TSNE Element 2</th>\n",
       "      <th>TSNE Element 3</th>\n",
       "    </tr>\n",
       "  </thead>\n",
       "  <tbody>\n",
       "    <tr>\n",
       "      <th>0</th>\n",
       "      <td>28.107290</td>\n",
       "      <td>-21.254837</td>\n",
       "      <td>22.706476</td>\n",
       "    </tr>\n",
       "    <tr>\n",
       "      <th>1</th>\n",
       "      <td>27.938797</td>\n",
       "      <td>-21.741179</td>\n",
       "      <td>23.259665</td>\n",
       "    </tr>\n",
       "    <tr>\n",
       "      <th>2</th>\n",
       "      <td>28.102795</td>\n",
       "      <td>-21.257685</td>\n",
       "      <td>22.703199</td>\n",
       "    </tr>\n",
       "    <tr>\n",
       "      <th>3</th>\n",
       "      <td>-29.983158</td>\n",
       "      <td>-2.398693</td>\n",
       "      <td>-13.104067</td>\n",
       "    </tr>\n",
       "    <tr>\n",
       "      <th>4</th>\n",
       "      <td>-27.961206</td>\n",
       "      <td>0.629865</td>\n",
       "      <td>-14.493892</td>\n",
       "    </tr>\n",
       "    <tr>\n",
       "      <th>...</th>\n",
       "      <td>...</td>\n",
       "      <td>...</td>\n",
       "      <td>...</td>\n",
       "    </tr>\n",
       "    <tr>\n",
       "      <th>142971</th>\n",
       "      <td>-13.556616</td>\n",
       "      <td>18.107891</td>\n",
       "      <td>-1.525030</td>\n",
       "    </tr>\n",
       "    <tr>\n",
       "      <th>142972</th>\n",
       "      <td>-13.556628</td>\n",
       "      <td>18.107893</td>\n",
       "      <td>-1.525078</td>\n",
       "    </tr>\n",
       "    <tr>\n",
       "      <th>142973</th>\n",
       "      <td>-16.192213</td>\n",
       "      <td>16.744780</td>\n",
       "      <td>0.464371</td>\n",
       "    </tr>\n",
       "    <tr>\n",
       "      <th>142974</th>\n",
       "      <td>-11.890553</td>\n",
       "      <td>19.040812</td>\n",
       "      <td>-1.800460</td>\n",
       "    </tr>\n",
       "    <tr>\n",
       "      <th>142975</th>\n",
       "      <td>-5.558430</td>\n",
       "      <td>20.822901</td>\n",
       "      <td>-5.371123</td>\n",
       "    </tr>\n",
       "  </tbody>\n",
       "</table>\n",
       "<p>142976 rows × 3 columns</p>\n",
       "</div>"
      ],
      "text/plain": [
       "        TSNE Element 1  TSNE Element 2  TSNE Element 3\n",
       "0            28.107290      -21.254837       22.706476\n",
       "1            27.938797      -21.741179       23.259665\n",
       "2            28.102795      -21.257685       22.703199\n",
       "3           -29.983158       -2.398693      -13.104067\n",
       "4           -27.961206        0.629865      -14.493892\n",
       "...                ...             ...             ...\n",
       "142971      -13.556616       18.107891       -1.525030\n",
       "142972      -13.556628       18.107893       -1.525078\n",
       "142973      -16.192213       16.744780        0.464371\n",
       "142974      -11.890553       19.040812       -1.800460\n",
       "142975       -5.558430       20.822901       -5.371123\n",
       "\n",
       "[142976 rows x 3 columns]"
      ]
     },
     "execution_count": 24,
     "metadata": {},
     "output_type": "execute_result"
    }
   ],
   "source": [
    "new_data"
   ]
  },
  {
   "cell_type": "markdown",
   "id": "313e9769",
   "metadata": {},
   "source": [
    "## Dependent Variable / Output Variable"
   ]
  },
  {
   "cell_type": "code",
   "execution_count": 25,
   "id": "58cbe20d",
   "metadata": {},
   "outputs": [],
   "source": [
    "new_stimulus = raw_data[\"stimulus\"]"
   ]
  },
  {
   "cell_type": "code",
   "execution_count": 26,
   "id": "b77e69e3",
   "metadata": {},
   "outputs": [
    {
     "data": {
      "text/plain": [
       "0         0\n",
       "1         0\n",
       "2         0\n",
       "3         0\n",
       "4         0\n",
       "         ..\n",
       "142971    0\n",
       "142972    0\n",
       "142973    0\n",
       "142974    0\n",
       "142975    0\n",
       "Name: stimulus, Length: 142976, dtype: uint8"
      ]
     },
     "execution_count": 26,
     "metadata": {},
     "output_type": "execute_result"
    }
   ],
   "source": [
    "new_stimulus"
   ]
  },
  {
   "cell_type": "code",
   "execution_count": 27,
   "id": "551d1551",
   "metadata": {},
   "outputs": [],
   "source": [
    "new_restimulus = raw_data[\"restimulus\"]"
   ]
  },
  {
   "cell_type": "code",
   "execution_count": 28,
   "id": "9be6db4e",
   "metadata": {},
   "outputs": [
    {
     "data": {
      "text/plain": [
       "0         0\n",
       "1         0\n",
       "2         0\n",
       "3         0\n",
       "4         0\n",
       "         ..\n",
       "142971    0\n",
       "142972    0\n",
       "142973    0\n",
       "142974    0\n",
       "142975    0\n",
       "Name: restimulus, Length: 142976, dtype: uint8"
      ]
     },
     "execution_count": 28,
     "metadata": {},
     "output_type": "execute_result"
    }
   ],
   "source": [
    "new_restimulus"
   ]
  },
  {
   "cell_type": "code",
   "execution_count": 29,
   "id": "e0509cd4",
   "metadata": {},
   "outputs": [],
   "source": [
    "new_data['stimulus'] = new_stimulus"
   ]
  },
  {
   "cell_type": "code",
   "execution_count": 30,
   "id": "9e7d8c23",
   "metadata": {},
   "outputs": [],
   "source": [
    "new_data['restimulus'] = new_restimulus"
   ]
  },
  {
   "cell_type": "markdown",
   "id": "e8dfe8f3",
   "metadata": {},
   "source": [
    "## Final Output"
   ]
  },
  {
   "cell_type": "code",
   "execution_count": 31,
   "id": "5a8a503f",
   "metadata": {
    "scrolled": true
   },
   "outputs": [
    {
     "data": {
      "text/html": [
       "<div>\n",
       "<style scoped>\n",
       "    .dataframe tbody tr th:only-of-type {\n",
       "        vertical-align: middle;\n",
       "    }\n",
       "\n",
       "    .dataframe tbody tr th {\n",
       "        vertical-align: top;\n",
       "    }\n",
       "\n",
       "    .dataframe thead th {\n",
       "        text-align: right;\n",
       "    }\n",
       "</style>\n",
       "<table border=\"1\" class=\"dataframe\">\n",
       "  <thead>\n",
       "    <tr style=\"text-align: right;\">\n",
       "      <th></th>\n",
       "      <th>TSNE Element 1</th>\n",
       "      <th>TSNE Element 2</th>\n",
       "      <th>TSNE Element 3</th>\n",
       "      <th>stimulus</th>\n",
       "      <th>restimulus</th>\n",
       "    </tr>\n",
       "  </thead>\n",
       "  <tbody>\n",
       "    <tr>\n",
       "      <th>0</th>\n",
       "      <td>28.107290</td>\n",
       "      <td>-21.254837</td>\n",
       "      <td>22.706476</td>\n",
       "      <td>0</td>\n",
       "      <td>0</td>\n",
       "    </tr>\n",
       "    <tr>\n",
       "      <th>1</th>\n",
       "      <td>27.938797</td>\n",
       "      <td>-21.741179</td>\n",
       "      <td>23.259665</td>\n",
       "      <td>0</td>\n",
       "      <td>0</td>\n",
       "    </tr>\n",
       "    <tr>\n",
       "      <th>2</th>\n",
       "      <td>28.102795</td>\n",
       "      <td>-21.257685</td>\n",
       "      <td>22.703199</td>\n",
       "      <td>0</td>\n",
       "      <td>0</td>\n",
       "    </tr>\n",
       "    <tr>\n",
       "      <th>3</th>\n",
       "      <td>-29.983158</td>\n",
       "      <td>-2.398693</td>\n",
       "      <td>-13.104067</td>\n",
       "      <td>0</td>\n",
       "      <td>0</td>\n",
       "    </tr>\n",
       "    <tr>\n",
       "      <th>4</th>\n",
       "      <td>-27.961206</td>\n",
       "      <td>0.629865</td>\n",
       "      <td>-14.493892</td>\n",
       "      <td>0</td>\n",
       "      <td>0</td>\n",
       "    </tr>\n",
       "    <tr>\n",
       "      <th>...</th>\n",
       "      <td>...</td>\n",
       "      <td>...</td>\n",
       "      <td>...</td>\n",
       "      <td>...</td>\n",
       "      <td>...</td>\n",
       "    </tr>\n",
       "    <tr>\n",
       "      <th>142971</th>\n",
       "      <td>-13.556616</td>\n",
       "      <td>18.107891</td>\n",
       "      <td>-1.525030</td>\n",
       "      <td>0</td>\n",
       "      <td>0</td>\n",
       "    </tr>\n",
       "    <tr>\n",
       "      <th>142972</th>\n",
       "      <td>-13.556628</td>\n",
       "      <td>18.107893</td>\n",
       "      <td>-1.525078</td>\n",
       "      <td>0</td>\n",
       "      <td>0</td>\n",
       "    </tr>\n",
       "    <tr>\n",
       "      <th>142973</th>\n",
       "      <td>-16.192213</td>\n",
       "      <td>16.744780</td>\n",
       "      <td>0.464371</td>\n",
       "      <td>0</td>\n",
       "      <td>0</td>\n",
       "    </tr>\n",
       "    <tr>\n",
       "      <th>142974</th>\n",
       "      <td>-11.890553</td>\n",
       "      <td>19.040812</td>\n",
       "      <td>-1.800460</td>\n",
       "      <td>0</td>\n",
       "      <td>0</td>\n",
       "    </tr>\n",
       "    <tr>\n",
       "      <th>142975</th>\n",
       "      <td>-5.558430</td>\n",
       "      <td>20.822901</td>\n",
       "      <td>-5.371123</td>\n",
       "      <td>0</td>\n",
       "      <td>0</td>\n",
       "    </tr>\n",
       "  </tbody>\n",
       "</table>\n",
       "<p>142976 rows × 5 columns</p>\n",
       "</div>"
      ],
      "text/plain": [
       "        TSNE Element 1  TSNE Element 2  TSNE Element 3  stimulus  restimulus\n",
       "0            28.107290      -21.254837       22.706476         0           0\n",
       "1            27.938797      -21.741179       23.259665         0           0\n",
       "2            28.102795      -21.257685       22.703199         0           0\n",
       "3           -29.983158       -2.398693      -13.104067         0           0\n",
       "4           -27.961206        0.629865      -14.493892         0           0\n",
       "...                ...             ...             ...       ...         ...\n",
       "142971      -13.556616       18.107891       -1.525030         0           0\n",
       "142972      -13.556628       18.107893       -1.525078         0           0\n",
       "142973      -16.192213       16.744780        0.464371         0           0\n",
       "142974      -11.890553       19.040812       -1.800460         0           0\n",
       "142975       -5.558430       20.822901       -5.371123         0           0\n",
       "\n",
       "[142976 rows x 5 columns]"
      ]
     },
     "execution_count": 31,
     "metadata": {},
     "output_type": "execute_result"
    }
   ],
   "source": [
    "new_data"
   ]
  },
  {
   "cell_type": "markdown",
   "id": "94ec0dd1",
   "metadata": {},
   "source": [
    "## Exploratory Data Analysis for the Compressed Dataset"
   ]
  },
  {
   "cell_type": "code",
   "execution_count": 32,
   "id": "66cf0b43",
   "metadata": {},
   "outputs": [
    {
     "name": "stdout",
     "output_type": "stream",
     "text": [
      "TSNE Element 1    False\n",
      "TSNE Element 2    False\n",
      "TSNE Element 3    False\n",
      "stimulus          False\n",
      "restimulus        False\n",
      "dtype: bool\n"
     ]
    }
   ],
   "source": [
    "print(new_data.isnull().any())"
   ]
  },
  {
   "cell_type": "code",
   "execution_count": 33,
   "id": "3e882a1d",
   "metadata": {},
   "outputs": [
    {
     "data": {
      "text/plain": [
       "TSNE Element 1    0\n",
       "TSNE Element 2    0\n",
       "TSNE Element 3    0\n",
       "stimulus          0\n",
       "restimulus        0\n",
       "dtype: int64"
      ]
     },
     "execution_count": 33,
     "metadata": {},
     "output_type": "execute_result"
    }
   ],
   "source": [
    "new_data.isna().sum()"
   ]
  },
  {
   "cell_type": "code",
   "execution_count": 34,
   "id": "24f9892b",
   "metadata": {},
   "outputs": [
    {
     "data": {
      "text/plain": [
       "(142976, 5)"
      ]
     },
     "execution_count": 34,
     "metadata": {},
     "output_type": "execute_result"
    }
   ],
   "source": [
    "new_data.shape"
   ]
  },
  {
   "cell_type": "code",
   "execution_count": 35,
   "id": "5931bcd3",
   "metadata": {},
   "outputs": [
    {
     "name": "stdout",
     "output_type": "stream",
     "text": [
      "<class 'pandas.core.frame.DataFrame'>\n",
      "RangeIndex: 142976 entries, 0 to 142975\n",
      "Data columns (total 5 columns):\n",
      " #   Column          Non-Null Count   Dtype  \n",
      "---  ------          --------------   -----  \n",
      " 0   TSNE Element 1  142976 non-null  float32\n",
      " 1   TSNE Element 2  142976 non-null  float32\n",
      " 2   TSNE Element 3  142976 non-null  float32\n",
      " 3   stimulus        142976 non-null  uint8  \n",
      " 4   restimulus      142976 non-null  uint8  \n",
      "dtypes: float32(3), uint8(2)\n",
      "memory usage: 1.9 MB\n"
     ]
    }
   ],
   "source": [
    "new_data.info()"
   ]
  },
  {
   "cell_type": "markdown",
   "id": "4ed9944c",
   "metadata": {},
   "source": [
    "# Custom Outlier Detection"
   ]
  },
  {
   "cell_type": "code",
   "execution_count": 36,
   "id": "2063d596",
   "metadata": {},
   "outputs": [],
   "source": [
    "index_names = new_data[ (new_data['stimulus'] != new_data['restimulus'])].index\n",
    "new_data.drop(index_names, inplace = True)"
   ]
  },
  {
   "cell_type": "code",
   "execution_count": 37,
   "id": "6193b384",
   "metadata": {},
   "outputs": [
    {
     "name": "stdout",
     "output_type": "stream",
     "text": [
      "Previous Dataset Shape was :  (142976, 12)\n",
      "New Dataset Shape is :  (107824, 5)\n"
     ]
    }
   ],
   "source": [
    "print('Previous Dataset Shape was : ', raw_data.shape)\n",
    "print('New Dataset Shape is : ', new_data.shape)"
   ]
  },
  {
   "cell_type": "code",
   "execution_count": 38,
   "id": "116e08f1",
   "metadata": {},
   "outputs": [
    {
     "name": "stdout",
     "output_type": "stream",
     "text": [
      "Unique Dependent values and their counts for New Dataset :\n",
      "0     54869\n",
      "17     4196\n",
      "12     3604\n",
      "6      3583\n",
      "9      3502\n",
      "16     3391\n",
      "1      3358\n",
      "2      3168\n",
      "3      3130\n",
      "7      3079\n",
      "13     3064\n",
      "10     3012\n",
      "4      2966\n",
      "8      2858\n",
      "11     2764\n",
      "15     2656\n",
      "5      2537\n",
      "14     2087\n",
      "Name: stimulus, dtype: int64\n"
     ]
    }
   ],
   "source": [
    "print(\"Unique Dependent values and their counts for New Dataset :\")\n",
    "print(new_data[\"stimulus\"].value_counts())"
   ]
  },
  {
   "cell_type": "markdown",
   "id": "1c7b1229",
   "metadata": {},
   "source": [
    "# CSV File Conversion"
   ]
  },
  {
   "cell_type": "code",
   "execution_count": 39,
   "id": "885916a2",
   "metadata": {},
   "outputs": [
    {
     "data": {
      "text/html": [
       "<div>\n",
       "<style scoped>\n",
       "    .dataframe tbody tr th:only-of-type {\n",
       "        vertical-align: middle;\n",
       "    }\n",
       "\n",
       "    .dataframe tbody tr th {\n",
       "        vertical-align: top;\n",
       "    }\n",
       "\n",
       "    .dataframe thead th {\n",
       "        text-align: right;\n",
       "    }\n",
       "</style>\n",
       "<table border=\"1\" class=\"dataframe\">\n",
       "  <thead>\n",
       "    <tr style=\"text-align: right;\">\n",
       "      <th></th>\n",
       "      <th>TSNE Element 1</th>\n",
       "      <th>TSNE Element 2</th>\n",
       "      <th>TSNE Element 3</th>\n",
       "      <th>stimulus</th>\n",
       "      <th>restimulus</th>\n",
       "    </tr>\n",
       "  </thead>\n",
       "  <tbody>\n",
       "    <tr>\n",
       "      <th>0</th>\n",
       "      <td>28.107290</td>\n",
       "      <td>-21.254837</td>\n",
       "      <td>22.706476</td>\n",
       "      <td>0</td>\n",
       "      <td>0</td>\n",
       "    </tr>\n",
       "    <tr>\n",
       "      <th>1</th>\n",
       "      <td>27.938797</td>\n",
       "      <td>-21.741179</td>\n",
       "      <td>23.259665</td>\n",
       "      <td>0</td>\n",
       "      <td>0</td>\n",
       "    </tr>\n",
       "    <tr>\n",
       "      <th>2</th>\n",
       "      <td>28.102795</td>\n",
       "      <td>-21.257685</td>\n",
       "      <td>22.703199</td>\n",
       "      <td>0</td>\n",
       "      <td>0</td>\n",
       "    </tr>\n",
       "    <tr>\n",
       "      <th>3</th>\n",
       "      <td>-29.983158</td>\n",
       "      <td>-2.398693</td>\n",
       "      <td>-13.104067</td>\n",
       "      <td>0</td>\n",
       "      <td>0</td>\n",
       "    </tr>\n",
       "    <tr>\n",
       "      <th>4</th>\n",
       "      <td>-27.961206</td>\n",
       "      <td>0.629865</td>\n",
       "      <td>-14.493892</td>\n",
       "      <td>0</td>\n",
       "      <td>0</td>\n",
       "    </tr>\n",
       "    <tr>\n",
       "      <th>...</th>\n",
       "      <td>...</td>\n",
       "      <td>...</td>\n",
       "      <td>...</td>\n",
       "      <td>...</td>\n",
       "      <td>...</td>\n",
       "    </tr>\n",
       "    <tr>\n",
       "      <th>142971</th>\n",
       "      <td>-13.556616</td>\n",
       "      <td>18.107891</td>\n",
       "      <td>-1.525030</td>\n",
       "      <td>0</td>\n",
       "      <td>0</td>\n",
       "    </tr>\n",
       "    <tr>\n",
       "      <th>142972</th>\n",
       "      <td>-13.556628</td>\n",
       "      <td>18.107893</td>\n",
       "      <td>-1.525078</td>\n",
       "      <td>0</td>\n",
       "      <td>0</td>\n",
       "    </tr>\n",
       "    <tr>\n",
       "      <th>142973</th>\n",
       "      <td>-16.192213</td>\n",
       "      <td>16.744780</td>\n",
       "      <td>0.464371</td>\n",
       "      <td>0</td>\n",
       "      <td>0</td>\n",
       "    </tr>\n",
       "    <tr>\n",
       "      <th>142974</th>\n",
       "      <td>-11.890553</td>\n",
       "      <td>19.040812</td>\n",
       "      <td>-1.800460</td>\n",
       "      <td>0</td>\n",
       "      <td>0</td>\n",
       "    </tr>\n",
       "    <tr>\n",
       "      <th>142975</th>\n",
       "      <td>-5.558430</td>\n",
       "      <td>20.822901</td>\n",
       "      <td>-5.371123</td>\n",
       "      <td>0</td>\n",
       "      <td>0</td>\n",
       "    </tr>\n",
       "  </tbody>\n",
       "</table>\n",
       "<p>107824 rows × 5 columns</p>\n",
       "</div>"
      ],
      "text/plain": [
       "        TSNE Element 1  TSNE Element 2  TSNE Element 3  stimulus  restimulus\n",
       "0            28.107290      -21.254837       22.706476         0           0\n",
       "1            27.938797      -21.741179       23.259665         0           0\n",
       "2            28.102795      -21.257685       22.703199         0           0\n",
       "3           -29.983158       -2.398693      -13.104067         0           0\n",
       "4           -27.961206        0.629865      -14.493892         0           0\n",
       "...                ...             ...             ...       ...         ...\n",
       "142971      -13.556616       18.107891       -1.525030         0           0\n",
       "142972      -13.556628       18.107893       -1.525078         0           0\n",
       "142973      -16.192213       16.744780        0.464371         0           0\n",
       "142974      -11.890553       19.040812       -1.800460         0           0\n",
       "142975       -5.558430       20.822901       -5.371123         0           0\n",
       "\n",
       "[107824 rows x 5 columns]"
      ]
     },
     "execution_count": 39,
     "metadata": {},
     "output_type": "execute_result"
    }
   ],
   "source": [
    "new_data"
   ]
  },
  {
   "cell_type": "code",
   "execution_count": 40,
   "id": "8b2d7879",
   "metadata": {},
   "outputs": [],
   "source": [
    "new_data.to_csv(r\"TSNE_Exercise_2.csv\",index = False)"
   ]
  }
 ],
 "metadata": {
  "kernelspec": {
   "display_name": "Python 3 (ipykernel)",
   "language": "python",
   "name": "python3"
  },
  "language_info": {
   "codemirror_mode": {
    "name": "ipython",
    "version": 3
   },
   "file_extension": ".py",
   "mimetype": "text/x-python",
   "name": "python",
   "nbconvert_exporter": "python",
   "pygments_lexer": "ipython3",
   "version": "3.8.12"
  }
 },
 "nbformat": 4,
 "nbformat_minor": 5
}
