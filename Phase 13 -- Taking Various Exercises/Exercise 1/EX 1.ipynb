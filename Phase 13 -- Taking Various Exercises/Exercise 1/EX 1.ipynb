{
 "cells": [
  {
   "cell_type": "markdown",
   "id": "f47ebb05",
   "metadata": {},
   "source": [
    "# Importing Libraires "
   ]
  },
  {
   "cell_type": "code",
   "execution_count": 1,
   "id": "5ee40bfd",
   "metadata": {},
   "outputs": [],
   "source": [
    "import pandas as pd\n",
    "from scipy.io import loadmat"
   ]
  },
  {
   "cell_type": "markdown",
   "id": "77396486",
   "metadata": {},
   "source": [
    "# Loading Exercise 1"
   ]
  },
  {
   "cell_type": "code",
   "execution_count": 2,
   "id": "42934249",
   "metadata": {},
   "outputs": [],
   "source": [
    "Exercise_1 = loadmat(r\"S1_A1_E1.mat\")"
   ]
  },
  {
   "cell_type": "code",
   "execution_count": 3,
   "id": "e55de7f5",
   "metadata": {},
   "outputs": [
    {
     "name": "stdout",
     "output_type": "stream",
     "text": [
      "{'__header__': b'MATLAB 5.0 MAT-file, Platform: MACI64, Created on: Mon Jul 28 11:54:15 2014', '__version__': '1.0', '__globals__': [], 'emg': array([[0.0684, 0.0024, 0.0024, ..., 0.0488, 0.0024, 0.0342],\n",
      "       [0.0586, 0.0024, 0.0024, ..., 0.0415, 0.0024, 0.0293],\n",
      "       [0.0562, 0.0024, 0.0024, ..., 0.0391, 0.0024, 0.0244],\n",
      "       ...,\n",
      "       [0.0024, 0.0024, 0.0024, ..., 0.0342, 0.0024, 0.0073],\n",
      "       [0.0024, 0.0024, 0.0024, ..., 0.0366, 0.0024, 0.0073],\n",
      "       [0.0024, 0.0024, 0.0024, ..., 0.0391, 0.0024, 0.0024]]), 'stimulus': array([[0],\n",
      "       [0],\n",
      "       [0],\n",
      "       ...,\n",
      "       [0],\n",
      "       [0],\n",
      "       [0]], dtype=uint8), 'glove': array([[146., 121., 113., ..., 131., 135., 115.],\n",
      "       [146., 121., 113., ..., 131., 135., 115.],\n",
      "       [146., 121., 113., ..., 131., 135., 115.],\n",
      "       ...,\n",
      "       [161., 128., 122., ..., 155., 131., 116.],\n",
      "       [161., 128., 122., ..., 155., 131., 116.],\n",
      "       [161., 128., 122., ..., 155., 131., 116.]]), 'subject': array([[1]], dtype=uint8), 'exercise': array([[1]], dtype=uint8), 'repetition': array([[0],\n",
      "       [0],\n",
      "       [0],\n",
      "       ...,\n",
      "       [0],\n",
      "       [0],\n",
      "       [0]], dtype=uint8), 'restimulus': array([[0],\n",
      "       [0],\n",
      "       [0],\n",
      "       ...,\n",
      "       [0],\n",
      "       [0],\n",
      "       [0]], dtype=uint8), 'rerepetition': array([[0],\n",
      "       [0],\n",
      "       [0],\n",
      "       ...,\n",
      "       [0],\n",
      "       [0],\n",
      "       [0]], dtype=uint8)}\n"
     ]
    }
   ],
   "source": [
    "print(Exercise_1)"
   ]
  },
  {
   "cell_type": "code",
   "execution_count": 4,
   "id": "c880759c",
   "metadata": {},
   "outputs": [
    {
     "name": "stdout",
     "output_type": "stream",
     "text": [
      "dict_keys(['__header__', '__version__', '__globals__', 'emg', 'stimulus', 'glove', 'subject', 'exercise', 'repetition', 'restimulus', 'rerepetition'])\n"
     ]
    }
   ],
   "source": [
    "print(Exercise_1.keys())"
   ]
  },
  {
   "cell_type": "code",
   "execution_count": 5,
   "id": "349adc4b",
   "metadata": {},
   "outputs": [],
   "source": [
    "emg_1 = Exercise_1['emg']\n",
    "stimulus_1 = Exercise_1['stimulus']\n",
    "restimulus_1 = Exercise_1['restimulus']"
   ]
  },
  {
   "cell_type": "markdown",
   "id": "273ec344",
   "metadata": {},
   "source": [
    "# DataFramae "
   ]
  },
  {
   "cell_type": "markdown",
   "id": "8bdf0b81",
   "metadata": {},
   "source": [
    "### Convert the dictionary into DataFrame"
   ]
  },
  {
   "cell_type": "code",
   "execution_count": 6,
   "id": "458cc26d",
   "metadata": {},
   "outputs": [],
   "source": [
    "# Custom Column Names "
   ]
  },
  {
   "cell_type": "code",
   "execution_count": 7,
   "id": "e1272d4d",
   "metadata": {},
   "outputs": [],
   "source": [
    "df_1= pd.DataFrame(emg_1, \n",
    "                  columns = ['Emg1','Emg2','Emg3','Emg4','Emg5','Emg6','Emg7','Emg8','Emg9','Emg10'])"
   ]
  },
  {
   "cell_type": "code",
   "execution_count": 8,
   "id": "85b54ce7",
   "metadata": {},
   "outputs": [
    {
     "data": {
      "text/html": [
       "<div>\n",
       "<style scoped>\n",
       "    .dataframe tbody tr th:only-of-type {\n",
       "        vertical-align: middle;\n",
       "    }\n",
       "\n",
       "    .dataframe tbody tr th {\n",
       "        vertical-align: top;\n",
       "    }\n",
       "\n",
       "    .dataframe thead th {\n",
       "        text-align: right;\n",
       "    }\n",
       "</style>\n",
       "<table border=\"1\" class=\"dataframe\">\n",
       "  <thead>\n",
       "    <tr style=\"text-align: right;\">\n",
       "      <th></th>\n",
       "      <th>Emg1</th>\n",
       "      <th>Emg2</th>\n",
       "      <th>Emg3</th>\n",
       "      <th>Emg4</th>\n",
       "      <th>Emg5</th>\n",
       "      <th>Emg6</th>\n",
       "      <th>Emg7</th>\n",
       "      <th>Emg8</th>\n",
       "      <th>Emg9</th>\n",
       "      <th>Emg10</th>\n",
       "    </tr>\n",
       "  </thead>\n",
       "  <tbody>\n",
       "    <tr>\n",
       "      <th>0</th>\n",
       "      <td>0.0684</td>\n",
       "      <td>0.0024</td>\n",
       "      <td>0.0024</td>\n",
       "      <td>0.0024</td>\n",
       "      <td>0.0024</td>\n",
       "      <td>0.0098</td>\n",
       "      <td>0.0024</td>\n",
       "      <td>0.0488</td>\n",
       "      <td>0.0024</td>\n",
       "      <td>0.0342</td>\n",
       "    </tr>\n",
       "    <tr>\n",
       "      <th>1</th>\n",
       "      <td>0.0586</td>\n",
       "      <td>0.0024</td>\n",
       "      <td>0.0024</td>\n",
       "      <td>0.0024</td>\n",
       "      <td>0.0024</td>\n",
       "      <td>0.0049</td>\n",
       "      <td>0.0024</td>\n",
       "      <td>0.0415</td>\n",
       "      <td>0.0024</td>\n",
       "      <td>0.0293</td>\n",
       "    </tr>\n",
       "    <tr>\n",
       "      <th>2</th>\n",
       "      <td>0.0562</td>\n",
       "      <td>0.0024</td>\n",
       "      <td>0.0024</td>\n",
       "      <td>0.0024</td>\n",
       "      <td>0.0024</td>\n",
       "      <td>0.0049</td>\n",
       "      <td>0.0024</td>\n",
       "      <td>0.0391</td>\n",
       "      <td>0.0024</td>\n",
       "      <td>0.0244</td>\n",
       "    </tr>\n",
       "    <tr>\n",
       "      <th>3</th>\n",
       "      <td>0.0562</td>\n",
       "      <td>0.0024</td>\n",
       "      <td>0.0024</td>\n",
       "      <td>0.0024</td>\n",
       "      <td>0.0024</td>\n",
       "      <td>0.0049</td>\n",
       "      <td>0.0024</td>\n",
       "      <td>0.0342</td>\n",
       "      <td>0.0024</td>\n",
       "      <td>0.0171</td>\n",
       "    </tr>\n",
       "    <tr>\n",
       "      <th>4</th>\n",
       "      <td>0.0488</td>\n",
       "      <td>0.0024</td>\n",
       "      <td>0.0024</td>\n",
       "      <td>0.0024</td>\n",
       "      <td>0.0024</td>\n",
       "      <td>0.0024</td>\n",
       "      <td>0.0024</td>\n",
       "      <td>0.0366</td>\n",
       "      <td>0.0024</td>\n",
       "      <td>0.0146</td>\n",
       "    </tr>\n",
       "    <tr>\n",
       "      <th>...</th>\n",
       "      <td>...</td>\n",
       "      <td>...</td>\n",
       "      <td>...</td>\n",
       "      <td>...</td>\n",
       "      <td>...</td>\n",
       "      <td>...</td>\n",
       "      <td>...</td>\n",
       "      <td>...</td>\n",
       "      <td>...</td>\n",
       "      <td>...</td>\n",
       "    </tr>\n",
       "    <tr>\n",
       "      <th>101009</th>\n",
       "      <td>0.0024</td>\n",
       "      <td>0.0024</td>\n",
       "      <td>0.0024</td>\n",
       "      <td>0.0024</td>\n",
       "      <td>0.0049</td>\n",
       "      <td>0.0024</td>\n",
       "      <td>0.0024</td>\n",
       "      <td>0.0366</td>\n",
       "      <td>0.0024</td>\n",
       "      <td>0.0024</td>\n",
       "    </tr>\n",
       "    <tr>\n",
       "      <th>101010</th>\n",
       "      <td>0.0024</td>\n",
       "      <td>0.0024</td>\n",
       "      <td>0.0024</td>\n",
       "      <td>0.0024</td>\n",
       "      <td>0.0024</td>\n",
       "      <td>0.0024</td>\n",
       "      <td>0.0024</td>\n",
       "      <td>0.0342</td>\n",
       "      <td>0.0024</td>\n",
       "      <td>0.0024</td>\n",
       "    </tr>\n",
       "    <tr>\n",
       "      <th>101011</th>\n",
       "      <td>0.0024</td>\n",
       "      <td>0.0024</td>\n",
       "      <td>0.0024</td>\n",
       "      <td>0.0024</td>\n",
       "      <td>0.0024</td>\n",
       "      <td>0.0024</td>\n",
       "      <td>0.0024</td>\n",
       "      <td>0.0342</td>\n",
       "      <td>0.0024</td>\n",
       "      <td>0.0073</td>\n",
       "    </tr>\n",
       "    <tr>\n",
       "      <th>101012</th>\n",
       "      <td>0.0024</td>\n",
       "      <td>0.0024</td>\n",
       "      <td>0.0024</td>\n",
       "      <td>0.0024</td>\n",
       "      <td>0.0024</td>\n",
       "      <td>0.0024</td>\n",
       "      <td>0.0024</td>\n",
       "      <td>0.0366</td>\n",
       "      <td>0.0024</td>\n",
       "      <td>0.0073</td>\n",
       "    </tr>\n",
       "    <tr>\n",
       "      <th>101013</th>\n",
       "      <td>0.0024</td>\n",
       "      <td>0.0024</td>\n",
       "      <td>0.0024</td>\n",
       "      <td>0.0024</td>\n",
       "      <td>0.0024</td>\n",
       "      <td>0.0024</td>\n",
       "      <td>0.0024</td>\n",
       "      <td>0.0391</td>\n",
       "      <td>0.0024</td>\n",
       "      <td>0.0024</td>\n",
       "    </tr>\n",
       "  </tbody>\n",
       "</table>\n",
       "<p>101014 rows × 10 columns</p>\n",
       "</div>"
      ],
      "text/plain": [
       "          Emg1    Emg2    Emg3    Emg4    Emg5    Emg6    Emg7    Emg8  \\\n",
       "0       0.0684  0.0024  0.0024  0.0024  0.0024  0.0098  0.0024  0.0488   \n",
       "1       0.0586  0.0024  0.0024  0.0024  0.0024  0.0049  0.0024  0.0415   \n",
       "2       0.0562  0.0024  0.0024  0.0024  0.0024  0.0049  0.0024  0.0391   \n",
       "3       0.0562  0.0024  0.0024  0.0024  0.0024  0.0049  0.0024  0.0342   \n",
       "4       0.0488  0.0024  0.0024  0.0024  0.0024  0.0024  0.0024  0.0366   \n",
       "...        ...     ...     ...     ...     ...     ...     ...     ...   \n",
       "101009  0.0024  0.0024  0.0024  0.0024  0.0049  0.0024  0.0024  0.0366   \n",
       "101010  0.0024  0.0024  0.0024  0.0024  0.0024  0.0024  0.0024  0.0342   \n",
       "101011  0.0024  0.0024  0.0024  0.0024  0.0024  0.0024  0.0024  0.0342   \n",
       "101012  0.0024  0.0024  0.0024  0.0024  0.0024  0.0024  0.0024  0.0366   \n",
       "101013  0.0024  0.0024  0.0024  0.0024  0.0024  0.0024  0.0024  0.0391   \n",
       "\n",
       "          Emg9   Emg10  \n",
       "0       0.0024  0.0342  \n",
       "1       0.0024  0.0293  \n",
       "2       0.0024  0.0244  \n",
       "3       0.0024  0.0171  \n",
       "4       0.0024  0.0146  \n",
       "...        ...     ...  \n",
       "101009  0.0024  0.0024  \n",
       "101010  0.0024  0.0024  \n",
       "101011  0.0024  0.0073  \n",
       "101012  0.0024  0.0073  \n",
       "101013  0.0024  0.0024  \n",
       "\n",
       "[101014 rows x 10 columns]"
      ]
     },
     "execution_count": 8,
     "metadata": {},
     "output_type": "execute_result"
    }
   ],
   "source": [
    "df_1"
   ]
  },
  {
   "cell_type": "code",
   "execution_count": 9,
   "id": "324b1ce9",
   "metadata": {},
   "outputs": [],
   "source": [
    "stimulus_1 = pd.DataFrame(stimulus_1)\n",
    "restimulus_1 = pd.DataFrame(restimulus_1)"
   ]
  },
  {
   "cell_type": "markdown",
   "id": "d3794043",
   "metadata": {},
   "source": [
    "### Adding new column to existing DataFrame"
   ]
  },
  {
   "cell_type": "code",
   "execution_count": 10,
   "id": "49cf1cb7",
   "metadata": {},
   "outputs": [],
   "source": [
    "df_1['stimulus'] = stimulus_1\n",
    "df_1['restimulus'] = restimulus_1"
   ]
  },
  {
   "cell_type": "markdown",
   "id": "1b9be1ed",
   "metadata": {},
   "source": [
    "# Final Output of Exercise 1 DataFrame"
   ]
  },
  {
   "cell_type": "code",
   "execution_count": 11,
   "id": "3744955a",
   "metadata": {
    "scrolled": true
   },
   "outputs": [
    {
     "data": {
      "text/html": [
       "<div>\n",
       "<style scoped>\n",
       "    .dataframe tbody tr th:only-of-type {\n",
       "        vertical-align: middle;\n",
       "    }\n",
       "\n",
       "    .dataframe tbody tr th {\n",
       "        vertical-align: top;\n",
       "    }\n",
       "\n",
       "    .dataframe thead th {\n",
       "        text-align: right;\n",
       "    }\n",
       "</style>\n",
       "<table border=\"1\" class=\"dataframe\">\n",
       "  <thead>\n",
       "    <tr style=\"text-align: right;\">\n",
       "      <th></th>\n",
       "      <th>Emg1</th>\n",
       "      <th>Emg2</th>\n",
       "      <th>Emg3</th>\n",
       "      <th>Emg4</th>\n",
       "      <th>Emg5</th>\n",
       "      <th>Emg6</th>\n",
       "      <th>Emg7</th>\n",
       "      <th>Emg8</th>\n",
       "      <th>Emg9</th>\n",
       "      <th>Emg10</th>\n",
       "      <th>stimulus</th>\n",
       "      <th>restimulus</th>\n",
       "    </tr>\n",
       "  </thead>\n",
       "  <tbody>\n",
       "    <tr>\n",
       "      <th>0</th>\n",
       "      <td>0.0684</td>\n",
       "      <td>0.0024</td>\n",
       "      <td>0.0024</td>\n",
       "      <td>0.0024</td>\n",
       "      <td>0.0024</td>\n",
       "      <td>0.0098</td>\n",
       "      <td>0.0024</td>\n",
       "      <td>0.0488</td>\n",
       "      <td>0.0024</td>\n",
       "      <td>0.0342</td>\n",
       "      <td>0</td>\n",
       "      <td>0</td>\n",
       "    </tr>\n",
       "    <tr>\n",
       "      <th>1</th>\n",
       "      <td>0.0586</td>\n",
       "      <td>0.0024</td>\n",
       "      <td>0.0024</td>\n",
       "      <td>0.0024</td>\n",
       "      <td>0.0024</td>\n",
       "      <td>0.0049</td>\n",
       "      <td>0.0024</td>\n",
       "      <td>0.0415</td>\n",
       "      <td>0.0024</td>\n",
       "      <td>0.0293</td>\n",
       "      <td>0</td>\n",
       "      <td>0</td>\n",
       "    </tr>\n",
       "    <tr>\n",
       "      <th>2</th>\n",
       "      <td>0.0562</td>\n",
       "      <td>0.0024</td>\n",
       "      <td>0.0024</td>\n",
       "      <td>0.0024</td>\n",
       "      <td>0.0024</td>\n",
       "      <td>0.0049</td>\n",
       "      <td>0.0024</td>\n",
       "      <td>0.0391</td>\n",
       "      <td>0.0024</td>\n",
       "      <td>0.0244</td>\n",
       "      <td>0</td>\n",
       "      <td>0</td>\n",
       "    </tr>\n",
       "    <tr>\n",
       "      <th>3</th>\n",
       "      <td>0.0562</td>\n",
       "      <td>0.0024</td>\n",
       "      <td>0.0024</td>\n",
       "      <td>0.0024</td>\n",
       "      <td>0.0024</td>\n",
       "      <td>0.0049</td>\n",
       "      <td>0.0024</td>\n",
       "      <td>0.0342</td>\n",
       "      <td>0.0024</td>\n",
       "      <td>0.0171</td>\n",
       "      <td>0</td>\n",
       "      <td>0</td>\n",
       "    </tr>\n",
       "    <tr>\n",
       "      <th>4</th>\n",
       "      <td>0.0488</td>\n",
       "      <td>0.0024</td>\n",
       "      <td>0.0024</td>\n",
       "      <td>0.0024</td>\n",
       "      <td>0.0024</td>\n",
       "      <td>0.0024</td>\n",
       "      <td>0.0024</td>\n",
       "      <td>0.0366</td>\n",
       "      <td>0.0024</td>\n",
       "      <td>0.0146</td>\n",
       "      <td>0</td>\n",
       "      <td>0</td>\n",
       "    </tr>\n",
       "    <tr>\n",
       "      <th>...</th>\n",
       "      <td>...</td>\n",
       "      <td>...</td>\n",
       "      <td>...</td>\n",
       "      <td>...</td>\n",
       "      <td>...</td>\n",
       "      <td>...</td>\n",
       "      <td>...</td>\n",
       "      <td>...</td>\n",
       "      <td>...</td>\n",
       "      <td>...</td>\n",
       "      <td>...</td>\n",
       "      <td>...</td>\n",
       "    </tr>\n",
       "    <tr>\n",
       "      <th>101009</th>\n",
       "      <td>0.0024</td>\n",
       "      <td>0.0024</td>\n",
       "      <td>0.0024</td>\n",
       "      <td>0.0024</td>\n",
       "      <td>0.0049</td>\n",
       "      <td>0.0024</td>\n",
       "      <td>0.0024</td>\n",
       "      <td>0.0366</td>\n",
       "      <td>0.0024</td>\n",
       "      <td>0.0024</td>\n",
       "      <td>0</td>\n",
       "      <td>0</td>\n",
       "    </tr>\n",
       "    <tr>\n",
       "      <th>101010</th>\n",
       "      <td>0.0024</td>\n",
       "      <td>0.0024</td>\n",
       "      <td>0.0024</td>\n",
       "      <td>0.0024</td>\n",
       "      <td>0.0024</td>\n",
       "      <td>0.0024</td>\n",
       "      <td>0.0024</td>\n",
       "      <td>0.0342</td>\n",
       "      <td>0.0024</td>\n",
       "      <td>0.0024</td>\n",
       "      <td>0</td>\n",
       "      <td>0</td>\n",
       "    </tr>\n",
       "    <tr>\n",
       "      <th>101011</th>\n",
       "      <td>0.0024</td>\n",
       "      <td>0.0024</td>\n",
       "      <td>0.0024</td>\n",
       "      <td>0.0024</td>\n",
       "      <td>0.0024</td>\n",
       "      <td>0.0024</td>\n",
       "      <td>0.0024</td>\n",
       "      <td>0.0342</td>\n",
       "      <td>0.0024</td>\n",
       "      <td>0.0073</td>\n",
       "      <td>0</td>\n",
       "      <td>0</td>\n",
       "    </tr>\n",
       "    <tr>\n",
       "      <th>101012</th>\n",
       "      <td>0.0024</td>\n",
       "      <td>0.0024</td>\n",
       "      <td>0.0024</td>\n",
       "      <td>0.0024</td>\n",
       "      <td>0.0024</td>\n",
       "      <td>0.0024</td>\n",
       "      <td>0.0024</td>\n",
       "      <td>0.0366</td>\n",
       "      <td>0.0024</td>\n",
       "      <td>0.0073</td>\n",
       "      <td>0</td>\n",
       "      <td>0</td>\n",
       "    </tr>\n",
       "    <tr>\n",
       "      <th>101013</th>\n",
       "      <td>0.0024</td>\n",
       "      <td>0.0024</td>\n",
       "      <td>0.0024</td>\n",
       "      <td>0.0024</td>\n",
       "      <td>0.0024</td>\n",
       "      <td>0.0024</td>\n",
       "      <td>0.0024</td>\n",
       "      <td>0.0391</td>\n",
       "      <td>0.0024</td>\n",
       "      <td>0.0024</td>\n",
       "      <td>0</td>\n",
       "      <td>0</td>\n",
       "    </tr>\n",
       "  </tbody>\n",
       "</table>\n",
       "<p>101014 rows × 12 columns</p>\n",
       "</div>"
      ],
      "text/plain": [
       "          Emg1    Emg2    Emg3    Emg4    Emg5    Emg6    Emg7    Emg8  \\\n",
       "0       0.0684  0.0024  0.0024  0.0024  0.0024  0.0098  0.0024  0.0488   \n",
       "1       0.0586  0.0024  0.0024  0.0024  0.0024  0.0049  0.0024  0.0415   \n",
       "2       0.0562  0.0024  0.0024  0.0024  0.0024  0.0049  0.0024  0.0391   \n",
       "3       0.0562  0.0024  0.0024  0.0024  0.0024  0.0049  0.0024  0.0342   \n",
       "4       0.0488  0.0024  0.0024  0.0024  0.0024  0.0024  0.0024  0.0366   \n",
       "...        ...     ...     ...     ...     ...     ...     ...     ...   \n",
       "101009  0.0024  0.0024  0.0024  0.0024  0.0049  0.0024  0.0024  0.0366   \n",
       "101010  0.0024  0.0024  0.0024  0.0024  0.0024  0.0024  0.0024  0.0342   \n",
       "101011  0.0024  0.0024  0.0024  0.0024  0.0024  0.0024  0.0024  0.0342   \n",
       "101012  0.0024  0.0024  0.0024  0.0024  0.0024  0.0024  0.0024  0.0366   \n",
       "101013  0.0024  0.0024  0.0024  0.0024  0.0024  0.0024  0.0024  0.0391   \n",
       "\n",
       "          Emg9   Emg10  stimulus  restimulus  \n",
       "0       0.0024  0.0342         0           0  \n",
       "1       0.0024  0.0293         0           0  \n",
       "2       0.0024  0.0244         0           0  \n",
       "3       0.0024  0.0171         0           0  \n",
       "4       0.0024  0.0146         0           0  \n",
       "...        ...     ...       ...         ...  \n",
       "101009  0.0024  0.0024         0           0  \n",
       "101010  0.0024  0.0024         0           0  \n",
       "101011  0.0024  0.0073         0           0  \n",
       "101012  0.0024  0.0073         0           0  \n",
       "101013  0.0024  0.0024         0           0  \n",
       "\n",
       "[101014 rows x 12 columns]"
      ]
     },
     "execution_count": 11,
     "metadata": {},
     "output_type": "execute_result"
    }
   ],
   "source": [
    "df_1"
   ]
  },
  {
   "cell_type": "code",
   "execution_count": 12,
   "id": "e6a6ec6d",
   "metadata": {
    "scrolled": true
   },
   "outputs": [
    {
     "name": "stdout",
     "output_type": "stream",
     "text": [
      "                Emg1           Emg2           Emg3           Emg4  \\\n",
      "count  101014.000000  101014.000000  101014.000000  101014.000000   \n",
      "mean        0.039693       0.086158       0.041308       0.012502   \n",
      "std         0.127180       0.231539       0.101912       0.031334   \n",
      "min         0.002400       0.000000       0.002400       0.000000   \n",
      "25%         0.002400       0.002400       0.002400       0.002400   \n",
      "50%         0.002400       0.002400       0.002400       0.002400   \n",
      "75%         0.024400       0.002400       0.012200       0.002400   \n",
      "max         2.399900       2.480500       1.340300       0.446800   \n",
      "\n",
      "                Emg5           Emg6           Emg7           Emg8  \\\n",
      "count  101014.000000  101014.000000  101014.000000  101014.000000   \n",
      "mean        0.003868       0.005367       0.167648       0.116476   \n",
      "std         0.009796       0.021238       0.403823       0.174862   \n",
      "min         0.002400       0.000000       0.002400       0.002400   \n",
      "25%         0.002400       0.002400       0.009800       0.039100   \n",
      "50%         0.002400       0.002400       0.046400       0.061000   \n",
      "75%         0.002400       0.002400       0.129400       0.109900   \n",
      "max         0.293000       0.639600       4.660600       3.000500   \n",
      "\n",
      "                Emg9          Emg10       stimulus     restimulus  \n",
      "count  101014.000000  101014.000000  101014.000000  101014.000000  \n",
      "mean        0.073460       0.054120       3.985665       2.329905  \n",
      "std         0.156381       0.112567       4.162080       3.691976  \n",
      "min         0.000000       0.002400       0.000000       0.000000  \n",
      "25%         0.002400       0.004900       0.000000       0.000000  \n",
      "50%         0.002400       0.017100       3.000000       0.000000  \n",
      "75%         0.068400       0.048800       8.000000       4.000000  \n",
      "max         1.752900       1.599100      12.000000      12.000000  \n",
      "************************************************************************************************************\n",
      "<class 'pandas.core.frame.DataFrame'>\n",
      "RangeIndex: 101014 entries, 0 to 101013\n",
      "Data columns (total 12 columns):\n",
      " #   Column      Non-Null Count   Dtype  \n",
      "---  ------      --------------   -----  \n",
      " 0   Emg1        101014 non-null  float64\n",
      " 1   Emg2        101014 non-null  float64\n",
      " 2   Emg3        101014 non-null  float64\n",
      " 3   Emg4        101014 non-null  float64\n",
      " 4   Emg5        101014 non-null  float64\n",
      " 5   Emg6        101014 non-null  float64\n",
      " 6   Emg7        101014 non-null  float64\n",
      " 7   Emg8        101014 non-null  float64\n",
      " 8   Emg9        101014 non-null  float64\n",
      " 9   Emg10       101014 non-null  float64\n",
      " 10  stimulus    101014 non-null  uint8  \n",
      " 11  restimulus  101014 non-null  uint8  \n",
      "dtypes: float64(10), uint8(2)\n",
      "memory usage: 7.9 MB\n",
      "None\n",
      "************************************************************************************************************\n",
      "Shape of the Dataset is (101014, 12)\n"
     ]
    }
   ],
   "source": [
    "print(df_1.describe(include = 'all'))\n",
    "print(\"************************************************************************************************************\")\n",
    "print(df_1.info())\n",
    "print(\"************************************************************************************************************\")\n",
    "print(\"Shape of the Dataset is\", df_1.shape)"
   ]
  },
  {
   "cell_type": "markdown",
   "id": "734801b6",
   "metadata": {},
   "source": [
    "# Exploratory Data Analysis"
   ]
  },
  {
   "cell_type": "code",
   "execution_count": 13,
   "id": "7728df40",
   "metadata": {},
   "outputs": [],
   "source": [
    "import numpy as np\n",
    "import pandas as pd\n",
    "import matplotlib.pyplot as plt\n",
    "import seaborn as sns\n",
    "from sklearn.model_selection import train_test_split\n",
    "from sklearn.metrics import confusion_matrix, f1_score, accuracy_score, classification_report"
   ]
  },
  {
   "cell_type": "code",
   "execution_count": 14,
   "id": "de084581",
   "metadata": {},
   "outputs": [
    {
     "data": {
      "text/html": [
       "<div>\n",
       "<style scoped>\n",
       "    .dataframe tbody tr th:only-of-type {\n",
       "        vertical-align: middle;\n",
       "    }\n",
       "\n",
       "    .dataframe tbody tr th {\n",
       "        vertical-align: top;\n",
       "    }\n",
       "\n",
       "    .dataframe thead th {\n",
       "        text-align: right;\n",
       "    }\n",
       "</style>\n",
       "<table border=\"1\" class=\"dataframe\">\n",
       "  <thead>\n",
       "    <tr style=\"text-align: right;\">\n",
       "      <th></th>\n",
       "      <th>Emg1</th>\n",
       "      <th>Emg2</th>\n",
       "      <th>Emg3</th>\n",
       "      <th>Emg4</th>\n",
       "      <th>Emg5</th>\n",
       "      <th>Emg6</th>\n",
       "      <th>Emg7</th>\n",
       "      <th>Emg8</th>\n",
       "      <th>Emg9</th>\n",
       "      <th>Emg10</th>\n",
       "      <th>stimulus</th>\n",
       "      <th>restimulus</th>\n",
       "    </tr>\n",
       "  </thead>\n",
       "  <tbody>\n",
       "    <tr>\n",
       "      <th>56426</th>\n",
       "      <td>0.0024</td>\n",
       "      <td>0.0024</td>\n",
       "      <td>0.0024</td>\n",
       "      <td>0.0024</td>\n",
       "      <td>0.0024</td>\n",
       "      <td>0.0024</td>\n",
       "      <td>0.0684</td>\n",
       "      <td>0.0513</td>\n",
       "      <td>0.0024</td>\n",
       "      <td>0.0244</td>\n",
       "      <td>0</td>\n",
       "      <td>0</td>\n",
       "    </tr>\n",
       "    <tr>\n",
       "      <th>93096</th>\n",
       "      <td>0.0024</td>\n",
       "      <td>0.0024</td>\n",
       "      <td>0.0024</td>\n",
       "      <td>0.0024</td>\n",
       "      <td>0.0024</td>\n",
       "      <td>0.0024</td>\n",
       "      <td>0.1099</td>\n",
       "      <td>0.0391</td>\n",
       "      <td>0.0024</td>\n",
       "      <td>0.0293</td>\n",
       "      <td>12</td>\n",
       "      <td>0</td>\n",
       "    </tr>\n",
       "    <tr>\n",
       "      <th>54559</th>\n",
       "      <td>0.0073</td>\n",
       "      <td>0.0024</td>\n",
       "      <td>0.0024</td>\n",
       "      <td>0.0024</td>\n",
       "      <td>0.0024</td>\n",
       "      <td>0.0024</td>\n",
       "      <td>0.1099</td>\n",
       "      <td>0.0757</td>\n",
       "      <td>0.0024</td>\n",
       "      <td>0.0415</td>\n",
       "      <td>0</td>\n",
       "      <td>0</td>\n",
       "    </tr>\n",
       "    <tr>\n",
       "      <th>46110</th>\n",
       "      <td>0.0024</td>\n",
       "      <td>0.0024</td>\n",
       "      <td>0.0024</td>\n",
       "      <td>0.0024</td>\n",
       "      <td>0.0024</td>\n",
       "      <td>0.0024</td>\n",
       "      <td>0.0024</td>\n",
       "      <td>0.0220</td>\n",
       "      <td>0.0024</td>\n",
       "      <td>0.0024</td>\n",
       "      <td>6</td>\n",
       "      <td>0</td>\n",
       "    </tr>\n",
       "    <tr>\n",
       "      <th>82314</th>\n",
       "      <td>0.0024</td>\n",
       "      <td>0.0024</td>\n",
       "      <td>0.0024</td>\n",
       "      <td>0.0024</td>\n",
       "      <td>0.0024</td>\n",
       "      <td>0.0024</td>\n",
       "      <td>0.0928</td>\n",
       "      <td>0.0488</td>\n",
       "      <td>0.0024</td>\n",
       "      <td>0.0024</td>\n",
       "      <td>0</td>\n",
       "      <td>0</td>\n",
       "    </tr>\n",
       "  </tbody>\n",
       "</table>\n",
       "</div>"
      ],
      "text/plain": [
       "         Emg1    Emg2    Emg3    Emg4    Emg5    Emg6    Emg7    Emg8    Emg9  \\\n",
       "56426  0.0024  0.0024  0.0024  0.0024  0.0024  0.0024  0.0684  0.0513  0.0024   \n",
       "93096  0.0024  0.0024  0.0024  0.0024  0.0024  0.0024  0.1099  0.0391  0.0024   \n",
       "54559  0.0073  0.0024  0.0024  0.0024  0.0024  0.0024  0.1099  0.0757  0.0024   \n",
       "46110  0.0024  0.0024  0.0024  0.0024  0.0024  0.0024  0.0024  0.0220  0.0024   \n",
       "82314  0.0024  0.0024  0.0024  0.0024  0.0024  0.0024  0.0928  0.0488  0.0024   \n",
       "\n",
       "        Emg10  stimulus  restimulus  \n",
       "56426  0.0244         0           0  \n",
       "93096  0.0293        12           0  \n",
       "54559  0.0415         0           0  \n",
       "46110  0.0024         6           0  \n",
       "82314  0.0024         0           0  "
      ]
     },
     "execution_count": 14,
     "metadata": {},
     "output_type": "execute_result"
    }
   ],
   "source": [
    "raw_data = df_1\n",
    "raw_data.sample(5)"
   ]
  },
  {
   "cell_type": "code",
   "execution_count": 15,
   "id": "7e858342",
   "metadata": {},
   "outputs": [
    {
     "name": "stdout",
     "output_type": "stream",
     "text": [
      "The Shape of the Dataset is :  (101014, 12)\n",
      "************************************************************************************************************\n",
      "Column Names of the Dataset are :  Index(['Emg1', 'Emg2', 'Emg3', 'Emg4', 'Emg5', 'Emg6', 'Emg7', 'Emg8', 'Emg9',\n",
      "       'Emg10', 'stimulus', 'restimulus'],\n",
      "      dtype='object')\n",
      "************************************************************************************************************\n",
      "<class 'pandas.core.frame.DataFrame'>\n",
      "RangeIndex: 101014 entries, 0 to 101013\n",
      "Data columns (total 12 columns):\n",
      " #   Column      Non-Null Count   Dtype  \n",
      "---  ------      --------------   -----  \n",
      " 0   Emg1        101014 non-null  float64\n",
      " 1   Emg2        101014 non-null  float64\n",
      " 2   Emg3        101014 non-null  float64\n",
      " 3   Emg4        101014 non-null  float64\n",
      " 4   Emg5        101014 non-null  float64\n",
      " 5   Emg6        101014 non-null  float64\n",
      " 6   Emg7        101014 non-null  float64\n",
      " 7   Emg8        101014 non-null  float64\n",
      " 8   Emg9        101014 non-null  float64\n",
      " 9   Emg10       101014 non-null  float64\n",
      " 10  stimulus    101014 non-null  uint8  \n",
      " 11  restimulus  101014 non-null  uint8  \n",
      "dtypes: float64(10), uint8(2)\n",
      "memory usage: 7.9 MB\n",
      "None\n",
      "************************************************************************************************************\n"
     ]
    },
    {
     "data": {
      "text/html": [
       "<div>\n",
       "<style scoped>\n",
       "    .dataframe tbody tr th:only-of-type {\n",
       "        vertical-align: middle;\n",
       "    }\n",
       "\n",
       "    .dataframe tbody tr th {\n",
       "        vertical-align: top;\n",
       "    }\n",
       "\n",
       "    .dataframe thead th {\n",
       "        text-align: right;\n",
       "    }\n",
       "</style>\n",
       "<table border=\"1\" class=\"dataframe\">\n",
       "  <thead>\n",
       "    <tr style=\"text-align: right;\">\n",
       "      <th></th>\n",
       "      <th>Emg1</th>\n",
       "      <th>Emg2</th>\n",
       "      <th>Emg3</th>\n",
       "      <th>Emg4</th>\n",
       "      <th>Emg5</th>\n",
       "      <th>Emg6</th>\n",
       "      <th>Emg7</th>\n",
       "      <th>Emg8</th>\n",
       "      <th>Emg9</th>\n",
       "      <th>Emg10</th>\n",
       "      <th>stimulus</th>\n",
       "      <th>restimulus</th>\n",
       "    </tr>\n",
       "  </thead>\n",
       "  <tbody>\n",
       "    <tr>\n",
       "      <th>count</th>\n",
       "      <td>101014.000000</td>\n",
       "      <td>101014.000000</td>\n",
       "      <td>101014.000000</td>\n",
       "      <td>101014.000000</td>\n",
       "      <td>101014.000000</td>\n",
       "      <td>101014.000000</td>\n",
       "      <td>101014.000000</td>\n",
       "      <td>101014.000000</td>\n",
       "      <td>101014.000000</td>\n",
       "      <td>101014.000000</td>\n",
       "      <td>101014.000000</td>\n",
       "      <td>101014.000000</td>\n",
       "    </tr>\n",
       "    <tr>\n",
       "      <th>mean</th>\n",
       "      <td>0.039693</td>\n",
       "      <td>0.086158</td>\n",
       "      <td>0.041308</td>\n",
       "      <td>0.012502</td>\n",
       "      <td>0.003868</td>\n",
       "      <td>0.005367</td>\n",
       "      <td>0.167648</td>\n",
       "      <td>0.116476</td>\n",
       "      <td>0.073460</td>\n",
       "      <td>0.054120</td>\n",
       "      <td>3.985665</td>\n",
       "      <td>2.329905</td>\n",
       "    </tr>\n",
       "    <tr>\n",
       "      <th>std</th>\n",
       "      <td>0.127180</td>\n",
       "      <td>0.231539</td>\n",
       "      <td>0.101912</td>\n",
       "      <td>0.031334</td>\n",
       "      <td>0.009796</td>\n",
       "      <td>0.021238</td>\n",
       "      <td>0.403823</td>\n",
       "      <td>0.174862</td>\n",
       "      <td>0.156381</td>\n",
       "      <td>0.112567</td>\n",
       "      <td>4.162080</td>\n",
       "      <td>3.691976</td>\n",
       "    </tr>\n",
       "    <tr>\n",
       "      <th>min</th>\n",
       "      <td>0.002400</td>\n",
       "      <td>0.000000</td>\n",
       "      <td>0.002400</td>\n",
       "      <td>0.000000</td>\n",
       "      <td>0.002400</td>\n",
       "      <td>0.000000</td>\n",
       "      <td>0.002400</td>\n",
       "      <td>0.002400</td>\n",
       "      <td>0.000000</td>\n",
       "      <td>0.002400</td>\n",
       "      <td>0.000000</td>\n",
       "      <td>0.000000</td>\n",
       "    </tr>\n",
       "    <tr>\n",
       "      <th>25%</th>\n",
       "      <td>0.002400</td>\n",
       "      <td>0.002400</td>\n",
       "      <td>0.002400</td>\n",
       "      <td>0.002400</td>\n",
       "      <td>0.002400</td>\n",
       "      <td>0.002400</td>\n",
       "      <td>0.009800</td>\n",
       "      <td>0.039100</td>\n",
       "      <td>0.002400</td>\n",
       "      <td>0.004900</td>\n",
       "      <td>0.000000</td>\n",
       "      <td>0.000000</td>\n",
       "    </tr>\n",
       "    <tr>\n",
       "      <th>50%</th>\n",
       "      <td>0.002400</td>\n",
       "      <td>0.002400</td>\n",
       "      <td>0.002400</td>\n",
       "      <td>0.002400</td>\n",
       "      <td>0.002400</td>\n",
       "      <td>0.002400</td>\n",
       "      <td>0.046400</td>\n",
       "      <td>0.061000</td>\n",
       "      <td>0.002400</td>\n",
       "      <td>0.017100</td>\n",
       "      <td>3.000000</td>\n",
       "      <td>0.000000</td>\n",
       "    </tr>\n",
       "    <tr>\n",
       "      <th>75%</th>\n",
       "      <td>0.024400</td>\n",
       "      <td>0.002400</td>\n",
       "      <td>0.012200</td>\n",
       "      <td>0.002400</td>\n",
       "      <td>0.002400</td>\n",
       "      <td>0.002400</td>\n",
       "      <td>0.129400</td>\n",
       "      <td>0.109900</td>\n",
       "      <td>0.068400</td>\n",
       "      <td>0.048800</td>\n",
       "      <td>8.000000</td>\n",
       "      <td>4.000000</td>\n",
       "    </tr>\n",
       "    <tr>\n",
       "      <th>max</th>\n",
       "      <td>2.399900</td>\n",
       "      <td>2.480500</td>\n",
       "      <td>1.340300</td>\n",
       "      <td>0.446800</td>\n",
       "      <td>0.293000</td>\n",
       "      <td>0.639600</td>\n",
       "      <td>4.660600</td>\n",
       "      <td>3.000500</td>\n",
       "      <td>1.752900</td>\n",
       "      <td>1.599100</td>\n",
       "      <td>12.000000</td>\n",
       "      <td>12.000000</td>\n",
       "    </tr>\n",
       "  </tbody>\n",
       "</table>\n",
       "</div>"
      ],
      "text/plain": [
       "                Emg1           Emg2           Emg3           Emg4  \\\n",
       "count  101014.000000  101014.000000  101014.000000  101014.000000   \n",
       "mean        0.039693       0.086158       0.041308       0.012502   \n",
       "std         0.127180       0.231539       0.101912       0.031334   \n",
       "min         0.002400       0.000000       0.002400       0.000000   \n",
       "25%         0.002400       0.002400       0.002400       0.002400   \n",
       "50%         0.002400       0.002400       0.002400       0.002400   \n",
       "75%         0.024400       0.002400       0.012200       0.002400   \n",
       "max         2.399900       2.480500       1.340300       0.446800   \n",
       "\n",
       "                Emg5           Emg6           Emg7           Emg8  \\\n",
       "count  101014.000000  101014.000000  101014.000000  101014.000000   \n",
       "mean        0.003868       0.005367       0.167648       0.116476   \n",
       "std         0.009796       0.021238       0.403823       0.174862   \n",
       "min         0.002400       0.000000       0.002400       0.002400   \n",
       "25%         0.002400       0.002400       0.009800       0.039100   \n",
       "50%         0.002400       0.002400       0.046400       0.061000   \n",
       "75%         0.002400       0.002400       0.129400       0.109900   \n",
       "max         0.293000       0.639600       4.660600       3.000500   \n",
       "\n",
       "                Emg9          Emg10       stimulus     restimulus  \n",
       "count  101014.000000  101014.000000  101014.000000  101014.000000  \n",
       "mean        0.073460       0.054120       3.985665       2.329905  \n",
       "std         0.156381       0.112567       4.162080       3.691976  \n",
       "min         0.000000       0.002400       0.000000       0.000000  \n",
       "25%         0.002400       0.004900       0.000000       0.000000  \n",
       "50%         0.002400       0.017100       3.000000       0.000000  \n",
       "75%         0.068400       0.048800       8.000000       4.000000  \n",
       "max         1.752900       1.599100      12.000000      12.000000  "
      ]
     },
     "execution_count": 15,
     "metadata": {},
     "output_type": "execute_result"
    }
   ],
   "source": [
    "print(\"The Shape of the Dataset is : \",raw_data.shape)\n",
    "print(\"************************************************************************************************************\")\n",
    "print(\"Column Names of the Dataset are : \",raw_data.columns)\n",
    "print(\"************************************************************************************************************\")\n",
    "print(raw_data.info())\n",
    "print(\"************************************************************************************************************\")\n",
    "raw_data.describe(include='all')"
   ]
  },
  {
   "cell_type": "code",
   "execution_count": 16,
   "id": "53bfdc12",
   "metadata": {},
   "outputs": [
    {
     "name": "stdout",
     "output_type": "stream",
     "text": [
      "Unique Dependent values and their counts :\n",
      "0     39063\n",
      "2      5174\n",
      "4      5173\n",
      "5      5173\n",
      "12     5173\n",
      "8      5172\n",
      "7      5171\n",
      "6      5170\n",
      "11     5166\n",
      "3      5158\n",
      "1      5149\n",
      "10     5137\n",
      "9      5135\n",
      "Name: stimulus, dtype: int64\n"
     ]
    }
   ],
   "source": [
    "print(\"Unique Dependent values and their counts :\")\n",
    "print(raw_data[\"stimulus\"].value_counts())"
   ]
  },
  {
   "cell_type": "code",
   "execution_count": 17,
   "id": "7908f312",
   "metadata": {},
   "outputs": [
    {
     "data": {
      "text/plain": [
       "Text(0, 0.5, 'Frequency')"
      ]
     },
     "execution_count": 17,
     "metadata": {},
     "output_type": "execute_result"
    },
    {
     "data": {
      "image/png": "[encoded data removed]",
      "text/plain": [
       "<Figure size 432x288 with 1 Axes>"
      ]
     },
     "metadata": {
      "needs_background": "light"
     },
     "output_type": "display_data"
    }
   ],
   "source": [
    "count_classes = pd.value_counts(raw_data['stimulus'], sort = True)\n",
    "\n",
    "count_classes.plot(kind = 'bar', rot=0)\n",
    "\n",
    "plt.title(\"stimulus Class Distribution\")\n",
    "\n",
    "plt.xlabel(\"Class\")\n",
    "\n",
    "plt.ylabel(\"Frequency\")"
   ]
  },
  {
   "cell_type": "code",
   "execution_count": 18,
   "id": "895878d9",
   "metadata": {
    "scrolled": true
   },
   "outputs": [
    {
     "name": "stdout",
     "output_type": "stream",
     "text": [
      "Emg1          False\n",
      "Emg2          False\n",
      "Emg3          False\n",
      "Emg4          False\n",
      "Emg5          False\n",
      "Emg6          False\n",
      "Emg7          False\n",
      "Emg8          False\n",
      "Emg9          False\n",
      "Emg10         False\n",
      "stimulus      False\n",
      "restimulus    False\n",
      "dtype: bool\n"
     ]
    }
   ],
   "source": [
    "print(raw_data.isnull().any())"
   ]
  },
  {
   "cell_type": "markdown",
   "id": "6e77781d",
   "metadata": {},
   "source": [
    "# Initializing Inputs and Outputs Variables "
   ]
  },
  {
   "cell_type": "code",
   "execution_count": 19,
   "id": "539f44de",
   "metadata": {},
   "outputs": [],
   "source": [
    "X = raw_data.iloc[:,0:10]\n",
    "y = raw_data.stimulus"
   ]
  },
  {
   "cell_type": "markdown",
   "id": "dbfe52e4",
   "metadata": {},
   "source": [
    "# Scalling Data"
   ]
  },
  {
   "cell_type": "code",
   "execution_count": 20,
   "id": "3d5407bf",
   "metadata": {},
   "outputs": [],
   "source": [
    "from sklearn.preprocessing import StandardScaler"
   ]
  },
  {
   "cell_type": "code",
   "execution_count": 21,
   "id": "271fd3b8",
   "metadata": {},
   "outputs": [],
   "source": [
    "X = StandardScaler().fit_transform(X)"
   ]
  },
  {
   "cell_type": "markdown",
   "id": "ee3c6ea3",
   "metadata": {},
   "source": [
    "# T-distributed Stochastic Neighbor Embedding"
   ]
  },
  {
   "cell_type": "markdown",
   "id": "180378d1",
   "metadata": {},
   "source": [
    "https://scikit-learn.org/stable/modules/generated/sklearn.manifold.TSNE.html"
   ]
  },
  {
   "cell_type": "code",
   "execution_count": 22,
   "id": "9c954001",
   "metadata": {},
   "outputs": [],
   "source": [
    "from sklearn.manifold import TSNE"
   ]
  },
  {
   "cell_type": "code",
   "execution_count": 23,
   "id": "540b2a72",
   "metadata": {},
   "outputs": [],
   "source": [
    "X_embedded = TSNE(n_components=3,learning_rate='auto',\n",
    "                  init='random').fit_transform(X)"
   ]
  },
  {
   "cell_type": "code",
   "execution_count": 24,
   "id": "26fab5f8",
   "metadata": {},
   "outputs": [
    {
     "data": {
      "text/plain": [
       "array([[ 0.22572026, -0.36174587, -0.38178539, ..., -0.38702771,\n",
       "        -0.45440201, -0.17696485],\n",
       "       [ 0.14866352, -0.36174587, -0.38178539, ..., -0.42877513,\n",
       "        -0.45440201, -0.22049484],\n",
       "       [ 0.12979248, -0.36174587, -0.38178539, ..., -0.4425003 ,\n",
       "        -0.45440201, -0.26402484],\n",
       "       ...,\n",
       "       [-0.29323328, -0.36174587, -0.38178539, ..., -0.47052254,\n",
       "        -0.45440201, -0.41593563],\n",
       "       [-0.29323328, -0.36174587, -0.38178539, ..., -0.45679736,\n",
       "        -0.45440201, -0.41593563],\n",
       "       [-0.29323328, -0.36174587, -0.38178539, ..., -0.4425003 ,\n",
       "        -0.45440201, -0.45946563]])"
      ]
     },
     "execution_count": 24,
     "metadata": {},
     "output_type": "execute_result"
    }
   ],
   "source": [
    "X"
   ]
  },
  {
   "cell_type": "code",
   "execution_count": 25,
   "id": "d38e13f0",
   "metadata": {},
   "outputs": [
    {
     "data": {
      "text/plain": [
       "array([[-10.588449 ,  -6.311866 ,  23.352509 ],\n",
       "       [ -9.229993 ,  -6.0899343,  22.626244 ],\n",
       "       [ -9.212822 ,  -6.1221175,  22.625378 ],\n",
       "       ...,\n",
       "       [ -8.218744 , -35.173306 ,  -7.3407626],\n",
       "       [ -9.712074 , -41.431347 ,  -1.5425483],\n",
       "       [-27.461884 ,  24.663935 , -17.034863 ]], dtype=float32)"
      ]
     },
     "execution_count": 25,
     "metadata": {},
     "output_type": "execute_result"
    }
   ],
   "source": [
    "X_embedded"
   ]
  },
  {
   "cell_type": "markdown",
   "id": "cdc53468",
   "metadata": {},
   "source": [
    "# Creating Pandas Data Frame for Compressed Data"
   ]
  },
  {
   "cell_type": "markdown",
   "id": "be31b3f8",
   "metadata": {},
   "source": [
    "## Independent Variable / Input Variable"
   ]
  },
  {
   "cell_type": "code",
   "execution_count": 26,
   "id": "e30f1ee3",
   "metadata": {},
   "outputs": [],
   "source": [
    "new_data = pd.DataFrame(X_embedded, \n",
    "                  columns = ['TSNE Element 1','TSNE Element 2','TSNE Element 3'])"
   ]
  },
  {
   "cell_type": "code",
   "execution_count": 27,
   "id": "d3c031c7",
   "metadata": {},
   "outputs": [
    {
     "data": {
      "text/html": [
       "<div>\n",
       "<style scoped>\n",
       "    .dataframe tbody tr th:only-of-type {\n",
       "        vertical-align: middle;\n",
       "    }\n",
       "\n",
       "    .dataframe tbody tr th {\n",
       "        vertical-align: top;\n",
       "    }\n",
       "\n",
       "    .dataframe thead th {\n",
       "        text-align: right;\n",
       "    }\n",
       "</style>\n",
       "<table border=\"1\" class=\"dataframe\">\n",
       "  <thead>\n",
       "    <tr style=\"text-align: right;\">\n",
       "      <th></th>\n",
       "      <th>TSNE Element 1</th>\n",
       "      <th>TSNE Element 2</th>\n",
       "      <th>TSNE Element 3</th>\n",
       "    </tr>\n",
       "  </thead>\n",
       "  <tbody>\n",
       "    <tr>\n",
       "      <th>0</th>\n",
       "      <td>-10.588449</td>\n",
       "      <td>-6.311866</td>\n",
       "      <td>23.352509</td>\n",
       "    </tr>\n",
       "    <tr>\n",
       "      <th>1</th>\n",
       "      <td>-9.229993</td>\n",
       "      <td>-6.089934</td>\n",
       "      <td>22.626244</td>\n",
       "    </tr>\n",
       "    <tr>\n",
       "      <th>2</th>\n",
       "      <td>-9.212822</td>\n",
       "      <td>-6.122118</td>\n",
       "      <td>22.625378</td>\n",
       "    </tr>\n",
       "    <tr>\n",
       "      <th>3</th>\n",
       "      <td>-9.190629</td>\n",
       "      <td>-6.162879</td>\n",
       "      <td>22.629019</td>\n",
       "    </tr>\n",
       "    <tr>\n",
       "      <th>4</th>\n",
       "      <td>-7.672132</td>\n",
       "      <td>-7.011508</td>\n",
       "      <td>21.060995</td>\n",
       "    </tr>\n",
       "    <tr>\n",
       "      <th>...</th>\n",
       "      <td>...</td>\n",
       "      <td>...</td>\n",
       "      <td>...</td>\n",
       "    </tr>\n",
       "    <tr>\n",
       "      <th>101009</th>\n",
       "      <td>9.901484</td>\n",
       "      <td>-42.673229</td>\n",
       "      <td>5.291612</td>\n",
       "    </tr>\n",
       "    <tr>\n",
       "      <th>101010</th>\n",
       "      <td>-1.134834</td>\n",
       "      <td>-15.880285</td>\n",
       "      <td>-39.913315</td>\n",
       "    </tr>\n",
       "    <tr>\n",
       "      <th>101011</th>\n",
       "      <td>-8.218744</td>\n",
       "      <td>-35.173306</td>\n",
       "      <td>-7.340763</td>\n",
       "    </tr>\n",
       "    <tr>\n",
       "      <th>101012</th>\n",
       "      <td>-9.712074</td>\n",
       "      <td>-41.431347</td>\n",
       "      <td>-1.542548</td>\n",
       "    </tr>\n",
       "    <tr>\n",
       "      <th>101013</th>\n",
       "      <td>-27.461884</td>\n",
       "      <td>24.663935</td>\n",
       "      <td>-17.034863</td>\n",
       "    </tr>\n",
       "  </tbody>\n",
       "</table>\n",
       "<p>101014 rows × 3 columns</p>\n",
       "</div>"
      ],
      "text/plain": [
       "        TSNE Element 1  TSNE Element 2  TSNE Element 3\n",
       "0           -10.588449       -6.311866       23.352509\n",
       "1            -9.229993       -6.089934       22.626244\n",
       "2            -9.212822       -6.122118       22.625378\n",
       "3            -9.190629       -6.162879       22.629019\n",
       "4            -7.672132       -7.011508       21.060995\n",
       "...                ...             ...             ...\n",
       "101009        9.901484      -42.673229        5.291612\n",
       "101010       -1.134834      -15.880285      -39.913315\n",
       "101011       -8.218744      -35.173306       -7.340763\n",
       "101012       -9.712074      -41.431347       -1.542548\n",
       "101013      -27.461884       24.663935      -17.034863\n",
       "\n",
       "[101014 rows x 3 columns]"
      ]
     },
     "execution_count": 27,
     "metadata": {},
     "output_type": "execute_result"
    }
   ],
   "source": [
    "new_data"
   ]
  },
  {
   "cell_type": "markdown",
   "id": "313e9769",
   "metadata": {},
   "source": [
    "## Dependent Variable / Output Variable"
   ]
  },
  {
   "cell_type": "code",
   "execution_count": 28,
   "id": "58cbe20d",
   "metadata": {},
   "outputs": [],
   "source": [
    "new_stimulus = raw_data[\"stimulus\"]"
   ]
  },
  {
   "cell_type": "code",
   "execution_count": 29,
   "id": "b77e69e3",
   "metadata": {},
   "outputs": [
    {
     "data": {
      "text/plain": [
       "0         0\n",
       "1         0\n",
       "2         0\n",
       "3         0\n",
       "4         0\n",
       "         ..\n",
       "101009    0\n",
       "101010    0\n",
       "101011    0\n",
       "101012    0\n",
       "101013    0\n",
       "Name: stimulus, Length: 101014, dtype: uint8"
      ]
     },
     "execution_count": 29,
     "metadata": {},
     "output_type": "execute_result"
    }
   ],
   "source": [
    "new_stimulus"
   ]
  },
  {
   "cell_type": "code",
   "execution_count": 30,
   "id": "551d1551",
   "metadata": {},
   "outputs": [],
   "source": [
    "new_restimulus = raw_data[\"restimulus\"]"
   ]
  },
  {
   "cell_type": "code",
   "execution_count": 31,
   "id": "9be6db4e",
   "metadata": {},
   "outputs": [
    {
     "data": {
      "text/plain": [
       "0         0\n",
       "1         0\n",
       "2         0\n",
       "3         0\n",
       "4         0\n",
       "         ..\n",
       "101009    0\n",
       "101010    0\n",
       "101011    0\n",
       "101012    0\n",
       "101013    0\n",
       "Name: restimulus, Length: 101014, dtype: uint8"
      ]
     },
     "execution_count": 31,
     "metadata": {},
     "output_type": "execute_result"
    }
   ],
   "source": [
    "new_restimulus"
   ]
  },
  {
   "cell_type": "code",
   "execution_count": 32,
   "id": "e0509cd4",
   "metadata": {},
   "outputs": [],
   "source": [
    "new_data['stimulus'] = new_stimulus"
   ]
  },
  {
   "cell_type": "code",
   "execution_count": 33,
   "id": "9e7d8c23",
   "metadata": {},
   "outputs": [],
   "source": [
    "new_data['restimulus'] = new_restimulus"
   ]
  },
  {
   "cell_type": "markdown",
   "id": "e8dfe8f3",
   "metadata": {},
   "source": [
    "## Final Output"
   ]
  },
  {
   "cell_type": "code",
   "execution_count": 34,
   "id": "5a8a503f",
   "metadata": {
    "scrolled": true
   },
   "outputs": [
    {
     "data": {
      "text/html": [
       "<div>\n",
       "<style scoped>\n",
       "    .dataframe tbody tr th:only-of-type {\n",
       "        vertical-align: middle;\n",
       "    }\n",
       "\n",
       "    .dataframe tbody tr th {\n",
       "        vertical-align: top;\n",
       "    }\n",
       "\n",
       "    .dataframe thead th {\n",
       "        text-align: right;\n",
       "    }\n",
       "</style>\n",
       "<table border=\"1\" class=\"dataframe\">\n",
       "  <thead>\n",
       "    <tr style=\"text-align: right;\">\n",
       "      <th></th>\n",
       "      <th>TSNE Element 1</th>\n",
       "      <th>TSNE Element 2</th>\n",
       "      <th>TSNE Element 3</th>\n",
       "      <th>stimulus</th>\n",
       "      <th>restimulus</th>\n",
       "    </tr>\n",
       "  </thead>\n",
       "  <tbody>\n",
       "    <tr>\n",
       "      <th>0</th>\n",
       "      <td>-10.588449</td>\n",
       "      <td>-6.311866</td>\n",
       "      <td>23.352509</td>\n",
       "      <td>0</td>\n",
       "      <td>0</td>\n",
       "    </tr>\n",
       "    <tr>\n",
       "      <th>1</th>\n",
       "      <td>-9.229993</td>\n",
       "      <td>-6.089934</td>\n",
       "      <td>22.626244</td>\n",
       "      <td>0</td>\n",
       "      <td>0</td>\n",
       "    </tr>\n",
       "    <tr>\n",
       "      <th>2</th>\n",
       "      <td>-9.212822</td>\n",
       "      <td>-6.122118</td>\n",
       "      <td>22.625378</td>\n",
       "      <td>0</td>\n",
       "      <td>0</td>\n",
       "    </tr>\n",
       "    <tr>\n",
       "      <th>3</th>\n",
       "      <td>-9.190629</td>\n",
       "      <td>-6.162879</td>\n",
       "      <td>22.629019</td>\n",
       "      <td>0</td>\n",
       "      <td>0</td>\n",
       "    </tr>\n",
       "    <tr>\n",
       "      <th>4</th>\n",
       "      <td>-7.672132</td>\n",
       "      <td>-7.011508</td>\n",
       "      <td>21.060995</td>\n",
       "      <td>0</td>\n",
       "      <td>0</td>\n",
       "    </tr>\n",
       "    <tr>\n",
       "      <th>...</th>\n",
       "      <td>...</td>\n",
       "      <td>...</td>\n",
       "      <td>...</td>\n",
       "      <td>...</td>\n",
       "      <td>...</td>\n",
       "    </tr>\n",
       "    <tr>\n",
       "      <th>101009</th>\n",
       "      <td>9.901484</td>\n",
       "      <td>-42.673229</td>\n",
       "      <td>5.291612</td>\n",
       "      <td>0</td>\n",
       "      <td>0</td>\n",
       "    </tr>\n",
       "    <tr>\n",
       "      <th>101010</th>\n",
       "      <td>-1.134834</td>\n",
       "      <td>-15.880285</td>\n",
       "      <td>-39.913315</td>\n",
       "      <td>0</td>\n",
       "      <td>0</td>\n",
       "    </tr>\n",
       "    <tr>\n",
       "      <th>101011</th>\n",
       "      <td>-8.218744</td>\n",
       "      <td>-35.173306</td>\n",
       "      <td>-7.340763</td>\n",
       "      <td>0</td>\n",
       "      <td>0</td>\n",
       "    </tr>\n",
       "    <tr>\n",
       "      <th>101012</th>\n",
       "      <td>-9.712074</td>\n",
       "      <td>-41.431347</td>\n",
       "      <td>-1.542548</td>\n",
       "      <td>0</td>\n",
       "      <td>0</td>\n",
       "    </tr>\n",
       "    <tr>\n",
       "      <th>101013</th>\n",
       "      <td>-27.461884</td>\n",
       "      <td>24.663935</td>\n",
       "      <td>-17.034863</td>\n",
       "      <td>0</td>\n",
       "      <td>0</td>\n",
       "    </tr>\n",
       "  </tbody>\n",
       "</table>\n",
       "<p>101014 rows × 5 columns</p>\n",
       "</div>"
      ],
      "text/plain": [
       "        TSNE Element 1  TSNE Element 2  TSNE Element 3  stimulus  restimulus\n",
       "0           -10.588449       -6.311866       23.352509         0           0\n",
       "1            -9.229993       -6.089934       22.626244         0           0\n",
       "2            -9.212822       -6.122118       22.625378         0           0\n",
       "3            -9.190629       -6.162879       22.629019         0           0\n",
       "4            -7.672132       -7.011508       21.060995         0           0\n",
       "...                ...             ...             ...       ...         ...\n",
       "101009        9.901484      -42.673229        5.291612         0           0\n",
       "101010       -1.134834      -15.880285      -39.913315         0           0\n",
       "101011       -8.218744      -35.173306       -7.340763         0           0\n",
       "101012       -9.712074      -41.431347       -1.542548         0           0\n",
       "101013      -27.461884       24.663935      -17.034863         0           0\n",
       "\n",
       "[101014 rows x 5 columns]"
      ]
     },
     "execution_count": 34,
     "metadata": {},
     "output_type": "execute_result"
    }
   ],
   "source": [
    "new_data"
   ]
  },
  {
   "cell_type": "markdown",
   "id": "94ec0dd1",
   "metadata": {},
   "source": [
    "## Exploratory Data Analysis for the Compressed Dataset"
   ]
  },
  {
   "cell_type": "code",
   "execution_count": 35,
   "id": "66cf0b43",
   "metadata": {},
   "outputs": [
    {
     "name": "stdout",
     "output_type": "stream",
     "text": [
      "TSNE Element 1    False\n",
      "TSNE Element 2    False\n",
      "TSNE Element 3    False\n",
      "stimulus          False\n",
      "restimulus        False\n",
      "dtype: bool\n"
     ]
    }
   ],
   "source": [
    "print(new_data.isnull().any())"
   ]
  },
  {
   "cell_type": "code",
   "execution_count": 36,
   "id": "3e882a1d",
   "metadata": {},
   "outputs": [
    {
     "data": {
      "text/plain": [
       "TSNE Element 1    0\n",
       "TSNE Element 2    0\n",
       "TSNE Element 3    0\n",
       "stimulus          0\n",
       "restimulus        0\n",
       "dtype: int64"
      ]
     },
     "execution_count": 36,
     "metadata": {},
     "output_type": "execute_result"
    }
   ],
   "source": [
    "new_data.isna().sum()"
   ]
  },
  {
   "cell_type": "code",
   "execution_count": 37,
   "id": "24f9892b",
   "metadata": {},
   "outputs": [
    {
     "data": {
      "text/plain": [
       "(101014, 5)"
      ]
     },
     "execution_count": 37,
     "metadata": {},
     "output_type": "execute_result"
    }
   ],
   "source": [
    "new_data.shape"
   ]
  },
  {
   "cell_type": "code",
   "execution_count": 38,
   "id": "5931bcd3",
   "metadata": {},
   "outputs": [
    {
     "name": "stdout",
     "output_type": "stream",
     "text": [
      "<class 'pandas.core.frame.DataFrame'>\n",
      "RangeIndex: 101014 entries, 0 to 101013\n",
      "Data columns (total 5 columns):\n",
      " #   Column          Non-Null Count   Dtype  \n",
      "---  ------          --------------   -----  \n",
      " 0   TSNE Element 1  101014 non-null  float32\n",
      " 1   TSNE Element 2  101014 non-null  float32\n",
      " 2   TSNE Element 3  101014 non-null  float32\n",
      " 3   stimulus        101014 non-null  uint8  \n",
      " 4   restimulus      101014 non-null  uint8  \n",
      "dtypes: float32(3), uint8(2)\n",
      "memory usage: 1.3 MB\n"
     ]
    }
   ],
   "source": [
    "new_data.info()"
   ]
  },
  {
   "cell_type": "markdown",
   "id": "4ed9944c",
   "metadata": {},
   "source": [
    "# Custom Outlier Detection"
   ]
  },
  {
   "cell_type": "code",
   "execution_count": 39,
   "id": "2063d596",
   "metadata": {},
   "outputs": [],
   "source": [
    "index_names = new_data[ (new_data['stimulus'] != new_data['restimulus'])].index\n",
    "new_data.drop(index_names, inplace = True)"
   ]
  },
  {
   "cell_type": "code",
   "execution_count": 40,
   "id": "6193b384",
   "metadata": {},
   "outputs": [
    {
     "name": "stdout",
     "output_type": "stream",
     "text": [
      "Previous Dataset Shape was :  (101014, 12)\n",
      "New Dataset Shape is :  (75043, 5)\n"
     ]
    }
   ],
   "source": [
    "print('Previous Dataset Shape was : ', raw_data.shape)\n",
    "print('New Dataset Shape is : ', new_data.shape)"
   ]
  },
  {
   "cell_type": "code",
   "execution_count": 41,
   "id": "116e08f1",
   "metadata": {},
   "outputs": [
    {
     "name": "stdout",
     "output_type": "stream",
     "text": [
      "Unique Dependent values and their counts for New Dataset :\n",
      "0     38203\n",
      "5      3952\n",
      "1      3738\n",
      "3      3706\n",
      "12     3125\n",
      "6      3058\n",
      "10     3038\n",
      "4      2982\n",
      "8      2909\n",
      "2      2618\n",
      "7      2615\n",
      "9      2608\n",
      "11     2491\n",
      "Name: stimulus, dtype: int64\n"
     ]
    }
   ],
   "source": [
    "print(\"Unique Dependent values and their counts for New Dataset :\")\n",
    "print(new_data[\"stimulus\"].value_counts())"
   ]
  },
  {
   "cell_type": "markdown",
   "id": "1c7b1229",
   "metadata": {},
   "source": [
    "# CSV File Conversion"
   ]
  },
  {
   "cell_type": "code",
   "execution_count": 42,
   "id": "885916a2",
   "metadata": {},
   "outputs": [
    {
     "data": {
      "text/html": [
       "<div>\n",
       "<style scoped>\n",
       "    .dataframe tbody tr th:only-of-type {\n",
       "        vertical-align: middle;\n",
       "    }\n",
       "\n",
       "    .dataframe tbody tr th {\n",
       "        vertical-align: top;\n",
       "    }\n",
       "\n",
       "    .dataframe thead th {\n",
       "        text-align: right;\n",
       "    }\n",
       "</style>\n",
       "<table border=\"1\" class=\"dataframe\">\n",
       "  <thead>\n",
       "    <tr style=\"text-align: right;\">\n",
       "      <th></th>\n",
       "      <th>TSNE Element 1</th>\n",
       "      <th>TSNE Element 2</th>\n",
       "      <th>TSNE Element 3</th>\n",
       "      <th>stimulus</th>\n",
       "      <th>restimulus</th>\n",
       "    </tr>\n",
       "  </thead>\n",
       "  <tbody>\n",
       "    <tr>\n",
       "      <th>0</th>\n",
       "      <td>-10.588449</td>\n",
       "      <td>-6.311866</td>\n",
       "      <td>23.352509</td>\n",
       "      <td>0</td>\n",
       "      <td>0</td>\n",
       "    </tr>\n",
       "    <tr>\n",
       "      <th>1</th>\n",
       "      <td>-9.229993</td>\n",
       "      <td>-6.089934</td>\n",
       "      <td>22.626244</td>\n",
       "      <td>0</td>\n",
       "      <td>0</td>\n",
       "    </tr>\n",
       "    <tr>\n",
       "      <th>2</th>\n",
       "      <td>-9.212822</td>\n",
       "      <td>-6.122118</td>\n",
       "      <td>22.625378</td>\n",
       "      <td>0</td>\n",
       "      <td>0</td>\n",
       "    </tr>\n",
       "    <tr>\n",
       "      <th>3</th>\n",
       "      <td>-9.190629</td>\n",
       "      <td>-6.162879</td>\n",
       "      <td>22.629019</td>\n",
       "      <td>0</td>\n",
       "      <td>0</td>\n",
       "    </tr>\n",
       "    <tr>\n",
       "      <th>4</th>\n",
       "      <td>-7.672132</td>\n",
       "      <td>-7.011508</td>\n",
       "      <td>21.060995</td>\n",
       "      <td>0</td>\n",
       "      <td>0</td>\n",
       "    </tr>\n",
       "    <tr>\n",
       "      <th>...</th>\n",
       "      <td>...</td>\n",
       "      <td>...</td>\n",
       "      <td>...</td>\n",
       "      <td>...</td>\n",
       "      <td>...</td>\n",
       "    </tr>\n",
       "    <tr>\n",
       "      <th>101009</th>\n",
       "      <td>9.901484</td>\n",
       "      <td>-42.673229</td>\n",
       "      <td>5.291612</td>\n",
       "      <td>0</td>\n",
       "      <td>0</td>\n",
       "    </tr>\n",
       "    <tr>\n",
       "      <th>101010</th>\n",
       "      <td>-1.134834</td>\n",
       "      <td>-15.880285</td>\n",
       "      <td>-39.913315</td>\n",
       "      <td>0</td>\n",
       "      <td>0</td>\n",
       "    </tr>\n",
       "    <tr>\n",
       "      <th>101011</th>\n",
       "      <td>-8.218744</td>\n",
       "      <td>-35.173306</td>\n",
       "      <td>-7.340763</td>\n",
       "      <td>0</td>\n",
       "      <td>0</td>\n",
       "    </tr>\n",
       "    <tr>\n",
       "      <th>101012</th>\n",
       "      <td>-9.712074</td>\n",
       "      <td>-41.431347</td>\n",
       "      <td>-1.542548</td>\n",
       "      <td>0</td>\n",
       "      <td>0</td>\n",
       "    </tr>\n",
       "    <tr>\n",
       "      <th>101013</th>\n",
       "      <td>-27.461884</td>\n",
       "      <td>24.663935</td>\n",
       "      <td>-17.034863</td>\n",
       "      <td>0</td>\n",
       "      <td>0</td>\n",
       "    </tr>\n",
       "  </tbody>\n",
       "</table>\n",
       "<p>75043 rows × 5 columns</p>\n",
       "</div>"
      ],
      "text/plain": [
       "        TSNE Element 1  TSNE Element 2  TSNE Element 3  stimulus  restimulus\n",
       "0           -10.588449       -6.311866       23.352509         0           0\n",
       "1            -9.229993       -6.089934       22.626244         0           0\n",
       "2            -9.212822       -6.122118       22.625378         0           0\n",
       "3            -9.190629       -6.162879       22.629019         0           0\n",
       "4            -7.672132       -7.011508       21.060995         0           0\n",
       "...                ...             ...             ...       ...         ...\n",
       "101009        9.901484      -42.673229        5.291612         0           0\n",
       "101010       -1.134834      -15.880285      -39.913315         0           0\n",
       "101011       -8.218744      -35.173306       -7.340763         0           0\n",
       "101012       -9.712074      -41.431347       -1.542548         0           0\n",
       "101013      -27.461884       24.663935      -17.034863         0           0\n",
       "\n",
       "[75043 rows x 5 columns]"
      ]
     },
     "execution_count": 42,
     "metadata": {},
     "output_type": "execute_result"
    }
   ],
   "source": [
    "new_data"
   ]
  },
  {
   "cell_type": "code",
   "execution_count": 43,
   "id": "8b2d7879",
   "metadata": {},
   "outputs": [],
   "source": [
    "new_data.to_csv(r\"TSNE_Exercise_1.csv\",index = False)"
   ]
  }
 ],
 "metadata": {
  "kernelspec": {
   "display_name": "Python 3 (ipykernel)",
   "language": "python",
   "name": "python3"
  },
  "language_info": {
   "codemirror_mode": {
    "name": "ipython",
    "version": 3
   },
   "file_extension": ".py",
   "mimetype": "text/x-python",
   "name": "python",
   "nbconvert_exporter": "python",
   "pygments_lexer": "ipython3",
   "version": "3.8.12"
  }
 },
 "nbformat": 4,
 "nbformat_minor": 5
}
