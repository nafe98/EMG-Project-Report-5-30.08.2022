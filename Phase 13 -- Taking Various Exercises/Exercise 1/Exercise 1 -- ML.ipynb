{
 "cells": [
  {
   "cell_type": "markdown",
   "id": "f47ebb05",
   "metadata": {},
   "source": [
    "# Importing Libraires "
   ]
  },
  {
   "cell_type": "code",
   "execution_count": 1,
   "id": "5ee40bfd",
   "metadata": {},
   "outputs": [],
   "source": [
    "import pandas as pd\n",
    "from scipy.io import loadmat"
   ]
  },
  {
   "cell_type": "markdown",
   "id": "77396486",
   "metadata": {},
   "source": [
    "# Loading Exercise 1"
   ]
  },
  {
   "cell_type": "code",
   "execution_count": 2,
   "id": "42934249",
   "metadata": {},
   "outputs": [],
   "source": [
    "Exercise_1 = loadmat(r\"S1_A1_E1.mat\")"
   ]
  },
  {
   "cell_type": "code",
   "execution_count": 3,
   "id": "e55de7f5",
   "metadata": {},
   "outputs": [
    {
     "name": "stdout",
     "output_type": "stream",
     "text": [
      "{'__header__': b'MATLAB 5.0 MAT-file, Platform: MACI64, Created on: Mon Jul 28 11:54:15 2014', '__version__': '1.0', '__globals__': [], 'emg': array([[0.0684, 0.0024, 0.0024, ..., 0.0488, 0.0024, 0.0342],\n",
      "       [0.0586, 0.0024, 0.0024, ..., 0.0415, 0.0024, 0.0293],\n",
      "       [0.0562, 0.0024, 0.0024, ..., 0.0391, 0.0024, 0.0244],\n",
      "       ...,\n",
      "       [0.0024, 0.0024, 0.0024, ..., 0.0342, 0.0024, 0.0073],\n",
      "       [0.0024, 0.0024, 0.0024, ..., 0.0366, 0.0024, 0.0073],\n",
      "       [0.0024, 0.0024, 0.0024, ..., 0.0391, 0.0024, 0.0024]]), 'stimulus': array([[0],\n",
      "       [0],\n",
      "       [0],\n",
      "       ...,\n",
      "       [0],\n",
      "       [0],\n",
      "       [0]], dtype=uint8), 'glove': array([[146., 121., 113., ..., 131., 135., 115.],\n",
      "       [146., 121., 113., ..., 131., 135., 115.],\n",
      "       [146., 121., 113., ..., 131., 135., 115.],\n",
      "       ...,\n",
      "       [161., 128., 122., ..., 155., 131., 116.],\n",
      "       [161., 128., 122., ..., 155., 131., 116.],\n",
      "       [161., 128., 122., ..., 155., 131., 116.]]), 'subject': array([[1]], dtype=uint8), 'exercise': array([[1]], dtype=uint8), 'repetition': array([[0],\n",
      "       [0],\n",
      "       [0],\n",
      "       ...,\n",
      "       [0],\n",
      "       [0],\n",
      "       [0]], dtype=uint8), 'restimulus': array([[0],\n",
      "       [0],\n",
      "       [0],\n",
      "       ...,\n",
      "       [0],\n",
      "       [0],\n",
      "       [0]], dtype=uint8), 'rerepetition': array([[0],\n",
      "       [0],\n",
      "       [0],\n",
      "       ...,\n",
      "       [0],\n",
      "       [0],\n",
      "       [0]], dtype=uint8)}\n"
     ]
    }
   ],
   "source": [
    "print(Exercise_1)"
   ]
  },
  {
   "cell_type": "code",
   "execution_count": 4,
   "id": "c880759c",
   "metadata": {},
   "outputs": [
    {
     "name": "stdout",
     "output_type": "stream",
     "text": [
      "dict_keys(['__header__', '__version__', '__globals__', 'emg', 'stimulus', 'glove', 'subject', 'exercise', 'repetition', 'restimulus', 'rerepetition'])\n"
     ]
    }
   ],
   "source": [
    "print(Exercise_1.keys())"
   ]
  },
  {
   "cell_type": "code",
   "execution_count": 5,
   "id": "349adc4b",
   "metadata": {},
   "outputs": [],
   "source": [
    "emg_1 = Exercise_1['emg']\n",
    "stimulus_1 = Exercise_1['stimulus']\n",
    "restimulus_1 = Exercise_1['restimulus']"
   ]
  },
  {
   "cell_type": "markdown",
   "id": "273ec344",
   "metadata": {},
   "source": [
    "# DataFramae "
   ]
  },
  {
   "cell_type": "markdown",
   "id": "8bdf0b81",
   "metadata": {},
   "source": [
    "### Convert the dictionary into DataFrame"
   ]
  },
  {
   "cell_type": "code",
   "execution_count": 6,
   "id": "458cc26d",
   "metadata": {},
   "outputs": [],
   "source": [
    "# Custom Column Names "
   ]
  },
  {
   "cell_type": "code",
   "execution_count": 7,
   "id": "e1272d4d",
   "metadata": {},
   "outputs": [],
   "source": [
    "df_1= pd.DataFrame(emg_1, \n",
    "                  columns = ['Emg1','Emg2','Emg3','Emg4','Emg5','Emg6','Emg7','Emg8','Emg9','Emg10'])"
   ]
  },
  {
   "cell_type": "code",
   "execution_count": 8,
   "id": "85b54ce7",
   "metadata": {},
   "outputs": [
    {
     "data": {
      "text/html": [
       "<div>\n",
       "<style scoped>\n",
       "    .dataframe tbody tr th:only-of-type {\n",
       "        vertical-align: middle;\n",
       "    }\n",
       "\n",
       "    .dataframe tbody tr th {\n",
       "        vertical-align: top;\n",
       "    }\n",
       "\n",
       "    .dataframe thead th {\n",
       "        text-align: right;\n",
       "    }\n",
       "</style>\n",
       "<table border=\"1\" class=\"dataframe\">\n",
       "  <thead>\n",
       "    <tr style=\"text-align: right;\">\n",
       "      <th></th>\n",
       "      <th>Emg1</th>\n",
       "      <th>Emg2</th>\n",
       "      <th>Emg3</th>\n",
       "      <th>Emg4</th>\n",
       "      <th>Emg5</th>\n",
       "      <th>Emg6</th>\n",
       "      <th>Emg7</th>\n",
       "      <th>Emg8</th>\n",
       "      <th>Emg9</th>\n",
       "      <th>Emg10</th>\n",
       "    </tr>\n",
       "  </thead>\n",
       "  <tbody>\n",
       "    <tr>\n",
       "      <th>0</th>\n",
       "      <td>0.0684</td>\n",
       "      <td>0.0024</td>\n",
       "      <td>0.0024</td>\n",
       "      <td>0.0024</td>\n",
       "      <td>0.0024</td>\n",
       "      <td>0.0098</td>\n",
       "      <td>0.0024</td>\n",
       "      <td>0.0488</td>\n",
       "      <td>0.0024</td>\n",
       "      <td>0.0342</td>\n",
       "    </tr>\n",
       "    <tr>\n",
       "      <th>1</th>\n",
       "      <td>0.0586</td>\n",
       "      <td>0.0024</td>\n",
       "      <td>0.0024</td>\n",
       "      <td>0.0024</td>\n",
       "      <td>0.0024</td>\n",
       "      <td>0.0049</td>\n",
       "      <td>0.0024</td>\n",
       "      <td>0.0415</td>\n",
       "      <td>0.0024</td>\n",
       "      <td>0.0293</td>\n",
       "    </tr>\n",
       "    <tr>\n",
       "      <th>2</th>\n",
       "      <td>0.0562</td>\n",
       "      <td>0.0024</td>\n",
       "      <td>0.0024</td>\n",
       "      <td>0.0024</td>\n",
       "      <td>0.0024</td>\n",
       "      <td>0.0049</td>\n",
       "      <td>0.0024</td>\n",
       "      <td>0.0391</td>\n",
       "      <td>0.0024</td>\n",
       "      <td>0.0244</td>\n",
       "    </tr>\n",
       "    <tr>\n",
       "      <th>3</th>\n",
       "      <td>0.0562</td>\n",
       "      <td>0.0024</td>\n",
       "      <td>0.0024</td>\n",
       "      <td>0.0024</td>\n",
       "      <td>0.0024</td>\n",
       "      <td>0.0049</td>\n",
       "      <td>0.0024</td>\n",
       "      <td>0.0342</td>\n",
       "      <td>0.0024</td>\n",
       "      <td>0.0171</td>\n",
       "    </tr>\n",
       "    <tr>\n",
       "      <th>4</th>\n",
       "      <td>0.0488</td>\n",
       "      <td>0.0024</td>\n",
       "      <td>0.0024</td>\n",
       "      <td>0.0024</td>\n",
       "      <td>0.0024</td>\n",
       "      <td>0.0024</td>\n",
       "      <td>0.0024</td>\n",
       "      <td>0.0366</td>\n",
       "      <td>0.0024</td>\n",
       "      <td>0.0146</td>\n",
       "    </tr>\n",
       "    <tr>\n",
       "      <th>...</th>\n",
       "      <td>...</td>\n",
       "      <td>...</td>\n",
       "      <td>...</td>\n",
       "      <td>...</td>\n",
       "      <td>...</td>\n",
       "      <td>...</td>\n",
       "      <td>...</td>\n",
       "      <td>...</td>\n",
       "      <td>...</td>\n",
       "      <td>...</td>\n",
       "    </tr>\n",
       "    <tr>\n",
       "      <th>101009</th>\n",
       "      <td>0.0024</td>\n",
       "      <td>0.0024</td>\n",
       "      <td>0.0024</td>\n",
       "      <td>0.0024</td>\n",
       "      <td>0.0049</td>\n",
       "      <td>0.0024</td>\n",
       "      <td>0.0024</td>\n",
       "      <td>0.0366</td>\n",
       "      <td>0.0024</td>\n",
       "      <td>0.0024</td>\n",
       "    </tr>\n",
       "    <tr>\n",
       "      <th>101010</th>\n",
       "      <td>0.0024</td>\n",
       "      <td>0.0024</td>\n",
       "      <td>0.0024</td>\n",
       "      <td>0.0024</td>\n",
       "      <td>0.0024</td>\n",
       "      <td>0.0024</td>\n",
       "      <td>0.0024</td>\n",
       "      <td>0.0342</td>\n",
       "      <td>0.0024</td>\n",
       "      <td>0.0024</td>\n",
       "    </tr>\n",
       "    <tr>\n",
       "      <th>101011</th>\n",
       "      <td>0.0024</td>\n",
       "      <td>0.0024</td>\n",
       "      <td>0.0024</td>\n",
       "      <td>0.0024</td>\n",
       "      <td>0.0024</td>\n",
       "      <td>0.0024</td>\n",
       "      <td>0.0024</td>\n",
       "      <td>0.0342</td>\n",
       "      <td>0.0024</td>\n",
       "      <td>0.0073</td>\n",
       "    </tr>\n",
       "    <tr>\n",
       "      <th>101012</th>\n",
       "      <td>0.0024</td>\n",
       "      <td>0.0024</td>\n",
       "      <td>0.0024</td>\n",
       "      <td>0.0024</td>\n",
       "      <td>0.0024</td>\n",
       "      <td>0.0024</td>\n",
       "      <td>0.0024</td>\n",
       "      <td>0.0366</td>\n",
       "      <td>0.0024</td>\n",
       "      <td>0.0073</td>\n",
       "    </tr>\n",
       "    <tr>\n",
       "      <th>101013</th>\n",
       "      <td>0.0024</td>\n",
       "      <td>0.0024</td>\n",
       "      <td>0.0024</td>\n",
       "      <td>0.0024</td>\n",
       "      <td>0.0024</td>\n",
       "      <td>0.0024</td>\n",
       "      <td>0.0024</td>\n",
       "      <td>0.0391</td>\n",
       "      <td>0.0024</td>\n",
       "      <td>0.0024</td>\n",
       "    </tr>\n",
       "  </tbody>\n",
       "</table>\n",
       "<p>101014 rows × 10 columns</p>\n",
       "</div>"
      ],
      "text/plain": [
       "          Emg1    Emg2    Emg3    Emg4    Emg5    Emg6    Emg7    Emg8  \\\n",
       "0       0.0684  0.0024  0.0024  0.0024  0.0024  0.0098  0.0024  0.0488   \n",
       "1       0.0586  0.0024  0.0024  0.0024  0.0024  0.0049  0.0024  0.0415   \n",
       "2       0.0562  0.0024  0.0024  0.0024  0.0024  0.0049  0.0024  0.0391   \n",
       "3       0.0562  0.0024  0.0024  0.0024  0.0024  0.0049  0.0024  0.0342   \n",
       "4       0.0488  0.0024  0.0024  0.0024  0.0024  0.0024  0.0024  0.0366   \n",
       "...        ...     ...     ...     ...     ...     ...     ...     ...   \n",
       "101009  0.0024  0.0024  0.0024  0.0024  0.0049  0.0024  0.0024  0.0366   \n",
       "101010  0.0024  0.0024  0.0024  0.0024  0.0024  0.0024  0.0024  0.0342   \n",
       "101011  0.0024  0.0024  0.0024  0.0024  0.0024  0.0024  0.0024  0.0342   \n",
       "101012  0.0024  0.0024  0.0024  0.0024  0.0024  0.0024  0.0024  0.0366   \n",
       "101013  0.0024  0.0024  0.0024  0.0024  0.0024  0.0024  0.0024  0.0391   \n",
       "\n",
       "          Emg9   Emg10  \n",
       "0       0.0024  0.0342  \n",
       "1       0.0024  0.0293  \n",
       "2       0.0024  0.0244  \n",
       "3       0.0024  0.0171  \n",
       "4       0.0024  0.0146  \n",
       "...        ...     ...  \n",
       "101009  0.0024  0.0024  \n",
       "101010  0.0024  0.0024  \n",
       "101011  0.0024  0.0073  \n",
       "101012  0.0024  0.0073  \n",
       "101013  0.0024  0.0024  \n",
       "\n",
       "[101014 rows x 10 columns]"
      ]
     },
     "execution_count": 8,
     "metadata": {},
     "output_type": "execute_result"
    }
   ],
   "source": [
    "df_1"
   ]
  },
  {
   "cell_type": "code",
   "execution_count": 9,
   "id": "324b1ce9",
   "metadata": {},
   "outputs": [],
   "source": [
    "stimulus_1 = pd.DataFrame(stimulus_1)\n",
    "restimulus_1 = pd.DataFrame(restimulus_1)"
   ]
  },
  {
   "cell_type": "markdown",
   "id": "d3794043",
   "metadata": {},
   "source": [
    "### Adding new column to existing DataFrame"
   ]
  },
  {
   "cell_type": "code",
   "execution_count": 10,
   "id": "49cf1cb7",
   "metadata": {},
   "outputs": [],
   "source": [
    "df_1['stimulus'] = stimulus_1\n",
    "df_1['restimulus'] = restimulus_1"
   ]
  },
  {
   "cell_type": "markdown",
   "id": "1b9be1ed",
   "metadata": {},
   "source": [
    "# Final Output of Exercise 1 DataFrame"
   ]
  },
  {
   "cell_type": "code",
   "execution_count": 11,
   "id": "3744955a",
   "metadata": {
    "scrolled": true
   },
   "outputs": [
    {
     "data": {
      "text/html": [
       "<div>\n",
       "<style scoped>\n",
       "    .dataframe tbody tr th:only-of-type {\n",
       "        vertical-align: middle;\n",
       "    }\n",
       "\n",
       "    .dataframe tbody tr th {\n",
       "        vertical-align: top;\n",
       "    }\n",
       "\n",
       "    .dataframe thead th {\n",
       "        text-align: right;\n",
       "    }\n",
       "</style>\n",
       "<table border=\"1\" class=\"dataframe\">\n",
       "  <thead>\n",
       "    <tr style=\"text-align: right;\">\n",
       "      <th></th>\n",
       "      <th>Emg1</th>\n",
       "      <th>Emg2</th>\n",
       "      <th>Emg3</th>\n",
       "      <th>Emg4</th>\n",
       "      <th>Emg5</th>\n",
       "      <th>Emg6</th>\n",
       "      <th>Emg7</th>\n",
       "      <th>Emg8</th>\n",
       "      <th>Emg9</th>\n",
       "      <th>Emg10</th>\n",
       "      <th>stimulus</th>\n",
       "      <th>restimulus</th>\n",
       "    </tr>\n",
       "  </thead>\n",
       "  <tbody>\n",
       "    <tr>\n",
       "      <th>0</th>\n",
       "      <td>0.0684</td>\n",
       "      <td>0.0024</td>\n",
       "      <td>0.0024</td>\n",
       "      <td>0.0024</td>\n",
       "      <td>0.0024</td>\n",
       "      <td>0.0098</td>\n",
       "      <td>0.0024</td>\n",
       "      <td>0.0488</td>\n",
       "      <td>0.0024</td>\n",
       "      <td>0.0342</td>\n",
       "      <td>0</td>\n",
       "      <td>0</td>\n",
       "    </tr>\n",
       "    <tr>\n",
       "      <th>1</th>\n",
       "      <td>0.0586</td>\n",
       "      <td>0.0024</td>\n",
       "      <td>0.0024</td>\n",
       "      <td>0.0024</td>\n",
       "      <td>0.0024</td>\n",
       "      <td>0.0049</td>\n",
       "      <td>0.0024</td>\n",
       "      <td>0.0415</td>\n",
       "      <td>0.0024</td>\n",
       "      <td>0.0293</td>\n",
       "      <td>0</td>\n",
       "      <td>0</td>\n",
       "    </tr>\n",
       "    <tr>\n",
       "      <th>2</th>\n",
       "      <td>0.0562</td>\n",
       "      <td>0.0024</td>\n",
       "      <td>0.0024</td>\n",
       "      <td>0.0024</td>\n",
       "      <td>0.0024</td>\n",
       "      <td>0.0049</td>\n",
       "      <td>0.0024</td>\n",
       "      <td>0.0391</td>\n",
       "      <td>0.0024</td>\n",
       "      <td>0.0244</td>\n",
       "      <td>0</td>\n",
       "      <td>0</td>\n",
       "    </tr>\n",
       "    <tr>\n",
       "      <th>3</th>\n",
       "      <td>0.0562</td>\n",
       "      <td>0.0024</td>\n",
       "      <td>0.0024</td>\n",
       "      <td>0.0024</td>\n",
       "      <td>0.0024</td>\n",
       "      <td>0.0049</td>\n",
       "      <td>0.0024</td>\n",
       "      <td>0.0342</td>\n",
       "      <td>0.0024</td>\n",
       "      <td>0.0171</td>\n",
       "      <td>0</td>\n",
       "      <td>0</td>\n",
       "    </tr>\n",
       "    <tr>\n",
       "      <th>4</th>\n",
       "      <td>0.0488</td>\n",
       "      <td>0.0024</td>\n",
       "      <td>0.0024</td>\n",
       "      <td>0.0024</td>\n",
       "      <td>0.0024</td>\n",
       "      <td>0.0024</td>\n",
       "      <td>0.0024</td>\n",
       "      <td>0.0366</td>\n",
       "      <td>0.0024</td>\n",
       "      <td>0.0146</td>\n",
       "      <td>0</td>\n",
       "      <td>0</td>\n",
       "    </tr>\n",
       "    <tr>\n",
       "      <th>...</th>\n",
       "      <td>...</td>\n",
       "      <td>...</td>\n",
       "      <td>...</td>\n",
       "      <td>...</td>\n",
       "      <td>...</td>\n",
       "      <td>...</td>\n",
       "      <td>...</td>\n",
       "      <td>...</td>\n",
       "      <td>...</td>\n",
       "      <td>...</td>\n",
       "      <td>...</td>\n",
       "      <td>...</td>\n",
       "    </tr>\n",
       "    <tr>\n",
       "      <th>101009</th>\n",
       "      <td>0.0024</td>\n",
       "      <td>0.0024</td>\n",
       "      <td>0.0024</td>\n",
       "      <td>0.0024</td>\n",
       "      <td>0.0049</td>\n",
       "      <td>0.0024</td>\n",
       "      <td>0.0024</td>\n",
       "      <td>0.0366</td>\n",
       "      <td>0.0024</td>\n",
       "      <td>0.0024</td>\n",
       "      <td>0</td>\n",
       "      <td>0</td>\n",
       "    </tr>\n",
       "    <tr>\n",
       "      <th>101010</th>\n",
       "      <td>0.0024</td>\n",
       "      <td>0.0024</td>\n",
       "      <td>0.0024</td>\n",
       "      <td>0.0024</td>\n",
       "      <td>0.0024</td>\n",
       "      <td>0.0024</td>\n",
       "      <td>0.0024</td>\n",
       "      <td>0.0342</td>\n",
       "      <td>0.0024</td>\n",
       "      <td>0.0024</td>\n",
       "      <td>0</td>\n",
       "      <td>0</td>\n",
       "    </tr>\n",
       "    <tr>\n",
       "      <th>101011</th>\n",
       "      <td>0.0024</td>\n",
       "      <td>0.0024</td>\n",
       "      <td>0.0024</td>\n",
       "      <td>0.0024</td>\n",
       "      <td>0.0024</td>\n",
       "      <td>0.0024</td>\n",
       "      <td>0.0024</td>\n",
       "      <td>0.0342</td>\n",
       "      <td>0.0024</td>\n",
       "      <td>0.0073</td>\n",
       "      <td>0</td>\n",
       "      <td>0</td>\n",
       "    </tr>\n",
       "    <tr>\n",
       "      <th>101012</th>\n",
       "      <td>0.0024</td>\n",
       "      <td>0.0024</td>\n",
       "      <td>0.0024</td>\n",
       "      <td>0.0024</td>\n",
       "      <td>0.0024</td>\n",
       "      <td>0.0024</td>\n",
       "      <td>0.0024</td>\n",
       "      <td>0.0366</td>\n",
       "      <td>0.0024</td>\n",
       "      <td>0.0073</td>\n",
       "      <td>0</td>\n",
       "      <td>0</td>\n",
       "    </tr>\n",
       "    <tr>\n",
       "      <th>101013</th>\n",
       "      <td>0.0024</td>\n",
       "      <td>0.0024</td>\n",
       "      <td>0.0024</td>\n",
       "      <td>0.0024</td>\n",
       "      <td>0.0024</td>\n",
       "      <td>0.0024</td>\n",
       "      <td>0.0024</td>\n",
       "      <td>0.0391</td>\n",
       "      <td>0.0024</td>\n",
       "      <td>0.0024</td>\n",
       "      <td>0</td>\n",
       "      <td>0</td>\n",
       "    </tr>\n",
       "  </tbody>\n",
       "</table>\n",
       "<p>101014 rows × 12 columns</p>\n",
       "</div>"
      ],
      "text/plain": [
       "          Emg1    Emg2    Emg3    Emg4    Emg5    Emg6    Emg7    Emg8  \\\n",
       "0       0.0684  0.0024  0.0024  0.0024  0.0024  0.0098  0.0024  0.0488   \n",
       "1       0.0586  0.0024  0.0024  0.0024  0.0024  0.0049  0.0024  0.0415   \n",
       "2       0.0562  0.0024  0.0024  0.0024  0.0024  0.0049  0.0024  0.0391   \n",
       "3       0.0562  0.0024  0.0024  0.0024  0.0024  0.0049  0.0024  0.0342   \n",
       "4       0.0488  0.0024  0.0024  0.0024  0.0024  0.0024  0.0024  0.0366   \n",
       "...        ...     ...     ...     ...     ...     ...     ...     ...   \n",
       "101009  0.0024  0.0024  0.0024  0.0024  0.0049  0.0024  0.0024  0.0366   \n",
       "101010  0.0024  0.0024  0.0024  0.0024  0.0024  0.0024  0.0024  0.0342   \n",
       "101011  0.0024  0.0024  0.0024  0.0024  0.0024  0.0024  0.0024  0.0342   \n",
       "101012  0.0024  0.0024  0.0024  0.0024  0.0024  0.0024  0.0024  0.0366   \n",
       "101013  0.0024  0.0024  0.0024  0.0024  0.0024  0.0024  0.0024  0.0391   \n",
       "\n",
       "          Emg9   Emg10  stimulus  restimulus  \n",
       "0       0.0024  0.0342         0           0  \n",
       "1       0.0024  0.0293         0           0  \n",
       "2       0.0024  0.0244         0           0  \n",
       "3       0.0024  0.0171         0           0  \n",
       "4       0.0024  0.0146         0           0  \n",
       "...        ...     ...       ...         ...  \n",
       "101009  0.0024  0.0024         0           0  \n",
       "101010  0.0024  0.0024         0           0  \n",
       "101011  0.0024  0.0073         0           0  \n",
       "101012  0.0024  0.0073         0           0  \n",
       "101013  0.0024  0.0024         0           0  \n",
       "\n",
       "[101014 rows x 12 columns]"
      ]
     },
     "execution_count": 11,
     "metadata": {},
     "output_type": "execute_result"
    }
   ],
   "source": [
    "df_1"
   ]
  },
  {
   "cell_type": "code",
   "execution_count": 12,
   "id": "e6a6ec6d",
   "metadata": {
    "scrolled": true
   },
   "outputs": [
    {
     "name": "stdout",
     "output_type": "stream",
     "text": [
      "                Emg1           Emg2           Emg3           Emg4  \\\n",
      "count  101014.000000  101014.000000  101014.000000  101014.000000   \n",
      "mean        0.039693       0.086158       0.041308       0.012502   \n",
      "std         0.127180       0.231539       0.101912       0.031334   \n",
      "min         0.002400       0.000000       0.002400       0.000000   \n",
      "25%         0.002400       0.002400       0.002400       0.002400   \n",
      "50%         0.002400       0.002400       0.002400       0.002400   \n",
      "75%         0.024400       0.002400       0.012200       0.002400   \n",
      "max         2.399900       2.480500       1.340300       0.446800   \n",
      "\n",
      "                Emg5           Emg6           Emg7           Emg8  \\\n",
      "count  101014.000000  101014.000000  101014.000000  101014.000000   \n",
      "mean        0.003868       0.005367       0.167648       0.116476   \n",
      "std         0.009796       0.021238       0.403823       0.174862   \n",
      "min         0.002400       0.000000       0.002400       0.002400   \n",
      "25%         0.002400       0.002400       0.009800       0.039100   \n",
      "50%         0.002400       0.002400       0.046400       0.061000   \n",
      "75%         0.002400       0.002400       0.129400       0.109900   \n",
      "max         0.293000       0.639600       4.660600       3.000500   \n",
      "\n",
      "                Emg9          Emg10       stimulus     restimulus  \n",
      "count  101014.000000  101014.000000  101014.000000  101014.000000  \n",
      "mean        0.073460       0.054120       3.985665       2.329905  \n",
      "std         0.156381       0.112567       4.162080       3.691976  \n",
      "min         0.000000       0.002400       0.000000       0.000000  \n",
      "25%         0.002400       0.004900       0.000000       0.000000  \n",
      "50%         0.002400       0.017100       3.000000       0.000000  \n",
      "75%         0.068400       0.048800       8.000000       4.000000  \n",
      "max         1.752900       1.599100      12.000000      12.000000  \n",
      "************************************************************************************************************\n",
      "<class 'pandas.core.frame.DataFrame'>\n",
      "RangeIndex: 101014 entries, 0 to 101013\n",
      "Data columns (total 12 columns):\n",
      " #   Column      Non-Null Count   Dtype  \n",
      "---  ------      --------------   -----  \n",
      " 0   Emg1        101014 non-null  float64\n",
      " 1   Emg2        101014 non-null  float64\n",
      " 2   Emg3        101014 non-null  float64\n",
      " 3   Emg4        101014 non-null  float64\n",
      " 4   Emg5        101014 non-null  float64\n",
      " 5   Emg6        101014 non-null  float64\n",
      " 6   Emg7        101014 non-null  float64\n",
      " 7   Emg8        101014 non-null  float64\n",
      " 8   Emg9        101014 non-null  float64\n",
      " 9   Emg10       101014 non-null  float64\n",
      " 10  stimulus    101014 non-null  uint8  \n",
      " 11  restimulus  101014 non-null  uint8  \n",
      "dtypes: float64(10), uint8(2)\n",
      "memory usage: 7.9 MB\n",
      "None\n",
      "************************************************************************************************************\n",
      "Shape of the Dataset is (101014, 12)\n"
     ]
    }
   ],
   "source": [
    "print(df_1.describe(include = 'all'))\n",
    "print(\"************************************************************************************************************\")\n",
    "print(df_1.info())\n",
    "print(\"************************************************************************************************************\")\n",
    "print(\"Shape of the Dataset is\", df_1.shape)"
   ]
  },
  {
   "cell_type": "markdown",
   "id": "734801b6",
   "metadata": {},
   "source": [
    "# Exploratory Data Analysis"
   ]
  },
  {
   "cell_type": "code",
   "execution_count": 13,
   "id": "7728df40",
   "metadata": {},
   "outputs": [],
   "source": [
    "import numpy as np\n",
    "import pandas as pd\n",
    "import matplotlib.pyplot as plt\n",
    "import seaborn as sns\n",
    "from sklearn.model_selection import train_test_split\n",
    "from sklearn.metrics import confusion_matrix, f1_score, accuracy_score, classification_report"
   ]
  },
  {
   "cell_type": "code",
   "execution_count": 14,
   "id": "de084581",
   "metadata": {},
   "outputs": [
    {
     "data": {
      "text/html": [
       "<div>\n",
       "<style scoped>\n",
       "    .dataframe tbody tr th:only-of-type {\n",
       "        vertical-align: middle;\n",
       "    }\n",
       "\n",
       "    .dataframe tbody tr th {\n",
       "        vertical-align: top;\n",
       "    }\n",
       "\n",
       "    .dataframe thead th {\n",
       "        text-align: right;\n",
       "    }\n",
       "</style>\n",
       "<table border=\"1\" class=\"dataframe\">\n",
       "  <thead>\n",
       "    <tr style=\"text-align: right;\">\n",
       "      <th></th>\n",
       "      <th>Emg1</th>\n",
       "      <th>Emg2</th>\n",
       "      <th>Emg3</th>\n",
       "      <th>Emg4</th>\n",
       "      <th>Emg5</th>\n",
       "      <th>Emg6</th>\n",
       "      <th>Emg7</th>\n",
       "      <th>Emg8</th>\n",
       "      <th>Emg9</th>\n",
       "      <th>Emg10</th>\n",
       "      <th>stimulus</th>\n",
       "      <th>restimulus</th>\n",
       "    </tr>\n",
       "  </thead>\n",
       "  <tbody>\n",
       "    <tr>\n",
       "      <th>8865</th>\n",
       "      <td>0.0098</td>\n",
       "      <td>0.0024</td>\n",
       "      <td>0.0415</td>\n",
       "      <td>0.0024</td>\n",
       "      <td>0.0024</td>\n",
       "      <td>0.0024</td>\n",
       "      <td>0.0439</td>\n",
       "      <td>0.0488</td>\n",
       "      <td>0.1953</td>\n",
       "      <td>0.1367</td>\n",
       "      <td>2</td>\n",
       "      <td>2</td>\n",
       "    </tr>\n",
       "    <tr>\n",
       "      <th>15881</th>\n",
       "      <td>0.0049</td>\n",
       "      <td>0.0024</td>\n",
       "      <td>0.0024</td>\n",
       "      <td>0.0024</td>\n",
       "      <td>0.0024</td>\n",
       "      <td>0.0024</td>\n",
       "      <td>0.0024</td>\n",
       "      <td>0.0146</td>\n",
       "      <td>0.0024</td>\n",
       "      <td>0.0024</td>\n",
       "      <td>2</td>\n",
       "      <td>0</td>\n",
       "    </tr>\n",
       "    <tr>\n",
       "      <th>26351</th>\n",
       "      <td>0.0024</td>\n",
       "      <td>0.0024</td>\n",
       "      <td>0.0024</td>\n",
       "      <td>0.0024</td>\n",
       "      <td>0.0024</td>\n",
       "      <td>0.0024</td>\n",
       "      <td>0.0024</td>\n",
       "      <td>0.0513</td>\n",
       "      <td>0.0024</td>\n",
       "      <td>0.0122</td>\n",
       "      <td>4</td>\n",
       "      <td>0</td>\n",
       "    </tr>\n",
       "    <tr>\n",
       "      <th>51550</th>\n",
       "      <td>0.0024</td>\n",
       "      <td>0.0024</td>\n",
       "      <td>0.0024</td>\n",
       "      <td>0.0024</td>\n",
       "      <td>0.0024</td>\n",
       "      <td>0.0024</td>\n",
       "      <td>0.0415</td>\n",
       "      <td>0.0391</td>\n",
       "      <td>0.0024</td>\n",
       "      <td>0.0146</td>\n",
       "      <td>7</td>\n",
       "      <td>0</td>\n",
       "    </tr>\n",
       "    <tr>\n",
       "      <th>91792</th>\n",
       "      <td>0.0122</td>\n",
       "      <td>0.0024</td>\n",
       "      <td>0.0024</td>\n",
       "      <td>0.0024</td>\n",
       "      <td>0.0024</td>\n",
       "      <td>0.0024</td>\n",
       "      <td>0.0122</td>\n",
       "      <td>0.0464</td>\n",
       "      <td>0.0024</td>\n",
       "      <td>0.0122</td>\n",
       "      <td>11</td>\n",
       "      <td>0</td>\n",
       "    </tr>\n",
       "  </tbody>\n",
       "</table>\n",
       "</div>"
      ],
      "text/plain": [
       "         Emg1    Emg2    Emg3    Emg4    Emg5    Emg6    Emg7    Emg8    Emg9  \\\n",
       "8865   0.0098  0.0024  0.0415  0.0024  0.0024  0.0024  0.0439  0.0488  0.1953   \n",
       "15881  0.0049  0.0024  0.0024  0.0024  0.0024  0.0024  0.0024  0.0146  0.0024   \n",
       "26351  0.0024  0.0024  0.0024  0.0024  0.0024  0.0024  0.0024  0.0513  0.0024   \n",
       "51550  0.0024  0.0024  0.0024  0.0024  0.0024  0.0024  0.0415  0.0391  0.0024   \n",
       "91792  0.0122  0.0024  0.0024  0.0024  0.0024  0.0024  0.0122  0.0464  0.0024   \n",
       "\n",
       "        Emg10  stimulus  restimulus  \n",
       "8865   0.1367         2           2  \n",
       "15881  0.0024         2           0  \n",
       "26351  0.0122         4           0  \n",
       "51550  0.0146         7           0  \n",
       "91792  0.0122        11           0  "
      ]
     },
     "execution_count": 14,
     "metadata": {},
     "output_type": "execute_result"
    }
   ],
   "source": [
    "raw_data = df_1\n",
    "raw_data.sample(5)"
   ]
  },
  {
   "cell_type": "code",
   "execution_count": 15,
   "id": "7e858342",
   "metadata": {},
   "outputs": [
    {
     "name": "stdout",
     "output_type": "stream",
     "text": [
      "The Shape of the Dataset is :  (101014, 12)\n",
      "************************************************************************************************************\n",
      "Column Names of the Dataset are :  Index(['Emg1', 'Emg2', 'Emg3', 'Emg4', 'Emg5', 'Emg6', 'Emg7', 'Emg8', 'Emg9',\n",
      "       'Emg10', 'stimulus', 'restimulus'],\n",
      "      dtype='object')\n",
      "************************************************************************************************************\n",
      "<class 'pandas.core.frame.DataFrame'>\n",
      "RangeIndex: 101014 entries, 0 to 101013\n",
      "Data columns (total 12 columns):\n",
      " #   Column      Non-Null Count   Dtype  \n",
      "---  ------      --------------   -----  \n",
      " 0   Emg1        101014 non-null  float64\n",
      " 1   Emg2        101014 non-null  float64\n",
      " 2   Emg3        101014 non-null  float64\n",
      " 3   Emg4        101014 non-null  float64\n",
      " 4   Emg5        101014 non-null  float64\n",
      " 5   Emg6        101014 non-null  float64\n",
      " 6   Emg7        101014 non-null  float64\n",
      " 7   Emg8        101014 non-null  float64\n",
      " 8   Emg9        101014 non-null  float64\n",
      " 9   Emg10       101014 non-null  float64\n",
      " 10  stimulus    101014 non-null  uint8  \n",
      " 11  restimulus  101014 non-null  uint8  \n",
      "dtypes: float64(10), uint8(2)\n",
      "memory usage: 7.9 MB\n",
      "None\n",
      "************************************************************************************************************\n"
     ]
    },
    {
     "data": {
      "text/html": [
       "<div>\n",
       "<style scoped>\n",
       "    .dataframe tbody tr th:only-of-type {\n",
       "        vertical-align: middle;\n",
       "    }\n",
       "\n",
       "    .dataframe tbody tr th {\n",
       "        vertical-align: top;\n",
       "    }\n",
       "\n",
       "    .dataframe thead th {\n",
       "        text-align: right;\n",
       "    }\n",
       "</style>\n",
       "<table border=\"1\" class=\"dataframe\">\n",
       "  <thead>\n",
       "    <tr style=\"text-align: right;\">\n",
       "      <th></th>\n",
       "      <th>Emg1</th>\n",
       "      <th>Emg2</th>\n",
       "      <th>Emg3</th>\n",
       "      <th>Emg4</th>\n",
       "      <th>Emg5</th>\n",
       "      <th>Emg6</th>\n",
       "      <th>Emg7</th>\n",
       "      <th>Emg8</th>\n",
       "      <th>Emg9</th>\n",
       "      <th>Emg10</th>\n",
       "      <th>stimulus</th>\n",
       "      <th>restimulus</th>\n",
       "    </tr>\n",
       "  </thead>\n",
       "  <tbody>\n",
       "    <tr>\n",
       "      <th>count</th>\n",
       "      <td>101014.000000</td>\n",
       "      <td>101014.000000</td>\n",
       "      <td>101014.000000</td>\n",
       "      <td>101014.000000</td>\n",
       "      <td>101014.000000</td>\n",
       "      <td>101014.000000</td>\n",
       "      <td>101014.000000</td>\n",
       "      <td>101014.000000</td>\n",
       "      <td>101014.000000</td>\n",
       "      <td>101014.000000</td>\n",
       "      <td>101014.000000</td>\n",
       "      <td>101014.000000</td>\n",
       "    </tr>\n",
       "    <tr>\n",
       "      <th>mean</th>\n",
       "      <td>0.039693</td>\n",
       "      <td>0.086158</td>\n",
       "      <td>0.041308</td>\n",
       "      <td>0.012502</td>\n",
       "      <td>0.003868</td>\n",
       "      <td>0.005367</td>\n",
       "      <td>0.167648</td>\n",
       "      <td>0.116476</td>\n",
       "      <td>0.073460</td>\n",
       "      <td>0.054120</td>\n",
       "      <td>3.985665</td>\n",
       "      <td>2.329905</td>\n",
       "    </tr>\n",
       "    <tr>\n",
       "      <th>std</th>\n",
       "      <td>0.127180</td>\n",
       "      <td>0.231539</td>\n",
       "      <td>0.101912</td>\n",
       "      <td>0.031334</td>\n",
       "      <td>0.009796</td>\n",
       "      <td>0.021238</td>\n",
       "      <td>0.403823</td>\n",
       "      <td>0.174862</td>\n",
       "      <td>0.156381</td>\n",
       "      <td>0.112567</td>\n",
       "      <td>4.162080</td>\n",
       "      <td>3.691976</td>\n",
       "    </tr>\n",
       "    <tr>\n",
       "      <th>min</th>\n",
       "      <td>0.002400</td>\n",
       "      <td>0.000000</td>\n",
       "      <td>0.002400</td>\n",
       "      <td>0.000000</td>\n",
       "      <td>0.002400</td>\n",
       "      <td>0.000000</td>\n",
       "      <td>0.002400</td>\n",
       "      <td>0.002400</td>\n",
       "      <td>0.000000</td>\n",
       "      <td>0.002400</td>\n",
       "      <td>0.000000</td>\n",
       "      <td>0.000000</td>\n",
       "    </tr>\n",
       "    <tr>\n",
       "      <th>25%</th>\n",
       "      <td>0.002400</td>\n",
       "      <td>0.002400</td>\n",
       "      <td>0.002400</td>\n",
       "      <td>0.002400</td>\n",
       "      <td>0.002400</td>\n",
       "      <td>0.002400</td>\n",
       "      <td>0.009800</td>\n",
       "      <td>0.039100</td>\n",
       "      <td>0.002400</td>\n",
       "      <td>0.004900</td>\n",
       "      <td>0.000000</td>\n",
       "      <td>0.000000</td>\n",
       "    </tr>\n",
       "    <tr>\n",
       "      <th>50%</th>\n",
       "      <td>0.002400</td>\n",
       "      <td>0.002400</td>\n",
       "      <td>0.002400</td>\n",
       "      <td>0.002400</td>\n",
       "      <td>0.002400</td>\n",
       "      <td>0.002400</td>\n",
       "      <td>0.046400</td>\n",
       "      <td>0.061000</td>\n",
       "      <td>0.002400</td>\n",
       "      <td>0.017100</td>\n",
       "      <td>3.000000</td>\n",
       "      <td>0.000000</td>\n",
       "    </tr>\n",
       "    <tr>\n",
       "      <th>75%</th>\n",
       "      <td>0.024400</td>\n",
       "      <td>0.002400</td>\n",
       "      <td>0.012200</td>\n",
       "      <td>0.002400</td>\n",
       "      <td>0.002400</td>\n",
       "      <td>0.002400</td>\n",
       "      <td>0.129400</td>\n",
       "      <td>0.109900</td>\n",
       "      <td>0.068400</td>\n",
       "      <td>0.048800</td>\n",
       "      <td>8.000000</td>\n",
       "      <td>4.000000</td>\n",
       "    </tr>\n",
       "    <tr>\n",
       "      <th>max</th>\n",
       "      <td>2.399900</td>\n",
       "      <td>2.480500</td>\n",
       "      <td>1.340300</td>\n",
       "      <td>0.446800</td>\n",
       "      <td>0.293000</td>\n",
       "      <td>0.639600</td>\n",
       "      <td>4.660600</td>\n",
       "      <td>3.000500</td>\n",
       "      <td>1.752900</td>\n",
       "      <td>1.599100</td>\n",
       "      <td>12.000000</td>\n",
       "      <td>12.000000</td>\n",
       "    </tr>\n",
       "  </tbody>\n",
       "</table>\n",
       "</div>"
      ],
      "text/plain": [
       "                Emg1           Emg2           Emg3           Emg4  \\\n",
       "count  101014.000000  101014.000000  101014.000000  101014.000000   \n",
       "mean        0.039693       0.086158       0.041308       0.012502   \n",
       "std         0.127180       0.231539       0.101912       0.031334   \n",
       "min         0.002400       0.000000       0.002400       0.000000   \n",
       "25%         0.002400       0.002400       0.002400       0.002400   \n",
       "50%         0.002400       0.002400       0.002400       0.002400   \n",
       "75%         0.024400       0.002400       0.012200       0.002400   \n",
       "max         2.399900       2.480500       1.340300       0.446800   \n",
       "\n",
       "                Emg5           Emg6           Emg7           Emg8  \\\n",
       "count  101014.000000  101014.000000  101014.000000  101014.000000   \n",
       "mean        0.003868       0.005367       0.167648       0.116476   \n",
       "std         0.009796       0.021238       0.403823       0.174862   \n",
       "min         0.002400       0.000000       0.002400       0.002400   \n",
       "25%         0.002400       0.002400       0.009800       0.039100   \n",
       "50%         0.002400       0.002400       0.046400       0.061000   \n",
       "75%         0.002400       0.002400       0.129400       0.109900   \n",
       "max         0.293000       0.639600       4.660600       3.000500   \n",
       "\n",
       "                Emg9          Emg10       stimulus     restimulus  \n",
       "count  101014.000000  101014.000000  101014.000000  101014.000000  \n",
       "mean        0.073460       0.054120       3.985665       2.329905  \n",
       "std         0.156381       0.112567       4.162080       3.691976  \n",
       "min         0.000000       0.002400       0.000000       0.000000  \n",
       "25%         0.002400       0.004900       0.000000       0.000000  \n",
       "50%         0.002400       0.017100       3.000000       0.000000  \n",
       "75%         0.068400       0.048800       8.000000       4.000000  \n",
       "max         1.752900       1.599100      12.000000      12.000000  "
      ]
     },
     "execution_count": 15,
     "metadata": {},
     "output_type": "execute_result"
    }
   ],
   "source": [
    "print(\"The Shape of the Dataset is : \",raw_data.shape)\n",
    "print(\"************************************************************************************************************\")\n",
    "print(\"Column Names of the Dataset are : \",raw_data.columns)\n",
    "print(\"************************************************************************************************************\")\n",
    "print(raw_data.info())\n",
    "print(\"************************************************************************************************************\")\n",
    "raw_data.describe(include='all')"
   ]
  },
  {
   "cell_type": "code",
   "execution_count": 16,
   "id": "53bfdc12",
   "metadata": {},
   "outputs": [
    {
     "name": "stdout",
     "output_type": "stream",
     "text": [
      "Unique Dependent values and their counts :\n",
      "0     39063\n",
      "2      5174\n",
      "4      5173\n",
      "5      5173\n",
      "12     5173\n",
      "8      5172\n",
      "7      5171\n",
      "6      5170\n",
      "11     5166\n",
      "3      5158\n",
      "1      5149\n",
      "10     5137\n",
      "9      5135\n",
      "Name: stimulus, dtype: int64\n"
     ]
    }
   ],
   "source": [
    "print(\"Unique Dependent values and their counts :\")\n",
    "print(raw_data[\"stimulus\"].value_counts())"
   ]
  },
  {
   "cell_type": "code",
   "execution_count": 17,
   "id": "7908f312",
   "metadata": {},
   "outputs": [
    {
     "data": {
      "text/plain": [
       "Text(0, 0.5, 'Frequency')"
      ]
     },
     "execution_count": 17,
     "metadata": {},
     "output_type": "execute_result"
    },
    {
     "data": {
      "image/png": "[encoded data removed]",
      "text/plain": [
       "<Figure size 432x288 with 1 Axes>"
      ]
     },
     "metadata": {
      "needs_background": "light"
     },
     "output_type": "display_data"
    }
   ],
   "source": [
    "count_classes = pd.value_counts(raw_data['stimulus'], sort = True)\n",
    "\n",
    "count_classes.plot(kind = 'bar', rot=0)\n",
    "\n",
    "plt.title(\"stimulus Class Distribution\")\n",
    "\n",
    "plt.xlabel(\"Class\")\n",
    "\n",
    "plt.ylabel(\"Frequency\")"
   ]
  },
  {
   "cell_type": "code",
   "execution_count": 18,
   "id": "895878d9",
   "metadata": {
    "scrolled": true
   },
   "outputs": [
    {
     "name": "stdout",
     "output_type": "stream",
     "text": [
      "Emg1          False\n",
      "Emg2          False\n",
      "Emg3          False\n",
      "Emg4          False\n",
      "Emg5          False\n",
      "Emg6          False\n",
      "Emg7          False\n",
      "Emg8          False\n",
      "Emg9          False\n",
      "Emg10         False\n",
      "stimulus      False\n",
      "restimulus    False\n",
      "dtype: bool\n"
     ]
    }
   ],
   "source": [
    "print(raw_data.isnull().any())"
   ]
  },
  {
   "cell_type": "markdown",
   "id": "85e67ffa",
   "metadata": {},
   "source": [
    "# Custom Outlier Detection"
   ]
  },
  {
   "cell_type": "code",
   "execution_count": 19,
   "id": "aecf9fdf",
   "metadata": {},
   "outputs": [],
   "source": [
    "index_names = raw_data[ (raw_data['stimulus'] != raw_data['restimulus'])].index\n",
    "raw_data.drop(index_names, inplace = True)"
   ]
  },
  {
   "cell_type": "code",
   "execution_count": 20,
   "id": "7ec50297",
   "metadata": {},
   "outputs": [
    {
     "data": {
      "text/html": [
       "<div>\n",
       "<style scoped>\n",
       "    .dataframe tbody tr th:only-of-type {\n",
       "        vertical-align: middle;\n",
       "    }\n",
       "\n",
       "    .dataframe tbody tr th {\n",
       "        vertical-align: top;\n",
       "    }\n",
       "\n",
       "    .dataframe thead th {\n",
       "        text-align: right;\n",
       "    }\n",
       "</style>\n",
       "<table border=\"1\" class=\"dataframe\">\n",
       "  <thead>\n",
       "    <tr style=\"text-align: right;\">\n",
       "      <th></th>\n",
       "      <th>Emg1</th>\n",
       "      <th>Emg2</th>\n",
       "      <th>Emg3</th>\n",
       "      <th>Emg4</th>\n",
       "      <th>Emg5</th>\n",
       "      <th>Emg6</th>\n",
       "      <th>Emg7</th>\n",
       "      <th>Emg8</th>\n",
       "      <th>Emg9</th>\n",
       "      <th>Emg10</th>\n",
       "      <th>stimulus</th>\n",
       "      <th>restimulus</th>\n",
       "    </tr>\n",
       "  </thead>\n",
       "  <tbody>\n",
       "    <tr>\n",
       "      <th>78664</th>\n",
       "      <td>0.0830</td>\n",
       "      <td>0.1001</td>\n",
       "      <td>0.2148</td>\n",
       "      <td>0.0195</td>\n",
       "      <td>0.0024</td>\n",
       "      <td>0.0024</td>\n",
       "      <td>0.0708</td>\n",
       "      <td>0.1099</td>\n",
       "      <td>0.0024</td>\n",
       "      <td>0.0244</td>\n",
       "      <td>10</td>\n",
       "      <td>10</td>\n",
       "    </tr>\n",
       "    <tr>\n",
       "      <th>60961</th>\n",
       "      <td>0.1001</td>\n",
       "      <td>0.0024</td>\n",
       "      <td>0.0024</td>\n",
       "      <td>0.0024</td>\n",
       "      <td>0.0024</td>\n",
       "      <td>0.0073</td>\n",
       "      <td>0.7080</td>\n",
       "      <td>0.4541</td>\n",
       "      <td>0.2124</td>\n",
       "      <td>0.0781</td>\n",
       "      <td>8</td>\n",
       "      <td>8</td>\n",
       "    </tr>\n",
       "    <tr>\n",
       "      <th>57758</th>\n",
       "      <td>0.0586</td>\n",
       "      <td>0.0024</td>\n",
       "      <td>0.0024</td>\n",
       "      <td>0.0024</td>\n",
       "      <td>0.0024</td>\n",
       "      <td>0.0024</td>\n",
       "      <td>0.7837</td>\n",
       "      <td>0.1636</td>\n",
       "      <td>0.0024</td>\n",
       "      <td>0.3149</td>\n",
       "      <td>7</td>\n",
       "      <td>7</td>\n",
       "    </tr>\n",
       "    <tr>\n",
       "      <th>77196</th>\n",
       "      <td>0.0024</td>\n",
       "      <td>0.0024</td>\n",
       "      <td>0.0024</td>\n",
       "      <td>0.0024</td>\n",
       "      <td>0.0024</td>\n",
       "      <td>0.0024</td>\n",
       "      <td>0.0293</td>\n",
       "      <td>0.0537</td>\n",
       "      <td>0.0024</td>\n",
       "      <td>0.0024</td>\n",
       "      <td>0</td>\n",
       "      <td>0</td>\n",
       "    </tr>\n",
       "    <tr>\n",
       "      <th>79350</th>\n",
       "      <td>0.0732</td>\n",
       "      <td>0.1636</td>\n",
       "      <td>0.3760</td>\n",
       "      <td>0.0269</td>\n",
       "      <td>0.0024</td>\n",
       "      <td>0.0024</td>\n",
       "      <td>0.1025</td>\n",
       "      <td>0.1270</td>\n",
       "      <td>0.1294</td>\n",
       "      <td>0.0049</td>\n",
       "      <td>10</td>\n",
       "      <td>10</td>\n",
       "    </tr>\n",
       "  </tbody>\n",
       "</table>\n",
       "</div>"
      ],
      "text/plain": [
       "         Emg1    Emg2    Emg3    Emg4    Emg5    Emg6    Emg7    Emg8    Emg9  \\\n",
       "78664  0.0830  0.1001  0.2148  0.0195  0.0024  0.0024  0.0708  0.1099  0.0024   \n",
       "60961  0.1001  0.0024  0.0024  0.0024  0.0024  0.0073  0.7080  0.4541  0.2124   \n",
       "57758  0.0586  0.0024  0.0024  0.0024  0.0024  0.0024  0.7837  0.1636  0.0024   \n",
       "77196  0.0024  0.0024  0.0024  0.0024  0.0024  0.0024  0.0293  0.0537  0.0024   \n",
       "79350  0.0732  0.1636  0.3760  0.0269  0.0024  0.0024  0.1025  0.1270  0.1294   \n",
       "\n",
       "        Emg10  stimulus  restimulus  \n",
       "78664  0.0244        10          10  \n",
       "60961  0.0781         8           8  \n",
       "57758  0.3149         7           7  \n",
       "77196  0.0024         0           0  \n",
       "79350  0.0049        10          10  "
      ]
     },
     "execution_count": 20,
     "metadata": {},
     "output_type": "execute_result"
    }
   ],
   "source": [
    "raw_data.sample(5)"
   ]
  },
  {
   "cell_type": "code",
   "execution_count": 21,
   "id": "40a9cbb4",
   "metadata": {},
   "outputs": [
    {
     "data": {
      "text/plain": [
       "(75043, 12)"
      ]
     },
     "execution_count": 21,
     "metadata": {},
     "output_type": "execute_result"
    }
   ],
   "source": [
    "raw_data.shape"
   ]
  },
  {
   "cell_type": "code",
   "execution_count": 22,
   "id": "967d1f4c",
   "metadata": {},
   "outputs": [
    {
     "name": "stdout",
     "output_type": "stream",
     "text": [
      "<class 'pandas.core.frame.DataFrame'>\n",
      "Int64Index: 75043 entries, 0 to 101013\n",
      "Data columns (total 12 columns):\n",
      " #   Column      Non-Null Count  Dtype  \n",
      "---  ------      --------------  -----  \n",
      " 0   Emg1        75043 non-null  float64\n",
      " 1   Emg2        75043 non-null  float64\n",
      " 2   Emg3        75043 non-null  float64\n",
      " 3   Emg4        75043 non-null  float64\n",
      " 4   Emg5        75043 non-null  float64\n",
      " 5   Emg6        75043 non-null  float64\n",
      " 6   Emg7        75043 non-null  float64\n",
      " 7   Emg8        75043 non-null  float64\n",
      " 8   Emg9        75043 non-null  float64\n",
      " 9   Emg10       75043 non-null  float64\n",
      " 10  stimulus    75043 non-null  uint8  \n",
      " 11  restimulus  75043 non-null  uint8  \n",
      "dtypes: float64(10), uint8(2)\n",
      "memory usage: 6.4 MB\n"
     ]
    }
   ],
   "source": [
    "raw_data.info()"
   ]
  },
  {
   "cell_type": "code",
   "execution_count": 23,
   "id": "1b144bb6",
   "metadata": {},
   "outputs": [
    {
     "name": "stdout",
     "output_type": "stream",
     "text": [
      "Emg1          False\n",
      "Emg2          False\n",
      "Emg3          False\n",
      "Emg4          False\n",
      "Emg5          False\n",
      "Emg6          False\n",
      "Emg7          False\n",
      "Emg8          False\n",
      "Emg9          False\n",
      "Emg10         False\n",
      "stimulus      False\n",
      "restimulus    False\n",
      "dtype: bool\n"
     ]
    }
   ],
   "source": [
    "print(raw_data.isnull().any())"
   ]
  },
  {
   "cell_type": "code",
   "execution_count": 24,
   "id": "539f44de",
   "metadata": {},
   "outputs": [],
   "source": [
    "X = raw_data.iloc[:,0:10]\n",
    "y = raw_data.stimulus"
   ]
  },
  {
   "cell_type": "markdown",
   "id": "de019969",
   "metadata": {},
   "source": [
    "# Scaling Data"
   ]
  },
  {
   "cell_type": "code",
   "execution_count": 25,
   "id": "96fd8467",
   "metadata": {},
   "outputs": [],
   "source": [
    "from sklearn.preprocessing import StandardScaler"
   ]
  },
  {
   "cell_type": "code",
   "execution_count": 26,
   "id": "578cd322",
   "metadata": {
    "scrolled": true
   },
   "outputs": [],
   "source": [
    "X = StandardScaler().fit_transform(X)"
   ]
  },
  {
   "cell_type": "markdown",
   "id": "6e77781d",
   "metadata": {},
   "source": [
    "# Splitting data for training and testing"
   ]
  },
  {
   "cell_type": "code",
   "execution_count": 27,
   "id": "e84bd25c",
   "metadata": {},
   "outputs": [],
   "source": [
    "X_train, X_test, y_train, y_test = train_test_split(X, y, test_size = 0.1, random_state = 39)"
   ]
  },
  {
   "cell_type": "markdown",
   "id": "44dc3e2c",
   "metadata": {},
   "source": [
    "# Machine Learning Models"
   ]
  },
  {
   "cell_type": "markdown",
   "id": "6b8b866a",
   "metadata": {},
   "source": [
    "# Decision Tree"
   ]
  },
  {
   "cell_type": "code",
   "execution_count": 28,
   "id": "e50a45db",
   "metadata": {},
   "outputs": [
    {
     "name": "stdout",
     "output_type": "stream",
     "text": [
      "0.4537076950073242 seconds\n"
     ]
    }
   ],
   "source": [
    "from sklearn import tree\n",
    "import time\n",
    "start_time = time.time()\n",
    "tree = tree.DecisionTreeClassifier(ccp_alpha= 0.0,\n",
    "              class_weight= None,\n",
    "              criterion = \"entropy\",\n",
    "              max_depth = None,\n",
    "              max_features = None,\n",
    "              max_leaf_nodes = None,\n",
    "              min_impurity_decrease = 0.0,\n",
    "              min_samples_leaf = 1,\n",
    "              min_samples_split = 2,\n",
    "              min_weight_fraction_leaf = 0.0,\n",
    "              random_state = None,\n",
    "              splitter = 'best')\n",
    "tree.fit(X_train, y_train)\n",
    "print (time.time() - start_time, \"seconds\")"
   ]
  },
  {
   "cell_type": "code",
   "execution_count": 29,
   "id": "f642f954",
   "metadata": {},
   "outputs": [],
   "source": [
    "y_pred1 = tree.predict(X_test)"
   ]
  },
  {
   "cell_type": "code",
   "execution_count": 30,
   "id": "b2cf417f",
   "metadata": {},
   "outputs": [
    {
     "name": "stdout",
     "output_type": "stream",
     "text": [
      "Accuracy is: 86.86209193870754\n"
     ]
    }
   ],
   "source": [
    "from sklearn.metrics import accuracy_score\n",
    "accuracy = {accuracy_score(y_test, y_pred1)}\n",
    "print(f\"Accuracy is: {accuracy_score(y_test, y_pred1)* 100}\")"
   ]
  },
  {
   "cell_type": "code",
   "execution_count": 31,
   "id": "4b4d6a24",
   "metadata": {},
   "outputs": [
    {
     "name": "stdout",
     "output_type": "stream",
     "text": [
      "\u001b[1mClassification report : \u001b[0m\n",
      "               precision    recall  f1-score   support\n",
      "\n",
      "           0       0.91      0.92      0.92      3862\n",
      "           1       0.86      0.82      0.84       361\n",
      "           2       0.90      0.86      0.88       232\n",
      "           3       0.84      0.84      0.84       379\n",
      "           4       0.89      0.88      0.88       314\n",
      "           5       0.87      0.89      0.88       388\n",
      "           6       0.78      0.82      0.80       319\n",
      "           7       0.94      0.92      0.93       265\n",
      "           8       0.86      0.85      0.85       319\n",
      "           9       0.82      0.80      0.81       240\n",
      "          10       0.81      0.76      0.78       310\n",
      "          11       0.74      0.80      0.77       219\n",
      "          12       0.53      0.51      0.52       297\n",
      "\n",
      "    accuracy                           0.87      7505\n",
      "   macro avg       0.83      0.82      0.82      7505\n",
      "weighted avg       0.87      0.87      0.87      7505\n",
      "\n",
      "\u001b[1mConfusion Matrix : \u001b[0m\n"
     ]
    },
    {
     "data": {
      "image/png": "[encoded data removed]",
      "text/plain": [
       "<Figure size 432x288 with 2 Axes>"
      ]
     },
     "metadata": {
      "needs_background": "light"
     },
     "output_type": "display_data"
    }
   ],
   "source": [
    "print('\\033[1m' +'Classification report : '+ '\\033[0m\\n', classification_report(y_test, y_pred1))\n",
    "\n",
    "cm = confusion_matrix(y_pred1, y_test)\n",
    "print('\\033[1m' +'Confusion Matrix : '+ '\\033[0m')\n",
    "sns.heatmap(cm, cmap = 'OrRd',annot = True, fmt='d')\n",
    "plt.show()"
   ]
  },
  {
   "cell_type": "markdown",
   "id": "1f4c542b",
   "metadata": {},
   "source": [
    "# Evaluation -- Decision Tree"
   ]
  },
  {
   "cell_type": "code",
   "execution_count": 32,
   "id": "842ce776",
   "metadata": {},
   "outputs": [
    {
     "name": "stdout",
     "output_type": "stream",
     "text": [
      "MAE: 17.13844103930713\n",
      "MSE: 7.8643570952698205\n",
      "RMSE: 2.804346108323618\n"
     ]
    }
   ],
   "source": [
    "from sklearn import metrics\n",
    "\n",
    "print('MAE:', metrics.mean_absolute_error(y_test,y_pred1))\n",
    "print('MSE:', metrics.mean_squared_error(y_test, y_pred1))\n",
    "print('RMSE:', np.sqrt(metrics.mean_squared_error(y_test, y_pred1)))"
   ]
  },
  {
   "cell_type": "code",
   "execution_count": 33,
   "id": "ea853657",
   "metadata": {},
   "outputs": [
    {
     "name": "stdout",
     "output_type": "stream",
     "text": [
      "Precision Score :  0.8683575381437214\n",
      "Recall Score :  0.8686209193870753\n",
      "f1_score :  0.8683296262897138\n"
     ]
    }
   ],
   "source": [
    "from sklearn.metrics import precision_score\n",
    "print(\"Precision Score : \",precision_score(y_test, y_pred1, average='weighted'))\n",
    "\n",
    "\n",
    "from sklearn.metrics import recall_score\n",
    "print(\"Recall Score : \",recall_score(y_test, y_pred1,average='weighted'))\n",
    "\n",
    "\n",
    "from sklearn.metrics import f1_score\n",
    "print(\"f1_score : \",f1_score(y_test, y_pred1,average='weighted'))"
   ]
  },
  {
   "cell_type": "markdown",
   "id": "991d324e",
   "metadata": {},
   "source": [
    "# KNeighborsClassifier"
   ]
  },
  {
   "cell_type": "code",
   "execution_count": 34,
   "id": "e9a4aa97",
   "metadata": {},
   "outputs": [
    {
     "name": "stdout",
     "output_type": "stream",
     "text": [
      "0.2682325839996338 seconds\n"
     ]
    }
   ],
   "source": [
    "from sklearn.neighbors import KNeighborsClassifier\n",
    "import time\n",
    "start_time = time.time()\n",
    "KNeighborsClassifier = KNeighborsClassifier(algorithm = 'ball_tree',\n",
    "                                            leaf_size = 30,\n",
    "                                            metric = 'minkowski',\n",
    "                                            metric_params= None,\n",
    "                                            n_jobs = -1,\n",
    "                                            n_neighbors = 2,\n",
    "                                            p = 1,\n",
    "                                            weights = 'distance')\n",
    "KNeighborsClassifier.fit(X_train, y_train)\n",
    "print (time.time() - start_time, \"seconds\")"
   ]
  },
  {
   "cell_type": "code",
   "execution_count": 35,
   "id": "4e426a4a",
   "metadata": {},
   "outputs": [],
   "source": [
    "y_pred2 = KNeighborsClassifier.predict(X_test)"
   ]
  },
  {
   "cell_type": "code",
   "execution_count": 36,
   "id": "94590fcf",
   "metadata": {},
   "outputs": [
    {
     "name": "stdout",
     "output_type": "stream",
     "text": [
      "Accuracy is: 89.1672218520986\n"
     ]
    }
   ],
   "source": [
    "from sklearn.metrics import accuracy_score\n",
    "accuracy = {accuracy_score(y_test, y_pred2)}\n",
    "print(f\"Accuracy is: {accuracy_score(y_test, y_pred2)* 100}\")"
   ]
  },
  {
   "cell_type": "code",
   "execution_count": 37,
   "id": "1cd69281",
   "metadata": {},
   "outputs": [
    {
     "name": "stdout",
     "output_type": "stream",
     "text": [
      "\u001b[1mClassification report : \u001b[0m\n",
      "               precision    recall  f1-score   support\n",
      "\n",
      "           0       0.90      0.94      0.92      3862\n",
      "           1       0.90      0.84      0.87       361\n",
      "           2       0.88      0.84      0.86       232\n",
      "           3       0.88      0.85      0.86       379\n",
      "           4       0.96      0.91      0.94       314\n",
      "           5       0.92      0.94      0.93       388\n",
      "           6       0.89      0.87      0.88       319\n",
      "           7       0.97      0.95      0.96       265\n",
      "           8       0.91      0.91      0.91       319\n",
      "           9       0.90      0.86      0.88       240\n",
      "          10       0.85      0.75      0.80       310\n",
      "          11       0.82      0.86      0.84       219\n",
      "          12       0.60      0.53      0.56       297\n",
      "\n",
      "    accuracy                           0.89      7505\n",
      "   macro avg       0.88      0.85      0.86      7505\n",
      "weighted avg       0.89      0.89      0.89      7505\n",
      "\n",
      "\u001b[1mConfusion Matrix : \u001b[0m\n"
     ]
    },
    {
     "data": {
      "image/png": "[encoded data removed]",
      "text/plain": [
       "<Figure size 432x288 with 2 Axes>"
      ]
     },
     "metadata": {
      "needs_background": "light"
     },
     "output_type": "display_data"
    }
   ],
   "source": [
    "print('\\033[1m' +'Classification report : '+ '\\033[0m\\n', classification_report(y_test, y_pred2))\n",
    "\n",
    "cm = confusion_matrix(y_pred2, y_test)\n",
    "print('\\033[1m' +'Confusion Matrix : '+ '\\033[0m')\n",
    "sns.heatmap(cm, cmap = 'OrRd',annot = True, fmt='d')\n",
    "plt.show()"
   ]
  },
  {
   "cell_type": "markdown",
   "id": "42dca8a9",
   "metadata": {},
   "source": [
    "# Evaluation -- KNeighborsClassifier"
   ]
  },
  {
   "cell_type": "code",
   "execution_count": 38,
   "id": "06ffc2ba",
   "metadata": {},
   "outputs": [
    {
     "name": "stdout",
     "output_type": "stream",
     "text": [
      "MAE: 15.841705529646902\n",
      "MSE: 7.041705529646902\n",
      "RMSE: 2.653621210656657\n"
     ]
    }
   ],
   "source": [
    "from sklearn import metrics\n",
    "\n",
    "print('MAE:', metrics.mean_absolute_error(y_test,y_pred2))\n",
    "print('MSE:', metrics.mean_squared_error(y_test, y_pred2))\n",
    "print('RMSE:', np.sqrt(metrics.mean_squared_error(y_test, y_pred2)))"
   ]
  },
  {
   "cell_type": "code",
   "execution_count": 39,
   "id": "2723c1c1",
   "metadata": {},
   "outputs": [
    {
     "name": "stdout",
     "output_type": "stream",
     "text": [
      "Precision Score :  0.8902243000344627\n",
      "Recall Score :  0.891672218520986\n",
      "f1_score :  0.8904778405123743\n"
     ]
    }
   ],
   "source": [
    "from sklearn.metrics import precision_score\n",
    "print(\"Precision Score : \",precision_score(y_test, y_pred2, average='weighted'))\n",
    "\n",
    "\n",
    "from sklearn.metrics import recall_score\n",
    "print(\"Recall Score : \",recall_score(y_test, y_pred2,average='weighted'))\n",
    "\n",
    "\n",
    "from sklearn.metrics import f1_score\n",
    "print(\"f1_score : \",f1_score(y_test, y_pred2,average='weighted'))"
   ]
  },
  {
   "cell_type": "markdown",
   "id": "d588566f",
   "metadata": {},
   "source": [
    "# Random Forest"
   ]
  },
  {
   "cell_type": "code",
   "execution_count": 40,
   "id": "c739d0c5",
   "metadata": {},
   "outputs": [
    {
     "name": "stdout",
     "output_type": "stream",
     "text": [
      "11.7442045211792 seconds\n"
     ]
    }
   ],
   "source": [
    "from sklearn.ensemble import RandomForestClassifier\n",
    "import time\n",
    "start_time = time.time()\n",
    "RandomForestClassifier = RandomForestClassifier(\n",
    "              bootstrap = True,\n",
    "              ccp_alpha = 0.0,\n",
    "              class_weight =  None,\n",
    "              criterion = 'entropy',\n",
    "              max_depth = None,\n",
    "              max_features = 'auto' ,\n",
    "              max_leaf_nodes = None,\n",
    "              max_samples = None,\n",
    "              min_impurity_decrease = 0.0,\n",
    "              min_samples_leaf = 1,\n",
    "              min_samples_split = 2,\n",
    "              min_weight_fraction_leaf = 0.0,\n",
    "              n_estimators = 100,\n",
    "              n_jobs = None,\n",
    "              oob_score = False,\n",
    "              random_state = None,\n",
    "              verbose = 0,\n",
    "              warm_start = False)\n",
    "RandomForestClassifier.fit(X_train, y_train)\n",
    "print (time.time() - start_time, \"seconds\")"
   ]
  },
  {
   "cell_type": "code",
   "execution_count": 41,
   "id": "8f8471c0",
   "metadata": {},
   "outputs": [],
   "source": [
    "y_pred3 = RandomForestClassifier.predict(X_test)"
   ]
  },
  {
   "cell_type": "code",
   "execution_count": 42,
   "id": "efabcbfd",
   "metadata": {},
   "outputs": [
    {
     "name": "stdout",
     "output_type": "stream",
     "text": [
      "Accuracy is: 91.33910726182545\n"
     ]
    }
   ],
   "source": [
    "from sklearn.metrics import accuracy_score\n",
    "accuracy = {accuracy_score(y_test, y_pred3)}\n",
    "print(f\"Accuracy is: {accuracy_score(y_test, y_pred3)* 100}\")"
   ]
  },
  {
   "cell_type": "code",
   "execution_count": 43,
   "id": "0c4aa718",
   "metadata": {},
   "outputs": [
    {
     "name": "stdout",
     "output_type": "stream",
     "text": [
      "\u001b[1mClassification report : \u001b[0m\n",
      "               precision    recall  f1-score   support\n",
      "\n",
      "           0       0.91      0.97      0.94      3862\n",
      "           1       0.93      0.89      0.91       361\n",
      "           2       0.94      0.85      0.89       232\n",
      "           3       0.92      0.87      0.89       379\n",
      "           4       0.97      0.92      0.94       314\n",
      "           5       0.93      0.94      0.94       388\n",
      "           6       0.93      0.85      0.89       319\n",
      "           7       0.99      0.95      0.97       265\n",
      "           8       0.95      0.88      0.91       319\n",
      "           9       0.94      0.87      0.90       240\n",
      "          10       0.89      0.75      0.81       310\n",
      "          11       0.85      0.88      0.87       219\n",
      "          12       0.74      0.54      0.62       297\n",
      "\n",
      "    accuracy                           0.91      7505\n",
      "   macro avg       0.91      0.86      0.88      7505\n",
      "weighted avg       0.91      0.91      0.91      7505\n",
      "\n",
      "\u001b[1mConfusion Matrix : \u001b[0m\n"
     ]
    },
    {
     "data": {
      "image/png": "[encoded data removed]",
      "text/plain": [
       "<Figure size 432x288 with 2 Axes>"
      ]
     },
     "metadata": {
      "needs_background": "light"
     },
     "output_type": "display_data"
    }
   ],
   "source": [
    "print('\\033[1m' +'Classification report : '+ '\\033[0m\\n', classification_report(y_test, y_pred3))\n",
    "\n",
    "cm = confusion_matrix(y_pred3, y_test)\n",
    "print('\\033[1m' +'Confusion Matrix : '+ '\\033[0m')\n",
    "sns.heatmap(cm, cmap = 'OrRd',annot = True, fmt='d')\n",
    "plt.show()"
   ]
  },
  {
   "cell_type": "markdown",
   "id": "e667eb72",
   "metadata": {},
   "source": [
    "# Evaluation -- Random Forest"
   ]
  },
  {
   "cell_type": "code",
   "execution_count": 44,
   "id": "e757d663",
   "metadata": {},
   "outputs": [
    {
     "name": "stdout",
     "output_type": "stream",
     "text": [
      "MAE: 15.501399067288474\n",
      "MSE: 5.6807461692205194\n",
      "RMSE: 2.383431595246761\n"
     ]
    }
   ],
   "source": [
    "from sklearn import metrics\n",
    "\n",
    "print('MAE:', metrics.mean_absolute_error(y_test,y_pred3))\n",
    "print('MSE:', metrics.mean_squared_error(y_test, y_pred3))\n",
    "print('RMSE:', np.sqrt(metrics.mean_squared_error(y_test, y_pred3)))"
   ]
  },
  {
   "cell_type": "code",
   "execution_count": 45,
   "id": "870d2395",
   "metadata": {},
   "outputs": [
    {
     "name": "stdout",
     "output_type": "stream",
     "text": [
      "Precision Score :  0.9121876757301502\n",
      "Recall Score :  0.9133910726182545\n",
      "f1_score :  0.9109296342270901\n"
     ]
    }
   ],
   "source": [
    "from sklearn.metrics import precision_score\n",
    "print(\"Precision Score : \",precision_score(y_test, y_pred3, average='weighted'))\n",
    "\n",
    "\n",
    "from sklearn.metrics import recall_score\n",
    "print(\"Recall Score : \",recall_score(y_test, y_pred3,average='weighted'))\n",
    "\n",
    "\n",
    "from sklearn.metrics import f1_score\n",
    "print(\"f1_score : \",f1_score(y_test, y_pred3,average='weighted'))"
   ]
  },
  {
   "cell_type": "markdown",
   "id": "c3892f2f",
   "metadata": {},
   "source": [
    "# ExtraTreesClassifier"
   ]
  },
  {
   "cell_type": "code",
   "execution_count": 46,
   "id": "f685eaad",
   "metadata": {},
   "outputs": [
    {
     "name": "stdout",
     "output_type": "stream",
     "text": [
      "9.795329093933105 seconds\n"
     ]
    }
   ],
   "source": [
    "from sklearn.ensemble import ExtraTreesClassifier\n",
    "import time\n",
    "start_time = time.time()\n",
    "extratree = ExtraTreesClassifier(bootstrap = False,\n",
    "             ccp_alpha = 0.0,\n",
    "             class_weight = None,\n",
    "             criterion = 'entropy',\n",
    "             max_depth = None,\n",
    "             max_features = 'auto',\n",
    "             max_leaf_nodes = None,\n",
    "             max_samples = None,\n",
    "             min_impurity_decrease = 0.0,\n",
    "             min_samples_leaf = 1,\n",
    "             min_samples_split = 2,\n",
    "             min_weight_fraction_leaf = 0.0,\n",
    "             n_estimators = 100,\n",
    "             n_jobs = None,\n",
    "             oob_score = False,\n",
    "             random_state = None,\n",
    "             verbose = 0,\n",
    "             warm_start = False)\n",
    "extratree.fit(X_train, y_train)\n",
    "print (time.time() - start_time, \"seconds\")"
   ]
  },
  {
   "cell_type": "code",
   "execution_count": 47,
   "id": "c9d25448",
   "metadata": {},
   "outputs": [],
   "source": [
    "y_pred5 = extratree.predict(X_test)"
   ]
  },
  {
   "cell_type": "code",
   "execution_count": 48,
   "id": "d2e38964",
   "metadata": {},
   "outputs": [
    {
     "name": "stdout",
     "output_type": "stream",
     "text": [
      "Accuracy is: 91.2458361092605\n"
     ]
    }
   ],
   "source": [
    "from sklearn.metrics import accuracy_score\n",
    "accuracy = {accuracy_score(y_test, y_pred5)}\n",
    "print(f\"Accuracy is: {accuracy_score(y_test, y_pred5)* 100}\")"
   ]
  },
  {
   "cell_type": "code",
   "execution_count": 49,
   "id": "e00fa1e8",
   "metadata": {},
   "outputs": [
    {
     "name": "stdout",
     "output_type": "stream",
     "text": [
      "\u001b[1mClassification report : \u001b[0m\n",
      "               precision    recall  f1-score   support\n",
      "\n",
      "           0       0.90      0.97      0.94      3862\n",
      "           1       0.93      0.89      0.91       361\n",
      "           2       0.95      0.84      0.89       232\n",
      "           3       0.91      0.88      0.90       379\n",
      "           4       0.98      0.92      0.95       314\n",
      "           5       0.96      0.94      0.95       388\n",
      "           6       0.95      0.87      0.91       319\n",
      "           7       0.99      0.95      0.97       265\n",
      "           8       0.95      0.90      0.92       319\n",
      "           9       0.93      0.86      0.89       240\n",
      "          10       0.93      0.72      0.81       310\n",
      "          11       0.86      0.88      0.87       219\n",
      "          12       0.71      0.53      0.61       297\n",
      "\n",
      "    accuracy                           0.91      7505\n",
      "   macro avg       0.92      0.86      0.88      7505\n",
      "weighted avg       0.91      0.91      0.91      7505\n",
      "\n",
      "\u001b[1mConfusion Matrix : \u001b[0m\n"
     ]
    },
    {
     "data": {
      "image/png": "[encoded data removed]",
      "text/plain": [
       "<Figure size 432x288 with 2 Axes>"
      ]
     },
     "metadata": {
      "needs_background": "light"
     },
     "output_type": "display_data"
    }
   ],
   "source": [
    "print('\\033[1m' +'Classification report : '+ '\\033[0m\\n', classification_report(y_test, y_pred5))\n",
    "\n",
    "cm = confusion_matrix(y_pred5, y_test)\n",
    "print('\\033[1m' +'Confusion Matrix : '+ '\\033[0m')\n",
    "sns.heatmap(cm, cmap = 'OrRd',annot = True, fmt='d')\n",
    "plt.show()"
   ]
  },
  {
   "cell_type": "markdown",
   "id": "ae482e90",
   "metadata": {},
   "source": [
    "# Evaluation -- ExtraTreesClassifier"
   ]
  },
  {
   "cell_type": "code",
   "execution_count": 50,
   "id": "007a7318",
   "metadata": {},
   "outputs": [
    {
     "name": "stdout",
     "output_type": "stream",
     "text": [
      "MAE: 15.892471685542972\n",
      "MSE: 5.892471685542971\n",
      "RMSE: 2.427441386633871\n"
     ]
    }
   ],
   "source": [
    "from sklearn import metrics\n",
    "\n",
    "print('MAE:', metrics.mean_absolute_error(y_test,y_pred5))\n",
    "print('MSE:', metrics.mean_squared_error(y_test, y_pred5))\n",
    "print('RMSE:', np.sqrt(metrics.mean_squared_error(y_test, y_pred5)))"
   ]
  },
  {
   "cell_type": "code",
   "execution_count": 51,
   "id": "58a5a99b",
   "metadata": {},
   "outputs": [
    {
     "name": "stdout",
     "output_type": "stream",
     "text": [
      "Precision Score :  0.9117518437708091\n",
      "Recall Score :  0.9124583610926049\n",
      "f1_score :  0.9100083386322835\n"
     ]
    }
   ],
   "source": [
    "from sklearn.metrics import precision_score\n",
    "print(\"Precision Score : \",precision_score(y_test, y_pred5, average='weighted'))\n",
    "\n",
    "\n",
    "from sklearn.metrics import recall_score\n",
    "print(\"Recall Score : \",recall_score(y_test, y_pred5,average='weighted'))\n",
    "\n",
    "\n",
    "from sklearn.metrics import f1_score\n",
    "print(\"f1_score : \",f1_score(y_test, y_pred5,average='weighted'))"
   ]
  },
  {
   "cell_type": "markdown",
   "id": "a7cc99db",
   "metadata": {},
   "source": [
    "# XGBoost"
   ]
  },
  {
   "cell_type": "code",
   "execution_count": 52,
   "id": "58b2e154",
   "metadata": {},
   "outputs": [
    {
     "name": "stderr",
     "output_type": "stream",
     "text": [
      "C:\\Users\\nafem\\anaconda3\\lib\\site-packages\\xgboost\\compat.py:36: FutureWarning: pandas.Int64Index is deprecated and will be removed from pandas in a future version. Use pandas.Index with the appropriate dtype instead.\n",
      "  from pandas import MultiIndex, Int64Index\n",
      "C:\\Users\\nafem\\anaconda3\\lib\\site-packages\\xgboost\\sklearn.py:1224: UserWarning: The use of label encoder in XGBClassifier is deprecated and will be removed in a future release. To remove this warning, do the following: 1) Pass option use_label_encoder=False when constructing XGBClassifier object; and 2) Encode your labels (y) as integers starting with 0, i.e. 0, 1, 2, ..., [num_class - 1].\n",
      "  warnings.warn(label_encoder_deprecation_msg, UserWarning)\n"
     ]
    },
    {
     "name": "stdout",
     "output_type": "stream",
     "text": [
      "[13:15:51] WARNING: C:\\Windows\\Temp\\abs_557yfx631l\\croots\\recipe\\xgboost-split_1659548953302\\work\\src\\learner.cc:1115: Starting in XGBoost 1.3.0, the default evaluation metric used with the objective 'multi:softprob' was changed from 'merror' to 'mlogloss'. Explicitly set eval_metric if you'd like to restore the old behavior.\n",
      "66.10510611534119 seconds\n"
     ]
    }
   ],
   "source": [
    "from xgboost import XGBClassifier\n",
    "import time\n",
    "start_time = time.time()\n",
    "xgb = XGBClassifier()\n",
    "xgb.fit(X_train, y_train)\n",
    "print (time.time() - start_time, \"seconds\")"
   ]
  },
  {
   "cell_type": "code",
   "execution_count": 53,
   "id": "9a8d1e5f",
   "metadata": {},
   "outputs": [],
   "source": [
    "y_pred4 = xgb.predict(X_test)"
   ]
  },
  {
   "cell_type": "code",
   "execution_count": 54,
   "id": "bb48a8c5",
   "metadata": {},
   "outputs": [
    {
     "name": "stdout",
     "output_type": "stream",
     "text": [
      "Accuracy is: 91.05929380413058\n"
     ]
    }
   ],
   "source": [
    "from sklearn.metrics import accuracy_score\n",
    "accuracy = {accuracy_score(y_test, y_pred4)}\n",
    "print(f\"Accuracy is: {accuracy_score(y_test, y_pred4)* 100}\")"
   ]
  },
  {
   "cell_type": "code",
   "execution_count": 55,
   "id": "9da8ce67",
   "metadata": {},
   "outputs": [
    {
     "name": "stdout",
     "output_type": "stream",
     "text": [
      "\u001b[1mClassification report : \u001b[0m\n",
      "               precision    recall  f1-score   support\n",
      "\n",
      "           0       0.90      0.98      0.94      3862\n",
      "           1       0.90      0.88      0.89       361\n",
      "           2       0.96      0.85      0.90       232\n",
      "           3       0.90      0.85      0.87       379\n",
      "           4       0.96      0.91      0.94       314\n",
      "           5       0.93      0.92      0.92       388\n",
      "           6       0.90      0.84      0.87       319\n",
      "           7       0.97      0.93      0.95       265\n",
      "           8       0.94      0.87      0.91       319\n",
      "           9       0.92      0.85      0.88       240\n",
      "          10       0.95      0.72      0.82       310\n",
      "          11       0.83      0.86      0.84       219\n",
      "          12       0.87      0.49      0.62       297\n",
      "\n",
      "    accuracy                           0.91      7505\n",
      "   macro avg       0.92      0.84      0.87      7505\n",
      "weighted avg       0.91      0.91      0.91      7505\n",
      "\n",
      "\u001b[1mConfusion Matrix : \u001b[0m\n"
     ]
    },
    {
     "data": {
      "image/png": "[encoded data removed]",
      "text/plain": [
       "<Figure size 432x288 with 2 Axes>"
      ]
     },
     "metadata": {
      "needs_background": "light"
     },
     "output_type": "display_data"
    }
   ],
   "source": [
    "print('\\033[1m' +'Classification report : '+ '\\033[0m\\n', classification_report(y_test, y_pred4))\n",
    "\n",
    "cm = confusion_matrix(y_pred4, y_test)\n",
    "print('\\033[1m' +'Confusion Matrix : '+ '\\033[0m')\n",
    "sns.heatmap(cm, cmap = 'OrRd',annot = True, fmt='d')\n",
    "plt.show()"
   ]
  },
  {
   "cell_type": "markdown",
   "id": "23dfd8e8",
   "metadata": {},
   "source": [
    "# Evaluation -- XGBoost"
   ]
  },
  {
   "cell_type": "code",
   "execution_count": 56,
   "id": "e226f6d5",
   "metadata": {},
   "outputs": [
    {
     "name": "stdout",
     "output_type": "stream",
     "text": [
      "MAE: 17.205862758161224\n",
      "MSE: 5.307128580946036\n",
      "RMSE: 2.3037205952428423\n"
     ]
    }
   ],
   "source": [
    "from sklearn import metrics\n",
    "\n",
    "print('MAE:', metrics.mean_absolute_error(y_test,y_pred4))\n",
    "print('MSE:', metrics.mean_squared_error(y_test, y_pred4))\n",
    "print('RMSE:', np.sqrt(metrics.mean_squared_error(y_test, y_pred4)))"
   ]
  },
  {
   "cell_type": "code",
   "execution_count": 57,
   "id": "3d6b190f",
   "metadata": {},
   "outputs": [
    {
     "name": "stdout",
     "output_type": "stream",
     "text": [
      "Precision Score :  0.9110956106090029\n",
      "Recall Score :  0.9105929380413058\n",
      "f1_score :  0.9068453581868909\n"
     ]
    }
   ],
   "source": [
    "from sklearn.metrics import precision_score\n",
    "print(\"Precision Score : \",precision_score(y_test, y_pred4, average='weighted'))\n",
    "\n",
    "\n",
    "from sklearn.metrics import recall_score\n",
    "print(\"Recall Score : \",recall_score(y_test, y_pred4,average='weighted'))\n",
    "\n",
    "\n",
    "from sklearn.metrics import f1_score\n",
    "print(\"f1_score : \",f1_score(y_test, y_pred4,average='weighted'))"
   ]
  },
  {
   "cell_type": "code",
   "execution_count": null,
   "id": "e929a31d",
   "metadata": {},
   "outputs": [],
   "source": []
  },
  {
   "cell_type": "code",
   "execution_count": null,
   "id": "061d12d7",
   "metadata": {},
   "outputs": [],
   "source": []
  },
  {
   "cell_type": "code",
   "execution_count": null,
   "id": "fce816ca",
   "metadata": {},
   "outputs": [],
   "source": []
  },
  {
   "cell_type": "code",
   "execution_count": null,
   "id": "0f4aeadc",
   "metadata": {},
   "outputs": [],
   "source": []
  }
 ],
 "metadata": {
  "kernelspec": {
   "display_name": "Python 3 (ipykernel)",
   "language": "python",
   "name": "python3"
  },
  "language_info": {
   "codemirror_mode": {
    "name": "ipython",
    "version": 3
   },
   "file_extension": ".py",
   "mimetype": "text/x-python",
   "name": "python",
   "nbconvert_exporter": "python",
   "pygments_lexer": "ipython3",
   "version": "3.9.12"
  }
 },
 "nbformat": 4,
 "nbformat_minor": 5
}
