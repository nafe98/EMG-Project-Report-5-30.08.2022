{
 "cells": [
  {
   "cell_type": "markdown",
   "id": "a76f9c3f",
   "metadata": {},
   "source": [
    "# Importing Libraries"
   ]
  },
  {
   "cell_type": "code",
   "execution_count": 1,
   "id": "cb8d9727",
   "metadata": {},
   "outputs": [],
   "source": [
    "import numpy as np\n",
    "import pandas as pd\n",
    "import matplotlib.pyplot as plt\n",
    "import seaborn as sns\n",
    "from sklearn.model_selection import train_test_split\n",
    "from sklearn.metrics import confusion_matrix, f1_score, accuracy_score, classification_report"
   ]
  },
  {
   "cell_type": "markdown",
   "id": "576dc0b5",
   "metadata": {},
   "source": [
    "# Exploratory Data Analysis¶"
   ]
  },
  {
   "cell_type": "code",
   "execution_count": 2,
   "id": "c72bb47b",
   "metadata": {},
   "outputs": [
    {
     "data": {
      "text/html": [
       "<div>\n",
       "<style scoped>\n",
       "    .dataframe tbody tr th:only-of-type {\n",
       "        vertical-align: middle;\n",
       "    }\n",
       "\n",
       "    .dataframe tbody tr th {\n",
       "        vertical-align: top;\n",
       "    }\n",
       "\n",
       "    .dataframe thead th {\n",
       "        text-align: right;\n",
       "    }\n",
       "</style>\n",
       "<table border=\"1\" class=\"dataframe\">\n",
       "  <thead>\n",
       "    <tr style=\"text-align: right;\">\n",
       "      <th></th>\n",
       "      <th>TSNE Element 1</th>\n",
       "      <th>TSNE Element 2</th>\n",
       "      <th>TSNE Element 3</th>\n",
       "      <th>stimulus</th>\n",
       "      <th>restimulus</th>\n",
       "    </tr>\n",
       "  </thead>\n",
       "  <tbody>\n",
       "    <tr>\n",
       "      <th>194668</th>\n",
       "      <td>-14.003769</td>\n",
       "      <td>28.786247</td>\n",
       "      <td>-37.865910</td>\n",
       "      <td>31</td>\n",
       "      <td>31</td>\n",
       "    </tr>\n",
       "    <tr>\n",
       "      <th>188359</th>\n",
       "      <td>-29.195633</td>\n",
       "      <td>-22.279490</td>\n",
       "      <td>9.163968</td>\n",
       "      <td>0</td>\n",
       "      <td>0</td>\n",
       "    </tr>\n",
       "    <tr>\n",
       "      <th>10270</th>\n",
       "      <td>-40.815613</td>\n",
       "      <td>9.669701</td>\n",
       "      <td>-1.714666</td>\n",
       "      <td>2</td>\n",
       "      <td>2</td>\n",
       "    </tr>\n",
       "    <tr>\n",
       "      <th>72018</th>\n",
       "      <td>6.769315</td>\n",
       "      <td>-36.699768</td>\n",
       "      <td>13.550611</td>\n",
       "      <td>0</td>\n",
       "      <td>0</td>\n",
       "    </tr>\n",
       "    <tr>\n",
       "      <th>111678</th>\n",
       "      <td>4.805198</td>\n",
       "      <td>-7.551921</td>\n",
       "      <td>31.124287</td>\n",
       "      <td>0</td>\n",
       "      <td>0</td>\n",
       "    </tr>\n",
       "  </tbody>\n",
       "</table>\n",
       "</div>"
      ],
      "text/plain": [
       "        TSNE Element 1  TSNE Element 2  TSNE Element 3  stimulus  restimulus\n",
       "194668      -14.003769       28.786247      -37.865910        31          31\n",
       "188359      -29.195633      -22.279490        9.163968         0           0\n",
       "10270       -40.815613        9.669701       -1.714666         2           2\n",
       "72018         6.769315      -36.699768       13.550611         0           0\n",
       "111678        4.805198       -7.551921       31.124287         0           0"
      ]
     },
     "execution_count": 2,
     "metadata": {},
     "output_type": "execute_result"
    }
   ],
   "source": [
    "raw_data = pd.read_csv('TSNE_Subject_1.csv')\n",
    "raw_data.sample(5)"
   ]
  },
  {
   "cell_type": "code",
   "execution_count": 3,
   "id": "a85e933c",
   "metadata": {},
   "outputs": [
    {
     "data": {
      "text/plain": [
       "(378535, 5)"
      ]
     },
     "execution_count": 3,
     "metadata": {},
     "output_type": "execute_result"
    }
   ],
   "source": [
    "raw_data.shape"
   ]
  },
  {
   "cell_type": "code",
   "execution_count": 4,
   "id": "e05e202f",
   "metadata": {},
   "outputs": [
    {
     "data": {
      "text/plain": [
       "Index(['TSNE Element 1', 'TSNE Element 2', 'TSNE Element 3', 'stimulus',\n",
       "       'restimulus'],\n",
       "      dtype='object')"
      ]
     },
     "execution_count": 4,
     "metadata": {},
     "output_type": "execute_result"
    }
   ],
   "source": [
    "raw_data.columns"
   ]
  },
  {
   "cell_type": "code",
   "execution_count": 5,
   "id": "fde113c0",
   "metadata": {},
   "outputs": [
    {
     "name": "stdout",
     "output_type": "stream",
     "text": [
      "<class 'pandas.core.frame.DataFrame'>\n",
      "RangeIndex: 378535 entries, 0 to 378534\n",
      "Data columns (total 5 columns):\n",
      " #   Column          Non-Null Count   Dtype  \n",
      "---  ------          --------------   -----  \n",
      " 0   TSNE Element 1  378535 non-null  float64\n",
      " 1   TSNE Element 2  378535 non-null  float64\n",
      " 2   TSNE Element 3  378535 non-null  float64\n",
      " 3   stimulus        378535 non-null  int64  \n",
      " 4   restimulus      378535 non-null  int64  \n",
      "dtypes: float64(3), int64(2)\n",
      "memory usage: 14.4 MB\n"
     ]
    }
   ],
   "source": [
    "raw_data.info()"
   ]
  },
  {
   "cell_type": "code",
   "execution_count": 6,
   "id": "0ae97d58",
   "metadata": {},
   "outputs": [
    {
     "data": {
      "text/html": [
       "<div>\n",
       "<style scoped>\n",
       "    .dataframe tbody tr th:only-of-type {\n",
       "        vertical-align: middle;\n",
       "    }\n",
       "\n",
       "    .dataframe tbody tr th {\n",
       "        vertical-align: top;\n",
       "    }\n",
       "\n",
       "    .dataframe thead th {\n",
       "        text-align: right;\n",
       "    }\n",
       "</style>\n",
       "<table border=\"1\" class=\"dataframe\">\n",
       "  <thead>\n",
       "    <tr style=\"text-align: right;\">\n",
       "      <th></th>\n",
       "      <th>TSNE Element 1</th>\n",
       "      <th>TSNE Element 2</th>\n",
       "      <th>TSNE Element 3</th>\n",
       "      <th>stimulus</th>\n",
       "      <th>restimulus</th>\n",
       "    </tr>\n",
       "  </thead>\n",
       "  <tbody>\n",
       "    <tr>\n",
       "      <th>count</th>\n",
       "      <td>378535.000000</td>\n",
       "      <td>378535.000000</td>\n",
       "      <td>378535.000000</td>\n",
       "      <td>378535.000000</td>\n",
       "      <td>378535.000000</td>\n",
       "    </tr>\n",
       "    <tr>\n",
       "      <th>mean</th>\n",
       "      <td>0.040247</td>\n",
       "      <td>1.662873</td>\n",
       "      <td>-1.765831</td>\n",
       "      <td>13.268231</td>\n",
       "      <td>13.268231</td>\n",
       "    </tr>\n",
       "    <tr>\n",
       "      <th>std</th>\n",
       "      <td>22.350302</td>\n",
       "      <td>22.460744</td>\n",
       "      <td>23.430280</td>\n",
       "      <td>17.514047</td>\n",
       "      <td>17.514047</td>\n",
       "    </tr>\n",
       "    <tr>\n",
       "      <th>min</th>\n",
       "      <td>-55.200640</td>\n",
       "      <td>-56.550953</td>\n",
       "      <td>-54.991833</td>\n",
       "      <td>0.000000</td>\n",
       "      <td>0.000000</td>\n",
       "    </tr>\n",
       "    <tr>\n",
       "      <th>25%</th>\n",
       "      <td>-16.302482</td>\n",
       "      <td>-14.717854</td>\n",
       "      <td>-19.790751</td>\n",
       "      <td>0.000000</td>\n",
       "      <td>0.000000</td>\n",
       "    </tr>\n",
       "    <tr>\n",
       "      <th>50%</th>\n",
       "      <td>-0.260713</td>\n",
       "      <td>1.906979</td>\n",
       "      <td>-1.771864</td>\n",
       "      <td>0.000000</td>\n",
       "      <td>0.000000</td>\n",
       "    </tr>\n",
       "    <tr>\n",
       "      <th>75%</th>\n",
       "      <td>16.617624</td>\n",
       "      <td>18.426006</td>\n",
       "      <td>15.924356</td>\n",
       "      <td>28.000000</td>\n",
       "      <td>28.000000</td>\n",
       "    </tr>\n",
       "    <tr>\n",
       "      <th>max</th>\n",
       "      <td>58.190353</td>\n",
       "      <td>57.606556</td>\n",
       "      <td>58.211906</td>\n",
       "      <td>52.000000</td>\n",
       "      <td>52.000000</td>\n",
       "    </tr>\n",
       "  </tbody>\n",
       "</table>\n",
       "</div>"
      ],
      "text/plain": [
       "       TSNE Element 1  TSNE Element 2  TSNE Element 3       stimulus  \\\n",
       "count   378535.000000   378535.000000   378535.000000  378535.000000   \n",
       "mean         0.040247        1.662873       -1.765831      13.268231   \n",
       "std         22.350302       22.460744       23.430280      17.514047   \n",
       "min        -55.200640      -56.550953      -54.991833       0.000000   \n",
       "25%        -16.302482      -14.717854      -19.790751       0.000000   \n",
       "50%         -0.260713        1.906979       -1.771864       0.000000   \n",
       "75%         16.617624       18.426006       15.924356      28.000000   \n",
       "max         58.190353       57.606556       58.211906      52.000000   \n",
       "\n",
       "          restimulus  \n",
       "count  378535.000000  \n",
       "mean       13.268231  \n",
       "std        17.514047  \n",
       "min         0.000000  \n",
       "25%         0.000000  \n",
       "50%         0.000000  \n",
       "75%        28.000000  \n",
       "max        52.000000  "
      ]
     },
     "execution_count": 6,
     "metadata": {},
     "output_type": "execute_result"
    }
   ],
   "source": [
    "raw_data.describe(include='all')"
   ]
  },
  {
   "cell_type": "code",
   "execution_count": 7,
   "id": "071b96e6",
   "metadata": {},
   "outputs": [
    {
     "name": "stdout",
     "output_type": "stream",
     "text": [
      "Unique Dependent values and their counts :\n",
      "0     199821\n",
      "52      4519\n",
      "50      4492\n",
      "51      4487\n",
      "35      4295\n",
      "43      4239\n",
      "40      4211\n",
      "29      4196\n",
      "45      4095\n",
      "39      4036\n",
      "47      4013\n",
      "5       3952\n",
      "46      3905\n",
      "41      3872\n",
      "48      3836\n",
      "49      3831\n",
      "34      3775\n",
      "1       3738\n",
      "31      3725\n",
      "32      3724\n",
      "33      3717\n",
      "3       3706\n",
      "24      3604\n",
      "42      3584\n",
      "18      3583\n",
      "30      3558\n",
      "21      3502\n",
      "28      3391\n",
      "13      3358\n",
      "44      3303\n",
      "38      3256\n",
      "37      3232\n",
      "36      3214\n",
      "14      3168\n",
      "15      3130\n",
      "12      3125\n",
      "19      3079\n",
      "25      3064\n",
      "6       3058\n",
      "10      3038\n",
      "22      3012\n",
      "4       2982\n",
      "16      2966\n",
      "8       2909\n",
      "20      2858\n",
      "23      2764\n",
      "27      2656\n",
      "2       2618\n",
      "7       2615\n",
      "9       2608\n",
      "17      2537\n",
      "11      2491\n",
      "26      2087\n",
      "Name: stimulus, dtype: int64\n"
     ]
    }
   ],
   "source": [
    "print(\"Unique Dependent values and their counts :\")\n",
    "print(raw_data[\"stimulus\"].value_counts())"
   ]
  },
  {
   "cell_type": "code",
   "execution_count": 8,
   "id": "50a0f9be",
   "metadata": {},
   "outputs": [
    {
     "data": {
      "text/plain": [
       "Text(0, 0.5, 'Frequency')"
      ]
     },
     "execution_count": 8,
     "metadata": {},
     "output_type": "execute_result"
    },
    {
     "data": {
      "image/png": "[encoded data removed]",
      "text/plain": [
       "<Figure size 432x288 with 1 Axes>"
      ]
     },
     "metadata": {
      "needs_background": "light"
     },
     "output_type": "display_data"
    }
   ],
   "source": [
    "count_classes = pd.value_counts(raw_data['stimulus'], sort = True)\n",
    "\n",
    "count_classes.plot(kind = 'bar', rot=0)\n",
    "\n",
    "plt.title(\"stimulus Class Distribution\")\n",
    "\n",
    "plt.xlabel(\"Class\")\n",
    "\n",
    "plt.ylabel(\"Frequency\")"
   ]
  },
  {
   "cell_type": "markdown",
   "id": "275440c4",
   "metadata": {},
   "source": [
    "# Data Cleaning and Exploratory Data Analysis with New Data"
   ]
  },
  {
   "cell_type": "code",
   "execution_count": 9,
   "id": "e8ed6471",
   "metadata": {},
   "outputs": [],
   "source": [
    "index_names = raw_data[ (raw_data['stimulus'] != raw_data['restimulus'])].index\n",
    "raw_data.drop(index_names, inplace = True)"
   ]
  },
  {
   "cell_type": "code",
   "execution_count": 10,
   "id": "5ccb8950",
   "metadata": {},
   "outputs": [
    {
     "data": {
      "text/html": [
       "<div>\n",
       "<style scoped>\n",
       "    .dataframe tbody tr th:only-of-type {\n",
       "        vertical-align: middle;\n",
       "    }\n",
       "\n",
       "    .dataframe tbody tr th {\n",
       "        vertical-align: top;\n",
       "    }\n",
       "\n",
       "    .dataframe thead th {\n",
       "        text-align: right;\n",
       "    }\n",
       "</style>\n",
       "<table border=\"1\" class=\"dataframe\">\n",
       "  <thead>\n",
       "    <tr style=\"text-align: right;\">\n",
       "      <th></th>\n",
       "      <th>TSNE Element 1</th>\n",
       "      <th>TSNE Element 2</th>\n",
       "      <th>TSNE Element 3</th>\n",
       "      <th>stimulus</th>\n",
       "      <th>restimulus</th>\n",
       "    </tr>\n",
       "  </thead>\n",
       "  <tbody>\n",
       "    <tr>\n",
       "      <th>16005</th>\n",
       "      <td>17.267853</td>\n",
       "      <td>-17.418726</td>\n",
       "      <td>-2.418356</td>\n",
       "      <td>3</td>\n",
       "      <td>3</td>\n",
       "    </tr>\n",
       "    <tr>\n",
       "      <th>328696</th>\n",
       "      <td>15.099944</td>\n",
       "      <td>9.541775</td>\n",
       "      <td>-14.439692</td>\n",
       "      <td>47</td>\n",
       "      <td>47</td>\n",
       "    </tr>\n",
       "    <tr>\n",
       "      <th>52279</th>\n",
       "      <td>-15.078978</td>\n",
       "      <td>-0.884226</td>\n",
       "      <td>-9.256640</td>\n",
       "      <td>9</td>\n",
       "      <td>9</td>\n",
       "    </tr>\n",
       "    <tr>\n",
       "      <th>106890</th>\n",
       "      <td>-22.172445</td>\n",
       "      <td>19.175047</td>\n",
       "      <td>-0.754520</td>\n",
       "      <td>18</td>\n",
       "      <td>18</td>\n",
       "    </tr>\n",
       "    <tr>\n",
       "      <th>44447</th>\n",
       "      <td>10.685930</td>\n",
       "      <td>-20.613766</td>\n",
       "      <td>20.249895</td>\n",
       "      <td>0</td>\n",
       "      <td>0</td>\n",
       "    </tr>\n",
       "  </tbody>\n",
       "</table>\n",
       "</div>"
      ],
      "text/plain": [
       "        TSNE Element 1  TSNE Element 2  TSNE Element 3  stimulus  restimulus\n",
       "16005        17.267853      -17.418726       -2.418356         3           3\n",
       "328696       15.099944        9.541775      -14.439692        47          47\n",
       "52279       -15.078978       -0.884226       -9.256640         9           9\n",
       "106890      -22.172445       19.175047       -0.754520        18          18\n",
       "44447        10.685930      -20.613766       20.249895         0           0"
      ]
     },
     "execution_count": 10,
     "metadata": {},
     "output_type": "execute_result"
    }
   ],
   "source": [
    "raw_data.sample(5)"
   ]
  },
  {
   "cell_type": "code",
   "execution_count": 11,
   "id": "ab84cf47",
   "metadata": {},
   "outputs": [
    {
     "data": {
      "text/plain": [
       "(378535, 5)"
      ]
     },
     "execution_count": 11,
     "metadata": {},
     "output_type": "execute_result"
    }
   ],
   "source": [
    "raw_data.shape"
   ]
  },
  {
   "cell_type": "code",
   "execution_count": 12,
   "id": "fcb24936",
   "metadata": {},
   "outputs": [
    {
     "name": "stdout",
     "output_type": "stream",
     "text": [
      "<class 'pandas.core.frame.DataFrame'>\n",
      "RangeIndex: 378535 entries, 0 to 378534\n",
      "Data columns (total 5 columns):\n",
      " #   Column          Non-Null Count   Dtype  \n",
      "---  ------          --------------   -----  \n",
      " 0   TSNE Element 1  378535 non-null  float64\n",
      " 1   TSNE Element 2  378535 non-null  float64\n",
      " 2   TSNE Element 3  378535 non-null  float64\n",
      " 3   stimulus        378535 non-null  int64  \n",
      " 4   restimulus      378535 non-null  int64  \n",
      "dtypes: float64(3), int64(2)\n",
      "memory usage: 14.4 MB\n"
     ]
    }
   ],
   "source": [
    "raw_data.info()"
   ]
  },
  {
   "cell_type": "code",
   "execution_count": 13,
   "id": "8ada4ef1",
   "metadata": {},
   "outputs": [
    {
     "name": "stdout",
     "output_type": "stream",
     "text": [
      "TSNE Element 1    False\n",
      "TSNE Element 2    False\n",
      "TSNE Element 3    False\n",
      "stimulus          False\n",
      "restimulus        False\n",
      "dtype: bool\n"
     ]
    }
   ],
   "source": [
    "print(raw_data.isnull().any())"
   ]
  },
  {
   "cell_type": "code",
   "execution_count": 14,
   "id": "138ec425",
   "metadata": {},
   "outputs": [],
   "source": [
    "X = raw_data.iloc[:,0:3]\n",
    "y = raw_data.stimulus"
   ]
  },
  {
   "cell_type": "markdown",
   "id": "e657abbe",
   "metadata": {},
   "source": [
    "# Hyperparameter Tuning -- ExtraTreesClassifier"
   ]
  },
  {
   "cell_type": "markdown",
   "id": "8955c1e6",
   "metadata": {},
   "source": [
    "https://www.section.io/engineering-education/hyperparmeter-tuning/\n",
    "    \n",
    "https://www.nbshare.io/notebook/312837011/Decision-Tree-Regression-With-Hyper-Parameter-Tuning-In-Python/"
   ]
  },
  {
   "cell_type": "code",
   "execution_count": 16,
   "id": "9c5f02c2",
   "metadata": {},
   "outputs": [],
   "source": [
    "from sklearn.ensemble import ExtraTreesClassifier\n",
    "tuned_extratree = ExtraTreesClassifier()"
   ]
  },
  {
   "cell_type": "markdown",
   "id": "093460e7",
   "metadata": {},
   "source": [
    "## Current Parameters "
   ]
  },
  {
   "cell_type": "code",
   "execution_count": 17,
   "id": "9b76c48c",
   "metadata": {},
   "outputs": [
    {
     "name": "stdout",
     "output_type": "stream",
     "text": [
      "Parameters currently in use:\n",
      "\n",
      "{'bootstrap': False,\n",
      " 'ccp_alpha': 0.0,\n",
      " 'class_weight': None,\n",
      " 'criterion': 'gini',\n",
      " 'max_depth': None,\n",
      " 'max_features': 'auto',\n",
      " 'max_leaf_nodes': None,\n",
      " 'max_samples': None,\n",
      " 'min_impurity_decrease': 0.0,\n",
      " 'min_samples_leaf': 1,\n",
      " 'min_samples_split': 2,\n",
      " 'min_weight_fraction_leaf': 0.0,\n",
      " 'n_estimators': 100,\n",
      " 'n_jobs': None,\n",
      " 'oob_score': False,\n",
      " 'random_state': None,\n",
      " 'verbose': 0,\n",
      " 'warm_start': False}\n"
     ]
    }
   ],
   "source": [
    "from pprint import pprint\n",
    "print('Parameters currently in use:\\n')\n",
    "pprint(tuned_extratree.get_params())"
   ]
  },
  {
   "cell_type": "markdown",
   "id": "d0021e5e",
   "metadata": {},
   "source": [
    "## GridSearchCV"
   ]
  },
  {
   "cell_type": "code",
   "execution_count": 18,
   "id": "de79ef78",
   "metadata": {},
   "outputs": [],
   "source": [
    "from sklearn.model_selection import GridSearchCV"
   ]
  },
  {
   "cell_type": "code",
   "execution_count": null,
   "id": "cda884b2",
   "metadata": {},
   "outputs": [],
   "source": [
    "https://scikit-learn.org/stable/modules/generated/sklearn.ensemble.ExtraTreesClassifier.html"
   ]
  },
  {
   "cell_type": "code",
   "execution_count": 24,
   "id": "a4bf37ad",
   "metadata": {},
   "outputs": [],
   "source": [
    "param_grid = {'bootstrap': [False],\n",
    "              'ccp_alpha': [0.0],\n",
    "              'class_weight': [None],\n",
    "              'criterion': ['entropy'],\n",
    "              'max_depth': [None],\n",
    "              'max_features': ['auto'],\n",
    "              'max_leaf_nodes': [None],\n",
    "              'max_samples': [None],\n",
    "              'min_impurity_decrease': [0.0],\n",
    "              'min_samples_leaf': [1],\n",
    "              'min_samples_split': [2],\n",
    "              'min_weight_fraction_leaf': [0.0],\n",
    "              'n_estimators': [100],\n",
    "              'n_jobs': [None],\n",
    "              'oob_score': [False],\n",
    "              'random_state': [None],\n",
    "              'verbose': [0],\n",
    "              'warm_start': [False]}"
   ]
  },
  {
   "cell_type": "code",
   "execution_count": 25,
   "id": "ffaa6436",
   "metadata": {},
   "outputs": [],
   "source": [
    "grid_search = GridSearchCV(estimator = tuned_extratree, param_grid = param_grid, \n",
    "                          cv = 3)"
   ]
  },
  {
   "cell_type": "code",
   "execution_count": 26,
   "id": "fda4593e",
   "metadata": {},
   "outputs": [
    {
     "data": {
      "text/plain": [
       "GridSearchCV(cv=3, estimator=ExtraTreesClassifier(),\n",
       "             param_grid={'bootstrap': [False], 'ccp_alpha': [0.0],\n",
       "                         'class_weight': ['balanced', 'balanced_subsample',\n",
       "                                          None],\n",
       "                         'criterion': ['entropy'], 'max_depth': [None],\n",
       "                         'max_features': ['auto'], 'max_leaf_nodes': [None],\n",
       "                         'max_samples': [None], 'min_impurity_decrease': [0.0],\n",
       "                         'min_samples_leaf': [1], 'min_samples_split': [2],\n",
       "                         'min_weight_fraction_leaf': [0.0],\n",
       "                         'n_estimators': [100], 'n_jobs': [None],\n",
       "                         'oob_score': [False], 'random_state': [None],\n",
       "                         'verbose': [0], 'warm_start': [False]})"
      ]
     },
     "execution_count": 26,
     "metadata": {},
     "output_type": "execute_result"
    }
   ],
   "source": [
    "grid_search.fit(X, y)"
   ]
  },
  {
   "cell_type": "code",
   "execution_count": 27,
   "id": "54c065eb",
   "metadata": {},
   "outputs": [
    {
     "name": "stdout",
     "output_type": "stream",
     "text": [
      "{'bootstrap': False, 'ccp_alpha': 0.0, 'class_weight': None, 'criterion': 'entropy', 'max_depth': None, 'max_features': 'auto', 'max_leaf_nodes': None, 'max_samples': None, 'min_impurity_decrease': 0.0, 'min_samples_leaf': 1, 'min_samples_split': 2, 'min_weight_fraction_leaf': 0.0, 'n_estimators': 100, 'n_jobs': None, 'oob_score': False, 'random_state': None, 'verbose': 0, 'warm_start': False}\n"
     ]
    }
   ],
   "source": [
    "print(grid_search.best_params_)"
   ]
  },
  {
   "cell_type": "markdown",
   "id": "d401e6d4",
   "metadata": {},
   "source": [
    "# Splitting Data for Training and Testing"
   ]
  },
  {
   "cell_type": "code",
   "execution_count": 15,
   "id": "57619331",
   "metadata": {},
   "outputs": [],
   "source": [
    "X_train, X_test, y_train, y_test = train_test_split(X, y, test_size = 0.1, random_state = 39)"
   ]
  },
  {
   "cell_type": "markdown",
   "id": "5805a6f2",
   "metadata": {},
   "source": [
    "# ExtraTreesClassifier"
   ]
  },
  {
   "cell_type": "code",
   "execution_count": 16,
   "id": "bb5c43f7",
   "metadata": {},
   "outputs": [
    {
     "data": {
      "text/plain": [
       "ExtraTreesClassifier(criterion='entropy')"
      ]
     },
     "execution_count": 16,
     "metadata": {},
     "output_type": "execute_result"
    }
   ],
   "source": [
    "from sklearn.ensemble import ExtraTreesClassifier\n",
    "extratree = ExtraTreesClassifier(bootstrap = False,\n",
    "                                 ccp_alpha = 0.0,\n",
    "                                 class_weight = None,\n",
    "                                 criterion = 'entropy',\n",
    "                                 max_depth = None,\n",
    "                                 max_features = 'auto',\n",
    "                                 max_leaf_nodes = None,\n",
    "                                 max_samples = None,\n",
    "                                 min_impurity_decrease = 0.0,\n",
    "                                 min_samples_leaf = 1,\n",
    "                                 min_samples_split = 2,\n",
    "                                 min_weight_fraction_leaf = 0.0,\n",
    "                                 n_estimators = 100,\n",
    "                                 n_jobs = None,\n",
    "                                 oob_score = False,\n",
    "                                 random_state = None,\n",
    "                                 verbose = 0,\n",
    "                                 warm_start = False)\n",
    "extratree.fit(X_train, y_train)"
   ]
  },
  {
   "cell_type": "code",
   "execution_count": 17,
   "id": "71002958",
   "metadata": {},
   "outputs": [],
   "source": [
    "y_pred5 = extratree.predict(X_test)"
   ]
  },
  {
   "cell_type": "code",
   "execution_count": 18,
   "id": "b61749b4",
   "metadata": {
    "scrolled": true
   },
   "outputs": [
    {
     "name": "stdout",
     "output_type": "stream",
     "text": [
      "Accuracy is: 89.80821049294659\n"
     ]
    }
   ],
   "source": [
    "from sklearn.metrics import accuracy_score\n",
    "accuracy = {accuracy_score(y_test, y_pred5)}\n",
    "print(f\"Accuracy is: {accuracy_score(y_test, y_pred5)* 100}\")"
   ]
  },
  {
   "cell_type": "code",
   "execution_count": 19,
   "id": "06532654",
   "metadata": {},
   "outputs": [
    {
     "name": "stdout",
     "output_type": "stream",
     "text": [
      "\u001b[1mClassification report : \u001b[0m\n",
      "               precision    recall  f1-score   support\n",
      "\n",
      "           0       0.93      0.97      0.95     20040\n",
      "           1       0.83      0.78      0.80       402\n",
      "           2       0.89      0.78      0.83       254\n",
      "           3       0.80      0.74      0.77       368\n",
      "           4       0.92      0.87      0.89       285\n",
      "           5       0.84      0.83      0.83       381\n",
      "           6       0.84      0.72      0.77       326\n",
      "           7       0.86      0.84      0.85       250\n",
      "           8       0.84      0.75      0.79       296\n",
      "           9       0.76      0.77      0.76       274\n",
      "          10       0.81      0.65      0.72       321\n",
      "          11       0.76      0.68      0.72       257\n",
      "          12       0.48      0.35      0.40       310\n",
      "          13       0.82      0.77      0.79       324\n",
      "          14       0.85      0.73      0.79       332\n",
      "          15       0.79      0.82      0.81       285\n",
      "          16       0.74      0.67      0.70       306\n",
      "          17       0.79      0.75      0.77       248\n",
      "          18       0.91      0.86      0.89       335\n",
      "          19       0.89      0.77      0.82       316\n",
      "          20       0.86      0.77      0.81       273\n",
      "          21       0.80      0.82      0.81       337\n",
      "          22       0.85      0.84      0.84       295\n",
      "          23       0.80      0.69      0.74       297\n",
      "          24       0.78      0.74      0.76       370\n",
      "          25       0.81      0.77      0.79       296\n",
      "          26       0.84      0.82      0.83       184\n",
      "          27       0.91      0.87      0.89       290\n",
      "          28       0.84      0.85      0.84       332\n",
      "          29       0.84      0.76      0.80       435\n",
      "          30       0.89      0.90      0.90       325\n",
      "          31       0.90      0.83      0.86       387\n",
      "          32       0.89      0.87      0.88       388\n",
      "          33       0.88      0.84      0.86       380\n",
      "          34       0.89      0.83      0.86       359\n",
      "          35       0.87      0.86      0.87       424\n",
      "          36       0.82      0.88      0.85       314\n",
      "          37       0.86      0.85      0.85       288\n",
      "          38       0.89      0.87      0.88       324\n",
      "          39       0.92      0.82      0.87       379\n",
      "          40       0.88      0.88      0.88       430\n",
      "          41       0.91      0.88      0.90       405\n",
      "          42       0.88      0.88      0.88       344\n",
      "          43       0.78      0.86      0.82       405\n",
      "          44       0.87      0.81      0.84       333\n",
      "          45       0.88      0.86      0.87       459\n",
      "          46       0.91      0.88      0.89       353\n",
      "          47       0.90      0.86      0.88       421\n",
      "          48       0.91      0.86      0.88       375\n",
      "          49       0.97      0.96      0.96       403\n",
      "          50       0.94      0.89      0.91       456\n",
      "          51       0.93      0.95      0.94       429\n",
      "          52       0.93      0.95      0.94       454\n",
      "\n",
      "    accuracy                           0.90     37854\n",
      "   macro avg       0.85      0.81      0.83     37854\n",
      "weighted avg       0.90      0.90      0.90     37854\n",
      "\n",
      "\u001b[1mConfusion Matrix : \u001b[0m\n"
     ]
    },
    {
     "data": {
      "image/png": "[encoded data removed]",
      "text/plain": [
       "<Figure size 432x288 with 2 Axes>"
      ]
     },
     "metadata": {
      "needs_background": "light"
     },
     "output_type": "display_data"
    }
   ],
   "source": [
    "print('\\033[1m' +'Classification report : '+ '\\033[0m\\n', classification_report(y_test, y_pred5))\n",
    "\n",
    "cm = confusion_matrix(y_pred5, y_test)\n",
    "print('\\033[1m' +'Confusion Matrix : '+ '\\033[0m')\n",
    "sns.heatmap(cm, cmap = 'OrRd',annot = True, fmt='d')\n",
    "plt.show()"
   ]
  },
  {
   "cell_type": "markdown",
   "id": "2b86af64",
   "metadata": {},
   "source": [
    "# Evaluation -- ExtraTreesClassifier"
   ]
  },
  {
   "cell_type": "code",
   "execution_count": 20,
   "id": "a9e47f87",
   "metadata": {},
   "outputs": [
    {
     "name": "stdout",
     "output_type": "stream",
     "text": [
      "MAE: 1.395995139219105\n",
      "MSE: 36.179848893115654\n",
      "RMSE: 6.014968735838587\n"
     ]
    }
   ],
   "source": [
    "from sklearn import metrics\n",
    "\n",
    "print('MAE:', metrics.mean_absolute_error(y_test,y_pred5))\n",
    "print('MSE:', metrics.mean_squared_error(y_test, y_pred5))\n",
    "print('RMSE:', np.sqrt(metrics.mean_squared_error(y_test, y_pred5)))"
   ]
  },
  {
   "cell_type": "code",
   "execution_count": 21,
   "id": "6d09ec03",
   "metadata": {},
   "outputs": [
    {
     "name": "stdout",
     "output_type": "stream",
     "text": [
      "Precision Score :  0.8955844182045798\n",
      "Recall Score :  0.8980821049294658\n",
      "f1_score :  0.8959862833315361\n"
     ]
    }
   ],
   "source": [
    "from sklearn.metrics import precision_score\n",
    "print(\"Precision Score : \",precision_score(y_test, y_pred5, average='weighted'))\n",
    "\n",
    "\n",
    "from sklearn.metrics import recall_score\n",
    "print(\"Recall Score : \",recall_score(y_test, y_pred5,average='weighted'))\n",
    "\n",
    "\n",
    "from sklearn.metrics import f1_score\n",
    "print(\"f1_score : \",f1_score(y_test, y_pred5,average='weighted'))"
   ]
  },
  {
   "cell_type": "code",
   "execution_count": null,
   "id": "f77dc95f",
   "metadata": {},
   "outputs": [],
   "source": []
  },
  {
   "cell_type": "code",
   "execution_count": null,
   "id": "3af3795d",
   "metadata": {},
   "outputs": [],
   "source": []
  },
  {
   "cell_type": "code",
   "execution_count": null,
   "id": "2f33f6e7",
   "metadata": {},
   "outputs": [],
   "source": []
  }
 ],
 "metadata": {
  "kernelspec": {
   "display_name": "Python 3 (ipykernel)",
   "language": "python",
   "name": "python3"
  },
  "language_info": {
   "codemirror_mode": {
    "name": "ipython",
    "version": 3
   },
   "file_extension": ".py",
   "mimetype": "text/x-python",
   "name": "python",
   "nbconvert_exporter": "python",
   "pygments_lexer": "ipython3",
   "version": "3.8.12"
  }
 },
 "nbformat": 4,
 "nbformat_minor": 5
}
